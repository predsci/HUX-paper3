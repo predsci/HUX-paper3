{
 "cells": [
  {
   "cell_type": "markdown",
   "id": "mexican-empire",
   "metadata": {},
   "source": [
    "# Inviscid Burgers' Equation "
   ]
  },
  {
   "cell_type": "markdown",
   "id": "worthy-watch",
   "metadata": {},
   "source": [
    "The Inviscid Burgers equation\n",
    "$$\n",
    "\\frac{\\partial u}{\\partial t} + u\\frac{ \\partial u}{\\partial x}=0\n",
    "$$\n",
    "\n",
    "With the initial condition \n",
    "$$\n",
    "u(x, 0) = F(x)\n",
    "$$\n",
    "\n",
    "The HUX underlying PDE\n",
    "\n",
    "$$\n",
    "-\\Omega_{rot}\\frac{\\partial v_{r}}{\\partial \\phi} + v_{r}\\frac{ \\partial v_{r}}{\\partial r}=0\n",
    "$$\n",
    "\n",
    "With the initial condition \n",
    "$$\n",
    "v_{r}(\\phi, r_{0}) = v_{r0}(\\phi)\n",
    "$$\n",
    "\n",
    "In order to propagate Parker Solar Probe (PSP) solar wind velocity observations to OMNI (Earth). The initial condition will vary in $\\phi$ and $r$ such that \n",
    "\n",
    "$$\n",
    "v_{r}(\\phi, r_{ic}) = v_{r0}(\\phi, r_{ic})\n",
    "$$\n",
    "\n",
    "Where $r_{ic}$ is non-uniform since PSP varies in radial distance from the Sun in Heliographic (rotating) Coordinate System (HG). \n",
    "\n",
    "The HUX technique leverages the upwind difference algorithm (forward finite difference), such that equation (2) can be expressed as\n",
    "\n",
    "$$\n",
    "-\\Omega_{rot} \\frac{v_{i, j+1} - v_{i, j}}{\\Delta \\phi} + \n",
    "v_{i, j}(\\frac{v_{i+1, j} - v_{i, j}}{\\Delta r}) = 0\n",
    "$$\n",
    "\n",
    "\n",
    "$$\n",
    "v_{i+1, j}\\frac{v_{i, j}}{\\Delta r} - \\frac{v_{i, j}^2}{\\Delta r} \n",
    "= \\Omega_{rot} \\frac{v_{i, j+1} - v_{i, j}}{\\Delta \\phi}\n",
    "$$\n",
    "\n",
    "\n",
    "$$\n",
    "v_{i+1, j}\\frac{v_{i, j}}{\\Delta r}\n",
    "= \\Omega_{rot} \\frac{v_{i, j+1}}{\\Delta \\phi} - \\Omega_{rot}\\frac{v_{i, j}}{\\Delta \\phi} +  \\frac{v_{i, j}^2}{\\Delta r} \n",
    "$$\n",
    "\n",
    "\n",
    "$$\n",
    "v_{i+1, j}\n",
    "= \\frac{\\Delta r}{v_{i, j}}(\\Omega_{rot} \\frac{v_{i, j+1}}{\\Delta \\phi} - \\Omega_{rot}\\frac{v_{i, j}}{\\Delta \\phi} +  \\frac{v_{i, j}^2}{\\Delta r})\n",
    "$$\n",
    "\n",
    "$$\n",
    "v_{i+1, j}=  v_{i, j} + \\frac{\\Delta r\\Omega_{rot}}{\\Delta \\phi}  (\\frac{v_{i, j+1} - v_{i, j}}{v_{i, j}})\n",
    "$$\n",
    "\n",
    "where for simplicity the r subscipt on the radial velocity is ommitted. The indicies $i$ and $j$ refer to $r$ and $\\phi$ grids repectively. "
   ]
  },
  {
   "cell_type": "markdown",
   "id": "optional-secret",
   "metadata": {},
   "source": [
    "## Cole Hopf Transformation to the Heat Equation\n",
    "It is possible to transform the Burger's equation to the heat equation via \n",
    "* Is it possible to solve the HUX PDE in this way?\n",
    "$$\n",
    " u = -2"
   ]
  },
  {
   "cell_type": "code",
   "execution_count": null,
   "id": "chicken-marker",
   "metadata": {},
   "outputs": [],
   "source": []
  }
 ],
 "metadata": {
  "kernelspec": {
   "display_name": "Python 3",
   "language": "python",
   "name": "python3"
  },
  "language_info": {
   "codemirror_mode": {
    "name": "ipython",
    "version": 3
   },
   "file_extension": ".py",
   "mimetype": "text/x-python",
   "name": "python",
   "nbconvert_exporter": "python",
   "pygments_lexer": "ipython3",
   "version": "3.9.1"
  }
 },
 "nbformat": 4,
 "nbformat_minor": 5
}
