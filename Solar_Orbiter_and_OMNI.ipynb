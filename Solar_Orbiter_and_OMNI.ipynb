{
 "cells": [
  {
   "cell_type": "code",
   "execution_count": 1,
   "id": "working-enhancement",
   "metadata": {},
   "outputs": [],
   "source": [
    "import matplotlib.pyplot as plt\n",
    "from scipy import stats\n",
    "from scipy import interpolate\n",
    "import numpy as np\n",
    "import scipy\n",
    "import copy\n",
    "import pickle\n",
    "import math\n",
    "import os\n",
    "import datetime as dt \n",
    "\n",
    "import heliopy.data.spice as spicedata\n",
    "import heliopy.spice as spice\n",
    "from astropy.coordinates import SkyCoord\n",
    "import astropy.units as u\n",
    "\n",
    "from tools.MASweb import get_mas_path\n",
    "from psipy.model import MASOutput\n",
    "from psipy.data import sample_data\n",
    "from psipy.model.variable import Variable\n",
    "\n",
    "from archimedes_sprial import cmap_spiral, compute_phi_shift_forward\n",
    "from hux_propagation import *\n",
    "from carrington_dates import * \n",
    "\n",
    "# matplotlib fontsize\n",
    "%matplotlib notebook\n",
    "%matplotlib inline\n",
    "fs1=12\n",
    "plt.rcParams['savefig.facecolor'] = 'white'"
   ]
  },
  {
   "cell_type": "code",
   "execution_count": 2,
   "id": "90c37d83",
   "metadata": {},
   "outputs": [],
   "source": [
    "from heliopy.data import solo\n",
    "from heliopy.data import omni"
   ]
  },
  {
   "cell_type": "markdown",
   "id": "c76b86a7",
   "metadata": {},
   "source": [
    "## Solar Orbiter (SolO)\n",
    "The routines in this module can be used to load data from the Solar Orbiter (SOLO) mission. SolO was launched in February 9, 2020, 8:03 PM PST.\n",
    "\n",
    "\n",
    "Instruments\n",
    "-----------------\n",
    "Magnetometer (MAG)\n",
    "\n",
    "Energetic Particle Detector (EPD)\n",
    "\n",
    "Radio and Plasma Waves (RPW)\n",
    "\n",
    "Solar Wind Plasma Analyser (SWA)\n"
   ]
  },
  {
   "cell_type": "code",
   "execution_count": 3,
   "id": "d8cb0dde",
   "metadata": {},
   "outputs": [],
   "source": [
    "case_study = \"cr2233\"\n",
    "starttime, endtime, cr = get_time_interval(case_study)"
   ]
  },
  {
   "cell_type": "code",
   "execution_count": 32,
   "id": "afb6d895",
   "metadata": {},
   "outputs": [
    {
     "data": {
      "text/plain": [
       "datetime.datetime(2020, 7, 15, 0, 0)"
      ]
     },
     "execution_count": 32,
     "metadata": {},
     "output_type": "execute_result"
    }
   ],
   "source": [
    "starttime"
   ]
  },
  {
   "cell_type": "code",
   "execution_count": 33,
   "id": "130c4037",
   "metadata": {},
   "outputs": [],
   "source": [
    "endtime = dt.datetime(2020, 10, 27)"
   ]
  },
  {
   "cell_type": "code",
   "execution_count": 34,
   "id": "c69c25d1",
   "metadata": {},
   "outputs": [
    {
     "name": "stdout",
     "output_type": "stream",
     "text": [
      "Downloading http://soar.esac.esa.int/soar-sl-tap/data?retrieval_type=PRODUCT&product_type=SCIENCE&data_item_id=solo_L1_swa-pas-mom_20201027 to C:\\Users\\Opali\\heliopy\\data\\solar_orbiter\\SWA-PAS-MOM\\L1\\solo_L1_swa-pas-mom_20201027.cdf\n"
     ]
    },
    {
     "name": "stderr",
     "output_type": "stream",
     "text": [
      "100.0% 212992 / 206179\n"
     ]
    },
    {
     "name": "stdout",
     "output_type": "stream",
     "text": [
      "\n",
      "\n",
      "Downloading http://soar.esac.esa.int/soar-sl-tap/data?retrieval_type=PRODUCT&product_type=SCIENCE&data_item_id=solo_L1_swa-pas-mom_20201026 to C:\\Users\\Opali\\heliopy\\data\\solar_orbiter\\SWA-PAS-MOM\\L1\\solo_L1_swa-pas-mom_20201026.cdf\n"
     ]
    },
    {
     "name": "stderr",
     "output_type": "stream",
     "text": [
      "100.0% 1351680 / 1349647\n"
     ]
    },
    {
     "name": "stdout",
     "output_type": "stream",
     "text": [
      "\n",
      "\n",
      "Downloading http://soar.esac.esa.int/soar-sl-tap/data?retrieval_type=PRODUCT&product_type=SCIENCE&data_item_id=solo_L1_swa-pas-mom_20201025 to C:\\Users\\Opali\\heliopy\\data\\solar_orbiter\\SWA-PAS-MOM\\L1\\solo_L1_swa-pas-mom_20201025.cdf\n"
     ]
    },
    {
     "name": "stderr",
     "output_type": "stream",
     "text": [
      "100.0% 1638400 / 1637451\n"
     ]
    },
    {
     "name": "stdout",
     "output_type": "stream",
     "text": [
      "\n",
      "\n",
      "Downloading http://soar.esac.esa.int/soar-sl-tap/data?retrieval_type=PRODUCT&product_type=SCIENCE&data_item_id=solo_L1_swa-pas-mom_20201024 to C:\\Users\\Opali\\heliopy\\data\\solar_orbiter\\SWA-PAS-MOM\\L1\\solo_L1_swa-pas-mom_20201024.cdf\n"
     ]
    },
    {
     "name": "stderr",
     "output_type": "stream",
     "text": [
      "100.0% 1351680 / 1349647\n"
     ]
    },
    {
     "name": "stdout",
     "output_type": "stream",
     "text": [
      "\n",
      "\n",
      "Downloading http://soar.esac.esa.int/soar-sl-tap/data?retrieval_type=PRODUCT&product_type=SCIENCE&data_item_id=solo_L1_swa-pas-mom_20201023 to C:\\Users\\Opali\\heliopy\\data\\solar_orbiter\\SWA-PAS-MOM\\L1\\solo_L1_swa-pas-mom_20201023.cdf\n"
     ]
    },
    {
     "name": "stderr",
     "output_type": "stream",
     "text": [
      "100.0% 1638400 / 1637451\n"
     ]
    },
    {
     "name": "stdout",
     "output_type": "stream",
     "text": [
      "\n",
      "\n",
      "Downloading http://soar.esac.esa.int/soar-sl-tap/data?retrieval_type=PRODUCT&product_type=SCIENCE&data_item_id=solo_L1_swa-pas-mom_20201022 to C:\\Users\\Opali\\heliopy\\data\\solar_orbiter\\SWA-PAS-MOM\\L1\\solo_L1_swa-pas-mom_20201022.cdf\n"
     ]
    },
    {
     "name": "stderr",
     "output_type": "stream",
     "text": [
      "100.0% 1638400 / 1637451\n"
     ]
    },
    {
     "name": "stdout",
     "output_type": "stream",
     "text": [
      "\n",
      "\n",
      "Downloading http://soar.esac.esa.int/soar-sl-tap/data?retrieval_type=PRODUCT&product_type=SCIENCE&data_item_id=solo_L1_swa-pas-mom_20201021 to C:\\Users\\Opali\\heliopy\\data\\solar_orbiter\\SWA-PAS-MOM\\L1\\solo_L1_swa-pas-mom_20201021.cdf\n"
     ]
    },
    {
     "name": "stderr",
     "output_type": "stream",
     "text": [
      "100.0% 892928 / 888763\n"
     ]
    },
    {
     "name": "stdout",
     "output_type": "stream",
     "text": [
      "\n",
      "\n",
      "Downloading http://soar.esac.esa.int/soar-sl-tap/data?retrieval_type=PRODUCT&product_type=SCIENCE&data_item_id=solo_L1_swa-pas-mom_20201020 to C:\\Users\\Opali\\heliopy\\data\\solar_orbiter\\SWA-PAS-MOM\\L1\\solo_L1_swa-pas-mom_20201020.cdf\n"
     ]
    },
    {
     "name": "stderr",
     "output_type": "stream",
     "text": [
      "100.0% 32768 / 32259\n"
     ]
    },
    {
     "name": "stdout",
     "output_type": "stream",
     "text": [
      "\n",
      "\n",
      "Downloading http://soar.esac.esa.int/soar-sl-tap/data?retrieval_type=PRODUCT&product_type=SCIENCE&data_item_id=solo_L1_swa-pas-mom_20201019 to C:\\Users\\Opali\\heliopy\\data\\solar_orbiter\\SWA-PAS-MOM\\L1\\solo_L1_swa-pas-mom_20201019.cdf\n"
     ]
    },
    {
     "name": "stderr",
     "output_type": "stream",
     "text": [
      "100.0% 720896 / 715999\n"
     ]
    },
    {
     "name": "stdout",
     "output_type": "stream",
     "text": [
      "\n",
      "\n",
      "Downloading http://soar.esac.esa.int/soar-sl-tap/data?retrieval_type=PRODUCT&product_type=SCIENCE&data_item_id=solo_L1_swa-pas-mom_20201018 to C:\\Users\\Opali\\heliopy\\data\\solar_orbiter\\SWA-PAS-MOM\\L1\\solo_L1_swa-pas-mom_20201018.cdf\n"
     ]
    },
    {
     "name": "stderr",
     "output_type": "stream",
     "text": [
      "100.0% 1638400 / 1637451\n"
     ]
    },
    {
     "name": "stdout",
     "output_type": "stream",
     "text": [
      "\n",
      "\n",
      "Downloading http://soar.esac.esa.int/soar-sl-tap/data?retrieval_type=PRODUCT&product_type=SCIENCE&data_item_id=solo_L1_swa-pas-mom_20201017 to C:\\Users\\Opali\\heliopy\\data\\solar_orbiter\\SWA-PAS-MOM\\L1\\solo_L1_swa-pas-mom_20201017.cdf\n"
     ]
    },
    {
     "name": "stderr",
     "output_type": "stream",
     "text": [
      "100.0% 1351680 / 1349647\n"
     ]
    },
    {
     "name": "stdout",
     "output_type": "stream",
     "text": [
      "\n",
      "\n",
      "Downloading http://soar.esac.esa.int/soar-sl-tap/data?retrieval_type=PRODUCT&product_type=SCIENCE&data_item_id=solo_L1_swa-pas-mom_20201016 to C:\\Users\\Opali\\heliopy\\data\\solar_orbiter\\SWA-PAS-MOM\\L1\\solo_L1_swa-pas-mom_20201016.cdf\n"
     ]
    },
    {
     "name": "stderr",
     "output_type": "stream",
     "text": [
      "100.0% 1638400 / 1637451\n"
     ]
    },
    {
     "name": "stdout",
     "output_type": "stream",
     "text": [
      "\n",
      "\n",
      "Downloading http://soar.esac.esa.int/soar-sl-tap/data?retrieval_type=PRODUCT&product_type=SCIENCE&data_item_id=solo_L1_swa-pas-mom_20201015 to C:\\Users\\Opali\\heliopy\\data\\solar_orbiter\\SWA-PAS-MOM\\L1\\solo_L1_swa-pas-mom_20201015.cdf\n"
     ]
    },
    {
     "name": "stderr",
     "output_type": "stream",
     "text": [
      "100.0% 1638400 / 1637451\n"
     ]
    },
    {
     "name": "stdout",
     "output_type": "stream",
     "text": [
      "\n",
      "\n",
      "Downloading http://soar.esac.esa.int/soar-sl-tap/data?retrieval_type=PRODUCT&product_type=SCIENCE&data_item_id=solo_L1_swa-pas-mom_20201014 to C:\\Users\\Opali\\heliopy\\data\\solar_orbiter\\SWA-PAS-MOM\\L1\\solo_L1_swa-pas-mom_20201014.cdf\n"
     ]
    },
    {
     "name": "stderr",
     "output_type": "stream",
     "text": [
      "100.0% 1638400 / 1637451\n"
     ]
    },
    {
     "name": "stdout",
     "output_type": "stream",
     "text": [
      "\n",
      "\n",
      "Downloading http://soar.esac.esa.int/soar-sl-tap/data?retrieval_type=PRODUCT&product_type=SCIENCE&data_item_id=solo_L1_swa-pas-mom_20201013 to C:\\Users\\Opali\\heliopy\\data\\solar_orbiter\\SWA-PAS-MOM\\L1\\solo_L1_swa-pas-mom_20201013.cdf\n"
     ]
    },
    {
     "name": "stderr",
     "output_type": "stream",
     "text": [
      "100.0% 1638400 / 1637451\n"
     ]
    },
    {
     "name": "stdout",
     "output_type": "stream",
     "text": [
      "\n",
      "\n",
      "Downloading http://soar.esac.esa.int/soar-sl-tap/data?retrieval_type=PRODUCT&product_type=SCIENCE&data_item_id=solo_L1_swa-pas-mom_20201012 to C:\\Users\\Opali\\heliopy\\data\\solar_orbiter\\SWA-PAS-MOM\\L1\\solo_L1_swa-pas-mom_20201012.cdf\n"
     ]
    },
    {
     "name": "stderr",
     "output_type": "stream",
     "text": [
      "100.0% 1351680 / 1349647\n"
     ]
    },
    {
     "name": "stdout",
     "output_type": "stream",
     "text": [
      "\n",
      "\n",
      "Downloading http://soar.esac.esa.int/soar-sl-tap/data?retrieval_type=PRODUCT&product_type=SCIENCE&data_item_id=solo_L1_swa-pas-mom_20201011 to C:\\Users\\Opali\\heliopy\\data\\solar_orbiter\\SWA-PAS-MOM\\L1\\solo_L1_swa-pas-mom_20201011.cdf\n"
     ]
    },
    {
     "name": "stderr",
     "output_type": "stream",
     "text": [
      "100.0% 1622016 / 1620883\n"
     ]
    },
    {
     "name": "stdout",
     "output_type": "stream",
     "text": [
      "\n",
      "\n",
      "Downloading http://soar.esac.esa.int/soar-sl-tap/data?retrieval_type=PRODUCT&product_type=SCIENCE&data_item_id=solo_L1_swa-pas-mom_20201010 to C:\\Users\\Opali\\heliopy\\data\\solar_orbiter\\SWA-PAS-MOM\\L1\\solo_L1_swa-pas-mom_20201010.cdf\n"
     ]
    },
    {
     "name": "stderr",
     "output_type": "stream",
     "text": [
      "100.0% 1351680 / 1349647\n"
     ]
    },
    {
     "name": "stdout",
     "output_type": "stream",
     "text": [
      "\n",
      "\n",
      "Downloading http://soar.esac.esa.int/soar-sl-tap/data?retrieval_type=PRODUCT&product_type=SCIENCE&data_item_id=solo_L1_swa-pas-mom_20201009 to C:\\Users\\Opali\\heliopy\\data\\solar_orbiter\\SWA-PAS-MOM\\L1\\solo_L1_swa-pas-mom_20201009.cdf\n"
     ]
    },
    {
     "name": "stderr",
     "output_type": "stream",
     "text": [
      "100.0% 1638400 / 1637451\n"
     ]
    },
    {
     "name": "stdout",
     "output_type": "stream",
     "text": [
      "\n",
      "\n",
      "Downloading http://soar.esac.esa.int/soar-sl-tap/data?retrieval_type=PRODUCT&product_type=SCIENCE&data_item_id=solo_L1_swa-pas-mom_20201008 to C:\\Users\\Opali\\heliopy\\data\\solar_orbiter\\SWA-PAS-MOM\\L1\\solo_L1_swa-pas-mom_20201008.cdf\n"
     ]
    },
    {
     "name": "stderr",
     "output_type": "stream",
     "text": [
      "100.0% 1638400 / 1637451\n"
     ]
    },
    {
     "name": "stdout",
     "output_type": "stream",
     "text": [
      "\n",
      "\n",
      "Downloading http://soar.esac.esa.int/soar-sl-tap/data?retrieval_type=PRODUCT&product_type=SCIENCE&data_item_id=solo_L1_swa-pas-mom_20201007 to C:\\Users\\Opali\\heliopy\\data\\solar_orbiter\\SWA-PAS-MOM\\L1\\solo_L1_swa-pas-mom_20201007.cdf\n"
     ]
    },
    {
     "name": "stderr",
     "output_type": "stream",
     "text": [
      "100.0% 1466368 / 1464779\n"
     ]
    },
    {
     "name": "stdout",
     "output_type": "stream",
     "text": [
      "\n",
      "\n",
      "Downloading http://soar.esac.esa.int/soar-sl-tap/data?retrieval_type=PRODUCT&product_type=SCIENCE&data_item_id=solo_L1_swa-pas-mom_20201006 to C:\\Users\\Opali\\heliopy\\data\\solar_orbiter\\SWA-PAS-MOM\\L1\\solo_L1_swa-pas-mom_20201006.cdf\n"
     ]
    },
    {
     "name": "stderr",
     "output_type": "stream",
     "text": [
      "100.0% 557056 / 551215\n"
     ]
    },
    {
     "name": "stdout",
     "output_type": "stream",
     "text": [
      "\n",
      "\n",
      "Downloading http://soar.esac.esa.int/soar-sl-tap/data?retrieval_type=PRODUCT&product_type=SCIENCE&data_item_id=solo_L1_swa-pas-mom_20200902 to C:\\Users\\Opali\\heliopy\\data\\solar_orbiter\\SWA-PAS-MOM\\L1\\solo_L1_swa-pas-mom_20200902.cdf\n"
     ]
    },
    {
     "name": "stderr",
     "output_type": "stream",
     "text": [
      "100.0% 1638400 / 1637451\n"
     ]
    },
    {
     "name": "stdout",
     "output_type": "stream",
     "text": [
      "\n",
      "\n",
      "Downloading http://soar.esac.esa.int/soar-sl-tap/data?retrieval_type=PRODUCT&product_type=SCIENCE&data_item_id=solo_L1_swa-pas-mom_20200901 to C:\\Users\\Opali\\heliopy\\data\\solar_orbiter\\SWA-PAS-MOM\\L1\\solo_L1_swa-pas-mom_20200901.cdf\n"
     ]
    },
    {
     "name": "stderr",
     "output_type": "stream",
     "text": [
      "100.0% 1638400 / 1637451\n"
     ]
    },
    {
     "name": "stdout",
     "output_type": "stream",
     "text": [
      "\n",
      "\n",
      "Downloading http://soar.esac.esa.int/soar-sl-tap/data?retrieval_type=PRODUCT&product_type=SCIENCE&data_item_id=solo_L1_swa-pas-mom_20200831 to C:\\Users\\Opali\\heliopy\\data\\solar_orbiter\\SWA-PAS-MOM\\L1\\solo_L1_swa-pas-mom_20200831.cdf\n"
     ]
    },
    {
     "name": "stderr",
     "output_type": "stream",
     "text": [
      "100.0% 1351680 / 1349647\n"
     ]
    },
    {
     "name": "stdout",
     "output_type": "stream",
     "text": [
      "\n",
      "\n",
      "Downloading http://soar.esac.esa.int/soar-sl-tap/data?retrieval_type=PRODUCT&product_type=SCIENCE&data_item_id=solo_L1_swa-pas-mom_20200830 to C:\\Users\\Opali\\heliopy\\data\\solar_orbiter\\SWA-PAS-MOM\\L1\\solo_L1_swa-pas-mom_20200830.cdf\n"
     ]
    },
    {
     "name": "stderr",
     "output_type": "stream",
     "text": [
      "100.0% 1613824 / 1612675\n"
     ]
    },
    {
     "name": "stdout",
     "output_type": "stream",
     "text": [
      "\n",
      "\n",
      "Downloading http://soar.esac.esa.int/soar-sl-tap/data?retrieval_type=PRODUCT&product_type=SCIENCE&data_item_id=solo_L1_swa-pas-mom_20200829 to C:\\Users\\Opali\\heliopy\\data\\solar_orbiter\\SWA-PAS-MOM\\L1\\solo_L1_swa-pas-mom_20200829.cdf\n"
     ]
    },
    {
     "name": "stderr",
     "output_type": "stream",
     "text": [
      "100.0% 1351680 / 1349647\n"
     ]
    },
    {
     "name": "stdout",
     "output_type": "stream",
     "text": [
      "\n",
      "\n",
      "Downloading http://soar.esac.esa.int/soar-sl-tap/data?retrieval_type=PRODUCT&product_type=SCIENCE&data_item_id=solo_L1_swa-pas-mom_20200828 to C:\\Users\\Opali\\heliopy\\data\\solar_orbiter\\SWA-PAS-MOM\\L1\\solo_L1_swa-pas-mom_20200828.cdf\n"
     ]
    },
    {
     "name": "stderr",
     "output_type": "stream",
     "text": [
      "100.0% 1638400 / 1637451\n"
     ]
    },
    {
     "name": "stdout",
     "output_type": "stream",
     "text": [
      "\n",
      "\n",
      "Downloading http://soar.esac.esa.int/soar-sl-tap/data?retrieval_type=PRODUCT&product_type=SCIENCE&data_item_id=solo_L1_swa-pas-mom_20200827 to C:\\Users\\Opali\\heliopy\\data\\solar_orbiter\\SWA-PAS-MOM\\L1\\solo_L1_swa-pas-mom_20200827.cdf\n"
     ]
    },
    {
     "name": "stderr",
     "output_type": "stream",
     "text": [
      "100.0% 737280 / 732427\n"
     ]
    },
    {
     "name": "stdout",
     "output_type": "stream",
     "text": [
      "\n",
      "\n",
      "Downloading http://soar.esac.esa.int/soar-sl-tap/data?retrieval_type=PRODUCT&product_type=SCIENCE&data_item_id=solo_L1_swa-pas-mom_20200826 to C:\\Users\\Opali\\heliopy\\data\\solar_orbiter\\SWA-PAS-MOM\\L1\\solo_L1_swa-pas-mom_20200826.cdf\n"
     ]
    },
    {
     "name": "stderr",
     "output_type": "stream",
     "text": [
      "\r",
      "  0.0%     0 / 32259\r",
      " 25.4%  8192 / 32259\r",
      " 50.8% 16384 / 32259\r",
      " 76.2% 24576 / 32259\r",
      "100.0% 32768 / 32259\n"
     ]
    },
    {
     "name": "stdout",
     "output_type": "stream",
     "text": [
      "\n",
      "\n",
      "Downloading http://soar.esac.esa.int/soar-sl-tap/data?retrieval_type=PRODUCT&product_type=SCIENCE&data_item_id=solo_L1_swa-pas-mom_20200825 to C:\\Users\\Opali\\heliopy\\data\\solar_orbiter\\SWA-PAS-MOM\\L1\\solo_L1_swa-pas-mom_20200825.cdf\n"
     ]
    },
    {
     "name": "stderr",
     "output_type": "stream",
     "text": [
      "\r",
      "  0.0%     0 / 32259\r",
      " 25.4%  8192 / 32259\r",
      " 50.8% 16384 / 32259\r",
      " 76.2% 24576 / 32259\r",
      "100.0% 32768 / 32259\n"
     ]
    },
    {
     "name": "stdout",
     "output_type": "stream",
     "text": [
      "\n",
      "\n",
      "Downloading http://soar.esac.esa.int/soar-sl-tap/data?retrieval_type=PRODUCT&product_type=SCIENCE&data_item_id=solo_L1_swa-pas-mom_20200824 to C:\\Users\\Opali\\heliopy\\data\\solar_orbiter\\SWA-PAS-MOM\\L1\\solo_L1_swa-pas-mom_20200824.cdf\n"
     ]
    },
    {
     "name": "stderr",
     "output_type": "stream",
     "text": [
      "\r",
      "  0.0%     0 / 32259\r",
      " 25.4%  8192 / 32259\r",
      " 50.8% 16384 / 32259\r",
      " 76.2% 24576 / 32259\r",
      "100.0% 32768 / 32259\n"
     ]
    },
    {
     "name": "stdout",
     "output_type": "stream",
     "text": [
      "\n",
      "\n",
      "Downloading http://soar.esac.esa.int/soar-sl-tap/data?retrieval_type=PRODUCT&product_type=SCIENCE&data_item_id=solo_L1_swa-pas-mom_20200823 to C:\\Users\\Opali\\heliopy\\data\\solar_orbiter\\SWA-PAS-MOM\\L1\\solo_L1_swa-pas-mom_20200823.cdf\n"
     ]
    },
    {
     "name": "stderr",
     "output_type": "stream",
     "text": [
      "100.0% 32768 / 32259\n"
     ]
    },
    {
     "name": "stdout",
     "output_type": "stream",
     "text": [
      "\n",
      "\n",
      "Downloading http://soar.esac.esa.int/soar-sl-tap/data?retrieval_type=PRODUCT&product_type=SCIENCE&data_item_id=solo_L1_swa-pas-mom_20200822 to C:\\Users\\Opali\\heliopy\\data\\solar_orbiter\\SWA-PAS-MOM\\L1\\solo_L1_swa-pas-mom_20200822.cdf\n"
     ]
    },
    {
     "name": "stderr",
     "output_type": "stream",
     "text": [
      "100.0% 32768 / 32259\n"
     ]
    },
    {
     "name": "stdout",
     "output_type": "stream",
     "text": [
      "\n",
      "\n",
      "Downloading http://soar.esac.esa.int/soar-sl-tap/data?retrieval_type=PRODUCT&product_type=SCIENCE&data_item_id=solo_L1_swa-pas-mom_20200821 to C:\\Users\\Opali\\heliopy\\data\\solar_orbiter\\SWA-PAS-MOM\\L1\\solo_L1_swa-pas-mom_20200821.cdf\n"
     ]
    },
    {
     "name": "stderr",
     "output_type": "stream",
     "text": [
      "\r",
      "  0.0%     0 / 32259\r",
      " 25.4%  8192 / 32259\r",
      " 50.8% 16384 / 32259\r",
      " 76.2% 24576 / 32259\r",
      "100.0% 32768 / 32259\n"
     ]
    },
    {
     "name": "stdout",
     "output_type": "stream",
     "text": [
      "\n",
      "\n",
      "Downloading http://soar.esac.esa.int/soar-sl-tap/data?retrieval_type=PRODUCT&product_type=SCIENCE&data_item_id=solo_L1_swa-pas-mom_20200820 to C:\\Users\\Opali\\heliopy\\data\\solar_orbiter\\SWA-PAS-MOM\\L1\\solo_L1_swa-pas-mom_20200820.cdf\n"
     ]
    },
    {
     "name": "stderr",
     "output_type": "stream",
     "text": [
      "100.0% 1638400 / 1637451\n"
     ]
    },
    {
     "name": "stdout",
     "output_type": "stream",
     "text": [
      "\n",
      "\n",
      "Downloading http://soar.esac.esa.int/soar-sl-tap/data?retrieval_type=PRODUCT&product_type=SCIENCE&data_item_id=solo_L1_swa-pas-mom_20200819 to C:\\Users\\Opali\\heliopy\\data\\solar_orbiter\\SWA-PAS-MOM\\L1\\solo_L1_swa-pas-mom_20200819.cdf\n"
     ]
    },
    {
     "name": "stderr",
     "output_type": "stream",
     "text": [
      "100.0% 557056 / 551215\n"
     ]
    },
    {
     "name": "stdout",
     "output_type": "stream",
     "text": [
      "\n",
      "\n",
      "Downloading http://soar.esac.esa.int/soar-sl-tap/data?retrieval_type=PRODUCT&product_type=SCIENCE&data_item_id=solo_L1_swa-pas-mom_20200813 to C:\\Users\\Opali\\heliopy\\data\\solar_orbiter\\SWA-PAS-MOM\\L1\\solo_L1_swa-pas-mom_20200813.cdf\n"
     ]
    },
    {
     "name": "stderr",
     "output_type": "stream",
     "text": [
      "100.0% 1409024 / 1407331\n"
     ]
    },
    {
     "name": "stdout",
     "output_type": "stream",
     "text": [
      "\n",
      "\n",
      "Downloading http://soar.esac.esa.int/soar-sl-tap/data?retrieval_type=PRODUCT&product_type=SCIENCE&data_item_id=solo_L1_swa-pas-mom_20200812 to C:\\Users\\Opali\\heliopy\\data\\solar_orbiter\\SWA-PAS-MOM\\L1\\solo_L1_swa-pas-mom_20200812.cdf\n"
     ]
    },
    {
     "name": "stderr",
     "output_type": "stream",
     "text": [
      "100.0% 1638400 / 1637451\n"
     ]
    },
    {
     "name": "stdout",
     "output_type": "stream",
     "text": [
      "\n",
      "\n"
     ]
    }
   ],
   "source": [
    "# example MAG-RTN-NORMAL // SWA-EAS-SS LL02 // SWA-PAS-MOM L1\n",
    "# see https://www.davidstansby.com/soda/ for dates with available data\n",
    "\n",
    "solo_data = solo.download(starttime, endtime, 'SWA-PAS-MOM', 'L1')"
   ]
  },
  {
   "cell_type": "code",
   "execution_count": 35,
   "id": "735cc21f",
   "metadata": {},
   "outputs": [
    {
     "name": "stderr",
     "output_type": "stream",
     "text": [
      "WARNING: SunpyUserWarning: Using .data to access the dataframe is discouraged; use .to_dataframe() instead. [sunpy.timeseries.timeseriesbase]\n"
     ]
    },
    {
     "data": {
      "text/plain": [
       "[<matplotlib.lines.Line2D at 0x1c7642cf460>]"
      ]
     },
     "execution_count": 35,
     "metadata": {},
     "output_type": "execute_result"
    },
    {
     "data": {
      "image/png": "[encoded data removed]",
      "text/plain": [
       "<Figure size 1440x720 with 1 Axes>"
      ]
     },
     "metadata": {
      "needs_background": "light"
     },
     "output_type": "display_data"
    }
   ],
   "source": [
    "fig, ax = plt.subplots(figsize=(20, 10))\n",
    "plt.plot(solo_data.data[\"velocity_0\"])"
   ]
  },
  {
   "cell_type": "code",
   "execution_count": 36,
   "id": "7c76cdb8",
   "metadata": {},
   "outputs": [
    {
     "data": {
      "text/html": [
       "<div>\n",
       "<style scoped>\n",
       "    .dataframe tbody tr th:only-of-type {\n",
       "        vertical-align: middle;\n",
       "    }\n",
       "\n",
       "    .dataframe tbody tr th {\n",
       "        vertical-align: top;\n",
       "    }\n",
       "\n",
       "    .dataframe thead th {\n",
       "        text-align: right;\n",
       "    }\n",
       "</style>\n",
       "<table border=\"1\" class=\"dataframe\">\n",
       "  <thead>\n",
       "    <tr style=\"text-align: right;\">\n",
       "      <th></th>\n",
       "      <th>CCSDS_time</th>\n",
       "      <th>SCET</th>\n",
       "      <th>sample</th>\n",
       "      <th>validity</th>\n",
       "      <th>sum_PAS</th>\n",
       "      <th>data_validity_flag</th>\n",
       "      <th>density</th>\n",
       "      <th>velocity_0</th>\n",
       "      <th>velocity_1</th>\n",
       "      <th>velocity_2</th>\n",
       "      <th>pressure_0</th>\n",
       "      <th>pressure_1</th>\n",
       "      <th>pressure_2</th>\n",
       "      <th>pressure_3</th>\n",
       "      <th>pressure_4</th>\n",
       "      <th>pressure_5</th>\n",
       "      <th>temperature</th>\n",
       "    </tr>\n",
       "    <tr>\n",
       "      <th>Time</th>\n",
       "      <th></th>\n",
       "      <th></th>\n",
       "      <th></th>\n",
       "      <th></th>\n",
       "      <th></th>\n",
       "      <th></th>\n",
       "      <th></th>\n",
       "      <th></th>\n",
       "      <th></th>\n",
       "      <th></th>\n",
       "      <th></th>\n",
       "      <th></th>\n",
       "      <th></th>\n",
       "      <th></th>\n",
       "      <th></th>\n",
       "      <th></th>\n",
       "      <th></th>\n",
       "    </tr>\n",
       "  </thead>\n",
       "  <tbody>\n",
       "    <tr>\n",
       "      <th>2020-07-15 00:00:03.041183104</th>\n",
       "      <td>6.480865e+08</td>\n",
       "      <td>648086380.5</td>\n",
       "      <td>5</td>\n",
       "      <td>0</td>\n",
       "      <td>2</td>\n",
       "      <td>1</td>\n",
       "      <td>16.500000</td>\n",
       "      <td>411.0</td>\n",
       "      <td>66.0</td>\n",
       "      <td>25.0</td>\n",
       "      <td>3.271409e-17</td>\n",
       "      <td>3.269171e-17</td>\n",
       "      <td>3.268887e-17</td>\n",
       "      <td>1.901152e-27</td>\n",
       "      <td>3.801864e-27</td>\n",
       "      <td>2.044730e-18</td>\n",
       "      <td>12.368540</td>\n",
       "    </tr>\n",
       "    <tr>\n",
       "      <th>2020-07-15 00:00:07.041183104</th>\n",
       "      <td>6.480865e+08</td>\n",
       "      <td>648086384.5</td>\n",
       "      <td>6</td>\n",
       "      <td>0</td>\n",
       "      <td>2</td>\n",
       "      <td>1</td>\n",
       "      <td>16.299999</td>\n",
       "      <td>411.0</td>\n",
       "      <td>65.0</td>\n",
       "      <td>21.0</td>\n",
       "      <td>6.537206e-17</td>\n",
       "      <td>3.269273e-17</td>\n",
       "      <td>3.268931e-17</td>\n",
       "      <td>1.901260e-27</td>\n",
       "      <td>3.801980e-27</td>\n",
       "      <td>2.044626e-18</td>\n",
       "      <td>16.688786</td>\n",
       "    </tr>\n",
       "    <tr>\n",
       "      <th>2020-07-15 00:00:11.041183104</th>\n",
       "      <td>6.480865e+08</td>\n",
       "      <td>648086388.5</td>\n",
       "      <td>7</td>\n",
       "      <td>0</td>\n",
       "      <td>2</td>\n",
       "      <td>1</td>\n",
       "      <td>15.900000</td>\n",
       "      <td>411.0</td>\n",
       "      <td>64.0</td>\n",
       "      <td>23.0</td>\n",
       "      <td>6.536964e-17</td>\n",
       "      <td>3.269208e-17</td>\n",
       "      <td>3.268772e-17</td>\n",
       "      <td>1.901754e-27</td>\n",
       "      <td>3.801918e-27</td>\n",
       "      <td>4.085641e-18</td>\n",
       "      <td>17.108017</td>\n",
       "    </tr>\n",
       "    <tr>\n",
       "      <th>2020-07-15 00:00:15.041183104</th>\n",
       "      <td>6.480865e+08</td>\n",
       "      <td>648086392.5</td>\n",
       "      <td>8</td>\n",
       "      <td>0</td>\n",
       "      <td>2</td>\n",
       "      <td>1</td>\n",
       "      <td>16.000000</td>\n",
       "      <td>409.0</td>\n",
       "      <td>63.0</td>\n",
       "      <td>20.0</td>\n",
       "      <td>6.537400e-17</td>\n",
       "      <td>3.269071e-17</td>\n",
       "      <td>3.268634e-17</td>\n",
       "      <td>1.901121e-27</td>\n",
       "      <td>3.801388e-27</td>\n",
       "      <td>2.044040e-18</td>\n",
       "      <td>17.001303</td>\n",
       "    </tr>\n",
       "    <tr>\n",
       "      <th>2020-07-15 00:00:19.041183104</th>\n",
       "      <td>6.480865e+08</td>\n",
       "      <td>648086396.5</td>\n",
       "      <td>9</td>\n",
       "      <td>0</td>\n",
       "      <td>2</td>\n",
       "      <td>1</td>\n",
       "      <td>16.000000</td>\n",
       "      <td>409.0</td>\n",
       "      <td>63.0</td>\n",
       "      <td>21.0</td>\n",
       "      <td>6.536969e-17</td>\n",
       "      <td>3.269071e-17</td>\n",
       "      <td>3.268878e-17</td>\n",
       "      <td>1.901480e-27</td>\n",
       "      <td>3.801534e-27</td>\n",
       "      <td>2.044256e-18</td>\n",
       "      <td>17.001060</td>\n",
       "    </tr>\n",
       "    <tr>\n",
       "      <th>...</th>\n",
       "      <td>...</td>\n",
       "      <td>...</td>\n",
       "      <td>...</td>\n",
       "      <td>...</td>\n",
       "      <td>...</td>\n",
       "      <td>...</td>\n",
       "      <td>...</td>\n",
       "      <td>...</td>\n",
       "      <td>...</td>\n",
       "      <td>...</td>\n",
       "      <td>...</td>\n",
       "      <td>...</td>\n",
       "      <td>...</td>\n",
       "      <td>...</td>\n",
       "      <td>...</td>\n",
       "      <td>...</td>\n",
       "      <td>...</td>\n",
       "    </tr>\n",
       "    <tr>\n",
       "      <th>2020-10-26 23:59:41.546761600</th>\n",
       "      <td>6.570720e+08</td>\n",
       "      <td>657071944.5</td>\n",
       "      <td>7</td>\n",
       "      <td>0</td>\n",
       "      <td>2</td>\n",
       "      <td>1</td>\n",
       "      <td>7.600000</td>\n",
       "      <td>383.0</td>\n",
       "      <td>20.0</td>\n",
       "      <td>0.0</td>\n",
       "      <td>1.634249e-17</td>\n",
       "      <td>2.044683e-18</td>\n",
       "      <td>4.086568e-18</td>\n",
       "      <td>2.042891e-18</td>\n",
       "      <td>5.110578e-19</td>\n",
       "      <td>1.277754e-19</td>\n",
       "      <td>6.152034</td>\n",
       "    </tr>\n",
       "    <tr>\n",
       "      <th>2020-10-26 23:59:45.546761600</th>\n",
       "      <td>6.570720e+08</td>\n",
       "      <td>657071948.5</td>\n",
       "      <td>8</td>\n",
       "      <td>0</td>\n",
       "      <td>2</td>\n",
       "      <td>1</td>\n",
       "      <td>7.400000</td>\n",
       "      <td>385.0</td>\n",
       "      <td>20.0</td>\n",
       "      <td>0.0</td>\n",
       "      <td>1.634364e-17</td>\n",
       "      <td>4.085929e-18</td>\n",
       "      <td>4.086366e-18</td>\n",
       "      <td>5.111259e-19</td>\n",
       "      <td>5.110792e-19</td>\n",
       "      <td>1.597357e-20</td>\n",
       "      <td>6.892453</td>\n",
       "    </tr>\n",
       "    <tr>\n",
       "      <th>2020-10-26 23:59:49.546761600</th>\n",
       "      <td>6.570720e+08</td>\n",
       "      <td>657071952.5</td>\n",
       "      <td>9</td>\n",
       "      <td>0</td>\n",
       "      <td>2</td>\n",
       "      <td>1</td>\n",
       "      <td>7.600000</td>\n",
       "      <td>384.0</td>\n",
       "      <td>21.0</td>\n",
       "      <td>0.0</td>\n",
       "      <td>1.634230e-17</td>\n",
       "      <td>4.085571e-18</td>\n",
       "      <td>4.086163e-18</td>\n",
       "      <td>1.022226e-18</td>\n",
       "      <td>1.276959e-19</td>\n",
       "      <td>6.386809e-20</td>\n",
       "      <td>6.710552</td>\n",
       "    </tr>\n",
       "    <tr>\n",
       "      <th>2020-10-26 23:59:53.546761600</th>\n",
       "      <td>6.570720e+08</td>\n",
       "      <td>657071956.5</td>\n",
       "      <td>10</td>\n",
       "      <td>0</td>\n",
       "      <td>2</td>\n",
       "      <td>1</td>\n",
       "      <td>7.700000</td>\n",
       "      <td>385.0</td>\n",
       "      <td>21.0</td>\n",
       "      <td>0.0</td>\n",
       "      <td>1.634358e-17</td>\n",
       "      <td>2.044266e-18</td>\n",
       "      <td>4.086233e-18</td>\n",
       "      <td>1.021604e-18</td>\n",
       "      <td>7.981944e-21</td>\n",
       "      <td>2.970237e-29</td>\n",
       "      <td>6.072229</td>\n",
       "    </tr>\n",
       "    <tr>\n",
       "      <th>2020-10-26 23:59:57.546761600</th>\n",
       "      <td>6.570720e+08</td>\n",
       "      <td>657071960.5</td>\n",
       "      <td>11</td>\n",
       "      <td>0</td>\n",
       "      <td>2</td>\n",
       "      <td>1</td>\n",
       "      <td>7.600000</td>\n",
       "      <td>384.0</td>\n",
       "      <td>20.0</td>\n",
       "      <td>1.0</td>\n",
       "      <td>8.177711e-18</td>\n",
       "      <td>2.044239e-18</td>\n",
       "      <td>4.086296e-18</td>\n",
       "      <td>1.021926e-18</td>\n",
       "      <td>6.388532e-20</td>\n",
       "      <td>3.193679e-20</td>\n",
       "      <td>3.916785</td>\n",
       "    </tr>\n",
       "  </tbody>\n",
       "</table>\n",
       "<p>1520282 rows × 17 columns</p>\n",
       "</div>"
      ],
      "text/plain": [
       "                                 CCSDS_time         SCET  sample  validity  \\\n",
       "Time                                                                         \n",
       "2020-07-15 00:00:03.041183104  6.480865e+08  648086380.5       5         0   \n",
       "2020-07-15 00:00:07.041183104  6.480865e+08  648086384.5       6         0   \n",
       "2020-07-15 00:00:11.041183104  6.480865e+08  648086388.5       7         0   \n",
       "2020-07-15 00:00:15.041183104  6.480865e+08  648086392.5       8         0   \n",
       "2020-07-15 00:00:19.041183104  6.480865e+08  648086396.5       9         0   \n",
       "...                                     ...          ...     ...       ...   \n",
       "2020-10-26 23:59:41.546761600  6.570720e+08  657071944.5       7         0   \n",
       "2020-10-26 23:59:45.546761600  6.570720e+08  657071948.5       8         0   \n",
       "2020-10-26 23:59:49.546761600  6.570720e+08  657071952.5       9         0   \n",
       "2020-10-26 23:59:53.546761600  6.570720e+08  657071956.5      10         0   \n",
       "2020-10-26 23:59:57.546761600  6.570720e+08  657071960.5      11         0   \n",
       "\n",
       "                               sum_PAS  data_validity_flag    density  \\\n",
       "Time                                                                    \n",
       "2020-07-15 00:00:03.041183104        2                   1  16.500000   \n",
       "2020-07-15 00:00:07.041183104        2                   1  16.299999   \n",
       "2020-07-15 00:00:11.041183104        2                   1  15.900000   \n",
       "2020-07-15 00:00:15.041183104        2                   1  16.000000   \n",
       "2020-07-15 00:00:19.041183104        2                   1  16.000000   \n",
       "...                                ...                 ...        ...   \n",
       "2020-10-26 23:59:41.546761600        2                   1   7.600000   \n",
       "2020-10-26 23:59:45.546761600        2                   1   7.400000   \n",
       "2020-10-26 23:59:49.546761600        2                   1   7.600000   \n",
       "2020-10-26 23:59:53.546761600        2                   1   7.700000   \n",
       "2020-10-26 23:59:57.546761600        2                   1   7.600000   \n",
       "\n",
       "                               velocity_0  velocity_1  velocity_2  \\\n",
       "Time                                                                \n",
       "2020-07-15 00:00:03.041183104       411.0        66.0        25.0   \n",
       "2020-07-15 00:00:07.041183104       411.0        65.0        21.0   \n",
       "2020-07-15 00:00:11.041183104       411.0        64.0        23.0   \n",
       "2020-07-15 00:00:15.041183104       409.0        63.0        20.0   \n",
       "2020-07-15 00:00:19.041183104       409.0        63.0        21.0   \n",
       "...                                   ...         ...         ...   \n",
       "2020-10-26 23:59:41.546761600       383.0        20.0         0.0   \n",
       "2020-10-26 23:59:45.546761600       385.0        20.0         0.0   \n",
       "2020-10-26 23:59:49.546761600       384.0        21.0         0.0   \n",
       "2020-10-26 23:59:53.546761600       385.0        21.0         0.0   \n",
       "2020-10-26 23:59:57.546761600       384.0        20.0         1.0   \n",
       "\n",
       "                                 pressure_0    pressure_1    pressure_2  \\\n",
       "Time                                                                      \n",
       "2020-07-15 00:00:03.041183104  3.271409e-17  3.269171e-17  3.268887e-17   \n",
       "2020-07-15 00:00:07.041183104  6.537206e-17  3.269273e-17  3.268931e-17   \n",
       "2020-07-15 00:00:11.041183104  6.536964e-17  3.269208e-17  3.268772e-17   \n",
       "2020-07-15 00:00:15.041183104  6.537400e-17  3.269071e-17  3.268634e-17   \n",
       "2020-07-15 00:00:19.041183104  6.536969e-17  3.269071e-17  3.268878e-17   \n",
       "...                                     ...           ...           ...   \n",
       "2020-10-26 23:59:41.546761600  1.634249e-17  2.044683e-18  4.086568e-18   \n",
       "2020-10-26 23:59:45.546761600  1.634364e-17  4.085929e-18  4.086366e-18   \n",
       "2020-10-26 23:59:49.546761600  1.634230e-17  4.085571e-18  4.086163e-18   \n",
       "2020-10-26 23:59:53.546761600  1.634358e-17  2.044266e-18  4.086233e-18   \n",
       "2020-10-26 23:59:57.546761600  8.177711e-18  2.044239e-18  4.086296e-18   \n",
       "\n",
       "                                 pressure_3    pressure_4    pressure_5  \\\n",
       "Time                                                                      \n",
       "2020-07-15 00:00:03.041183104  1.901152e-27  3.801864e-27  2.044730e-18   \n",
       "2020-07-15 00:00:07.041183104  1.901260e-27  3.801980e-27  2.044626e-18   \n",
       "2020-07-15 00:00:11.041183104  1.901754e-27  3.801918e-27  4.085641e-18   \n",
       "2020-07-15 00:00:15.041183104  1.901121e-27  3.801388e-27  2.044040e-18   \n",
       "2020-07-15 00:00:19.041183104  1.901480e-27  3.801534e-27  2.044256e-18   \n",
       "...                                     ...           ...           ...   \n",
       "2020-10-26 23:59:41.546761600  2.042891e-18  5.110578e-19  1.277754e-19   \n",
       "2020-10-26 23:59:45.546761600  5.111259e-19  5.110792e-19  1.597357e-20   \n",
       "2020-10-26 23:59:49.546761600  1.022226e-18  1.276959e-19  6.386809e-20   \n",
       "2020-10-26 23:59:53.546761600  1.021604e-18  7.981944e-21  2.970237e-29   \n",
       "2020-10-26 23:59:57.546761600  1.021926e-18  6.388532e-20  3.193679e-20   \n",
       "\n",
       "                               temperature  \n",
       "Time                                        \n",
       "2020-07-15 00:00:03.041183104    12.368540  \n",
       "2020-07-15 00:00:07.041183104    16.688786  \n",
       "2020-07-15 00:00:11.041183104    17.108017  \n",
       "2020-07-15 00:00:15.041183104    17.001303  \n",
       "2020-07-15 00:00:19.041183104    17.001060  \n",
       "...                                    ...  \n",
       "2020-10-26 23:59:41.546761600     6.152034  \n",
       "2020-10-26 23:59:45.546761600     6.892453  \n",
       "2020-10-26 23:59:49.546761600     6.710552  \n",
       "2020-10-26 23:59:53.546761600     6.072229  \n",
       "2020-10-26 23:59:57.546761600     3.916785  \n",
       "\n",
       "[1520282 rows x 17 columns]"
      ]
     },
     "execution_count": 36,
     "metadata": {},
     "output_type": "execute_result"
    }
   ],
   "source": [
    "solo_data.data"
   ]
  },
  {
   "cell_type": "code",
   "execution_count": 37,
   "id": "5693e14f",
   "metadata": {},
   "outputs": [],
   "source": [
    "omni_data = omni.h0_mrg1hr(starttime, endtime)"
   ]
  },
  {
   "cell_type": "code",
   "execution_count": 38,
   "id": "c7a38e9b",
   "metadata": {},
   "outputs": [
    {
     "name": "stderr",
     "output_type": "stream",
     "text": [
      "WARNING: SunpyUserWarning: Using .data to access the dataframe is discouraged; use .to_dataframe() instead. [sunpy.timeseries.timeseriesbase]\n"
     ]
    },
    {
     "data": {
      "text/html": [
       "<div>\n",
       "<style scoped>\n",
       "    .dataframe tbody tr th:only-of-type {\n",
       "        vertical-align: middle;\n",
       "    }\n",
       "\n",
       "    .dataframe tbody tr th {\n",
       "        vertical-align: top;\n",
       "    }\n",
       "\n",
       "    .dataframe thead th {\n",
       "        text-align: right;\n",
       "    }\n",
       "</style>\n",
       "<table border=\"1\" class=\"dataframe\">\n",
       "  <thead>\n",
       "    <tr style=\"text-align: right;\">\n",
       "      <th></th>\n",
       "      <th>Epoch_1800</th>\n",
       "      <th>Rot1800</th>\n",
       "      <th>IMF1800</th>\n",
       "      <th>PLS1800</th>\n",
       "      <th>IMF_PTS1800</th>\n",
       "      <th>PLS_PTS1800</th>\n",
       "      <th>ABS_B1800</th>\n",
       "      <th>F1800</th>\n",
       "      <th>THETA_AV1800</th>\n",
       "      <th>PHI_AV1800</th>\n",
       "      <th>...</th>\n",
       "      <th>F10_INDEX</th>\n",
       "      <th>KP</th>\n",
       "      <th>DST</th>\n",
       "      <th>AE</th>\n",
       "      <th>AP_INDEX</th>\n",
       "      <th>AL_INDEX</th>\n",
       "      <th>AU_INDEX</th>\n",
       "      <th>PC_N_INDEX</th>\n",
       "      <th>Solar_Lyman_alpha</th>\n",
       "      <th>Proton_QI</th>\n",
       "    </tr>\n",
       "    <tr>\n",
       "      <th>Time</th>\n",
       "      <th></th>\n",
       "      <th></th>\n",
       "      <th></th>\n",
       "      <th></th>\n",
       "      <th></th>\n",
       "      <th></th>\n",
       "      <th></th>\n",
       "      <th></th>\n",
       "      <th></th>\n",
       "      <th></th>\n",
       "      <th></th>\n",
       "      <th></th>\n",
       "      <th></th>\n",
       "      <th></th>\n",
       "      <th></th>\n",
       "      <th></th>\n",
       "      <th></th>\n",
       "      <th></th>\n",
       "      <th></th>\n",
       "      <th></th>\n",
       "      <th></th>\n",
       "    </tr>\n",
       "  </thead>\n",
       "  <tbody>\n",
       "    <tr>\n",
       "      <th>2020-07-15 01:00:00</th>\n",
       "      <td>6.376200e+13</td>\n",
       "      <td>2550</td>\n",
       "      <td>51</td>\n",
       "      <td>52</td>\n",
       "      <td>60</td>\n",
       "      <td>35</td>\n",
       "      <td>5.7</td>\n",
       "      <td>5.2</td>\n",
       "      <td>20.799999</td>\n",
       "      <td>143.300003</td>\n",
       "      <td>...</td>\n",
       "      <td>70.599998</td>\n",
       "      <td>0</td>\n",
       "      <td>-14</td>\n",
       "      <td>9999</td>\n",
       "      <td>0</td>\n",
       "      <td>99999</td>\n",
       "      <td>99999</td>\n",
       "      <td>NaN</td>\n",
       "      <td>0.006240</td>\n",
       "      <td>0.0302</td>\n",
       "    </tr>\n",
       "    <tr>\n",
       "      <th>2020-07-15 02:00:00</th>\n",
       "      <td>6.376200e+13</td>\n",
       "      <td>2550</td>\n",
       "      <td>51</td>\n",
       "      <td>52</td>\n",
       "      <td>63</td>\n",
       "      <td>35</td>\n",
       "      <td>5.8</td>\n",
       "      <td>5.1</td>\n",
       "      <td>11.600000</td>\n",
       "      <td>115.300003</td>\n",
       "      <td>...</td>\n",
       "      <td>70.599998</td>\n",
       "      <td>0</td>\n",
       "      <td>-13</td>\n",
       "      <td>9999</td>\n",
       "      <td>0</td>\n",
       "      <td>99999</td>\n",
       "      <td>99999</td>\n",
       "      <td>NaN</td>\n",
       "      <td>0.006240</td>\n",
       "      <td>0.0359</td>\n",
       "    </tr>\n",
       "    <tr>\n",
       "      <th>2020-07-15 03:00:00</th>\n",
       "      <td>6.376200e+13</td>\n",
       "      <td>2550</td>\n",
       "      <td>51</td>\n",
       "      <td>52</td>\n",
       "      <td>62</td>\n",
       "      <td>35</td>\n",
       "      <td>5.7</td>\n",
       "      <td>5.1</td>\n",
       "      <td>12.300000</td>\n",
       "      <td>106.900002</td>\n",
       "      <td>...</td>\n",
       "      <td>70.599998</td>\n",
       "      <td>13</td>\n",
       "      <td>-17</td>\n",
       "      <td>9999</td>\n",
       "      <td>5</td>\n",
       "      <td>99999</td>\n",
       "      <td>99999</td>\n",
       "      <td>NaN</td>\n",
       "      <td>0.006240</td>\n",
       "      <td>0.0339</td>\n",
       "    </tr>\n",
       "    <tr>\n",
       "      <th>2020-07-15 04:00:00</th>\n",
       "      <td>6.376201e+13</td>\n",
       "      <td>2550</td>\n",
       "      <td>51</td>\n",
       "      <td>52</td>\n",
       "      <td>64</td>\n",
       "      <td>39</td>\n",
       "      <td>5.8</td>\n",
       "      <td>5.6</td>\n",
       "      <td>3.400000</td>\n",
       "      <td>82.500000</td>\n",
       "      <td>...</td>\n",
       "      <td>70.599998</td>\n",
       "      <td>13</td>\n",
       "      <td>-18</td>\n",
       "      <td>9999</td>\n",
       "      <td>5</td>\n",
       "      <td>99999</td>\n",
       "      <td>99999</td>\n",
       "      <td>NaN</td>\n",
       "      <td>0.006240</td>\n",
       "      <td>0.0290</td>\n",
       "    </tr>\n",
       "    <tr>\n",
       "      <th>2020-07-15 05:00:00</th>\n",
       "      <td>6.376201e+13</td>\n",
       "      <td>2550</td>\n",
       "      <td>51</td>\n",
       "      <td>52</td>\n",
       "      <td>59</td>\n",
       "      <td>33</td>\n",
       "      <td>4.9</td>\n",
       "      <td>4.1</td>\n",
       "      <td>-22.400000</td>\n",
       "      <td>63.700001</td>\n",
       "      <td>...</td>\n",
       "      <td>70.599998</td>\n",
       "      <td>13</td>\n",
       "      <td>-19</td>\n",
       "      <td>9999</td>\n",
       "      <td>5</td>\n",
       "      <td>99999</td>\n",
       "      <td>99999</td>\n",
       "      <td>NaN</td>\n",
       "      <td>0.006240</td>\n",
       "      <td>0.0167</td>\n",
       "    </tr>\n",
       "    <tr>\n",
       "      <th>...</th>\n",
       "      <td>...</td>\n",
       "      <td>...</td>\n",
       "      <td>...</td>\n",
       "      <td>...</td>\n",
       "      <td>...</td>\n",
       "      <td>...</td>\n",
       "      <td>...</td>\n",
       "      <td>...</td>\n",
       "      <td>...</td>\n",
       "      <td>...</td>\n",
       "      <td>...</td>\n",
       "      <td>...</td>\n",
       "      <td>...</td>\n",
       "      <td>...</td>\n",
       "      <td>...</td>\n",
       "      <td>...</td>\n",
       "      <td>...</td>\n",
       "      <td>...</td>\n",
       "      <td>...</td>\n",
       "      <td>...</td>\n",
       "      <td>...</td>\n",
       "    </tr>\n",
       "    <tr>\n",
       "      <th>2020-10-26 19:00:00</th>\n",
       "      <td>6.377096e+13</td>\n",
       "      <td>2553</td>\n",
       "      <td>51</td>\n",
       "      <td>52</td>\n",
       "      <td>60</td>\n",
       "      <td>37</td>\n",
       "      <td>4.3</td>\n",
       "      <td>3.9</td>\n",
       "      <td>-8.300000</td>\n",
       "      <td>178.199997</td>\n",
       "      <td>...</td>\n",
       "      <td>74.099998</td>\n",
       "      <td>30</td>\n",
       "      <td>-25</td>\n",
       "      <td>9999</td>\n",
       "      <td>15</td>\n",
       "      <td>99999</td>\n",
       "      <td>99999</td>\n",
       "      <td>NaN</td>\n",
       "      <td>0.006466</td>\n",
       "      <td>0.0114</td>\n",
       "    </tr>\n",
       "    <tr>\n",
       "      <th>2020-10-26 20:00:00</th>\n",
       "      <td>6.377096e+13</td>\n",
       "      <td>2553</td>\n",
       "      <td>51</td>\n",
       "      <td>52</td>\n",
       "      <td>61</td>\n",
       "      <td>36</td>\n",
       "      <td>3.8</td>\n",
       "      <td>3.0</td>\n",
       "      <td>8.900000</td>\n",
       "      <td>212.699997</td>\n",
       "      <td>...</td>\n",
       "      <td>74.099998</td>\n",
       "      <td>30</td>\n",
       "      <td>-22</td>\n",
       "      <td>9999</td>\n",
       "      <td>15</td>\n",
       "      <td>99999</td>\n",
       "      <td>99999</td>\n",
       "      <td>NaN</td>\n",
       "      <td>0.006466</td>\n",
       "      <td>0.0097</td>\n",
       "    </tr>\n",
       "    <tr>\n",
       "      <th>2020-10-26 21:00:00</th>\n",
       "      <td>6.377097e+13</td>\n",
       "      <td>2553</td>\n",
       "      <td>51</td>\n",
       "      <td>52</td>\n",
       "      <td>63</td>\n",
       "      <td>37</td>\n",
       "      <td>3.8</td>\n",
       "      <td>2.3</td>\n",
       "      <td>-41.200001</td>\n",
       "      <td>83.699997</td>\n",
       "      <td>...</td>\n",
       "      <td>74.099998</td>\n",
       "      <td>30</td>\n",
       "      <td>-20</td>\n",
       "      <td>9999</td>\n",
       "      <td>15</td>\n",
       "      <td>99999</td>\n",
       "      <td>99999</td>\n",
       "      <td>NaN</td>\n",
       "      <td>0.006466</td>\n",
       "      <td>0.0099</td>\n",
       "    </tr>\n",
       "    <tr>\n",
       "      <th>2020-10-26 22:00:00</th>\n",
       "      <td>6.377097e+13</td>\n",
       "      <td>2553</td>\n",
       "      <td>51</td>\n",
       "      <td>52</td>\n",
       "      <td>59</td>\n",
       "      <td>34</td>\n",
       "      <td>4.5</td>\n",
       "      <td>4.4</td>\n",
       "      <td>-17.299999</td>\n",
       "      <td>55.099998</td>\n",
       "      <td>...</td>\n",
       "      <td>74.099998</td>\n",
       "      <td>30</td>\n",
       "      <td>-24</td>\n",
       "      <td>9999</td>\n",
       "      <td>15</td>\n",
       "      <td>99999</td>\n",
       "      <td>99999</td>\n",
       "      <td>NaN</td>\n",
       "      <td>0.006466</td>\n",
       "      <td>0.0148</td>\n",
       "    </tr>\n",
       "    <tr>\n",
       "      <th>2020-10-26 23:00:00</th>\n",
       "      <td>6.377097e+13</td>\n",
       "      <td>2553</td>\n",
       "      <td>51</td>\n",
       "      <td>52</td>\n",
       "      <td>58</td>\n",
       "      <td>35</td>\n",
       "      <td>3.3</td>\n",
       "      <td>2.5</td>\n",
       "      <td>-4.400000</td>\n",
       "      <td>87.099998</td>\n",
       "      <td>...</td>\n",
       "      <td>74.099998</td>\n",
       "      <td>30</td>\n",
       "      <td>-25</td>\n",
       "      <td>9999</td>\n",
       "      <td>15</td>\n",
       "      <td>99999</td>\n",
       "      <td>99999</td>\n",
       "      <td>NaN</td>\n",
       "      <td>0.006466</td>\n",
       "      <td>0.0082</td>\n",
       "    </tr>\n",
       "  </tbody>\n",
       "</table>\n",
       "<p>2495 rows × 109 columns</p>\n",
       "</div>"
      ],
      "text/plain": [
       "                       Epoch_1800  Rot1800  IMF1800  PLS1800  IMF_PTS1800  \\\n",
       "Time                                                                        \n",
       "2020-07-15 01:00:00  6.376200e+13     2550       51       52           60   \n",
       "2020-07-15 02:00:00  6.376200e+13     2550       51       52           63   \n",
       "2020-07-15 03:00:00  6.376200e+13     2550       51       52           62   \n",
       "2020-07-15 04:00:00  6.376201e+13     2550       51       52           64   \n",
       "2020-07-15 05:00:00  6.376201e+13     2550       51       52           59   \n",
       "...                           ...      ...      ...      ...          ...   \n",
       "2020-10-26 19:00:00  6.377096e+13     2553       51       52           60   \n",
       "2020-10-26 20:00:00  6.377096e+13     2553       51       52           61   \n",
       "2020-10-26 21:00:00  6.377097e+13     2553       51       52           63   \n",
       "2020-10-26 22:00:00  6.377097e+13     2553       51       52           59   \n",
       "2020-10-26 23:00:00  6.377097e+13     2553       51       52           58   \n",
       "\n",
       "                     PLS_PTS1800  ABS_B1800  F1800  THETA_AV1800  PHI_AV1800  \\\n",
       "Time                                                                           \n",
       "2020-07-15 01:00:00           35        5.7    5.2     20.799999  143.300003   \n",
       "2020-07-15 02:00:00           35        5.8    5.1     11.600000  115.300003   \n",
       "2020-07-15 03:00:00           35        5.7    5.1     12.300000  106.900002   \n",
       "2020-07-15 04:00:00           39        5.8    5.6      3.400000   82.500000   \n",
       "2020-07-15 05:00:00           33        4.9    4.1    -22.400000   63.700001   \n",
       "...                          ...        ...    ...           ...         ...   \n",
       "2020-10-26 19:00:00           37        4.3    3.9     -8.300000  178.199997   \n",
       "2020-10-26 20:00:00           36        3.8    3.0      8.900000  212.699997   \n",
       "2020-10-26 21:00:00           37        3.8    2.3    -41.200001   83.699997   \n",
       "2020-10-26 22:00:00           34        4.5    4.4    -17.299999   55.099998   \n",
       "2020-10-26 23:00:00           35        3.3    2.5     -4.400000   87.099998   \n",
       "\n",
       "                     ...  F10_INDEX  KP  DST    AE  AP_INDEX  AL_INDEX  \\\n",
       "Time                 ...                                                 \n",
       "2020-07-15 01:00:00  ...  70.599998   0  -14  9999         0     99999   \n",
       "2020-07-15 02:00:00  ...  70.599998   0  -13  9999         0     99999   \n",
       "2020-07-15 03:00:00  ...  70.599998  13  -17  9999         5     99999   \n",
       "2020-07-15 04:00:00  ...  70.599998  13  -18  9999         5     99999   \n",
       "2020-07-15 05:00:00  ...  70.599998  13  -19  9999         5     99999   \n",
       "...                  ...        ...  ..  ...   ...       ...       ...   \n",
       "2020-10-26 19:00:00  ...  74.099998  30  -25  9999        15     99999   \n",
       "2020-10-26 20:00:00  ...  74.099998  30  -22  9999        15     99999   \n",
       "2020-10-26 21:00:00  ...  74.099998  30  -20  9999        15     99999   \n",
       "2020-10-26 22:00:00  ...  74.099998  30  -24  9999        15     99999   \n",
       "2020-10-26 23:00:00  ...  74.099998  30  -25  9999        15     99999   \n",
       "\n",
       "                     AU_INDEX  PC_N_INDEX  Solar_Lyman_alpha  Proton_QI  \n",
       "Time                                                                     \n",
       "2020-07-15 01:00:00     99999         NaN           0.006240     0.0302  \n",
       "2020-07-15 02:00:00     99999         NaN           0.006240     0.0359  \n",
       "2020-07-15 03:00:00     99999         NaN           0.006240     0.0339  \n",
       "2020-07-15 04:00:00     99999         NaN           0.006240     0.0290  \n",
       "2020-07-15 05:00:00     99999         NaN           0.006240     0.0167  \n",
       "...                       ...         ...                ...        ...  \n",
       "2020-10-26 19:00:00     99999         NaN           0.006466     0.0114  \n",
       "2020-10-26 20:00:00     99999         NaN           0.006466     0.0097  \n",
       "2020-10-26 21:00:00     99999         NaN           0.006466     0.0099  \n",
       "2020-10-26 22:00:00     99999         NaN           0.006466     0.0148  \n",
       "2020-10-26 23:00:00     99999         NaN           0.006466     0.0082  \n",
       "\n",
       "[2495 rows x 109 columns]"
      ]
     },
     "execution_count": 38,
     "metadata": {},
     "output_type": "execute_result"
    }
   ],
   "source": [
    "omni_data.data"
   ]
  },
  {
   "cell_type": "code",
   "execution_count": 39,
   "id": "a470dbf7",
   "metadata": {},
   "outputs": [
    {
     "name": "stderr",
     "output_type": "stream",
     "text": [
      "WARNING: SunpyUserWarning: Using .data to access the dataframe is discouraged; use .to_dataframe() instead. [sunpy.timeseries.timeseriesbase]\n",
      "WARNING: SunpyUserWarning: Using .data to access the dataframe is discouraged; use .to_dataframe() instead. [sunpy.timeseries.timeseriesbase]\n"
     ]
    },
    {
     "data": {
      "text/plain": [
       "[<matplotlib.lines.Line2D at 0x1c76231f730>]"
      ]
     },
     "execution_count": 39,
     "metadata": {},
     "output_type": "execute_result"
    },
    {
     "data": {
      "image/png": "[encoded data removed]",
      "text/plain": [
       "<Figure size 1440x720 with 1 Axes>"
      ]
     },
     "metadata": {
      "needs_background": "light"
     },
     "output_type": "display_data"
    }
   ],
   "source": [
    "fig, ax = plt.subplots(figsize=(20, 10))\n",
    "plt.plot(solo_data.index, solo_data.data[\"velocity_0\"], label=\"Solar Orbiter\")\n",
    "plt.plot(omni_data.index, omni_data.data[\"V\"], label=\"OMNI\")"
   ]
  },
  {
   "cell_type": "code",
   "execution_count": null,
   "id": "0ddacde7",
   "metadata": {},
   "outputs": [],
   "source": []
  }
 ],
 "metadata": {
  "kernelspec": {
   "display_name": "Python 3",
   "language": "python",
   "name": "python3"
  },
  "language_info": {
   "codemirror_mode": {
    "name": "ipython",
    "version": 3
   },
   "file_extension": ".py",
   "mimetype": "text/x-python",
   "name": "python",
   "nbconvert_exporter": "python",
   "pygments_lexer": "ipython3",
   "version": "3.9.4"
  }
 },
 "nbformat": 4,
 "nbformat_minor": 5
}