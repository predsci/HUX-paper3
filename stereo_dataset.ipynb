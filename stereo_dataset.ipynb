{
 "cells": [
  {
   "cell_type": "code",
   "execution_count": 1,
   "id": "working-enhancement",
   "metadata": {},
   "outputs": [],
   "source": [
    "import matplotlib.pyplot as plt\n",
    "from scipy import stats\n",
    "from scipy import interpolate\n",
    "import numpy as np\n",
    "import scipy\n",
    "import copy\n",
    "import pickle\n",
    "import datetime as dt \n",
    "\n",
    "from heliopy.data import psp\n",
    "from heliopy.data import omni\n",
    "from heliopy.data import stereo\n",
    "import heliopy.data.spice as spicedata\n",
    "import heliopy.spice as spice\n",
    "from astropy.coordinates import SkyCoord\n",
    "import astropy.units as u\n",
    "from heliopy.data.solo import download\n",
    "\n",
    "from tools.MASweb import get_mas_path\n",
    "from psipy.model import MASOutput\n",
    "from psipy.data import sample_data\n",
    "from psipy.model.variable import Variable\n",
    "\n",
    "\n",
    "from hux_propagation import *\n",
    "\n",
    "# matplotlib fontsize\n",
    "%matplotlib notebook\n",
    "fs1=12\n",
    "plt.rcParams['savefig.facecolor'] = 'white'"
   ]
  },
  {
   "cell_type": "code",
   "execution_count": null,
   "id": "metropolitan-illness",
   "metadata": {},
   "outputs": [],
   "source": []
  }
 ],
 "metadata": {
  "kernelspec": {
   "display_name": "Python 3",
   "language": "python",
   "name": "python3"
  },
  "language_info": {
   "codemirror_mode": {
    "name": "ipython",
    "version": 3
   },
   "file_extension": ".py",
   "mimetype": "text/x-python",
   "name": "python",
   "nbconvert_exporter": "python",
   "pygments_lexer": "ipython3",
   "version": "3.9.1"
  }
 },
 "nbformat": 4,
 "nbformat_minor": 5
}
