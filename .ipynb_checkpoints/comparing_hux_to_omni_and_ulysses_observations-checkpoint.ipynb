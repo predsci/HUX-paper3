{
 "cells": [
  {
   "cell_type": "markdown",
   "id": "virgin-touch",
   "metadata": {},
   "source": [
    "# Apply HUX Mapping Technique to in-situ Ulysses spacecraft observations"
   ]
  },
  {
   "cell_type": "code",
   "execution_count": null,
   "id": "acquired-violin",
   "metadata": {},
   "outputs": [],
   "source": [
    "import matplotlib.pyplot as plt\n",
    "from scipy import stats\n",
    "from scipy import interpolate\n",
    "import numpy as np\n",
    "import scipy\n",
    "import copy\n",
    "import pickle\n",
    "import math\n",
    "import os\n",
    "import datetime as dt \n",
    "import xarray as xr\n",
    "\n",
    "from heliopy.data import ulysses\n",
    "from heliopy.data import omni\n",
    "from heliopy.data import ace\n",
    "from heliopy.data import wind\n",
    "\n",
    "import heliopy.data.spice as spicedata\n",
    "import heliopy.spice as spice\n",
    "from astropy.coordinates import SkyCoord\n",
    "import astropy.units as u\n",
    "\n",
    "from tools.MASweb import get_mas_path\n",
    "from psipy.model import MASOutput\n",
    "from psipy.data import sample_data\n",
    "from psipy.model.variable import Variable\n",
    "\n",
    "from code.archimedes_sprial import cmap_spiral, compute_phi_shift_forward, ballistic_approximation_ulysses\n",
    "from code.hux_propagation import *\n",
    "from code.carrington_dates import * \n",
    "from code.numerical_methods import apply_numerical_method\n",
    "\n",
    "# matplotlib fontsize\n",
    "%matplotlib notebook\n",
    "%matplotlib inline\n",
    "fs1=12\n",
    "size=2\n",
    "plt.rcParams['savefig.facecolor'] = 'white'"
   ]
  },
  {
   "cell_type": "markdown",
   "id": "fifth-experience",
   "metadata": {},
   "source": [
    "# Time intervals to study Ulysses\n",
    "\n",
    "#### CR1836, CR1841,  CR1852, CR1853, CR1865, CR1915, CR1925, CR1930, CR1934, CR1946,  CR1976, CR2008, CR2016, CR2026, CR2039, CR2060.\n",
    "\n",
    "Download MAS solutions from [Predictive Science Inc. website](http://www.predsci.com/data/runs).\n",
    "\n",
    "For more information about reading MHD solutions see [PsiPy documentation website](https://psipy.readthedocs.io/en/stable/guide/getting_started.html#getting-data)."
   ]
  },
  {
   "cell_type": "code",
   "execution_count": null,
   "id": "41593820",
   "metadata": {},
   "outputs": [],
   "source": [
    "case_study = \"cr1836\"\n",
    "starttime, endtime, cr = get_time_interval(case_study)"
   ]
  },
  {
   "cell_type": "code",
   "execution_count": null,
   "id": "7a385b99",
   "metadata": {},
   "outputs": [],
   "source": [
    "print(\"start = \", starttime)\n",
    "print(\"end = \", endtime)"
   ]
  },
  {
   "cell_type": "code",
   "execution_count": null,
   "id": "ea0ad5ba",
   "metadata": {
    "scrolled": true
   },
   "outputs": [],
   "source": [
    "# create directory to save figures\n",
    "try:\n",
    "    os.mkdir(\"figures/ulysses/\" + case_study + \"/\")\n",
    "except OSError as error:\n",
    "    print(error)"
   ]
  },
  {
   "cell_type": "code",
   "execution_count": null,
   "id": "false-reality",
   "metadata": {},
   "outputs": [],
   "source": [
    "# mas output - br, rho, vr\n",
    "# 11852 kpo_mas_mas_std_0101\n",
    "\n",
    "mas_path = get_mas_path(cr=cr, folder=\"KPO_mas_mas_std_0101/\")\n",
    "\n",
    "print(mas_path)\n",
    "model = MASOutput(mas_path)\n",
    "\n",
    "print(model.variables)"
   ]
  },
  {
   "cell_type": "code",
   "execution_count": null,
   "id": "first-nicholas",
   "metadata": {},
   "outputs": [],
   "source": [
    "# read in MHD velocity results. \n",
    "vr_model = model['vr']"
   ]
  },
  {
   "cell_type": "code",
   "execution_count": null,
   "id": "familiar-point",
   "metadata": {},
   "outputs": [],
   "source": [
    "# save MHD mesh coordinates Heliographic (rotating) Coordinate System (HG)\n",
    "# phi - (0, 2pi)\n",
    "p = vr_model.phi_coords\n",
    "# sin(theta) - (-pi/2, pi/2)\n",
    "t = vr_model.theta_coords\n",
    "# 30 solar radii to approximately 1 AU\n",
    "r = vr_model.r_coords\n",
    "# velocity profile \n",
    "f = vr_model.data\n",
    "# set omega rotation at the equator.\n",
    "omega_rot=(2 * np.pi) / (25.38 * 86400)"
   ]
  },
  {
   "cell_type": "code",
   "execution_count": null,
   "id": "instrumental-pepper",
   "metadata": {},
   "outputs": [],
   "source": [
    "print(\"Velocity matrix shape: \", np.shape(f))\n",
    "print(\"Phi dim: \", np.shape(f)[0])\n",
    "print(\"Theta dim: \", np.shape(f)[1])\n",
    "print(\"Radial dim: \", np.shape(f)[2])\n",
    "print(\"Velocity matrix dtype: \", f.dtype)\n"
   ]
  },
  {
   "cell_type": "code",
   "execution_count": null,
   "id": "separate-hierarchy",
   "metadata": {},
   "outputs": [],
   "source": [
    "# force periodicity on f\n",
    "# since the last phi index is less than 2*pi, then we will append 2*pi to phi scale.\n",
    "p_plot = np.append(p, 2*np.pi) \n",
    "\n",
    "# Phi: from radians to degrees. longitude.\n",
    "p_plot = (180/np.pi)*p_plot"
   ]
  },
  {
   "cell_type": "code",
   "execution_count": null,
   "id": "increasing-defensive",
   "metadata": {},
   "outputs": [],
   "source": [
    "# append the first slice p=0 to velocity matrix. \n",
    "f_plot = np.append(f,[f[0,:, :]],axis=0)"
   ]
  },
  {
   "cell_type": "code",
   "execution_count": null,
   "id": "spiritual-integration",
   "metadata": {},
   "outputs": [],
   "source": [
    "# Radius: from solar radii to km. \n",
    "# 1 solar radii = 695,700 km\n",
    "r_plot = (695700)*r"
   ]
  },
  {
   "cell_type": "code",
   "execution_count": null,
   "id": "environmental-timer",
   "metadata": {},
   "outputs": [],
   "source": [
    "# convert to sin(Lat.) [-1, 1]\n",
    "t_plot = np.sin(t)"
   ]
  },
  {
   "cell_type": "code",
   "execution_count": null,
   "id": "threaded-diving",
   "metadata": {},
   "outputs": [],
   "source": [
    "# NOTE: pcolorfast and pcolormesh want the coords of pixel corners not centers --> build a \"half mesh\" for p & t.\n",
    "# - This means making an array that is n+1 size and has the midpoint positions of the original.\n",
    "# - Here we clip the endpoints of the half mesh to the original bounds, vs extrapolate.\n",
    "# - see also https://matplotlib.org/api/_as_gen/matplotlib.pyplot.pcolormesh.html.\n",
    "\n",
    "cmap = 'gnuplot'\n",
    "\n",
    "ph = np.concatenate([[p_plot[0]], 0.5 * (p_plot[1:] + p_plot[:-1]), [p_plot[-1]]])\n",
    "th = np.concatenate([[t_plot[0]], 0.5 * (t_plot[1:] + t_plot[:-1]), [t_plot[-1]]])"
   ]
  },
  {
   "cell_type": "code",
   "execution_count": null,
   "id": "dental-pavilion",
   "metadata": {},
   "outputs": [],
   "source": [
    "fig, ax = plt.subplots(figsize = (11,5))\n",
    "ax.set_ylim(-1, 1)\n",
    "ax.set_xlim(0, 360)\n",
    "ax.set_title(\"R = 30 $R_{\\odot}$\", fontsize=fs1)\n",
    "ax.set_ylabel(\"Sin(Lat.)\", fontsize=fs1)\n",
    "ax.set_xlabel(\"Longitude (Deg.)\", fontsize=fs1)\n",
    "ax.set_yticks(ticks=[-1, -0.5, 0, 0.5, 1])\n",
    "ax.set_xticks(ticks=[0, 90, 180, 270, 360])\n",
    "_ = im = ax.pcolorfast(ph, th, f_plot[:, :, 0].T, cmap=cmap)\n",
    "cb = fig.colorbar(im, ax=ax)\n",
    "cb.set_label('$\\dfrac{km}{s}$', fontsize=fs1, rotation=360, labelpad=15)\n",
    "#plt.savefig('figures/ulysses/' + case_study + '/vr_30rs_map.png')"
   ]
  },
  {
   "cell_type": "code",
   "execution_count": null,
   "id": "thousand-garbage",
   "metadata": {},
   "outputs": [],
   "source": [
    "fig, ax = plt.subplots(figsize = (12,5))\n",
    "ax.set_ylim(-1, 1)\n",
    "ax.set_xlim(0, 360)\n",
    "ax.set_title(\"R = 1 AU\", fontsize=fs1)\n",
    "ax.set_ylabel(\"Sin(Lat.)\", fontsize=fs1)\n",
    "ax.set_xlabel(\"Longitude (Deg.)\", fontsize=fs1)\n",
    "ax.set_yticks(ticks=[-1, -0.5, 0, 0.5, 1])\n",
    "ax.set_xticks(ticks=[0, 90, 180, 270, 360])\n",
    "_ = im = ax.pcolorfast(ph, th, f_plot[:, :, -1].T, cmap=cmap)\n",
    "cb = fig.colorbar(im, ax=ax)\n",
    "cb.set_label('$\\dfrac{km}{s}$', fontsize=fs1, rotation=360, labelpad=15)\n",
    "#plt.savefig('figures/ulysses/' + case_study + '/vr_1au_map.png')"
   ]
  },
  {
   "cell_type": "markdown",
   "id": "cooperative-native",
   "metadata": {},
   "source": [
    "# Apply Heliospheric Upwind eXtrapolation method \n",
    "\n",
    "The HUX underlying PDE (Simplified fluid momentum equation in a corotating frame of reference):\n",
    "\n",
    "$$\n",
    "-\\Omega_{rot}\\frac{\\partial v_{r}}{\\partial \\phi} + v_{r}\\frac{ \\partial v_{r}}{\\partial r}=0\n",
    "$$\n",
    "\n",
    "With the initial condition \n",
    "$$\n",
    "v_{r}(\\phi, r_{0}) = v_{r0}(\\phi)\n",
    "$$\n",
    "\n",
    "The HUX-f technique leverages the forward upwind difference method, such that\n",
    "$$\n",
    "-\\Omega_{rot} \\frac{v_{i, j+1} - v_{i, j}}{\\Delta \\phi} + \n",
    "v_{i, j}(\\frac{v_{i+1, j} - v_{i, j}}{\\Delta r}) = 0\n",
    "$$\n",
    "\n",
    "\n",
    "$$\n",
    "v_{i+1, j}=  v_{i, j} + \\frac{\\Delta r\\Omega_{rot}}{v_{i, j}}  (\\frac{v_{i, j+1} - v_{i, j}}{\\Delta \\phi})\n",
    "$$\n",
    "\n",
    "Whereas HUX-b technique leverages the backwards finite difference approximation, such that \n",
    "\n",
    "$$\n",
    "-\\Omega_{rot} \\frac{v_{i, j} - v_{i, j-1}}{\\Delta \\phi} + \n",
    "v_{i, j}(\\frac{v_{i, j} - v_{i-1, j}}{\\Delta r}) = 0\n",
    "$$\n",
    "\n",
    "\n",
    "$$\n",
    "v_{i-1, j}=  v_{i, j} + \\frac{\\Delta r\\Omega_{rot}}{v_{i, j}}  (\\frac{v_{i, j}-v_{i, j-1}}{\\Delta \\phi})\n",
    "$$\n",
    "\n",
    "where for simplicity the $r$ subscipt on the radial velocity is omitted. The indicies $i$ and $j$ refer to $r$ and $\\phi$ grids repectively in HG coordinates. \n",
    "\n",
    "\n",
    "\n",
    "# References\n",
    "\n",
    "[1] Riley P and Lionello R (2011) \"Mapping Solar Wind Streams from the Sun to 1 AU: A Comparison of Techniques\". Solar Phys.270, 575–592. \n",
    "\n",
    "[2] Riley P and Issan O (2021) \"Using a Heliospheric Upwinding eXtrapolation Technique to Magnetically Connect Different Regions of the Heliosphere\". Front. Phys. 9:679497."
   ]
  },
  {
   "cell_type": "code",
   "execution_count": null,
   "id": "conditional-spell",
   "metadata": {},
   "outputs": [],
   "source": [
    "# get solar equator slices and save delta r and delta p arrays for hux propagation. \n",
    "solar_equator_r_30_radii = f[:, 55, 0]\n",
    "solar_equator_r_1_au = f[:, 55, -1]\n",
    "dr_vec = r_plot[1:] - r_plot[:-1]\n",
    "dp_vec = p[1:] - p[:-1]"
   ]
  },
  {
   "cell_type": "code",
   "execution_count": null,
   "id": "victorian-cancellation",
   "metadata": {},
   "outputs": [],
   "source": [
    "fig, ax = plt.subplots(figsize = (10,5))\n",
    "\n",
    "_ = ax.plot(p*180/np.pi, solar_equator_r_1_au, label=\"MHD solution\")\n",
    "_ = ax.plot(p*180/np.pi, apply_forward_upwind_model(solar_equator_r_30_radii, dr_vec, dp_vec),\n",
    "            'g',label=\"HUX-f Technique\")\n",
    "\n",
    "_ = ax.scatter(apply_ballistic_approximation(np.array(solar_equator_r_30_radii), \n",
    "                r_plot[-1] - r_plot[0], p)*180/np.pi, \n",
    "                solar_equator_r_30_radii, \n",
    "                color='y',s = 6, label=\"Ballistic Approximation\")\n",
    "            \n",
    "_ = ax.set_title(\"Solar wind equatorial radial velocity at 1 AU for CR\" + str(cr) ,fontsize=fs1)\n",
    "_ = ax.set_xlabel(\"Longitude ($^{\\circ}$)\",fontsize=fs1)\n",
    "_ = ax.set_yticks(ticks=[200, 400, 600, 800])\n",
    "\n",
    "_ = ax.set_xticks(ticks=[0, 90, 180, 270, 360])\n",
    "_ = ax.set_ylabel('$v_{r}$ (km/s)',fontsize=fs1)\n",
    "_ = plt.legend()\n",
    "plt.savefig('figures/ulysses/' + case_study + '/vr_1AU_ts_comp_MHD_HUX-f.png')"
   ]
  },
  {
   "cell_type": "code",
   "execution_count": null,
   "id": "finished-jesus",
   "metadata": {},
   "outputs": [],
   "source": [
    "fig, ax = plt.subplots(figsize = (10,5))\n",
    "\n",
    "_ = ax.plot(p*180/np.pi, solar_equator_r_30_radii , label=\"R=30 RS, MHD\")\n",
    "_ = ax.plot(p*180/np.pi, apply_backwards_upwind_model(solar_equator_r_1_au, dr_vec, dp_vec),\n",
    "            'g',label=\"R=30 RS, HUX-b\")\n",
    "\n",
    "\n",
    "_ = ax.scatter(apply_ballistic_approximation(np.array(solar_equator_r_1_au), \n",
    "                r_plot[0]- r_plot[-1], p)*180/np.pi, \n",
    "                solar_equator_r_1_au, \n",
    "                color='y',s=6, label=\"Ballistic Approximation\")\n",
    "\n",
    "_ = ax.set_title(\"Solar wind equatorial radial velocity at 30 RS for CR\" + str(cr),fontsize=fs1)\n",
    "_ = ax.set_xlabel(\"Longitude ($^{\\circ}$)\",fontsize=fs1)\n",
    "_ = ax.set_yticks(ticks=[200, 400, 600, 800])\n",
    "_ = ax.set_xticks(ticks=[0, 90, 180, 270, 360])\n",
    "_ = ax.set_ylabel('$v_{r}$ (km/s)',fontsize=fs1)\n",
    "_ = plt.legend()\n",
    "#plt.savefig('figures/' + case_study + '/vr_30RS_ts_comp_MHD_HUX-b_cr' + str(cr) +'.png')"
   ]
  },
  {
   "cell_type": "code",
   "execution_count": null,
   "id": "turned-england",
   "metadata": {},
   "outputs": [],
   "source": [
    "# apply the hux technique to all theta slices\n",
    "hux_f_res, hux_b_res = np.ones((len(p), len(t), len(r))),  np.ones((len(p), len(t), len(r)))\n",
    "\n",
    "for ii in range(len(t)):\n",
    "    hux_f_res[:, ii, :] = apply_hux_f_model(f[:, ii, 0], dr_vec, dp_vec).T\n",
    "    hux_b_res[:, ii, :] = apply_hux_b_model(f[:, ii, -1], dr_vec, dp_vec).T"
   ]
  },
  {
   "cell_type": "code",
   "execution_count": null,
   "id": "saved-replica",
   "metadata": {},
   "outputs": [],
   "source": [
    "# force periodicity when plotting\n",
    "hux_f_res_plot = np.append(hux_f_res,[hux_f_res[0, :, :]], axis=0)\n",
    "hux_b_res_plot = np.append(hux_b_res,[hux_b_res[0, :, :]], axis=0)"
   ]
  },
  {
   "cell_type": "code",
   "execution_count": null,
   "id": "happy-jacob",
   "metadata": {},
   "outputs": [],
   "source": [
    "plt.rcParams['figure.figsize'] = [8, 10] # default fig size.\n",
    "\n",
    "fig, ax = plt.subplots(nrows=4, ncols=1, constrained_layout=True, sharex=True)\n",
    "\n",
    "ax[0].set_ylim(-1, 1)\n",
    "ax[0].set_xlim(0, 360)\n",
    "ax[0].set_title(\"R = 30 $R_{\\odot}$, heliospheric MHD model\", fontsize=fs1)\n",
    "ax[0].set_ylabel(\"Sin(Lat.)\", fontsize=fs1)\n",
    "ax[0].set_yticks(ticks=[-1, -0.5, 0, 0.5, 1])\n",
    "ax[0].set_xticks(ticks=[0, 90, 180, 270, 360])\n",
    "_ = im = ax[0].pcolorfast(ph, th, f_plot[:, :, 0].T, cmap=cmap)\n",
    "\n",
    "ax[1].set_ylim(-1, 1)\n",
    "ax[1].set_xlim(0, 360)\n",
    "ax[1].set_title(\"R = 30 $R_{\\odot}$, HUX-b model\", fontsize=fs1)\n",
    "ax[1].set_ylabel(\"Sin(Lat.)\", fontsize=fs1)\n",
    "ax[1].set_yticks(ticks=[-1, -0.5, 0, 0.5, 1])\n",
    "ax[1].set_xticks(ticks=[0, 90, 180, 270, 360])\n",
    "_ = im = ax[1].pcolorfast(ph, th, hux_b_res_plot[:, :, 0].T, cmap=cmap)\n",
    "\n",
    "\n",
    "ax[2].set_ylim(-1, 1)\n",
    "ax[2].set_xlim(0, 360)\n",
    "ax[2].set_title(\"R = 1 AU, heliospheric MHD model\", fontsize=fs1)\n",
    "ax[2].set_ylabel(\"Sin(Lat.)\", fontsize=fs1)\n",
    "ax[2].set_yticks(ticks=[-1, -0.5, 0, 0.5, 1])\n",
    "ax[2].set_xticks(ticks=[0, 90, 180, 270, 360])\n",
    "_ = im = ax[2].pcolorfast(ph, th, f_plot[:, :, -1].T, cmap=cmap)\n",
    "\n",
    "\n",
    "ax[3].set_ylim(-1, 1)\n",
    "ax[3].set_xlim(0, 360)\n",
    "ax[3].set_title(\"R = 1 AU, HUX-f model \", fontsize=fs1)\n",
    "ax[3].set_ylabel(\"Sin(Lat.)\", fontsize=fs1)\n",
    "ax[3].set_xlabel(\"Longitude ($^{\\circ}$)\", fontsize=fs1)\n",
    "ax[3].set_yticks(ticks=[-1, -0.5, 0, 0.5, 1])\n",
    "ax[3].set_xticks(ticks=[0, 90, 180, 270, 360])\n",
    "_ = im = ax[3].pcolorfast(ph, th, hux_f_res_plot[:, :, -1].T, cmap=cmap)\n",
    "cbar = fig.colorbar(im, ax=ax.flat)\n",
    "cbar.set_label('$\\dfrac{km}{s}$', fontsize=fs1, rotation=360, labelpad=15)\n",
    "\n",
    "plt.savefig('figures/ulysses/' + case_study + '/vr_lon_lat_maps_MHD_HUX.png')"
   ]
  },
  {
   "cell_type": "markdown",
   "id": "dominican-boutique",
   "metadata": {},
   "source": [
    "# Read in Ulysses observations"
   ]
  },
  {
   "cell_type": "code",
   "execution_count": null,
   "id": "polar-layer",
   "metadata": {},
   "outputs": [],
   "source": [
    "ulysses_data = ulysses.swoops_ions(starttime, endtime)\n",
    "print(\"Available data = \", ulysses_data.columns)"
   ]
  },
  {
   "cell_type": "code",
   "execution_count": null,
   "id": "above-october",
   "metadata": {},
   "outputs": [],
   "source": [
    "ulysses_data.data"
   ]
  },
  {
   "cell_type": "markdown",
   "id": "representative-collection",
   "metadata": {},
   "source": [
    "Generate the Ulysses trajectory in Heliographic (rotating) Coordinate System (HG).\n",
    "\n",
    "We take the timestamps from the previously loaded data, and use `heliopy.spice`\n",
    "to generate the trajectory at these times."
   ]
  },
  {
   "cell_type": "code",
   "execution_count": null,
   "id": "mexican-teach",
   "metadata": {},
   "outputs": [],
   "source": [
    "times = ulysses_data.index\n",
    "\n",
    "spicedata.get_kernel('ulysses')\n",
    "ulysses_traj = spice.Trajectory('Ulysses')\n",
    "ulysses_traj.generate_positions(times=times, observing_body='Sun', frame='IAU_SUN')\n",
    "ulysses_coords = ulysses_traj.coords"
   ]
  },
  {
   "cell_type": "markdown",
   "id": "a229ef03",
   "metadata": {},
   "source": [
    "Generate the OMNI (Earth) trajectory in Heliographic (rotating) Coordinate System (HG).\n",
    "\n",
    "We take the timestamps from the previously loaded data, and use `heliopy.spice`\n",
    "to generate the trajectory at these times."
   ]
  },
  {
   "cell_type": "code",
   "execution_count": null,
   "id": "19fa3619",
   "metadata": {},
   "outputs": [],
   "source": [
    "earth_traj = spice.Trajectory('Earth')\n",
    "earth_traj.generate_positions(times=ulysses_data.index, observing_body='Sun', frame='IAU_SUN')\n",
    "earth_coords = earth_traj.coords"
   ]
  },
  {
   "cell_type": "code",
   "execution_count": null,
   "id": "93756ef7",
   "metadata": {},
   "outputs": [],
   "source": [
    "fig = plt.figure(figsize=(10, 10))\n",
    "ax = plt.axes(projection='3d')\n",
    "\n",
    "\n",
    "_ = ax.plot3D(ulysses_traj.x.to(u.au), ulysses_traj.y.to(u.au), ulysses_traj.z.to(u.au), alpha=0.7, label=\"Ulysses\")\n",
    "_  = ax.plot3D(earth_traj.x.to(u.au), earth_traj.y.to(u.au), earth_traj.z.to(u.au), alpha=0.5, label=\"Earth\")\n",
    "_ = ax.scatter3D(0, 0, 0, color=\"y\", label=\"Sun\")\n",
    "\n",
    "_ = ax.set_xlabel(\"Carrington X / AU\")\n",
    "_ = ax.set_ylabel(\"Carrington Y / AU\")\n",
    "_ = ax.set_zlabel(\"Carrington Z / AU\")\n",
    "_ = ax.legend()\n",
    "\n",
    "_ = ax.set_title(\"Ulysses and Earth Trajectory in HG coordinates\")\n",
    "#plt.savefig('figures/ulysses/ulysses_trajectory_location.png')"
   ]
  },
  {
   "cell_type": "code",
   "execution_count": null,
   "id": "5bf98d3b",
   "metadata": {},
   "outputs": [],
   "source": [
    "print(\"Ulysses min lat = \", np.min(ulysses_coords.lat.to(u.rad)))\n",
    "print(\"Ulysses max lat = \", np.max(ulysses_coords.lat.to(u.rad)))\n"
   ]
  },
  {
   "cell_type": "code",
   "execution_count": null,
   "id": "909f21b8",
   "metadata": {},
   "outputs": [],
   "source": [
    "print(\"Earth min lat = \", np.min(earth_coords.lat.to(u.rad)))\n",
    "print(\"Earth max lat = \", np.max(earth_coords.lat.to(u.rad)))"
   ]
  },
  {
   "cell_type": "code",
   "execution_count": null,
   "id": "b9ec8608",
   "metadata": {},
   "outputs": [],
   "source": [
    "r_to_ulysses_hux_f_30rs = np.linspace(r_plot[0], np.max(ulysses_coords.radius.to(u.km).value), 300)\n",
    "r_to_ulysses_hux_f_1au = np.linspace(r_plot[-1], np.max(ulysses_coords.radius.to(u.km).value), 200)"
   ]
  },
  {
   "cell_type": "code",
   "execution_count": null,
   "id": "8ce8d550",
   "metadata": {},
   "outputs": [],
   "source": [
    "# apply the hux technique to all theta slices\n",
    "hux_f_res, hux_b_res = np.ones((len(p), len(t), len(r_to_ulysses_hux_f_30rs))),  np.ones((len(p), len(t), len(r_to_ulysses_hux_f_1au)))\n",
    "flux_f_res, flux_b_res =  np.ones((len(p), len(t), len(r_to_ulysses_hux_f_30rs))),  np.ones((len(p), len(t), len(r_to_ulysses_hux_f_1au)))\n",
    "\n",
    "for ii in range(len(t)):\n",
    "    # hux-f method\n",
    "    hux_f_res[:, ii, :] = apply_hux_f_model(f[:, ii, 0], \n",
    "                                            r_to_ulysses_hux_f_30rs[1:] - r_to_ulysses_hux_f_30rs[:-1], dp_vec).T\n",
    "    # hux-b method\n",
    "    hux_b_res[:, ii, :] = apply_hux_f_model(f[:, ii, -1], \n",
    "                                            r_to_ulysses_hux_f_1au[1:] - r_to_ulysses_hux_f_1au[:-1], dp_vec).T\n",
    "    # flux-limiter-f method\n",
    "    flux_f_res[:, ii, :] = apply_numerical_method(f[:, ii, 0], \n",
    "                                                  r_to_ulysses_hux_f_30rs[1:] - r_to_ulysses_hux_f_30rs[:-1], \n",
    "                                                  dp_vec, \n",
    "                                                  numerical_method=\"upwind_first_lax_wendroff\", \n",
    "                                                  flux_function=\"superbee\").T\n",
    "    # flux-limiter-b method\n",
    "    flux_b_res[:, ii, :] = apply_numerical_method(f[:, ii, -1], \n",
    "                                                  r_to_ulysses_hux_f_1au[1:] - r_to_ulysses_hux_f_1au[:-1], \n",
    "                                                  dp_vec, \n",
    "                                                  numerical_method=\"upwind_first_lax_wendroff\", \n",
    "                                                  flux_function=\"superbee\").T"
   ]
  },
  {
   "cell_type": "code",
   "execution_count": null,
   "id": "04d4142a",
   "metadata": {},
   "outputs": [],
   "source": [
    "data_hux_f = xr.DataArray(hux_f_res, dims=['phi', 'theta', 'r'],\n",
    "                            coords=[p* u.rad, t* u.rad, (r_to_ulysses_hux_f_30rs*(u.km)).to(u.solRad)])\n",
    "\n",
    "hux_f_model = Variable(data=data_hux_f, name=\"vr\", unit=vr_model._unit)"
   ]
  },
  {
   "cell_type": "code",
   "execution_count": null,
   "id": "713c3a76",
   "metadata": {},
   "outputs": [],
   "source": [
    "data_flux_f = xr.DataArray(flux_f_res, dims=['phi', 'theta', 'r'],\n",
    "                            coords=[p* u.rad, t* u.rad, (r_to_ulysses_hux_f_30rs*(u.km)).to(u.solRad)])\n",
    "\n",
    "flux_f_model = Variable(data=data_flux_f, name=\"vr\", unit=vr_model._unit)"
   ]
  },
  {
   "cell_type": "code",
   "execution_count": null,
   "id": "6effc0dc",
   "metadata": {},
   "outputs": [],
   "source": [
    "data_hux_b = xr.DataArray(hux_b_res, dims=['phi', 'theta', 'r'],\n",
    "                            coords=[p* u.rad, t* u.rad, (r_to_ulysses_hux_f_1au*(u.km)).to(u.solRad)])\n",
    "\n",
    "hux_b_model = Variable(data=data_hux_b, name=\"vr\", unit=(u.km/u.second))"
   ]
  },
  {
   "cell_type": "code",
   "execution_count": null,
   "id": "f6379716",
   "metadata": {},
   "outputs": [],
   "source": [
    "data_flux_b = xr.DataArray(flux_b_res, dims=['phi', 'theta', 'r'],\n",
    "                            coords=[p* u.rad, t* u.rad, (r_to_ulysses_hux_f_1au*(u.km)).to(u.solRad)])\n",
    "\n",
    "flux_b_model = Variable(data=data_flux_b, name=\"vr\", unit=(u.km/u.second))"
   ]
  },
  {
   "cell_type": "code",
   "execution_count": null,
   "id": "7629de1b",
   "metadata": {},
   "outputs": [],
   "source": [
    "# interpolate where the spacecraft trajectory is - Ulysses\n",
    "vr_sampled_hux_f = hux_f_model.sample_at_coords(lon=ulysses_coords.lon,\n",
    "                                                lat=ulysses_coords.lat,\n",
    "                                                r=ulysses_coords.radius)\n",
    "\n",
    "vr_sampled_hux_b = hux_b_model.sample_at_coords(lon=ulysses_coords.lon,\n",
    "                                                lat=ulysses_coords.lat,\n",
    "                                                r=ulysses_coords.radius)\n",
    "\n",
    "vr_sampled_flux_f = flux_f_model.sample_at_coords(lon=ulysses_coords.lon,\n",
    "                                                lat=ulysses_coords.lat,\n",
    "                                                r=ulysses_coords.radius)\n",
    "\n",
    "vr_sampled_flux_b = flux_b_model.sample_at_coords(lon=ulysses_coords.lon,\n",
    "                                                lat=ulysses_coords.lat,\n",
    "                                                r=ulysses_coords.radius)"
   ]
  },
  {
   "cell_type": "code",
   "execution_count": null,
   "id": "7f755d08",
   "metadata": {},
   "outputs": [],
   "source": [
    "ballistic_ic_30rs = vr_model.sample_at_coords(lon=ulysses_coords.lon,\n",
    "                                                lat=ulysses_coords.lat,\n",
    "                                                r=np.ones(len(ulysses_coords.lon))*r[0]*u.solRad)\n",
    "\n",
    "ballistic_ic_1au = vr_model.sample_at_coords(lon=ulysses_coords.lon,\n",
    "                                                lat=ulysses_coords.lat,\n",
    "                                                r=np.ones(len(ulysses_coords.lon))*r[-15]*u.solRad)"
   ]
  },
  {
   "cell_type": "code",
   "execution_count": null,
   "id": "bb74833a",
   "metadata": {},
   "outputs": [],
   "source": [
    "res_ballistic_f_30rs = ballistic_approximation_ulysses(r0_vec= np.ones(len(ulysses_coords.lon))*r[0]*u.solRad, \n",
    "                                                  rf_vec=ulysses_coords.radius, \n",
    "                                                  phi_vec=ulysses_coords.lon, \n",
    "                                                  vr_initial=ballistic_ic_30rs)\n",
    "\n",
    "res_ballistic_f_1au = ballistic_approximation_ulysses(r0_vec= np.ones(len(ulysses_coords.lon))*r[-15]*u.solRad, \n",
    "                                                  rf_vec=ulysses_coords.radius, \n",
    "                                                  phi_vec=ulysses_coords.lon, \n",
    "                                                  vr_initial=ballistic_ic_1au)"
   ]
  },
  {
   "cell_type": "code",
   "execution_count": null,
   "id": "f377717e",
   "metadata": {},
   "outputs": [],
   "source": [
    "fig, ax = plt.subplots(nrows=2, figsize=(10, 6))\n",
    "\n",
    "_ = ax[0].scatter(ulysses_coords.lon, ballistic_ic_30rs, color=\"m\", s=size, label=\"Initial condition $r_{0} = 30 R_\\odot$\")\n",
    "_ = ax[0].scatter(res_ballistic_f_30rs*(180/np.pi), ballistic_ic_30rs, color=\"b\", s=size, label=\"Ballistic-f mapped from $30 R_\\odot$ to Ulysses\")\n",
    "\n",
    "_ = ax[0].set_ylabel(r'$v_{r}$ (km/s)', fontsize=fs1)\n",
    "_ = ax[0].set_xticks(ticks=[0, 90, 180, 270, 360])\n",
    "_ = ax[0].set_xlabel(\"Longitude (Deg.)\", fontsize=fs1)\n",
    "_ = ax[0].set_title(\"Ballistic Approximation- Mapping from 30 $R_{\\odot}$ to Ulysses \\n CR\" + str(cr))\n",
    "_ = ax[0].legend()\n",
    "\n",
    "_ = ax[1].scatter(ulysses_coords.lon, ballistic_ic_1au, color=\"m\", s=size, label=\"Initial condition $r_{0} = 215 R_\\odot$\")\n",
    "_ = ax[1].scatter(res_ballistic_f_1au*(180/np.pi), ballistic_ic_1au, color=\"b\", s=size, label=\"Ballistic-f mapped from $215 R_\\odot$ to Ulysses\")\n",
    "\n",
    "_ = ax[1].set_ylabel(r'$v_{r}$ (km/s)', fontsize=fs1)\n",
    "_ = ax[1].set_xticks(ticks=[0, 90, 180, 270, 360])\n",
    "_ = ax[1].set_xlabel(\"Longitude (Deg.)\", fontsize=fs1)\n",
    "_ = ax[1].set_title(\"Ballistic Approximation- Mapping from 1AU to Ulysses \\n CR\" + str(cr))\n",
    "_ = ax[1].legend()\n",
    "_ = plt.tight_layout()"
   ]
  },
  {
   "cell_type": "code",
   "execution_count": null,
   "id": "studied-wholesale",
   "metadata": {},
   "outputs": [],
   "source": [
    "fig, ax = plt.subplots(figsize=(15, 5))\n",
    "ax.scatter(times, ulysses_data.quantity('v_r'), color=\"k\",s=2,  label='Ulysses')\n",
    "ax.plot(times, vr_sampled_hux_f, color=\"r\", label='HUX-f model $r_{0} = 30 R_\\odot$')\n",
    "ax.plot(times, vr_sampled_hux_b, color=\"g\", label='HUX-f model $r_{0} = 215.032 R_\\odot$')\n",
    "\n",
    "ax.plot(times, vr_sampled_flux_f, color=\"m\", label='Flux-Limiter-f model $r_{0} = 30 R_\\odot$')\n",
    "ax.plot(times, vr_sampled_flux_b, color=\"b\", label='Flux-Limiter-f model $r_{0} = 215.032 R_\\odot$')\n",
    "\n",
    "ax.set_ylabel(r'$v_{r}$ (km/s)')\n",
    "ax.legend()\n",
    "ax.set_title(\"Comparison of Techniques with Ulysses in-situ measurements for CR\" + str(cr))\n",
    "fig.autofmt_xdate()\n",
    "\n",
    "plt.savefig('figures/ulysses/'+ case_study + '/ulysses_comparison_cr'+ str(cr)+ '_time.png')"
   ]
  },
  {
   "cell_type": "code",
   "execution_count": null,
   "id": "played-psychology",
   "metadata": {},
   "outputs": [],
   "source": [
    "fig, ax = plt.subplots(figsize=(15, 5))\n",
    "size=0.5\n",
    "ax.scatter(ulysses_coords.lon, ulysses_data.quantity('v_r'), color=\"k\", s=size,  label=\"Ulysses\")\n",
    "ax.scatter(ulysses_coords.lon, vr_sampled_hux_f, color=\"r\", s=size, label='HUX-f model, $r_{0} = 30 R_\\odot$')\n",
    "ax.scatter(ulysses_coords.lon, vr_sampled_hux_b, color=\"g\", s=size, label='HUX-f model, $r_{0} = 215.032 R_\\odot$')\n",
    "ax.scatter(ulysses_coords.lon, vr_sampled_flux_f, color=\"m\", s=size, label='Flux-Limiter-f model, $r_{0} = 30 R_\\odot$')\n",
    "ax.scatter(ulysses_coords.lon, vr_sampled_flux_b, color=\"b\", s=size, label='Flux-Limiter-f model, $r_{0} = 215.032 R_\\odot$')\n",
    "ax.scatter(res_ballistic_f_30rs*(180/np.pi),  ballistic_ic_30rs, color=\"y\", s=size, label=\"Ballistic-f model, $r_{0} = 30 R_\\odot$\")\n",
    "ax.scatter(res_ballistic_f_1au*(180/np.pi),  ballistic_ic_1au, color=\"lightgreen\", s=size, label=\"Ballistic-f model, $r_{0} = 215.032 R_\\odot$\")\n",
    "\n",
    "\n",
    "ax.set_ylabel(r'$v_{r}$ (km/s)', fontsize=fs1)\n",
    "ax.set_xticks(ticks=[0, 90, 180, 270, 360])\n",
    "ax.set_xlabel(\"Longitude (Deg.)\", fontsize=fs1)\n",
    "ax.set_title(\"Comparison of Techniques with Ulysses in-situ measurements for CR\" + str(cr))\n",
    "ax.legend()\n",
    "plt.savefig('figures/ulysses/'+ case_study + '/ulysses_comparison_cr' + str(cr) + '_carrington_longitude.png')"
   ]
  },
  {
   "cell_type": "code",
   "execution_count": null,
   "id": "a446c5a8",
   "metadata": {},
   "outputs": [],
   "source": [
    "fig, ax = plt.subplots(nrows=2, figsize=(15, 8))\n",
    "ax[0].scatter(times, ulysses_data.quantity('v_r'), color=\"k\",s=2,  label='Ulysses')\n",
    "ax[0].plot(times, vr_sampled_hux_f, color=\"r\", label='HUX-f model $r_{0} = 30 R_\\odot$')\n",
    "#ax[0].plot(times, vr_sampled_hux_b, color=\"g\", label='HUX-f model $r_{0} = 215.032 R_\\odot$')\n",
    "ax[0].plot(times, vr_sampled_flux_f, color=\"m\", label='Flux-Limiter-f model $r_{0} = 30 R_\\odot$')\n",
    "#ax[0].plot(times, vr_sampled_flux_b, color=\"b\", label='Flux-Limiter-f model $r_{0} = 215.032 R_\\odot$')\n",
    "\n",
    "ax[0].set_ylabel(r'$v_{r}$ (km/s)', fontsize=fs1)\n",
    "ax[0].legend()\n",
    "ax[0].set_title(\"(a)\")\n",
    "\n",
    "size=0.5\n",
    "ax[1].scatter(ulysses_coords.lon, ulysses_data.quantity('v_r'), color=\"k\", s=size,  label=\"Ulysses\")\n",
    "ax[1].scatter(ulysses_coords.lon, vr_sampled_hux_f, color=\"r\", s=size, label='HUX-f model, $r_{0} = 30 R_\\odot$')\n",
    "#ax[1].scatter(ulysses_coords.lon, vr_sampled_hux_b, color=\"g\", s=size, label='HUX-f model, $r_{0} = 215.032 R_\\odot$')\n",
    "ax[1].scatter(ulysses_coords.lon, vr_sampled_flux_f, color=\"m\", s=size, label='Flux-Limiter-f model, $r_{0} = 30 R_\\odot$')\n",
    "#ax[1].scatter(ulysses_coords.lon, vr_sampled_flux_b, color=\"b\", s=size, label='Flux-Limiter-f model, $r_{0} = 215.032 R_\\odot$')\n",
    "ax[1].scatter(res_ballistic_f_30rs*(180/np.pi),  ballistic_ic_30rs, color=\"y\", s=size, label=\"Ballistic-f model, $r_{0} = 30 R_\\odot$\")\n",
    "ax[1].scatter(res_ballistic_f_1au*(180/np.pi),  ballistic_ic_1au, color=\"lightgreen\", s=size, label=\"Ballistic-f model, $r_{0} = 215.032 R_\\odot$\")\n",
    "ax[1].set_ylabel(r'$v_{r}$ (km/s)', fontsize=fs1)\n",
    "ax[1].set_xlabel(\"Longitude (Deg.)\", fontsize=fs1)\n",
    "ax[1].set_title(\"(b)\")\n",
    "ax[1].legend()\n",
    "fig.suptitle(\"Comparison of Techniques with Ulysses in-situ measurements for CR\" + str(cr), fontsize=fs1)\n",
    "plt.savefig('figures/ulysses/'+ case_study + '/ulysses_comparison_cr' + str(cr) + '_combined.png')"
   ]
  },
  {
   "cell_type": "markdown",
   "id": "another-supervisor",
   "metadata": {},
   "source": [
    "# Read in OMNI (Earth) Observations\n",
    "\n",
    "• OMNI data set for solar wind speed observations can be found https://spdf.gsfc.nasa.gov/pub/data/omni/low_res_omni/\n",
    "\n",
    "The WIND spacecraft was launched on November 1, 1994 and ACE was launched in August 25, 1997. "
   ]
  },
  {
   "cell_type": "code",
   "execution_count": null,
   "id": "broad-newfoundland",
   "metadata": {},
   "outputs": [],
   "source": [
    "omni_data = omni.h0_mrg1hr(starttime, endtime)"
   ]
  },
  {
   "cell_type": "code",
   "execution_count": null,
   "id": "07c2a949",
   "metadata": {},
   "outputs": [],
   "source": [
    "omni_data.data"
   ]
  },
  {
   "cell_type": "markdown",
   "id": "f1a53750",
   "metadata": {},
   "source": [
    "Generate the OMNI (Earth) trajectory in Heliographic (rotating) Coordinate System (HG).\n",
    "\n",
    "We take the timestamps from the previously loaded data, and use `heliopy.spice`\n",
    "to generate the trajectory at these times."
   ]
  },
  {
   "cell_type": "code",
   "execution_count": null,
   "id": "d2d7de72",
   "metadata": {},
   "outputs": [],
   "source": [
    "earth_traj = spice.Trajectory('Earth')\n",
    "earth_traj.generate_positions(times=omni_data.index, observing_body='Sun', frame='IAU_SUN')\n",
    "earth_coords = earth_traj.coords"
   ]
  },
  {
   "cell_type": "code",
   "execution_count": null,
   "id": "cognitive-river",
   "metadata": {},
   "outputs": [],
   "source": [
    "fig, ax = plt.subplots(figsize=(7, 7))\n",
    "_ = ax.plot(ulysses_coords.radius.to(\"AU\")* np.cos(ulysses_coords.lon.value*np.pi/180), ulysses_coords.radius.to(\"AU\")* np.sin(ulysses_coords.lon.value*np.pi/180), label=\"Ulysses\")\n",
    "_ = ax.plot(earth_coords.radius.to(\"AU\")* np.cos(earth_coords.lon.value*np.pi/180), earth_coords.radius.to(\"AU\")* np.sin(earth_coords.lon.value*np.pi/180), label=\"Earth\")\n",
    "_ = ax.scatter(0, 0, color=\"y\", label=\"Sun\")\n",
    "\n",
    "_ = ax.set_xlabel(\"Carrington X / AU\")\n",
    "_ = ax.set_ylabel(\"Carrington Y / AU\")\n",
    "_ = ax.legend()\n",
    "_ = ax.set_title(\"Ulysses and Earth Trajectory for CR\" + str(case_study[2:]))\n",
    "plt.savefig('figures/ulysses/'+ case_study + '/ulysses__earth_location.png')"
   ]
  },
  {
   "cell_type": "code",
   "execution_count": null,
   "id": "c062f300",
   "metadata": {},
   "outputs": [],
   "source": [
    "nphi = len(ulysses_coords.lon.value)\n",
    "nrout = 201\n",
    "\n",
    "fig, ax = plt.subplots(figsize=(7, 7))\n",
    "\n",
    "\n",
    "for ii in np.arange(0, nphi, 40):\n",
    "    # phi location ulysses. \n",
    "    phi_location = (ulysses_coords.lon[ii].to(u.rad)).value\n",
    "    # radial location ulysses. \n",
    "    radial_location = np.linspace(ulysses_coords.radius.to(u.km)[ii], ((r[0]*u.solRad).to(u.km)), nrout) \n",
    "    # vr at the certain point (p, r)\n",
    "    curr_velocity = ulysses_data.quantity('v_r').value[ii]\n",
    "\n",
    "    if not np.isnan(curr_velocity):\n",
    "        phi_shift_vec = compute_phi_shift_forward(p=phi_location, \n",
    "                                                     r=radial_location.value,\n",
    "                                                     v=curr_velocity) \n",
    "\n",
    "        x = np.cos(phi_shift_vec)*radial_location.to(u.AU)\n",
    "        y = np.sin(phi_shift_vec)*radial_location.to(u.AU)\n",
    "\n",
    "        _ = ax.plot(x[1:], y[1:], c=\"b\", alpha=0.5)\n",
    "\n",
    "ax.plot(ulysses_coords.radius.to(\"AU\")* np.cos(ulysses_coords.lon.value*np.pi/180), ulysses_coords.radius.to(\"AU\")* np.sin(ulysses_coords.lon.value*np.pi/180), c=\"r\", label=\"Ulysses\")\n",
    "#ax.plot(earth_coords.radius.to(\"AU\")* np.cos(earth_coords.lon.value*np.pi/180), earth_coords.radius.to(\"AU\")* np.sin(earth_coords.lon.value*np.pi/180), c=\"g\", label=\"Earth\")\n",
    "ax.scatter(0, 0, color=\"y\", label=\"Sun\")\n",
    "ax.set_title(\"Archimedes-spiral field lines Mapping Ulysses to 30 $R_\\odot$ \\n CR\" + str(case_study[2:]))\n",
    "ax.set_xlabel(\"Carrington X / AU \")\n",
    "ax.set_ylabel(\"Carrington Y / AU \")\n",
    "plt.axis(\"equal\")\n",
    "plt.legend()\n",
    "\n",
    "plt.savefig('figures/ulysses/'+ case_study + '/Archimedes_spiral_ulysses_to30rs.png')"
   ]
  },
  {
   "cell_type": "code",
   "execution_count": null,
   "id": "fe43d81d",
   "metadata": {},
   "outputs": [],
   "source": [
    "fig, ax = plt.subplots(ncols=2, sharey=True, figsize=(14, 7))\n",
    "\n",
    "\n",
    "for ii in np.arange(0, nphi, 40):\n",
    "    # phi location mhd results. \n",
    "    phi_location = (ulysses_coords.lon[ii].to(u.rad)).value\n",
    "    # radial location ulysses. \n",
    "    radial_location = np.linspace(((r[0]*u.solRad).to(u.km)), ulysses_coords.radius.to(u.km)[ii], nrout) \n",
    "    # vr at the certain point (p, r)\n",
    "    curr_velocity = ballistic_ic_30rs.value[ii]\n",
    "\n",
    "    if not np.isnan(curr_velocity):\n",
    "        phi_shift_vec = compute_phi_shift_forward(p=phi_location, \n",
    "                                                     r=radial_location.value,\n",
    "                                                     v=curr_velocity) \n",
    "\n",
    "        x = np.cos(phi_shift_vec)*radial_location.to(u.AU)\n",
    "        y = np.sin(phi_shift_vec)*radial_location.to(u.AU)\n",
    "\n",
    "        _ = ax[0].plot(x[1:], y[1:], c=\"b\", alpha=0.3)\n",
    "\n",
    "ax[0].scatter(ulysses_coords.radius.to(\"AU\")* np.cos(ulysses_coords.lon.value*np.pi/180), ulysses_coords.radius.to(\"AU\")* np.sin(ulysses_coords.lon.value*np.pi/180), s=size, c=\"r\", label=\"Ulysses\")\n",
    "ax[0].plot(earth_coords.radius.to(\"AU\")* np.cos(earth_coords.lon.value*np.pi/180), earth_coords.radius.to(\"AU\")* np.sin(earth_coords.lon.value*np.pi/180), c=\"g\", label=\"Earth\")\n",
    "ax[0].scatter(0, 0, color=\"y\", label=\"Sun\")\n",
    "ax[0].set_title(\"(a) \\n 30 $R_\\odot$ to Ulysses\", fontsize=fs1)\n",
    "ax[0].set_xlabel(\"Carrington X / AU \", fontsize=fs1)\n",
    "ax[0].set_ylabel(\"Carrington Y / AU \", fontsize=fs1)\n",
    "ax[0].axis(\"equal\")\n",
    "ax[0].legend()\n",
    "\n",
    "\n",
    "for ii in np.arange(0, nphi, 40):\n",
    "    # phi location mhd results. \n",
    "    phi_location = (ulysses_coords.lon[ii].to(u.rad)).value\n",
    "    # radial location ulysses. \n",
    "    radial_location = np.linspace(((r[-15]*u.solRad).to(u.km)), ulysses_coords.radius.to(u.km)[ii], nrout) \n",
    "    # vr at the certain point (p, r)\n",
    "    curr_velocity = ballistic_ic_1au.value[ii]\n",
    "\n",
    "    if not np.isnan(curr_velocity):\n",
    "        phi_shift_vec = compute_phi_shift_forward(p=phi_location, \n",
    "                                                     r=radial_location.value,\n",
    "                                                     v=curr_velocity) \n",
    "\n",
    "        x = np.cos(phi_shift_vec)*radial_location.to(u.AU)\n",
    "        y = np.sin(phi_shift_vec)*radial_location.to(u.AU)\n",
    "\n",
    "        _ = ax[1].plot(x[1:], y[1:], c=\"b\", alpha=0.3)\n",
    "\n",
    "ax[1].scatter(ulysses_coords.radius.to(\"AU\")* np.cos(ulysses_coords.lon.value*np.pi/180), ulysses_coords.radius.to(\"AU\")* np.sin(ulysses_coords.lon.value*np.pi/180), s=size, c=\"r\", label=\"Ulysses\")\n",
    "ax[1].plot(earth_coords.radius.to(\"AU\")* np.cos(earth_coords.lon.value*np.pi/180), earth_coords.radius.to(\"AU\")* np.sin(earth_coords.lon.value*np.pi/180), c=\"g\", label=\"Earth\")\n",
    "ax[1].scatter(0, 0, color=\"y\", label=\"Sun\")\n",
    "ax[1].set_title(\"(b) \\n 1 AU to Ulysses\", fontsize=fs1)\n",
    "ax[1].set_xlabel(\"Carrington X / AU \", fontsize=fs1)\n",
    "ax[1].axis(\"equal\")\n",
    "ax[1].legend()\n",
    "\n",
    "fig.suptitle(\"Archimedes-spiral field lines to Ulysses \\n CR\" + str(case_study[2:]), fontsize=fs1)\n",
    "\n",
    "plt.savefig('figures/ulysses/'+ case_study + '/Archimedes_spiral_ulysses_from30rs_and_1au_' + str(cr) + '.png')"
   ]
  },
  {
   "cell_type": "code",
   "execution_count": null,
   "id": "changed-timing",
   "metadata": {},
   "outputs": [],
   "source": [
    "nphi = len(ulysses_coords.lon.value)\n",
    "nrout = 201\n",
    "earth_mean_r = np.mean(earth_coords.radius.to(\"AU\").value)\n",
    "\n",
    "fig, ax = plt.subplots(figsize=(7, 7))\n",
    "\n",
    "\n",
    "for ii in np.arange(0, nphi, 40):\n",
    "    # phi location ulysses. \n",
    "    phi_location = (ulysses_coords.lon.value[ii])*(np.pi/180)\n",
    "    # radial location ulysses. \n",
    "    radial_location = np.linspace(ulysses_coords.radius.to(\"AU\").value[ii], earth_mean_r, nrout)\n",
    "    # change units to km.\n",
    "    radial_location = radial_location * (u.AU)\n",
    "    radial_location = radial_location.to(u.km)\n",
    "    \n",
    "    # vr at the certain point (p, r)\n",
    "    curr_velocity = ulysses_data.quantity('v_r').value[ii]\n",
    "\n",
    "    if not np.isnan(curr_velocity):\n",
    "        phi_shift_vec = compute_phi_shift_forward(p=phi_location, \n",
    "                                                     r=radial_location.value,\n",
    "                                                     v=curr_velocity) \n",
    "\n",
    "        x = np.cos(phi_shift_vec)*radial_location.to(u.AU)\n",
    "        y = np.sin(phi_shift_vec)*radial_location.to(u.AU)\n",
    "\n",
    "        _ = ax.plot(x[1:], y[1:], c=\"b\", alpha=0.5)\n",
    "\n",
    "ax.plot(ulysses_coords.radius.to(\"AU\")* np.cos(ulysses_coords.lon.value*np.pi/180), ulysses_coords.radius.to(\"AU\")* np.sin(ulysses_coords.lon.value*np.pi/180), c=\"r\", label=\"Ulysses\")\n",
    "ax.plot(earth_coords.radius.to(\"AU\")* np.cos(earth_coords.lon.value*np.pi/180), earth_coords.radius.to(\"AU\")* np.sin(earth_coords.lon.value*np.pi/180), c=\"g\", label=\"Earth\")\n",
    "ax.scatter(0, 0, color=\"y\", label=\"Sun\")\n",
    "ax.set_title(\"Archimedes-spiral field lines Mapping Ulysses to Earth \\n CR\" + str(case_study[2:]))\n",
    "ax.set_xlabel(\"Carrington X / AU \")\n",
    "ax.set_ylabel(\"Carrington Y / AU \")\n",
    "plt.axis(\"equal\")\n",
    "plt.legend()\n",
    "\n",
    "plt.savefig('figures/ulysses/'+ case_study + '/Archimedes_spiral_ulysses.png')"
   ]
  },
  {
   "cell_type": "code",
   "execution_count": null,
   "id": "2702f114",
   "metadata": {},
   "outputs": [],
   "source": [
    "fig, ax = plt.subplots(figsize=(7, 7))\n",
    "\n",
    "for ii in np.arange(0, len(earth_coords.lon), 3):\n",
    "    # earth phi location. \n",
    "    phi_location = (earth_coords.lon.value[ii])*(np.pi/180)\n",
    "    # earth radial location\n",
    "    radial_location = np.linspace(earth_coords.radius.to(\"AU\").value[ii], ulysses_coords.radius.to(\"AU\").value[ii], nrout)\n",
    "    # radial location in km units. \n",
    "    radial_location = radial_location * (u.AU)\n",
    "    radial_location = radial_location.to(u.km)\n",
    "    # v_r at earth. \n",
    "    curr_velocity = omni_data.quantity('V').value[ii]\n",
    "        \n",
    "    if not np.isnan(curr_velocity):\n",
    "        phi_shift_vec = compute_phi_shift_forward(p=phi_location, \n",
    "                                                     r=radial_location.value,\n",
    "                                                     v=curr_velocity) \n",
    "\n",
    "        x = np.cos(phi_shift_vec)*radial_location.to(u.AU)\n",
    "        y = np.sin(phi_shift_vec)*radial_location.to(u.AU)\n",
    "\n",
    "        _ = ax.plot(x[1:], y[1:], c=\"b\", alpha=0.5)\n",
    "\n",
    "ax.plot(ulysses_coords.radius.to(\"AU\")* np.cos(ulysses_coords.lon.value*np.pi/180), ulysses_coords.radius.to(\"AU\")* np.sin(ulysses_coords.lon.value*np.pi/180), c=\"r\",  label=\"Ulysses\")\n",
    "ax.plot(earth_coords.radius.to(\"AU\")* np.cos(earth_coords.lon.value*np.pi/180), earth_coords.radius.to(\"AU\")* np.sin(earth_coords.lon.value*np.pi/180), c=\"g\", label=\"Earth\")\n",
    "ax.scatter(0, 0, color=\"y\", label=\"Sun\")\n",
    "ax.set_title(\"Archimedes-spiral field lines from OMNI (Earth) to Ulysses \\n CR\" + str(case_study[2:]))\n",
    "ax.set_xlabel(\"Carrington X / AU \")\n",
    "ax.set_ylabel(\"Carrington Y / AU \")\n",
    "plt.axis(\"equal\")\n",
    "plt.legend()\n",
    "\n",
    "plt.savefig('figures/ulysses/'+ case_study + '/Archimedes_spiral_omni.png')"
   ]
  },
  {
   "cell_type": "code",
   "execution_count": null,
   "id": "distinguished-peninsula",
   "metadata": {},
   "outputs": [],
   "source": [
    "vr_sampled_hux_f_omni = hux_f_model.sample_at_coords(earth_coords.lon,\n",
    "                                                     earth_coords.lat,\n",
    "                                                     earth_coords.radius)\n",
    "\n",
    "\n",
    "vr_sampled_mhd_omni = vr_model.sample_at_coords(earth_coords.lon,\n",
    "                                                earth_coords.lat,\n",
    "                                                earth_coords.radius)"
   ]
  },
  {
   "cell_type": "code",
   "execution_count": null,
   "id": "norwegian-coffee",
   "metadata": {},
   "outputs": [],
   "source": [
    "fig, ax = plt.subplots(figsize=(15, 5))\n",
    "ax.plot(omni_data.index, vr_sampled_mhd_omni, color=\"b\", label='MHD model')\n",
    "ax.plot(omni_data.index, vr_sampled_hux_f_omni, color=\"r\", label='HUX-f model')\n",
    "ax.plot(omni_data.index, omni_data.quantity('V'),color=\"k\", label='OMNI')\n",
    "\n",
    "ax.set_ylabel(r'$v_{r}$ (km/s)')\n",
    "ax.legend()\n",
    "ax.set_title(\"Comparison of model results with in situ measurements for CR\" + str(case_study[2:]))\n",
    "fig.autofmt_xdate()\n",
    "\n",
    "plt.savefig('figures/ulysses/'+ case_study + '/omni_comparison_cr' + str(cr) + '_time.png')"
   ]
  },
  {
   "cell_type": "code",
   "execution_count": null,
   "id": "golden-bridal",
   "metadata": {},
   "outputs": [],
   "source": [
    "min_index = np.argmin(earth_coords.lon)"
   ]
  },
  {
   "cell_type": "code",
   "execution_count": null,
   "id": "sixth-certification",
   "metadata": {},
   "outputs": [],
   "source": [
    "fig, ax = plt.subplots(figsize=(15, 5))\n",
    "ax.plot(np.array(earth_coords.lon[:min_index])+360, vr_sampled_mhd_omni[:min_index], color=\"b\", label=\"MHD model\")\n",
    "ax.plot(np.array(earth_coords.lon[:min_index])+360, vr_sampled_hux_f_omni[:min_index], color=\"r\", label=\"HUX-f model\")\n",
    "ax.plot(np.array(earth_coords.lon[:min_index])+360, omni_data.quantity('V')[:min_index], color=\"k\", label=\"OMNI\")\n",
    "\n",
    "ax.plot(earth_coords.lon[min_index+1:], vr_sampled_mhd_omni[min_index+1:], color=\"b\")\n",
    "ax.plot(earth_coords.lon[min_index+1:], vr_sampled_hux_f_omni[min_index+1:], color=\"r\")\n",
    "ax.plot(earth_coords.lon[min_index+1:], omni_data.quantity('V')[min_index+1:], color=\"k\")\n",
    "\n",
    "ax.set_ylabel(r'$v_{r}$ (km/s)')\n",
    "ax.set_xlabel(\"Longitude (Deg.)\", fontsize=fs1)\n",
    "ax.legend()\n",
    "ax.set_title(\"Comparison of Techniques with OMNI (Earth) in situ measurements for CR\" + str(cr))\n",
    "fig.autofmt_xdate()\n",
    "\n",
    "\n",
    "plt.savefig('figures/ulysses/'+ case_study + '/omni_comparison_cr' + str(cr) + '_lon.png')"
   ]
  },
  {
   "cell_type": "markdown",
   "id": "great-movie",
   "metadata": {},
   "source": [
    "# Mapping Ulysses to OMNI (Earth) using the HUX-f and Ballistic Technique"
   ]
  },
  {
   "cell_type": "markdown",
   "id": "boolean-bullet",
   "metadata": {},
   "source": [
    "# Assumptions: \n",
    "#### 1.  Latitude is constant in Ulysses trajectory coordinates \n",
    "* Note that HUX is dependent on $\\phi$ and $r$ only. \n",
    "\n",
    "#### 2.  Ulysses and Earth are aligned in latitude. \n",
    "\n",
    "#### 3.  $\\phi$ is monotonically increasing.\n",
    "\n",
    "\n",
    "#### 4. Periodic Boundary Conditions"
   ]
  },
  {
   "cell_type": "code",
   "execution_count": null,
   "id": "clear-horizontal",
   "metadata": {},
   "outputs": [],
   "source": [
    "fig, ax = plt.subplots(nrows=1, ncols=2, constrained_layout=True, figsize=(15, 4))\n",
    "\n",
    "\n",
    "## psp latitude trajectory \n",
    "mu, sigma = scipy.stats.norm.fit(ulysses_traj.coords.lat.value)\n",
    "\n",
    "n , bins, _ = ax[0].hist(ulysses_traj.coords.lat.value, 25, density=1)\n",
    "_ = ax[0].set_title(\"Ulysses Latitude location (HG) \\n Results: mean = %.2f, median = %.2f, std = %.2f\" % \\\n",
    "                       (mu, np.median(ulysses_traj.coords.lat.value), sigma), fontsize=8)\n",
    "_ = ax[0].set_xlabel(\"Ulysses Latitude\")\n",
    "_ = ax[0].set_ylabel(\"probability density\") \n",
    "\n",
    "best_fit_line = scipy.stats.norm.pdf(bins, mu, sigma)\n",
    "_ = ax[0].plot(bins, best_fit_line)\n",
    "\n",
    "\n",
    "## earth latitude trajectory \n",
    "mu, sigma = scipy.stats.norm.fit(earth_traj.coords.lat.value)\n",
    "\n",
    "n , bins, _ = ax[1].hist(earth_traj.coords.lat.value, 25, density=1)\n",
    "_ = ax[1].set_title(\"Earth Latitude location (HG) \\n Results: mean = %.2f, median = %.2f, std = %.2f\" % \\\n",
    "                       (mu, np.median(earth_traj.coords.lat.value), sigma), fontsize=8)\n",
    "_ = ax[1].set_xlabel(\"Earth Latitude\")\n",
    "_ = ax[1].set_ylabel(\"probability density\") \n",
    "\n",
    "best_fit_line = scipy.stats.norm.pdf(bins, mu, sigma)\n",
    "_ = ax[1].plot(bins, best_fit_line)\n",
    "\n",
    "plt.savefig('figures/ulysses/'+ case_study + '/ulysses_earth_lat_traj' + str(cr) + '_lon.png')"
   ]
  },
  {
   "cell_type": "code",
   "execution_count": null,
   "id": "variable-thanksgiving",
   "metadata": {},
   "outputs": [],
   "source": [
    "fig, ax = plt.subplots(nrows=1, ncols=2, constrained_layout=True, figsize=(15, 4))\n",
    "\n",
    "\n",
    "## ulysses radial trajectory \n",
    "mu, sigma = scipy.stats.norm.fit(ulysses_traj.coords.radius.to(u.solRad).value)\n",
    "\n",
    "n , bins, _ = ax[0].hist(ulysses_traj.coords.radius.to(u.solRad).value, 25, density=1)\n",
    "_ = ax[0].set_title(\"Ulysses Radial location (HG) \\n Results: mean = %.2f, median = %.2f, std = %.2f\" % \\\n",
    "                       (mu, np.median(ulysses_traj.coords.radius.to(u.solRad).value), sigma), fontsize=8)\n",
    "_ = ax[0].set_xlabel(\"Solar Radii\")\n",
    "_ = ax[0].set_ylabel(\"probability density\") \n",
    "\n",
    "best_fit_line = scipy.stats.norm.pdf(bins, mu, sigma)\n",
    "_ = ax[0].plot(bins, best_fit_line)\n",
    "\n",
    "\n",
    "## earth radial trajectory \n",
    "mu, sigma = scipy.stats.norm.fit(earth_traj.coords.radius.to(u.solRad).value)\n",
    "\n",
    "n , bins, _ = ax[1].hist(earth_traj.coords.radius.to(u.solRad).value, 25, density=1)\n",
    "_ = ax[1].set_title(\"Earth Radial location (HG) \\n Results: mean = %.2f, median = %.2f, std = %.2f\" % \\\n",
    "                       (mu, np.median(earth_traj.coords.radius.to(u.solRad).value), sigma), fontsize=8)\n",
    "_ = ax[1].set_xlabel(\"Solar Radii\")\n",
    "_ = ax[1].set_ylabel(\"probability density\") \n",
    "\n",
    "best_fit_line = scipy.stats.norm.pdf(bins, mu, sigma)\n",
    "_ = ax[1].plot(bins, best_fit_line)\n",
    "\n",
    "plt.savefig('figures/ulysses/'+ case_study + '/ulysses_earth_rad_traj' + str(cr) + '_lon.png')"
   ]
  },
  {
   "cell_type": "code",
   "execution_count": null,
   "id": "automotive-scale",
   "metadata": {},
   "outputs": [],
   "source": [
    "fig, ax = plt.subplots(figsize=(15, 5))\n",
    "\n",
    "_ = ax.scatter(earth_coords.lon, omni_data.quantity('V'), color=\"b\", s=size, label=\"OMNI\")\n",
    "\n",
    "_ = ax.scatter(ulysses_coords.lon, ulysses_data.quantity('v_r'), color=\"k\", s=size, label=\"Ulysses\")\n",
    "\n",
    "_ = ax.set_ylabel(r'$v_{r}$ (km/s)', fontsize=fs1)\n",
    "_ = ax.set_xlabel(\"Longitude (Deg.)\", fontsize=fs1)\n",
    "_ = ax.legend()\n",
    "_ = ax.set_title(\"PSP and OMNI Observations for CR\" + str(cr))\n",
    "plt.savefig('figures/ulysses/'+ case_study + '/omni_and_ulysses_vr_vs_carringtonlon' + str(cr) +'.png')"
   ]
  },
  {
   "cell_type": "markdown",
   "id": "capable-university",
   "metadata": {},
   "source": [
    "# Ballistic Mapping\n",
    " * Evaluate the characteristic lines - do they intersect? This happens when Ulysses velocity function is decreasing. Otherwise, when the velocity function is increasing it results in rarefaction wave. \n",
    " "
   ]
  },
  {
   "cell_type": "code",
   "execution_count": null,
   "id": "lucky-sensitivity",
   "metadata": {},
   "outputs": [],
   "source": [
    "r_mean = np.linspace(np.mean(ulysses_coords.radius), np.mean(earth_coords.radius), 100)\n",
    "r_min = np.linspace(np.min(ulysses_coords.radius), np.mean(earth_coords.radius), 100)\n",
    "r_max = np.linspace(np.max(ulysses_coords.radius), np.mean(earth_coords.radius), 100)"
   ]
  },
  {
   "cell_type": "code",
   "execution_count": null,
   "id": "damaged-conservative",
   "metadata": {
    "scrolled": false
   },
   "outputs": [],
   "source": [
    "fig, ax = plt.subplots(figsize = (15,5))\n",
    "\n",
    "for ii in np.arange(0, nphi, 100):\n",
    "    # phi location ulysses\n",
    "    phi_location = ((ulysses_coords.lon[ii]).to(u.rad)).value\n",
    "    # radial location vector.\n",
    "    radial_location = np.linspace(ulysses_coords.radius.to(\"AU\").value[ii], earth_mean_r, nrout)\n",
    "    # convert to km units. \n",
    "    radial_location = radial_location * (u.AU)\n",
    "    radial_location = radial_location.to(u.km)\n",
    "    # ulysses velocity. \n",
    "    curr_velocity = ulysses_data.quantity('v_r').value[ii]\n",
    "\n",
    "    if not np.isnan(curr_velocity):\n",
    "        phi_shift_vec = compute_phi_shift_forward(p=phi_location, \n",
    "                                                     r=radial_location.value,\n",
    "                                                     v=curr_velocity) \n",
    "        _ = ax.plot(phi_shift_vec*(180/np.pi), radial_location.to(u.AU))\n",
    "\n",
    "_ = ax.set_xlabel(\"Carrington Longitue (Deg.)\")\n",
    "_ = ax.set_ylabel(\"$r$ (AU)\")\n",
    "_ = ax.set_title(\"Intersecting Characteristics Ballistic Approximation \\n Ulysses to Earth Mapping\")\n",
    "plt.savefig('figures/ulysses/'+ case_study + '/intersecting_characteristics_ballistic_f' + str(cr) +'.png')"
   ]
  },
  {
   "cell_type": "code",
   "execution_count": null,
   "id": "3ca5f689",
   "metadata": {},
   "outputs": [],
   "source": [
    "res_ballistic_ulysses_to_earth = ballistic_approximation_ulysses(r0_vec= ulysses_coords.radius, \n",
    "                                                  rf_vec=np.ones(len(ulysses_coords.radius))*earth_mean_r*u.AU, \n",
    "                                                  phi_vec=ulysses_coords.lon, \n",
    "                                                  vr_initial=ulysses_data.quantity('v_r'))"
   ]
  },
  {
   "cell_type": "code",
   "execution_count": null,
   "id": "printable-witness",
   "metadata": {},
   "outputs": [],
   "source": [
    "fig, ax = plt.subplots(figsize=(15, 5))\n",
    "_ = ax.scatter(np.array(earth_coords.lon), omni_data.quantity('V'), color=\"b\", s=size, label=\"OMNI\")\n",
    "\n",
    "_ = ax.scatter(res_ballistic_ulysses_to_earth*(180/np.pi), ulysses_data.quantity('v_r'),s=size, label=\"Ballistic\")\n",
    "\n",
    "_ = ax.set_xticks(ticks=[0, 90, 180, 270, 360])\n",
    "_ = ax.set_title(\"Mapping from Ulysses to OMNI (Earth) using the simple Ballistic Technique\")\n",
    "_ = ax.set_ylabel(r'$v_{r}$ (km/s)', fontsize=fs1)\n",
    "_ = ax.set_xlabel(\"Longitude (Deg.)\", fontsize=fs1)\n",
    "_ = ax.legend()"
   ]
  },
  {
   "cell_type": "markdown",
   "id": "explicit-alabama",
   "metadata": {},
   "source": [
    "\n",
    "# HUX-f Technique\n",
    "# 1D interpolation - input $\\phi$ ranges from [0, 2$\\pi$]"
   ]
  },
  {
   "cell_type": "code",
   "execution_count": null,
   "id": "statistical-teacher",
   "metadata": {},
   "outputs": [],
   "source": [
    "# get longitude limits\n",
    "min_lon = np.inf\n",
    "max_lon = -np.inf\n",
    "\n",
    "for ii in range(len(psp_coords.lon.value)):\n",
    "    if psp_coords.lon.value[ii] < min_lon and not math.isnan(psp_data.quantity('VR').value[ii]):\n",
    "        min_lon = psp_coords.lon.value[ii]\n",
    "    if psp_coords.lon.value[ii] > max_lon and not math.isnan(psp_data.quantity('VR').value[ii]):\n",
    "        max_lon = psp_coords.lon.value[ii]"
   ]
  },
  {
   "cell_type": "code",
   "execution_count": null,
   "id": "daily-dover",
   "metadata": {},
   "outputs": [],
   "source": [
    "# create uniform phi 1d mesh grid. \n",
    "\n",
    "phi_array = np.linspace(0, 360, 361)"
   ]
  },
  {
   "cell_type": "code",
   "execution_count": null,
   "id": "sustained-friend",
   "metadata": {},
   "outputs": [],
   "source": [
    "# drop NaNs\n",
    "nan_idx = np.isfinite(psp_data.quantity('VR').value)\n",
    "v_vec = psp_data.quantity('VR').value[nan_idx]\n",
    "interp = interpolate.interp1d(psp_coords.lon.value[nan_idx], \\\n",
    "                              v_vec, fill_value=(400, 400),  bounds_error=False)\n",
    "psp_interp = interp(phi_array)"
   ]
  },
  {
   "cell_type": "code",
   "execution_count": null,
   "id": "intelligent-passing",
   "metadata": {},
   "outputs": [],
   "source": [
    "# convert to radians\n",
    "p_hux = phi_array * np.pi/180\n",
    "# delta phi \n",
    "dp_vec_hux = p_hux[1:] - p_hux[:-1]"
   ]
  },
  {
   "cell_type": "code",
   "execution_count": null,
   "id": "entire-relations",
   "metadata": {},
   "outputs": [],
   "source": [
    "fig, ax = plt.subplots(figsize=(10, 5))\n",
    "ax.plot(phi_array, psp_interp)\n",
    "ax.scatter(psp_coords.lon.value, psp_data.quantity('VR').value)\n",
    "ax.set_xlim(min_lon, max_lon)\n"
   ]
  },
  {
   "cell_type": "code",
   "execution_count": null,
   "id": "satellite-level",
   "metadata": {},
   "outputs": [],
   "source": [
    "res_hux_f_min = apply_forward_upwind_model(r_initial=psp_interp,\n",
    "                                        dr_vec=r_min.value[1:] - r_min.value[:-1],\n",
    "                                        dp_vec=dp_vec_hux, \n",
    "                                        add_v_acc=False, \n",
    "                                        r0=r_min[0].value)\n",
    "\n",
    "\n",
    "res_hux_f_max = apply_forward_upwind_model(r_initial=psp_interp,\n",
    "                                        dr_vec=r_max.value[1:] - r_max.value[:-1],\n",
    "                                        dp_vec=dp_vec_hux, \n",
    "                                        add_v_acc=False, \n",
    "                                        r0=r_max[0].value)\n",
    "\n",
    "\n",
    "res_hux_f_mean = apply_forward_upwind_model(r_initial=psp_interp,\n",
    "                                        dr_vec=r_mean.value[1:] - r_mean.value[:-1],\n",
    "                                        dp_vec=dp_vec_hux, \n",
    "                                        add_v_acc=False, \n",
    "                                        r0=r_mean[0].value)"
   ]
  },
  {
   "cell_type": "code",
   "execution_count": null,
   "id": "maritime-timing",
   "metadata": {},
   "outputs": [],
   "source": [
    "fig, ax = plt.subplots(figsize=(12,4))\n",
    "_ = ax.scatter(np.array(earth_coords.lon), omni_data.quantity('V'), color=\"b\", s=size, label=\"OMNI\")\n",
    "\n",
    "_ = ax.plot(phi_array, res_hux_f_mean, color=\"r\", label=\"HUX-f mean\")\n",
    "_ = ax.plot(phi_array, res_hux_f_min, color=\"g\", label=\"HUX-f min\")\n",
    "_ = ax.plot(phi_array, res_hux_f_max, color=\"m\", label=\"HUX-f max\")\n",
    "\n",
    "_ = ax.scatter(res_ballistic_f*(180/np.pi), psp_data.quantity('VR').value, s=2, c=\"k\", label=\"Ballistic-f\")\n",
    "\n",
    "_ = ax.set_xlim(np.nanmin(res_ballistic_f*(180/np.pi)), np.nanmax(res_ballistic_f*(180/np.pi)))\n",
    "\n",
    "_ = ax.set_title(\"Mapping from PSP to OMNI (Earth) for CR\" + str(cr)+ \"\\n $r_{min}$ = %.2f $R_\\odot$, $r_{mean}$ = %.2f $R_\\odot$, $r_{max}$ = %.2f $R_\\odot$\" % \\\n",
    "                       (np.min(psp_coords.radius).to(u.solRad).value,\n",
    "                        np.mean(psp_coords.radius).to(u.solRad).value,\n",
    "                        np.max(psp_coords.radius).to(u.solRad).value))\n",
    "                 \n",
    "_ = ax.set_ylabel(r'$v_{r}$ (km/s)', fontsize=fs1)\n",
    "_ = ax.set_xlabel(\"Longitude (Deg.)\", fontsize=fs1)\n",
    "_ = ax.legend()\n",
    "\n",
    "plt.savefig('figures/psp/'+ case_study + '/psp_to_omni_mapping' + str(cr) + '_lon.png')"
   ]
  },
  {
   "cell_type": "markdown",
   "id": "blessed-seventh",
   "metadata": {},
   "source": [
    "# Map OMNI to PSP using the HUX-b and Ballistic Techniques"
   ]
  },
  {
   "cell_type": "markdown",
   "id": "designed-timothy",
   "metadata": {},
   "source": [
    "# Ballistic Mapping\n",
    " * evaluate the characteristic lines - do they intersect? This happens when the OMNI velocity function is increasing. Otherwise, when the OMNI velocity function is decreasing it results in rarefaction wave. \n",
    " "
   ]
  },
  {
   "cell_type": "code",
   "execution_count": null,
   "id": "af380850",
   "metadata": {},
   "outputs": [],
   "source": [
    "fig, ax = plt.subplots(figsize = (15,5))\n",
    "\n",
    "\n",
    "for ii in np.arange(0, len(earth_coords.lon), 5):\n",
    "    phi_location = (earth_coords.lon[ii].value)*(np.pi/180)\n",
    "    radial_location = np.linspace(earth_coords.radius.to(u.km)[ii], r_min[0].to(u.km), nrout)\n",
    "    curr_velocity = omni_data.quantity('V').value[ii]\n",
    "\n",
    "    if not np.isnan(curr_velocity):\n",
    "        phi_shift_vec = compute_phi_shift_forward(p=phi_location, \n",
    "                                                     r=radial_location.value,\n",
    "                                                     v=curr_velocity) \n",
    "        _ = ax.plot(phi_shift_vec*(180/np.pi), radial_location.to(u.AU))\n",
    "\n",
    "_ = ax.set_xlabel(\"Carrington Longitue (Deg.)\")\n",
    "_ = ax.set_ylabel(\"$r$ (AU)\")\n",
    "_ = ax.set_title(\"Intersecting Characteristics Ballistic-b Approximation \\n Earth to PSP Mapping\")\n",
    "plt.savefig('figures/psp/'+ case_study + '/intersecting_characteristics_ballistic_b' + str(cr) +'.png')"
   ]
  },
  {
   "cell_type": "markdown",
   "id": "textile-heaven",
   "metadata": {},
   "source": [
    "# HUX-b Technique\n",
    "\n",
    "# 1D interpolation - input $\\phi$ ranges from [0, 2$\\pi$]"
   ]
  },
  {
   "cell_type": "code",
   "execution_count": null,
   "id": "married-influence",
   "metadata": {},
   "outputs": [],
   "source": [
    "# drop NaNs\n",
    "nan_idx = np.isfinite(omni_data.quantity('V').value)\n",
    "v_vec = omni_data.quantity('V').value[nan_idx]\n",
    "interp = interpolate.interp1d(earth_coords.lon.value[nan_idx], \\\n",
    "                              v_vec, fill_value=(400, 400),  bounds_error=False)\n",
    "omni_interp = interp(phi_array)"
   ]
  },
  {
   "cell_type": "code",
   "execution_count": null,
   "id": "adequate-numbers",
   "metadata": {},
   "outputs": [],
   "source": [
    "fig, ax = plt.subplots(figsize=(15, 5))\n",
    "ax.plot(phi_array, omni_interp)\n",
    "ax.scatter(earth_coords.lon.value, omni_data.quantity('V').value)"
   ]
  },
  {
   "cell_type": "code",
   "execution_count": null,
   "id": "proof-creation",
   "metadata": {},
   "outputs": [],
   "source": [
    "hux_b_full_res = apply_hux_b_model(r_final=omni_interp, \n",
    "                                         dr_vec=r_min.value[1:] - r_min.value[:-1], \n",
    "                                         dp_vec=dp_vec_hux, \n",
    "                                         r0=r_min[0].value, \n",
    "                                         add_v_acc=False).T"
   ]
  },
  {
   "cell_type": "code",
   "execution_count": null,
   "id": "cordless-place",
   "metadata": {},
   "outputs": [],
   "source": [
    "points = (phi_array, r_min)\n",
    "xi = (psp_coords.lon.value, psp_coords.radius.value)\n",
    "res_hux_b_interp = interpolate.interpn(points, hux_b_full_res, xi)"
   ]
  },
  {
   "cell_type": "code",
   "execution_count": null,
   "id": "0507cfc6",
   "metadata": {},
   "outputs": [],
   "source": [
    "ballf = interpolate.interp1d(psp_coords.lon.to(u.rad), psp_coords.radius.to(u.km), fill_value=\"extrapolate\")\n",
    "psp_r_new = ballf(earth_coords.lon.to(u.rad))"
   ]
  },
  {
   "cell_type": "code",
   "execution_count": null,
   "id": "e0838192",
   "metadata": {},
   "outputs": [],
   "source": [
    "res_ballistic_b = np.zeros(len(earth_coords.radius))\n",
    "omega_rot=(2 * np.pi) / (25.38 * 86400)\n",
    "\n",
    "for ii in range(len(earth_coords.radius)):\n",
    "    phi_location = (earth_coords.lon[ii].to(u.rad)).value\n",
    "    r0 = earth_coords.radius.value[ii]\n",
    "    rf = psp_r_new[ii]\n",
    "    curr_velocity = omni_data.quantity('V').value[ii]\n",
    "    dr = rf - r0\n",
    "    \n",
    "    delta_phi = (omega_rot * dr) / curr_velocity\n",
    "    phi_shifted = phi_location - delta_phi\n",
    "    # force periodicity\n",
    "    res_ballistic_b[ii] = phi_shifted % (2 * np.pi)"
   ]
  },
  {
   "cell_type": "code",
   "execution_count": null,
   "id": "cardiovascular-relation",
   "metadata": {},
   "outputs": [],
   "source": [
    "res_hux_b_min = apply_backwards_upwind_model(r_final=omni_interp, \n",
    "                                         dr_vec=r_min.value[1:] - r_min.value[:-1], \n",
    "                                         dp_vec=dp_vec_hux, \n",
    "                                         r0=r_min[0].value, \n",
    "                                         add_v_acc=False)\n",
    "\n",
    "res_hux_b_mean = apply_backwards_upwind_model(r_final=omni_interp, \n",
    "                                         dr_vec=r_mean.value[1:] - r_mean.value[:-1], \n",
    "                                         dp_vec=dp_vec_hux, \n",
    "                                         r0=r_mean[0].value, \n",
    "                                         add_v_acc=False)\n",
    "\n",
    "res_hux_b_max = apply_backwards_upwind_model(r_final=omni_interp, \n",
    "                                         dr_vec=r_max.value[1:] - r_max.value[:-1], \n",
    "                                         dp_vec=dp_vec_hux, \n",
    "                                         r0=r_max[0].value, \n",
    "                                         add_v_acc=False)"
   ]
  },
  {
   "cell_type": "code",
   "execution_count": null,
   "id": "6f186e2a",
   "metadata": {},
   "outputs": [],
   "source": [
    "fig, ax = plt.subplots(figsize=(15, 5))\n",
    "_ = ax.scatter(np.array(psp_coords.lon), psp_data.quantity('VR'), color=\"b\", s=size, label=\"OMNI\")\n",
    "\n",
    "_ = ax.scatter(res_ballistic_b*(180/np.pi), omni_data.quantity('V').value, s=2,label=\"Ballistic-b exact\")\n",
    "_ = ax.set_xticks(ticks=[0, 90, 180, 270, 360])\n",
    "_ = ax.set_title(\"Mapping from OMNI (Earth) to PSP using Ballistic-b Technique\")\n",
    "_ = ax.set_ylabel(r'$v_{r}$ (km/s)', fontsize=fs1)\n",
    "_ = ax.set_xlabel(\"Longitude (Deg.)\", fontsize=fs1)\n",
    "_ = ax.legend()"
   ]
  },
  {
   "cell_type": "code",
   "execution_count": null,
   "id": "maritime-jersey",
   "metadata": {},
   "outputs": [],
   "source": [
    "fig, ax = plt.subplots(figsize=(15, 7))\n",
    "_ = ax.scatter(np.array(psp_coords.lon), psp_data.quantity('VR'), color=\"b\", s=size, label=\"PSP\")\n",
    "\n",
    "_ = ax.plot(phi_array, res_hux_b_mean, color=\"r\", label=\"HUX-b mean\")\n",
    "_ = ax.plot(phi_array, res_hux_b_min, color=\"g\", label=\"HUX-b min\")\n",
    "_ = ax.plot(phi_array, res_hux_b_max, color=\"m\", label=\"HUX-b max\")\n",
    "_ = ax.scatter(psp_coords.lon.value, res_hux_b_interp, color=\"k\", s=2, label=\"HUX-b interp\")\n",
    "\n",
    "\n",
    "#_ = ax.scatter(res_ballistic_b_max, omni_data.quantity('V'),s=2, label=\"Ballistic-b max\")\n",
    "#_ = ax.scatter(res_ballistic_b_mean, omni_data.quantity('V'), s=2,label=\"Ballistic-b mean\")\n",
    "#_ = ax.scatter(res_ballistic_b_min, omni_data.quantity('V').value, s=2,label=\"Ballistic-b min\")\n",
    "_ = ax.scatter(res_ballistic_b *(180/np.pi), omni_data.quantity('V').value, color=\"y\", s=2,label=\"Ballistic-b\")\n",
    "\n",
    "\n",
    "\n",
    "_ = ax.set_title(\"Mapping from OMNI (Earth) to PSP for CR\" + str(cr) +\"\\n $r_{mean}$ = %.2f  $R_\\odot$, $r_{min}$ = %.2f  $R_\\odot$, $r_{max}$ = %.2f  $R_\\odot$\" % \\\n",
    "                       (np.min(psp_coords.radius).to(u.solRad).value,\n",
    "                        np.mean(psp_coords.radius).to(u.solRad).value,\n",
    "                        np.max(psp_coords.radius).to(u.solRad).value))\n",
    "                 \n",
    "_ = ax.set_ylabel(r'$v_{r}$ (km/s)', fontsize=fs1)\n",
    "_ = ax.set_xlabel(\"Longitude (Deg.)\", fontsize=fs1)\n",
    "_ = ax.legend()\n",
    "plt.savefig('figures/psp/'+ case_study + '/mapping_omni_to_psp' + str(cr) +'.png')"
   ]
  },
  {
   "cell_type": "code",
   "execution_count": null,
   "id": "radio-boston",
   "metadata": {},
   "outputs": [],
   "source": [
    "fig, ax = plt.subplots(nrows=2, ncols=1, constrained_layout=True, sharex=True)\n",
    "\n",
    "ax[0].set_xlim(0, 360)\n",
    "ax[0].set_title(\"Mapping from PSP to OMNI (Earth) using HUX-f Technique\", fontsize=fs1)\n",
    "ax[0].set_ylabel(r'$v_{r}$ (km/s)', fontsize=fs1)\n",
    "ax[0].set_xticks(ticks=[0, 90, 180, 270, 360])\n",
    "\n",
    "ax[0].scatter(np.array(earth_coords.lon), omni_data.quantity('V'), color=\"b\", s=size, label=\"OMNI\")\n",
    "\n",
    "ax[0].plot(phi_array, res_hux_f_mean, color=\"r\", label=\"HUX-f mean PSP $r_{0}$ = \"+ \n",
    "           str(np.round(np.mean(psp_coords.radius).to(u.solRad), 3)))\n",
    "ax[0].plot(phi_array, res_hux_f_min, color=\"g\", label=\"HUX-f min PSP $r_{0}$ = \"+ \n",
    "            str(np.round(np.min(psp_coords.radius).to(u.solRad), 3)))\n",
    "ax[0].plot(phi_array, res_hux_f_max, color=\"m\", label=\"HUX-f max PSP $r_{0}$ = \" +\n",
    "            str(np.round(np.max(psp_coords.radius).to(u.solRad), 3)))\n",
    "ax[0].legend()\n",
    "\n",
    "\n",
    "ax[1].set_xlim(0, 360)\n",
    "ax[1].set_title(\"Mapping from OMNI (Earth) to PSP using HUX-b Technique\", fontsize=fs1)\n",
    "ax[1].set_ylabel(r'$v_{r}$ (km/s)', fontsize=fs1)\n",
    "ax[1].set_xlabel(\"Longitude (Deg.)\", fontsize=fs1)\n",
    "ax[1].set_xticks(ticks=[0, 90, 180, 270, 360])\n",
    "\n",
    "ax[1].plot(phi_array, res_hux_b_mean, color=\"r\", label=\"HUX-b mean PSP $r_{f}$ = \"+ \n",
    "           str(np.round(np.mean(psp_coords.radius).to(u.solRad), 3)))\n",
    "ax[1].plot(phi_array, res_hux_b_min, color=\"g\", label=\"HUX-b min PSP $r_{f}$ = \"+ \n",
    "            str(np.round(np.min(psp_coords.radius).to(u.solRad), 3)))\n",
    "ax[1].plot(phi_array, res_hux_b_max, color=\"m\", label=\"HUX-b max PSP $r_{f}$ = \" +\n",
    "            str(np.round(np.max(psp_coords.radius).to(u.solRad), 3)))\n",
    "ax[1].scatter(psp_coords.lon.value, res_hux_b_interp, color=\"y\", s=2, label=\"HUX-b interp\")\n",
    "ax[1].scatter(lon_psp, psp_data.quantity('VR'), color=\"k\", s=size,label=\"PSP\")\n",
    "\n",
    "\n",
    "ax[1].legend()\n",
    "#plt.savefig('figures/psp/'+ case_study + '/mapping_omni_to_psp_and_back_cr' + str(cr) +'.png')"
   ]
  },
  {
   "cell_type": "code",
   "execution_count": null,
   "id": "compressed-dylan",
   "metadata": {},
   "outputs": [],
   "source": []
  },
  {
   "cell_type": "code",
   "execution_count": null,
   "id": "directed-stanley",
   "metadata": {},
   "outputs": [],
   "source": []
  },
  {
   "cell_type": "code",
   "execution_count": null,
   "id": "9f0a0545",
   "metadata": {},
   "outputs": [],
   "source": []
  }
 ],
 "metadata": {
  "kernelspec": {
   "display_name": "Python 3",
   "language": "python",
   "name": "python3"
  },
  "language_info": {
   "codemirror_mode": {
    "name": "ipython",
    "version": 3
   },
   "file_extension": ".py",
   "mimetype": "text/x-python",
   "name": "python",
   "nbconvert_exporter": "python",
   "pygments_lexer": "ipython3",
   "version": "3.9.4"
  }
 },
 "nbformat": 4,
 "nbformat_minor": 5
}
