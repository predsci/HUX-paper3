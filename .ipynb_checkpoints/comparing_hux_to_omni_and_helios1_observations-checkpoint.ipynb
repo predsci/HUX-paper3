{
 "cells": [
  {
   "cell_type": "markdown",
   "id": "virgin-touch",
   "metadata": {},
   "source": [
    "# Apply HUX Mapping Technique to in-situ Helios1 spacecraft observations"
   ]
  },
  {
   "cell_type": "code",
   "execution_count": 1,
   "id": "acquired-violin",
   "metadata": {},
   "outputs": [],
   "source": [
    "import matplotlib.pyplot as plt\n",
    "from scipy import stats\n",
    "from scipy import interpolate\n",
    "import numpy as np\n",
    "import scipy\n",
    "import copy\n",
    "import pickle\n",
    "import math\n",
    "import os\n",
    "import datetime as dt \n",
    "\n",
    "from heliopy.data import helios\n",
    "from heliopy.data import omni\n",
    "import heliopy.data.spice as spicedata\n",
    "import heliopy.spice as spice\n",
    "from astropy.coordinates import SkyCoord\n",
    "import astropy.units as u\n",
    "from heliopy.data.solo import download\n",
    "\n",
    "from tools.MASweb import get_mas_path\n",
    "from psipy.model import MASOutput\n",
    "from psipy.data import sample_data\n",
    "from psipy.model.variable import Variable\n",
    "\n",
    "from code.archimedes_sprial import cmap_spiral, compute_phi_shift_forward\n",
    "from code.hux_propagation import *\n",
    "from code.carrington_dates import * \n",
    "from code.numerical_methods import apply_numerical_method\n",
    "\n",
    "# matplotlib fontsize\n",
    "%matplotlib notebook\n",
    "%matplotlib inline\n",
    "fs1=12\n",
    "plt.rcParams['savefig.facecolor'] = 'white'"
   ]
  },
  {
   "cell_type": "markdown",
   "id": "fifth-experience",
   "metadata": {},
   "source": [
    "# Read in global MHD model (MAS) solutions \n",
    "\n",
    "### Latitude alignement with Earth:\n",
    "##### 1975: CR1625,  CR1633. \n",
    "##### 1976:  CR1642, CR1647.\n",
    "##### 1977: CR1653, CR1656.\n",
    "##### 1978: CR1667, CR1669, CR1674.\n",
    "##### 1979: CR1680, CR1681, CR1684, CR1688.\n",
    "##### 1980: CR1694, CR1695, CR1697, CR1702.\n",
    "##### 1981:  CR1707, CR1709, CR1710, CR1716.\n",
    "##### 1982: CR1721, CR1723, 1724, CR1730.\n",
    "##### 1983: CR1735, CR1737, CR1738.\n",
    "\n",
    "\n",
    "\n",
    "Download MAS solutions from [Predictive Science Inc. website](http://www.predsci.com/data/runs).\n",
    "\n",
    "For more information about reading MHD solutions see [PsiPy documentation website](https://psipy.readthedocs.io/en/stable/guide/getting_started.html#getting-data)."
   ]
  },
  {
   "cell_type": "code",
   "execution_count": 2,
   "id": "41593820",
   "metadata": {},
   "outputs": [],
   "source": [
    "# set up the time interval and carrington rotation. \n",
    "case_study = \"cr1669\"\n",
    "starttime, endtime, cr = get_time_interval(case_study)"
   ]
  },
  {
   "cell_type": "code",
   "execution_count": 3,
   "id": "33048f25",
   "metadata": {},
   "outputs": [
    {
     "name": "stdout",
     "output_type": "stream",
     "text": [
      "start time =  1978-06-03 00:00:00\n",
      "end time =  1978-06-30 00:00:00\n",
      "Carrington Rotation 1669\n"
     ]
    }
   ],
   "source": [
    "print(\"start time = \", starttime)\n",
    "print(\"end time = \", endtime)\n",
    "print(\"Carrington Rotation\", cr)"
   ]
  },
  {
   "cell_type": "code",
   "execution_count": 4,
   "id": "ea0ad5ba",
   "metadata": {
    "scrolled": true
   },
   "outputs": [],
   "source": [
    "# create directory to save figures\n",
    "try:\n",
    "    os.mkdir(\"figures/helios1/\" + case_study + \"/\")\n",
    "except OSError as error:\n",
    "    print(error)"
   ]
  },
  {
   "cell_type": "code",
   "execution_count": 5,
   "id": "false-reality",
   "metadata": {},
   "outputs": [
    {
     "data": {
      "application/vnd.jupyter.widget-view+json": {
       "model_id": "4c24c5516c694547b9c7fddf4089a82e",
       "version_major": 2,
       "version_minor": 0
      },
      "text/plain": [
       "Files Downloaded:   0%|          | 0/3 [00:00<?, ?file/s]"
      ]
     },
     "metadata": {},
     "output_type": "display_data"
    },
    {
     "name": "stdout",
     "output_type": "stream",
     "text": [
      "C:\\Users\\Opali\\data\\mas_helio\\cr1669\n"
     ]
    },
    {
     "ename": "FileNotFoundError",
     "evalue": "No variable files found in C:\\Users\\Opali\\data\\mas_helio\\cr1669",
     "output_type": "error",
     "traceback": [
      "\u001b[1;31m---------------------------------------------------------------------------\u001b[0m",
      "\u001b[1;31mFileNotFoundError\u001b[0m                         Traceback (most recent call last)",
      "\u001b[1;32m<ipython-input-5-bb54a0384fa0>\u001b[0m in \u001b[0;36m<module>\u001b[1;34m\u001b[0m\n\u001b[0;32m      6\u001b[0m \u001b[1;33m\u001b[0m\u001b[0m\n\u001b[0;32m      7\u001b[0m \u001b[0mprint\u001b[0m\u001b[1;33m(\u001b[0m\u001b[0mmas_path\u001b[0m\u001b[1;33m)\u001b[0m\u001b[1;33m\u001b[0m\u001b[1;33m\u001b[0m\u001b[0m\n\u001b[1;32m----> 8\u001b[1;33m \u001b[0mmodel\u001b[0m \u001b[1;33m=\u001b[0m \u001b[0mMASOutput\u001b[0m\u001b[1;33m(\u001b[0m\u001b[0mmas_path\u001b[0m\u001b[1;33m)\u001b[0m\u001b[1;33m\u001b[0m\u001b[1;33m\u001b[0m\u001b[0m\n\u001b[0m\u001b[0;32m      9\u001b[0m \u001b[1;33m\u001b[0m\u001b[0m\n\u001b[0;32m     10\u001b[0m \u001b[0mprint\u001b[0m\u001b[1;33m(\u001b[0m\u001b[0mmodel\u001b[0m\u001b[1;33m.\u001b[0m\u001b[0mvariables\u001b[0m\u001b[1;33m)\u001b[0m\u001b[1;33m\u001b[0m\u001b[1;33m\u001b[0m\u001b[0m\n",
      "\u001b[1;32m~\\AppData\\Local\\Continuum\\anaconda3\\envs\\huxv1\\lib\\site-packages\\psipy\\model\\base.py\u001b[0m in \u001b[0;36m__init__\u001b[1;34m(self, path)\u001b[0m\n\u001b[0;32m     40\u001b[0m         \u001b[1;31m# Leave data empty for now, as we want to load on demand\u001b[0m\u001b[1;33m\u001b[0m\u001b[1;33m\u001b[0m\u001b[1;33m\u001b[0m\u001b[0m\n\u001b[0;32m     41\u001b[0m         \u001b[0mself\u001b[0m\u001b[1;33m.\u001b[0m\u001b[0m_data\u001b[0m \u001b[1;33m=\u001b[0m \u001b[1;33m{\u001b[0m\u001b[1;33m}\u001b[0m\u001b[1;33m\u001b[0m\u001b[1;33m\u001b[0m\u001b[0m\n\u001b[1;32m---> 42\u001b[1;33m         \u001b[0mself\u001b[0m\u001b[1;33m.\u001b[0m\u001b[0m_variables\u001b[0m \u001b[1;33m=\u001b[0m \u001b[0mself\u001b[0m\u001b[1;33m.\u001b[0m\u001b[0mget_variables\u001b[0m\u001b[1;33m(\u001b[0m\u001b[1;33m)\u001b[0m\u001b[1;33m\u001b[0m\u001b[1;33m\u001b[0m\u001b[0m\n\u001b[0m\u001b[0;32m     43\u001b[0m         \u001b[0mself\u001b[0m\u001b[1;33m.\u001b[0m\u001b[0m_variables\u001b[0m\u001b[1;33m.\u001b[0m\u001b[0msort\u001b[0m\u001b[1;33m(\u001b[0m\u001b[1;33m)\u001b[0m\u001b[1;33m\u001b[0m\u001b[1;33m\u001b[0m\u001b[0m\n\u001b[0;32m     44\u001b[0m \u001b[1;33m\u001b[0m\u001b[0m\n",
      "\u001b[1;32m~\\AppData\\Local\\Continuum\\anaconda3\\envs\\huxv1\\lib\\site-packages\\psipy\\model\\mas.py\u001b[0m in \u001b[0;36mget_variables\u001b[1;34m(self)\u001b[0m\n\u001b[0;32m     53\u001b[0m \u001b[1;33m\u001b[0m\u001b[0m\n\u001b[0;32m     54\u001b[0m     \u001b[1;32mdef\u001b[0m \u001b[0mget_variables\u001b[0m\u001b[1;33m(\u001b[0m\u001b[0mself\u001b[0m\u001b[1;33m)\u001b[0m\u001b[1;33m:\u001b[0m\u001b[1;33m\u001b[0m\u001b[1;33m\u001b[0m\u001b[0m\n\u001b[1;32m---> 55\u001b[1;33m         \u001b[1;32mreturn\u001b[0m \u001b[0mget_mas_variables\u001b[0m\u001b[1;33m(\u001b[0m\u001b[0mself\u001b[0m\u001b[1;33m.\u001b[0m\u001b[0mpath\u001b[0m\u001b[1;33m)\u001b[0m\u001b[1;33m\u001b[0m\u001b[1;33m\u001b[0m\u001b[0m\n\u001b[0m\u001b[0;32m     56\u001b[0m \u001b[1;33m\u001b[0m\u001b[0m\n\u001b[0;32m     57\u001b[0m     \u001b[1;32mdef\u001b[0m \u001b[0mload_file\u001b[0m\u001b[1;33m(\u001b[0m\u001b[0mself\u001b[0m\u001b[1;33m,\u001b[0m \u001b[0mvar\u001b[0m\u001b[1;33m)\u001b[0m\u001b[1;33m:\u001b[0m\u001b[1;33m\u001b[0m\u001b[1;33m\u001b[0m\u001b[0m\n",
      "\u001b[1;32m~\\AppData\\Local\\Continuum\\anaconda3\\envs\\huxv1\\lib\\site-packages\\psipy\\io\\mas.py\u001b[0m in \u001b[0;36mget_mas_variables\u001b[1;34m(path)\u001b[0m\n\u001b[0;32m     68\u001b[0m     \u001b[0mvar_names\u001b[0m \u001b[1;33m=\u001b[0m \u001b[1;33m[\u001b[0m\u001b[0mPath\u001b[0m\u001b[1;33m(\u001b[0m\u001b[0mf\u001b[0m\u001b[1;33m)\u001b[0m\u001b[1;33m.\u001b[0m\u001b[0mstem\u001b[0m\u001b[1;33m.\u001b[0m\u001b[0msplit\u001b[0m\u001b[1;33m(\u001b[0m\u001b[1;34m'.h'\u001b[0m\u001b[1;33m)\u001b[0m\u001b[1;33m[\u001b[0m\u001b[1;36m0\u001b[0m\u001b[1;33m]\u001b[0m\u001b[1;33m[\u001b[0m\u001b[1;33m:\u001b[0m\u001b[1;33m-\u001b[0m\u001b[1;36m3\u001b[0m\u001b[1;33m]\u001b[0m \u001b[1;32mfor\u001b[0m \u001b[0mf\u001b[0m \u001b[1;32min\u001b[0m \u001b[0mfiles\u001b[0m\u001b[1;33m]\u001b[0m\u001b[1;33m\u001b[0m\u001b[1;33m\u001b[0m\u001b[0m\n\u001b[0;32m     69\u001b[0m     \u001b[1;32mif\u001b[0m \u001b[1;32mnot\u001b[0m \u001b[0mlen\u001b[0m\u001b[1;33m(\u001b[0m\u001b[0mvar_names\u001b[0m\u001b[1;33m)\u001b[0m\u001b[1;33m:\u001b[0m\u001b[1;33m\u001b[0m\u001b[1;33m\u001b[0m\u001b[0m\n\u001b[1;32m---> 70\u001b[1;33m         \u001b[1;32mraise\u001b[0m \u001b[0mFileNotFoundError\u001b[0m\u001b[1;33m(\u001b[0m\u001b[1;34mf'No variable files found in {path}'\u001b[0m\u001b[1;33m)\u001b[0m\u001b[1;33m\u001b[0m\u001b[1;33m\u001b[0m\u001b[0m\n\u001b[0m\u001b[0;32m     71\u001b[0m     \u001b[1;32mreturn\u001b[0m \u001b[0mvar_names\u001b[0m\u001b[1;33m\u001b[0m\u001b[1;33m\u001b[0m\u001b[0m\n",
      "\u001b[1;31mFileNotFoundError\u001b[0m: No variable files found in C:\\Users\\Opali\\data\\mas_helio\\cr1669"
     ]
    }
   ],
   "source": [
    "# mas output - br, rho, vr\n",
    "# 1647,1723 wso_mas_mas_std_0101\n",
    "# 1654, 1655, 1660 kpo_mas_mas_std_0101\n",
    "\n",
    "mas_path = get_mas_path(cr=cr, folder=\"kpo_mas_mas_std_0101\")\n",
    "\n",
    "print(mas_path)\n",
    "model = MASOutput(mas_path)\n",
    "\n",
    "print(model.variables)"
   ]
  },
  {
   "cell_type": "code",
   "execution_count": null,
   "id": "first-nicholas",
   "metadata": {},
   "outputs": [],
   "source": [
    "# read in MHD velocity results. \n",
    "vr_model = model['vr']"
   ]
  },
  {
   "cell_type": "code",
   "execution_count": null,
   "id": "familiar-point",
   "metadata": {},
   "outputs": [],
   "source": [
    "# save MHD mesh coordinates Heliographic (rotating) Coordinate System (HG)\n",
    "# phi - (0, 2pi)\n",
    "p = vr_model.phi_coords\n",
    "# sin(theta) - (-pi/2, pi/2)\n",
    "t = vr_model.theta_coords\n",
    "# 30 solar radii to approximately 1 AU\n",
    "r = vr_model.r_coords\n",
    "# velocity profile \n",
    "f = vr_model.data"
   ]
  },
  {
   "cell_type": "code",
   "execution_count": null,
   "id": "instrumental-pepper",
   "metadata": {},
   "outputs": [],
   "source": [
    "print(\"Velocity matrix shape: \", np.shape(f))\n",
    "print(\"Phi dim: \", np.shape(f)[0])\n",
    "print(\"Theta dim: \", np.shape(f)[1])\n",
    "print(\"Radial dim: \", np.shape(f)[2])\n",
    "print(\"Velocity matrix dtype: \", f.dtype)\n"
   ]
  },
  {
   "cell_type": "code",
   "execution_count": null,
   "id": "separate-hierarchy",
   "metadata": {},
   "outputs": [],
   "source": [
    "# force periodicity on f\n",
    "# since the last phi index is less than 2*pi, then we will append 2*pi to phi scale.\n",
    "p_plot = np.append(p, 2*np.pi) \n",
    "\n",
    "# Phi: from radians to degrees. longitude.\n",
    "p_plot = (180/np.pi)*p_plot"
   ]
  },
  {
   "cell_type": "code",
   "execution_count": null,
   "id": "increasing-defensive",
   "metadata": {},
   "outputs": [],
   "source": [
    "# append the first slice p=0 to velocity matrix. \n",
    "f_plot = np.append(f,[f[0,:, :]],axis=0)"
   ]
  },
  {
   "cell_type": "code",
   "execution_count": null,
   "id": "spiritual-integration",
   "metadata": {},
   "outputs": [],
   "source": [
    "# Radius: from solar radii to km. \n",
    "# 1 solar radii = 695,700 km\n",
    "r_plot = (695700)*r"
   ]
  },
  {
   "cell_type": "code",
   "execution_count": null,
   "id": "environmental-timer",
   "metadata": {},
   "outputs": [],
   "source": [
    "# convert to sin(Lat.) [-1, 1]\n",
    "t_plot = np.sin(t)"
   ]
  },
  {
   "cell_type": "code",
   "execution_count": null,
   "id": "threaded-diving",
   "metadata": {},
   "outputs": [],
   "source": [
    "# NOTE: pcolorfast and pcolormesh want the coords of pixel corners not centers --> build a \"half mesh\" for p & t.\n",
    "# - This means making an array that is n+1 size and has the midpoint positions of the original.\n",
    "# - Here we clip the endpoints of the half mesh to the original bounds, vs extrapolate.\n",
    "# - see also https://matplotlib.org/api/_as_gen/matplotlib.pyplot.pcolormesh.html.\n",
    "\n",
    "cmap = 'gnuplot'\n",
    "\n",
    "ph = np.concatenate([[p_plot[0]], 0.5 * (p_plot[1:] + p_plot[:-1]), [p_plot[-1]]])\n",
    "th = np.concatenate([[t_plot[0]], 0.5 * (t_plot[1:] + t_plot[:-1]), [t_plot[-1]]])"
   ]
  },
  {
   "cell_type": "code",
   "execution_count": null,
   "id": "dental-pavilion",
   "metadata": {},
   "outputs": [],
   "source": [
    "fig, ax = plt.subplots(figsize = (11,5))\n",
    "ax.set_ylim(-1, 1)\n",
    "ax.set_xlim(0, 360)\n",
    "ax.set_title(\"R = 30 $R_{\\odot}$\", fontsize=fs1)\n",
    "ax.set_ylabel(\"Sin(Lat.)\", fontsize=fs1)\n",
    "ax.set_xlabel(\"Longitude (Deg.)\", fontsize=fs1)\n",
    "ax.set_yticks(ticks=[-1, -0.5, 0, 0.5, 1])\n",
    "ax.set_xticks(ticks=[0, 90, 180, 270, 360])\n",
    "_ = im = ax.pcolorfast(ph, th, f_plot[:, :, 0].T, cmap=cmap)\n",
    "cb = fig.colorbar(im, ax=ax)\n",
    "cb.set_label('$\\dfrac{km}{s}$', fontsize=fs1, rotation=360, labelpad=15)\n",
    "plt.savefig('figures/helios1/' + case_study + '/vr_30rs_map.png')"
   ]
  },
  {
   "cell_type": "code",
   "execution_count": null,
   "id": "thousand-garbage",
   "metadata": {},
   "outputs": [],
   "source": [
    "fig, ax = plt.subplots(figsize = (12,5))\n",
    "ax.set_ylim(-1, 1)\n",
    "ax.set_xlim(0, 360)\n",
    "ax.set_title(\"R = 1 AU\", fontsize=fs1)\n",
    "ax.set_ylabel(\"Sin(Lat.)\", fontsize=fs1)\n",
    "ax.set_xlabel(\"Longitude (Deg.)\", fontsize=fs1)\n",
    "ax.set_yticks(ticks=[-1, -0.5, 0, 0.5, 1])\n",
    "ax.set_xticks(ticks=[0, 90, 180, 270, 360])\n",
    "_ = im = ax.pcolorfast(ph, th, f_plot[:, :, -1].T, cmap=cmap)\n",
    "cb = fig.colorbar(im, ax=ax)\n",
    "cb.set_label('$\\dfrac{km}{s}$', fontsize=fs1, rotation=360, labelpad=15)\n",
    "plt.savefig('figures/helios1/' + case_study + '/vr_1au_map.png')"
   ]
  },
  {
   "cell_type": "markdown",
   "id": "cooperative-native",
   "metadata": {},
   "source": [
    "# Apply Heliospheric Upwind eXtrapolation method \n",
    "\n",
    "The HUX underlying PDE (Simplified fluid momentum equation in a corotating frame of reference):\n",
    "\n",
    "$$\n",
    "-\\Omega_{rot}\\frac{\\partial v_{r}}{\\partial \\phi} + v_{r}\\frac{ \\partial v_{r}}{\\partial r}=0\n",
    "$$\n",
    "\n",
    "With the initial condition \n",
    "$$\n",
    "v_{r}(\\phi, r_{0}) = v_{r0}(\\phi)\n",
    "$$\n",
    "\n",
    "The HUX-f technique leverages the forward upwind difference method, such that\n",
    "$$\n",
    "-\\Omega_{rot} \\frac{v_{i, j+1} - v_{i, j}}{\\Delta \\phi} + \n",
    "v_{i, j}(\\frac{v_{i+1, j} - v_{i, j}}{\\Delta r}) = 0\n",
    "$$\n",
    "\n",
    "\n",
    "$$\n",
    "v_{i+1, j}=  v_{i, j} + \\frac{\\Delta r\\Omega_{rot}}{v_{i, j}}  (\\frac{v_{i, j+1} - v_{i, j}}{\\Delta \\phi})\n",
    "$$\n",
    "\n",
    "Whereas HUX-b technique leverages the backwards finite difference approximation, such that \n",
    "\n",
    "$$\n",
    "-\\Omega_{rot} \\frac{v_{i, j} - v_{i, j-1}}{\\Delta \\phi} + \n",
    "v_{i, j}(\\frac{v_{i, j} - v_{i-1, j}}{\\Delta r}) = 0\n",
    "$$\n",
    "\n",
    "\n",
    "$$\n",
    "v_{i-1, j}=  v_{i, j} + \\frac{\\Delta r\\Omega_{rot}}{v_{i, j}}  (\\frac{v_{i, j}-v_{i, j-1}}{\\Delta \\phi})\n",
    "$$\n",
    "\n",
    "where for simplicity the $r$ subscipt on the radial velocity is omitted. The indicies $i$ and $j$ refer to $r$ and $\\phi$ grids repectively in HG coordinates. \n",
    "\n",
    "\n",
    "\n",
    "# References\n",
    "\n",
    "[1] Riley P and Lionello R (2011) \"Mapping Solar Wind Streams from the Sun to 1 AU: A Comparison of Techniques\". Solar Phys.270, 575–592. \n",
    "\n",
    "[2] Riley P and Issan O (2021) \"Using a Heliospheric Upwinding eXtrapolation Technique to Magnetically Connect Different Regions of the Heliosphere\". Front. Phys. 9:679497."
   ]
  },
  {
   "cell_type": "code",
   "execution_count": null,
   "id": "conditional-spell",
   "metadata": {},
   "outputs": [],
   "source": [
    "# get solar equator slices and save delta r and delta p arrays for hux propagation. \n",
    "solar_equator_r_30_radii = f[:, 55, 0]\n",
    "solar_equator_r_1_au = f[:, 55, -1]\n",
    "dr_vec = r_plot[1:] - r_plot[:-1]\n",
    "dp_vec = p[1:] - p[:-1]"
   ]
  },
  {
   "cell_type": "code",
   "execution_count": null,
   "id": "victorian-cancellation",
   "metadata": {},
   "outputs": [],
   "source": [
    "fig, ax = plt.subplots(figsize = (10,5))\n",
    "\n",
    "_ = ax.plot(p*180/np.pi, solar_equator_r_1_au, label=\"MHD solution\")\n",
    "_ = ax.plot(p*180/np.pi, apply_forward_upwind_model(solar_equator_r_30_radii, dr_vec, dp_vec),\n",
    "            'g',label=\"HUX-f Technique\")\n",
    "\n",
    "_ = ax.scatter(apply_ballistic_approximation(np.array(solar_equator_r_30_radii), \n",
    "                r_plot[-1] - r_plot[0], p)*180/np.pi, \n",
    "                solar_equator_r_30_radii, \n",
    "                color='y',s = 6, label=\"Ballistic Approximation\")\n",
    "            \n",
    "_ = ax.set_title(\"Solar wind equatorial radial velocity at 1 AU for CR\" + str(cr) ,fontsize=fs1)\n",
    "_ = ax.set_xlabel(\"Longitude ($^{\\circ}$)\",fontsize=fs1)\n",
    "_ = ax.set_yticks(ticks=[200, 400, 600, 800])\n",
    "\n",
    "_ = ax.set_xticks(ticks=[0, 90, 180, 270, 360])\n",
    "_ = ax.set_ylabel('$v_{r}$ (km/s)',fontsize=fs1)\n",
    "_ = plt.legend()\n",
    "plt.savefig('figures/helios1/' + case_study + '/vr_1AU_ts_comp_MHD_HUX-f.png')"
   ]
  },
  {
   "cell_type": "code",
   "execution_count": null,
   "id": "finished-jesus",
   "metadata": {},
   "outputs": [],
   "source": [
    "fig, ax = plt.subplots(figsize = (10,5))\n",
    "\n",
    "_ = ax.plot(p*180/np.pi, solar_equator_r_30_radii , label=\"R=30 RS, MHD\")\n",
    "_ = ax.plot(p*180/np.pi, apply_backwards_upwind_model(solar_equator_r_1_au, dr_vec, dp_vec),\n",
    "            'g',label=\"R=30 RS, HUX-b\")\n",
    "\n",
    "\n",
    "_ = ax.scatter(apply_ballistic_approximation(np.array(solar_equator_r_1_au), \n",
    "                r_plot[0]- r_plot[-1], p)*180/np.pi, \n",
    "                solar_equator_r_1_au, \n",
    "                color='y',s=6, label=\"Ballistic Approximation\")\n",
    "\n",
    "_ = ax.set_title(\"Solar wind equatorial radial velocity at 30 RS for CR\" + str(cr),fontsize=fs1)\n",
    "_ = ax.set_xlabel(\"Longitude ($^{\\circ}$)\",fontsize=fs1)\n",
    "_ = ax.set_yticks(ticks=[200, 400, 600, 800])\n",
    "_ = ax.set_xticks(ticks=[0, 90, 180, 270, 360])\n",
    "_ = ax.set_ylabel('$v_{r}$ (km/s)',fontsize=fs1)\n",
    "_ = plt.legend()\n",
    "plt.savefig('figures/helios1/' + case_study + '/vr_30RS_ts_comp_MHD_HUX-b_cr' + str(cr) +'.png')"
   ]
  },
  {
   "cell_type": "code",
   "execution_count": null,
   "id": "turned-england",
   "metadata": {},
   "outputs": [],
   "source": [
    "# apply the hux technique to all theta slices\n",
    "hux_f_res, hux_b_res = np.ones((len(p), len(t), len(r))),  np.ones((len(p), len(t), len(r)))\n",
    "for ii in range(len(t)):\n",
    "    hux_f_res[:, ii, :] = apply_hux_f_model(f[:, ii, 0], dr_vec, dp_vec).T\n",
    "    hux_b_res[:, ii, :] = apply_hux_b_model(f[:, ii, -1], dr_vec, dp_vec).T"
   ]
  },
  {
   "cell_type": "code",
   "execution_count": null,
   "id": "saved-replica",
   "metadata": {},
   "outputs": [],
   "source": [
    "# force periodicity when plotting\n",
    "hux_f_res_plot = np.append(hux_f_res,[hux_f_res[0, :, :]], axis=0)\n",
    "hux_b_res_plot = np.append(hux_b_res,[hux_b_res[0, :, :]], axis=0)"
   ]
  },
  {
   "cell_type": "code",
   "execution_count": null,
   "id": "happy-jacob",
   "metadata": {},
   "outputs": [],
   "source": [
    "plt.rcParams['figure.figsize'] = [8, 10] # default fig size.\n",
    "\n",
    "fig, ax = plt.subplots(nrows=4, ncols=1, constrained_layout=True, sharex=True)\n",
    "\n",
    "ax[0].set_ylim(-1, 1)\n",
    "ax[0].set_xlim(0, 360)\n",
    "ax[0].set_title(\"R = 30 $R_{\\odot}$, heliospheric MHD model\", fontsize=fs1)\n",
    "ax[0].set_ylabel(\"Sin(Lat.)\", fontsize=fs1)\n",
    "ax[0].set_yticks(ticks=[-1, -0.5, 0, 0.5, 1])\n",
    "ax[0].set_xticks(ticks=[0, 90, 180, 270, 360])\n",
    "_ = im = ax[0].pcolorfast(ph, th, f_plot[:, :, 0].T, cmap=cmap)\n",
    "\n",
    "ax[1].set_ylim(-1, 1)\n",
    "ax[1].set_xlim(0, 360)\n",
    "ax[1].set_title(\"R = 30 $R_{\\odot}$, HUX-b model\", fontsize=fs1)\n",
    "ax[1].set_ylabel(\"Sin(Lat.)\", fontsize=fs1)\n",
    "ax[1].set_yticks(ticks=[-1, -0.5, 0, 0.5, 1])\n",
    "ax[1].set_xticks(ticks=[0, 90, 180, 270, 360])\n",
    "_ = im = ax[1].pcolorfast(ph, th, hux_b_res_plot[:, :, 0].T, cmap=cmap)\n",
    "\n",
    "\n",
    "ax[2].set_ylim(-1, 1)\n",
    "ax[2].set_xlim(0, 360)\n",
    "ax[2].set_title(\"R = 1 AU, heliospheric MHD model\", fontsize=fs1)\n",
    "ax[2].set_ylabel(\"Sin(Lat.)\", fontsize=fs1)\n",
    "ax[2].set_yticks(ticks=[-1, -0.5, 0, 0.5, 1])\n",
    "ax[2].set_xticks(ticks=[0, 90, 180, 270, 360])\n",
    "_ = im = ax[2].pcolorfast(ph, th, f_plot[:, :, -1].T, cmap=cmap)\n",
    "\n",
    "\n",
    "ax[3].set_ylim(-1, 1)\n",
    "ax[3].set_xlim(0, 360)\n",
    "ax[3].set_title(\"R = 1 AU, HUX-f model \", fontsize=fs1)\n",
    "ax[3].set_ylabel(\"Sin(Lat.)\", fontsize=fs1)\n",
    "ax[3].set_xlabel(\"Longitude ($^{\\circ}$)\", fontsize=fs1)\n",
    "ax[3].set_yticks(ticks=[-1, -0.5, 0, 0.5, 1])\n",
    "ax[3].set_xticks(ticks=[0, 90, 180, 270, 360])\n",
    "_ = im = ax[3].pcolorfast(ph, th, hux_f_res_plot[:, :, -1].T, cmap=cmap)\n",
    "cbar = fig.colorbar(im, ax=ax.flat)\n",
    "cbar.set_label('$\\dfrac{km}{s}$', fontsize=fs1, rotation=360, labelpad=15)\n",
    "\n",
    "plt.savefig('figures/helios1/' + case_study + '/vr_lon_lat_maps_MHD_HUX.png')"
   ]
  },
  {
   "cell_type": "markdown",
   "id": "dominican-boutique",
   "metadata": {},
   "source": [
    "# Read in Helios 1 observations"
   ]
  },
  {
   "cell_type": "code",
   "execution_count": null,
   "id": "polar-layer",
   "metadata": {},
   "outputs": [],
   "source": [
    "helios1_data = helios.merged(1, starttime, endtime)\n",
    "print(\"Available data = \", helios1_data.columns)"
   ]
  },
  {
   "cell_type": "code",
   "execution_count": null,
   "id": "above-october",
   "metadata": {},
   "outputs": [],
   "source": [
    "helios1_data.data"
   ]
  },
  {
   "cell_type": "markdown",
   "id": "representative-collection",
   "metadata": {},
   "source": [
    "Generate the Helios 1 trajectory in Heliographic (rotating) Coordinate System (HG).\n",
    "\n",
    "We take the timestamps from the previously loaded data, and use `heliopy.spice`\n",
    "to generate the trajectory at these times."
   ]
  },
  {
   "cell_type": "code",
   "execution_count": null,
   "id": "mexican-teach",
   "metadata": {},
   "outputs": [],
   "source": [
    "times = helios1_data.index\n",
    "\n",
    "spicedata.get_kernel('helios1')\n",
    "helios1_traj = spice.Trajectory('Helios 1')\n",
    "helios1_traj.generate_positions(times=times, observing_body='Sun', frame='IAU_SUN')\n",
    "helios1_coords = helios1_traj.coords"
   ]
  },
  {
   "cell_type": "markdown",
   "id": "limited-joseph",
   "metadata": {},
   "source": [
    "Here we sample the MHD and HUX velocity results at Helios 1 location. \n"
   ]
  },
  {
   "cell_type": "code",
   "execution_count": null,
   "id": "wooden-photography",
   "metadata": {},
   "outputs": [],
   "source": [
    "hux_f_model = copy.deepcopy(vr_model)\n",
    "hux_f_model.data.data = hux_f_res\n",
    "\n",
    "hux_b_model = copy.deepcopy(vr_model)\n",
    "hux_b_model.data.data = hux_b_res"
   ]
  },
  {
   "cell_type": "code",
   "execution_count": null,
   "id": "significant-visiting",
   "metadata": {},
   "outputs": [],
   "source": [
    "vr_sampled_hux_f = hux_f_model.sample_at_coords(helios1_coords.lon,\n",
    "                                                helios1_coords.lat,\n",
    "                                                helios1_coords.radius)\n",
    "\n",
    "vr_sampled_hux_b = hux_b_model.sample_at_coords(helios1_coords.lon,\n",
    "                                                helios1_coords.lat,\n",
    "                                                helios1_coords.radius)\n",
    "\n",
    "vr_sampled_mhd = vr_model.sample_at_coords(helios1_coords.lon,\n",
    "                                           helios1_coords.lat,\n",
    "                                           helios1_coords.radius)"
   ]
  },
  {
   "cell_type": "code",
   "execution_count": null,
   "id": "studied-wholesale",
   "metadata": {},
   "outputs": [],
   "source": [
    "fig, ax = plt.subplots(figsize=(15, 5))\n",
    "ax.plot(times, vr_sampled_mhd, color=\"b\", label='MHD model')\n",
    "ax.plot(times, vr_sampled_hux_f, color=\"r\",label='HUX-f model')\n",
    "ax.plot(times, vr_sampled_hux_b, color=\"g\",label='HUX-b model')\n",
    "ax.scatter(times, helios1_data.quantity('Vp_R'), color=\"k\",s=2,  label='Helios 1')\n",
    "\n",
    "ax.set_ylabel(r'$v_{r}$ (km/s)')\n",
    "ax.legend()\n",
    "ax.set_title(\"Comparison of Techniques with Helios 1 in-situ measurements for CR\" + str(cr))\n",
    "fig.autofmt_xdate()\n",
    "\n",
    "plt.savefig('figures/helios1/'+ case_study + '/helios1_comparison_cr'+ str(cr)+ '_time.png')"
   ]
  },
  {
   "cell_type": "code",
   "execution_count": null,
   "id": "played-psychology",
   "metadata": {},
   "outputs": [],
   "source": [
    "fig, ax = plt.subplots(figsize=(15, 5))\n",
    "size = 2\n",
    "\n",
    "ax.scatter(helios1_coords.lon, vr_sampled_mhd, color=\"b\", s=size, label=\"MHD model\")\n",
    "ax.scatter(helios1_coords.lon, vr_sampled_hux_f, color=\"r\", s=size, label=\"HUX-f model\")\n",
    "ax.scatter(helios1_coords.lon, vr_sampled_hux_b, color=\"g\",s=size,  label=\"HUX-b model\")\n",
    "ax.scatter(helios1_coords.lon, helios1_data.quantity('Vp_R'), color=\"k\",s=size,  label=\"Helios1\")\n",
    "\n",
    "\n",
    "ax.set_ylabel(r'$v_{r}$ (km/s)', fontsize=fs1)\n",
    "ax.set_xticks(ticks=[0, 90, 180, 270, 360])\n",
    "ax.set_xlabel(\"Longitude (Deg.)\", fontsize=fs1)\n",
    "ax.set_title(\"Comparison of Techniques with Helios 1 in-situ measurements for CR\" + str(cr))\n",
    "ax.legend()\n",
    "plt.savefig('figures/helios1/'+ case_study + '/helios1_comparison_cr' + str(cr) + '_carrington_longitude.png')"
   ]
  },
  {
   "cell_type": "markdown",
   "id": "another-supervisor",
   "metadata": {},
   "source": [
    "# Read in OMNI (Earth) Observations\n",
    "\n",
    "• OMNI data set for solar wind speed observations can be found https://spdf.gsfc.nasa.gov/pub/data/omni/low_res_omni/"
   ]
  },
  {
   "cell_type": "code",
   "execution_count": null,
   "id": "considerable-restoration",
   "metadata": {},
   "outputs": [],
   "source": [
    "omni_data = omni.h0_mrg1hr(starttime, endtime)"
   ]
  },
  {
   "cell_type": "code",
   "execution_count": null,
   "id": "broad-newfoundland",
   "metadata": {},
   "outputs": [],
   "source": [
    "omni_data.data"
   ]
  },
  {
   "cell_type": "markdown",
   "id": "dominant-dispatch",
   "metadata": {},
   "source": [
    "Generate the OMNI (Earth) trajectory in Heliographic (rotating) Coordinate System (HG).\n",
    "\n",
    "We take the timestamps from the previously loaded data, and use `heliopy.spice`\n",
    "to generate the trajectory at these times."
   ]
  },
  {
   "cell_type": "code",
   "execution_count": null,
   "id": "continental-annual",
   "metadata": {},
   "outputs": [],
   "source": [
    "earth_traj = spice.Trajectory('Earth')\n",
    "earth_traj.generate_positions(times=omni_data.index, observing_body='Sun', frame='IAU_SUN')\n",
    "earth_coords = earth_traj.coords"
   ]
  },
  {
   "cell_type": "code",
   "execution_count": null,
   "id": "cognitive-river",
   "metadata": {},
   "outputs": [],
   "source": [
    "fig, ax = plt.subplots(figsize=(7, 7))\n",
    "_ = ax.plot(helios1_coords.radius.to(\"AU\")* np.cos(helios1_coords.lon.to(u.rad)), helios1_coords.radius.to(\"AU\")* np.sin(helios1_coords.lon.to(u.rad)), label=\"Helios 1\")\n",
    "_ = ax.plot(earth_coords.radius.to(\"AU\")* np.cos(earth_coords.lon.value*np.pi/180), earth_coords.radius.to(\"AU\")* np.sin(earth_coords.lon.value*np.pi/180), label=\"Earth\")\n",
    "_ = ax.scatter(0, 0, color=\"y\", label=\"Sun\")\n",
    "_ = ax.set_xlabel(\"Carrington X / AU\")\n",
    "_ = ax.set_ylabel(\"Carrington Y / AU\")\n",
    "_ = ax.legend()\n",
    "_ = ax.set_title(\"Helios 1 Trajectory \\n CR \" + str(cr))\n",
    "plt.savefig('figures/helios1/'+ case_study + '/helios1_trajectory_location.png')"
   ]
  },
  {
   "cell_type": "code",
   "execution_count": null,
   "id": "changed-timing",
   "metadata": {},
   "outputs": [],
   "source": [
    "nphi = len(helios1_coords.lon.to(u.rad))\n",
    "nrout = 201\n",
    "earth_mean_r = np.mean(earth_coords.radius.to(\"AU\").value)\n",
    "\n",
    "fig, ax = plt.subplots(figsize=(7, 7))\n",
    "for ii in np.arange(0, nphi, 50):\n",
    "    # helios longitude location. \n",
    "    phi_location = (helios1_coords.lon.to(u.rad)[ii]).value\n",
    "    # radial vector \n",
    "    radial_location = np.linspace(helios1_coords.radius.to(\"AU\").value[ii], earth_mean_r, nrout)\n",
    "    # convert units to km\n",
    "    radial_location = radial_location * (u.AU)\n",
    "    radial_location = radial_location.to(u.km)\n",
    "    # vr \n",
    "    curr_velocity = helios1_data.quantity('Vp_R').value[ii]\n",
    "\n",
    "    if not np.isnan(curr_velocity):\n",
    "        phi_shift_vec = compute_phi_shift_forward(p=phi_location, \n",
    "                                                     r=radial_location.value,\n",
    "                                                     v=curr_velocity) \n",
    "\n",
    "        x = np.cos(phi_shift_vec)*radial_location.to(u.AU)\n",
    "        y = np.sin(phi_shift_vec)*radial_location.to(u.AU)\n",
    "\n",
    "        _ = ax.plot(x[1:], y[1:], c=\"b\", alpha=0.2)\n",
    "\n",
    "ax.plot(helios1_coords.radius.to(\"AU\")* np.cos(helios1_coords.lon.to(u.rad)), helios1_coords.radius.to(\"AU\")* np.sin(helios1_coords.lon.to(u.rad)), label=\"Helios1\")\n",
    "ax.plot(earth_coords.radius.to(\"AU\")* np.cos(earth_coords.lon.value*np.pi/180), earth_coords.radius.to(\"AU\")* np.sin(earth_coords.lon.value*np.pi/180), label=\"Earth\")\n",
    "ax.scatter(0, 0, color=\"y\", label=\"Sun\")\n",
    "ax.set_title(\"Archimedes-spiral field lines of Helios 1 \\n CR \" + str(cr), fontsize=fs1)\n",
    "ax.set_xlabel(\"Carrington X / AU \", fontsize=fs1)\n",
    "ax.set_ylabel(\"Carrington Y / AU \", fontsize=fs1)\n",
    "plt.axis(\"equal\")\n",
    "plt.legend()\n",
    "\n",
    "plt.savefig('figures/helios1/'+ case_study + '/Archimedes_spiral_helios1.png')"
   ]
  },
  {
   "cell_type": "code",
   "execution_count": null,
   "id": "2702f114",
   "metadata": {},
   "outputs": [],
   "source": [
    "fig, ax = plt.subplots(figsize=(7, 7))\n",
    "for ii in np.arange(0, len(earth_coords.lon), 5):\n",
    "    # phi-location oomni\n",
    "    phi_location = (earth_coords.lon.value[ii])*(np.pi/180)\n",
    "    # radial vector\n",
    "    radial_location = np.linspace(earth_coords.radius.to(\"AU\").value[ii], 0, nrout)\n",
    "    radial_location = radial_location * (u.AU)\n",
    "    radial_location = radial_location.to(u.km)\n",
    "    # current velocity\n",
    "    curr_velocity = omni_data.quantity('V').value[ii]\n",
    "\n",
    "    if not np.isnan(curr_velocity):\n",
    "        phi_shift_vec = compute_phi_shift_forward(p=phi_location, \n",
    "                                                     r=radial_location.value,\n",
    "                                                     v=curr_velocity) \n",
    "\n",
    "        x = np.cos(phi_shift_vec)*radial_location.to(u.AU)\n",
    "        y = np.sin(phi_shift_vec)*radial_location.to(u.AU)\n",
    "\n",
    "        _ = ax.plot(x[1:], y[1:], c=\"b\", alpha=0.5)\n",
    "\n",
    "ax.plot(earth_coords.radius.to(\"AU\")* np.cos(earth_coords.lon.value*np.pi/180), earth_coords.radius.to(\"AU\")* np.sin(earth_coords.lon.value*np.pi/180), label=\"OMNI\")\n",
    "ax.scatter(0, 0, color=\"y\", label=\"Sun\")\n",
    "ax.set_title(\"Archimedes-spiral field lines of OMNI \\n CR\" + str(cr))\n",
    "ax.set_xlabel(\"Carrington X / AU \")\n",
    "ax.set_ylabel(\"Carrington Y / AU \")\n",
    "plt.axis(\"equal\")\n",
    "plt.legend()\n",
    "\n",
    "plt.savefig('figures/helios1/'+ case_study + '/Archimedes_spiral_omni.png')"
   ]
  },
  {
   "cell_type": "code",
   "execution_count": null,
   "id": "distinguished-peninsula",
   "metadata": {},
   "outputs": [],
   "source": [
    "vr_sampled_hux_f_omni = hux_f_model.sample_at_coords(earth_coords.lon,\n",
    "                                                     earth_coords.lat,\n",
    "                                                     earth_coords.radius)\n",
    "\n",
    "vr_sampled_hux_b_omni = hux_b_model.sample_at_coords(earth_coords.lon,\n",
    "                                                     earth_coords.lat,\n",
    "                                                     earth_coords.radius)\n",
    "\n",
    "vr_sampled_mhd_omni = vr_model.sample_at_coords(earth_coords.lon,\n",
    "                                                earth_coords.lat,\n",
    "                                                earth_coords.radius)"
   ]
  },
  {
   "cell_type": "code",
   "execution_count": null,
   "id": "norwegian-coffee",
   "metadata": {},
   "outputs": [],
   "source": [
    "fig, ax = plt.subplots(figsize=(15, 5))\n",
    "ax.plot(omni_data.index, vr_sampled_mhd_omni, color=\"b\", label='MHD model')\n",
    "ax.plot(omni_data.index, vr_sampled_hux_f_omni, color=\"r\", label='HUX-f model')\n",
    "ax.plot(omni_data.index, vr_sampled_hux_b_omni, color=\"g\", label='HUX-b model')\n",
    "ax.plot(omni_data.index, omni_data.quantity('V'),color=\"k\", label='OMNI')\n",
    "\n",
    "ax.set_ylabel(r'$v_{r}$ (km/s)')\n",
    "ax.legend()\n",
    "ax.set_title(\"Comparison of model results with OMNI in situ observations for CR\" + str(cr))\n",
    "fig.autofmt_xdate()\n",
    "\n",
    "plt.savefig('figures/helios1/'+ case_study + '/omni_comparison_cr' + str(cr) + '_time.png')"
   ]
  },
  {
   "cell_type": "code",
   "execution_count": null,
   "id": "golden-bridal",
   "metadata": {},
   "outputs": [],
   "source": [
    "min_index = np.argmin(earth_coords.lon)"
   ]
  },
  {
   "cell_type": "code",
   "execution_count": null,
   "id": "sixth-certification",
   "metadata": {},
   "outputs": [],
   "source": [
    "fig, ax = plt.subplots(figsize=(15, 5))\n",
    "ax.plot(np.array(earth_coords.lon[:min_index])+360, vr_sampled_mhd_omni[:min_index], color=\"b\", label=\"MHD model\")\n",
    "ax.plot(np.array(earth_coords.lon[:min_index])+360, vr_sampled_hux_f_omni[:min_index], color=\"r\", label=\"HUX-f model\")\n",
    "ax.plot(np.array(earth_coords.lon[:min_index])+360, vr_sampled_hux_b_omni[:min_index], color=\"g\", label=\"HUX-b model\")\n",
    "ax.plot(np.array(earth_coords.lon[:min_index])+360, omni_data.quantity('V')[:min_index], color=\"k\", label=\"OMNI\")\n",
    "\n",
    "ax.plot(earth_coords.lon[min_index+1:], vr_sampled_mhd_omni[min_index+1:], color=\"b\")\n",
    "ax.plot(earth_coords.lon[min_index+1:], vr_sampled_hux_f_omni[min_index+1:], color=\"r\")\n",
    "ax.plot(earth_coords.lon[min_index+1:], vr_sampled_hux_b_omni[min_index+1:], color=\"g\")\n",
    "ax.plot(earth_coords.lon[min_index+1:], omni_data.quantity('V')[min_index+1:], color=\"k\")\n",
    "\n",
    "ax.set_ylabel(r'$v_{r}$ (km/s)')\n",
    "ax.set_xlabel(\"Longitude (Deg.)\", fontsize=fs1)\n",
    "ax.legend()\n",
    "ax.set_title(\"Comparison of Techniques with OMNI (Earth) in situ measurements for CR\" + str(cr))\n",
    "fig.autofmt_xdate()\n",
    "\n",
    "\n",
    "plt.savefig('figures/helios1/'+ case_study + '/omni_comparison_cr' + str(cr) + '_lon.png')"
   ]
  },
  {
   "cell_type": "markdown",
   "id": "great-movie",
   "metadata": {},
   "source": [
    "# Mapping Helios1 to OMNI (Earth) using the HUX-f and Ballistic Technique"
   ]
  },
  {
   "cell_type": "markdown",
   "id": "boolean-bullet",
   "metadata": {},
   "source": [
    "# Assumptions: \n",
    "#### 1.  Latitude is constant in Helios1 trajectory coordinates .\n",
    "* Note that HUX is dependent on $\\phi$ and $r$ only. \n",
    "\n",
    "#### 2.  Helios1 and Earth are aligned in latitude. \n",
    "\n",
    "#### 3.  $\\phi$ is monotonically increasing.\n",
    "\n",
    "#### 4. Periodic Boundary Conditions."
   ]
  },
  {
   "cell_type": "code",
   "execution_count": null,
   "id": "clear-horizontal",
   "metadata": {},
   "outputs": [],
   "source": [
    "fig, ax = plt.subplots(nrows=1, ncols=2, constrained_layout=True, figsize=(15, 4))\n",
    "\n",
    "\n",
    "## helios latitude trajectory \n",
    "mu, sigma = scipy.stats.norm.fit(helios1_traj.coords.lat.value)\n",
    "\n",
    "n , bins, _ = ax[0].hist(helios1_traj.coords.lat.value, 25, density=1)\n",
    "_ = ax[0].set_title(\"Helios 1 Latitude location (HG) \\n Results: mean = %.2f, median = %.2f, std = %.2f\" % \\\n",
    "                       (mu, np.median(helios1_traj.coords.lat.value), sigma), fontsize=fs1)\n",
    "_ = ax[0].set_xlabel(\"Helios 1 Latitude\", fontsize=fs1)\n",
    "_ = ax[0].set_ylabel(\"probability density\", fontsize=fs1)\n",
    "\n",
    "best_fit_line = scipy.stats.norm.pdf(bins, mu, sigma)\n",
    "_ = ax[0].plot(bins, best_fit_line)\n",
    "\n",
    "\n",
    "## earth latitude trajectory \n",
    "mu, sigma = scipy.stats.norm.fit(earth_traj.coords.lat.value)\n",
    "\n",
    "n , bins, _ = ax[1].hist(earth_traj.coords.lat.value, 25, density=1)\n",
    "_ = ax[1].set_title(\"Earth Latitude location (HG) \\n Results: mean = %.2f, median = %.2f, std = %.2f\" % \\\n",
    "                       (mu, np.median(earth_traj.coords.lat.value), sigma), fontsize=fs1)\n",
    "_ = ax[1].set_xlabel(\"Earth Latitude\", fontsize=fs1)\n",
    "_ = ax[1].set_ylabel(\"probability density\", fontsize=fs1) \n",
    "\n",
    "best_fit_line = scipy.stats.norm.pdf(bins, mu, sigma)\n",
    "_ = ax[1].plot(bins, best_fit_line)\n",
    "\n",
    "plt.savefig('figures/helios1/'+ case_study + '/helios1_earth_lat_traj' + str(cr) + '_lon.png', dpi=300)"
   ]
  },
  {
   "cell_type": "code",
   "execution_count": null,
   "id": "variable-thanksgiving",
   "metadata": {},
   "outputs": [],
   "source": [
    "fig, ax = plt.subplots(nrows=1, ncols=2, constrained_layout=True, figsize=(15, 4))\n",
    "\n",
    "\n",
    "## helios radial trajectory \n",
    "mu, sigma = scipy.stats.norm.fit(helios1_traj.coords.radius.to(u.solRad).value)\n",
    "\n",
    "n , bins, _ = ax[0].hist(helios1_traj.coords.radius.to(u.solRad).value, 25, density=1)\n",
    "_ = ax[0].set_title(\"Helios1 Radial location (HG) \\n Results: mean = %.2f, median = %.2f, std = %.2f\" % \\\n",
    "                       (mu, np.median(helios1_traj.coords.radius.to(u.solRad).value), sigma), fontsize=fs1)\n",
    "_ = ax[0].set_xlabel(\"Solar Radii\", fontsize=fs1) \n",
    "_ = ax[0].set_ylabel(\"probability density\", fontsize=fs1) \n",
    "\n",
    "best_fit_line = scipy.stats.norm.pdf(bins, mu, sigma)\n",
    "_ = ax[0].plot(bins, best_fit_line)\n",
    "\n",
    "\n",
    "## earth radial trajectory \n",
    "mu, sigma = scipy.stats.norm.fit(earth_traj.coords.radius.to(u.solRad).value)\n",
    "\n",
    "n , bins, _ = ax[1].hist(earth_traj.coords.radius.to(u.solRad).value, 25, density=1)\n",
    "_ = ax[1].set_title(\"Earth Radial location (HG) \\n Results: mean = %.2f, median = %.2f, std = %.2f\" % \\\n",
    "                       (mu, np.median(earth_traj.coords.radius.to(u.solRad).value), sigma), fontsize=fs1) \n",
    "_ = ax[1].set_xlabel(\"Solar Radii\", fontsize=fs1) \n",
    "_ = ax[1].set_ylabel(\"probability density\", fontsize=fs1) \n",
    "\n",
    "best_fit_line = scipy.stats.norm.pdf(bins, mu, sigma)\n",
    "_ = ax[1].plot(bins, best_fit_line)\n",
    "\n",
    "plt.savefig('figures/helios1/'+ case_study + '/helios1_earth_rad_traj' + str(cr) + '_lon.png')"
   ]
  },
  {
   "cell_type": "code",
   "execution_count": null,
   "id": "automotive-scale",
   "metadata": {},
   "outputs": [],
   "source": [
    "fig, ax = plt.subplots(figsize=(15, 5))\n",
    "\n",
    "_ = ax.scatter(earth_coords.lon, omni_data.quantity('V'), color=\"b\", s=size, label=\"OMNI\")\n",
    "_ = ax.scatter(helios1_coords.lon, helios1_data.quantity('Vp_R'), color=\"k\", s=size, label=\"Helios1\")\n",
    "\n",
    "_ = ax.set_ylabel(r'$v_{r}$ (km/s)', fontsize=fs1)\n",
    "_ = ax.set_xlabel(\"Longitude (Deg.)\", fontsize=fs1)\n",
    "_ = ax.legend()\n",
    "_ = ax.set_title(\"Helios 1 and OMNI Observations for CR\" + str(cr), fontsize=fs1) \n",
    "plt.savefig('figures/helios1/'+ case_study + '/omni_and_helios1_vr_vs_carringtonlon' + str(cr) +'.png')"
   ]
  },
  {
   "cell_type": "markdown",
   "id": "capable-university",
   "metadata": {},
   "source": [
    "# Ballistic Mapping\n",
    " * Evaluate the characteristic lines - do they intersect? This happens when the Helios1 velocity function is decreasing. Otherwise, when the Helios velocity function is increasing it results in rarefaction wave. \n",
    " "
   ]
  },
  {
   "cell_type": "code",
   "execution_count": null,
   "id": "lucky-sensitivity",
   "metadata": {},
   "outputs": [],
   "source": [
    "r_mean = np.linspace(np.mean(helios1_coords.radius), np.mean(earth_coords.radius), 100)\n",
    "r_min = np.linspace(np.min(helios1_coords.radius), np.mean(earth_coords.radius), 100)\n",
    "r_max = np.linspace(np.max(helios1_coords.radius), np.mean(earth_coords.radius), 100)"
   ]
  },
  {
   "cell_type": "code",
   "execution_count": null,
   "id": "affected-candle",
   "metadata": {},
   "outputs": [],
   "source": [
    "omega_rot = (2 * np.pi) / (25.38 * 86400)"
   ]
  },
  {
   "cell_type": "code",
   "execution_count": null,
   "id": "damaged-conservative",
   "metadata": {
    "scrolled": false
   },
   "outputs": [],
   "source": [
    "fig, ax = plt.subplots(figsize = (15,5))\n",
    "\n",
    "\n",
    "for ii in np.arange(0, nphi, 100):\n",
    "    # helios lon location\n",
    "    phi_location = (helios1_coords.lon.to(u.rad)[ii]).value\n",
    "    # radial vector\n",
    "    radial_location = np.linspace(helios1_coords.radius.to(\"AU\").value[ii], earth_mean_r, nrout)\n",
    "    # convert to km. \n",
    "    radial_location = radial_location * (u.AU)\n",
    "    radial_location = radial_location.to(u.km)\n",
    "    # current velocity\n",
    "    curr_velocity = helios1_data.quantity('Vp_R').value[ii]\n",
    "\n",
    "    if not np.isnan(curr_velocity):\n",
    "        phi_shift_vec = compute_phi_shift_forward(p=phi_location, \n",
    "                                                     r=radial_location.value,\n",
    "                                                     v=curr_velocity) \n",
    "        \n",
    "        _ = ax.plot(phi_shift_vec*(180/np.pi), radial_location.to(u.AU), c=\"b\", alpha=0.5)\n",
    "\n",
    "_ = ax.set_xlabel(\"Carrington Longitue (Deg.)\", fontsize=fs1) \n",
    "_ = ax.set_ylabel(\"$r$ (AU)\", fontsize=fs1) \n",
    "_ = ax.set_title(\"Intersecting Characteristics Ballistic-f Approximation \\n Helios 1 to Earth Mapping\", fontsize=fs1) \n",
    "plt.savefig('figures/helios1/'+ case_study + '/intersecting_characteristics_ballistic_f' + str(cr) +'.png')"
   ]
  },
  {
   "cell_type": "code",
   "execution_count": null,
   "id": "executed-regulation",
   "metadata": {},
   "outputs": [],
   "source": [
    "res_ballistic_f = np.zeros(nphi)\n",
    "\n",
    "for ii in range(nphi):\n",
    "    # phi location\n",
    "    phi_location = (helios1_coords.lon.to(u.rad)[ii]).value\n",
    "    r0 = helios1_coords.radius.value[ii]\n",
    "    rf = earth_mean_r *(u.AU)\n",
    "    rf = rf.to(u.km).value\n",
    "    curr_velocity = helios1_data.quantity('Vp_R').value[ii]\n",
    "    dr = rf - r0\n",
    "    delta_phi = (omega_rot * dr) / curr_velocity\n",
    "    phi_shifted = phi_location - delta_phi\n",
    "    # force periodicity\n",
    "    res_ballistic_f[ii] = phi_shifted % (2 * np.pi)"
   ]
  },
  {
   "cell_type": "code",
   "execution_count": null,
   "id": "printable-witness",
   "metadata": {},
   "outputs": [],
   "source": [
    "fig, ax = plt.subplots(figsize=(15, 5))\n",
    "_ = ax.scatter(np.array(earth_coords.lon), omni_data.quantity('V'), color=\"b\", s=size, label=\"OMNI\")\n",
    "\n",
    "_ = ax.scatter(res_ballistic_f*(180/np.pi), helios1_data.quantity('Vp_R'),s=2, label=\"Ballistic-f\")\n",
    "\n",
    "_ = ax.set_xticks(ticks=[0, 90, 180, 270, 360])\n",
    "_ = ax.set_title(\"Mapping from Helios1 to OMNI (Earth) using the simple Ballistic-f Technique\")\n",
    "_ = ax.set_ylabel(r'$v_{r}$ (km/s)', fontsize=fs1)\n",
    "_ = ax.set_xlabel(\"Longitude (Deg.)\", fontsize=fs1)\n",
    "_ = ax.legend()"
   ]
  },
  {
   "cell_type": "markdown",
   "id": "explicit-alabama",
   "metadata": {},
   "source": [
    "\n",
    "# HUX-f Technique\n",
    "# 1D interpolation - input $\\phi$ ranges from [0, 2$\\pi$]"
   ]
  },
  {
   "cell_type": "code",
   "execution_count": null,
   "id": "statistical-teacher",
   "metadata": {},
   "outputs": [],
   "source": [
    "# get longitude limits\n",
    "min_lon = np.inf\n",
    "max_lon = -np.inf\n",
    "\n",
    "for ii in range(len(helios1_coords.lon.value)):\n",
    "    if helios1_coords.lon.value[ii] < min_lon and not math.isnan(helios1_data.quantity('Vp_R').value[ii]):\n",
    "        min_lon = helios1_coords.lon.value[ii]\n",
    "    if helios1_coords.lon.value[ii] > max_lon and not math.isnan(helios1_data.quantity('Vp_R').value[ii]):\n",
    "        max_lon = helios1_coords.lon.value[ii]"
   ]
  },
  {
   "cell_type": "code",
   "execution_count": null,
   "id": "daily-dover",
   "metadata": {},
   "outputs": [],
   "source": [
    "# create uniform phi 1d mesh grid. \n",
    "phi_array = np.linspace(0, 360, 361)"
   ]
  },
  {
   "cell_type": "code",
   "execution_count": null,
   "id": "sustained-friend",
   "metadata": {},
   "outputs": [],
   "source": [
    "# drop NaNs\n",
    "nan_idx = np.isfinite(helios1_data.quantity('Vp_R').value)\n",
    "v_vec = helios1_data.quantity('Vp_R').value[nan_idx]\n",
    "interp = interpolate.interp1d(helios1_coords.lon.value[nan_idx], \\\n",
    "                              v_vec, fill_value=(400, 400),  bounds_error=False)\n",
    "helios1_interp = interp(phi_array)"
   ]
  },
  {
   "cell_type": "code",
   "execution_count": null,
   "id": "intelligent-passing",
   "metadata": {},
   "outputs": [],
   "source": [
    "# convert to radians\n",
    "p_hux = phi_array * np.pi/180\n",
    "# delta phi \n",
    "dp_vec_hux = p_hux[1:] - p_hux[:-1]"
   ]
  },
  {
   "cell_type": "code",
   "execution_count": null,
   "id": "entire-relations",
   "metadata": {},
   "outputs": [],
   "source": [
    "fig, ax = plt.subplots(figsize=(10, 5))\n",
    "ax.plot(phi_array, helios1_interp)\n",
    "ax.scatter(helios1_coords.lon.value, helios1_data.quantity('Vp_R').value, s=1)\n",
    "ax.set_xlim(min_lon, max_lon)"
   ]
  },
  {
   "cell_type": "code",
   "execution_count": null,
   "id": "satellite-level",
   "metadata": {},
   "outputs": [],
   "source": [
    "res_hux_f_min = apply_forward_upwind_model(r_initial=helios1_interp,\n",
    "                                        dr_vec=r_min.value[1:] - r_min.value[:-1],\n",
    "                                        dp_vec=dp_vec_hux, \n",
    "                                        add_v_acc=False, \n",
    "                                        r0=r_min[0].value)\n",
    "\n",
    "\n",
    "res_hux_f_max = apply_forward_upwind_model(r_initial=helios1_interp,\n",
    "                                        dr_vec=r_max.value[1:] - r_max.value[:-1],\n",
    "                                        dp_vec=dp_vec_hux, \n",
    "                                        add_v_acc=False, \n",
    "                                        r0=r_max[0].value)\n",
    "\n",
    "\n",
    "res_hux_f_mean = apply_forward_upwind_model(r_initial=helios1_interp,\n",
    "                                        dr_vec=r_mean.value[1:] - r_mean.value[:-1],\n",
    "                                        dp_vec=dp_vec_hux, \n",
    "                                        add_v_acc=False, \n",
    "                                        r0=r_mean[0].value)\n",
    "\n",
    "res_hux_f_flux = apply_numerical_method(r_initial=helios1_interp, \n",
    "                                        dr_vec=r_mean.value[1:] - r_mean.value[:-1],\n",
    "                                        dp_vec=dp_vec_hux,\n",
    "                                        r0=r_mean[0].value, \n",
    "                                        add_v_acc=False,\n",
    "                                        numerical_method=\"upwind_first_maccormack\",\n",
    "                                        flux_function=\"vanleer\")"
   ]
  },
  {
   "cell_type": "code",
   "execution_count": null,
   "id": "maritime-timing",
   "metadata": {},
   "outputs": [],
   "source": [
    "fig, ax = plt.subplots(figsize=(12,4))\n",
    "_ = ax.scatter(np.array(earth_coords.lon), omni_data.quantity('V'), color=\"b\", s=size, label=\"OMNI\")\n",
    "\n",
    "_ = ax.plot(phi_array, res_hux_f_mean, color=\"r\", label=\"HUX-f mean\")\n",
    "_ = ax.plot(phi_array, res_hux_f_min, color=\"g\", label=\"HUX-f min\")\n",
    "_ = ax.plot(phi_array, res_hux_f_max, color=\"m\", label=\"HUX-f max\")\n",
    "_ = ax.plot(phi_array, res_hux_f_flux[-1], color=\"k\", label=\"HUX-f (flux) mean\")\n",
    "#_ = ax.scatter(res_ballistic_f*(180/np.pi), helios1_data.quantity('Vp_R').value, s=2, c=\"k\", label=\"Ballistic-f\")\n",
    "\n",
    "_ = ax.set_xlim(np.nanmin(res_ballistic_f*(180/np.pi)), np.nanmax(res_ballistic_f*(180/np.pi)))\n",
    "\n",
    "_ = ax.set_title(\"Mapping from Helios 1 to OMNI (Earth) for CR\" + str(cr)+ \"\\n $r_{min}$ = %.2f $R_\\odot$, $r_{mean}$ = %.2f $R_\\odot$, $r_{max}$ = %.2f $R_\\odot$\" % \\\n",
    "                       (np.min(helios1_coords.radius).to(u.solRad).value,\n",
    "                        np.mean(helios1_coords.radius).to(u.solRad).value,\n",
    "                        np.max(helios1_coords.radius).to(u.solRad).value))\n",
    "                 \n",
    "_ = ax.set_ylabel(r'$v_{r}$ (km/s)', fontsize=fs1)\n",
    "_ = ax.set_xlabel(\"Longitude (Deg.)\", fontsize=fs1)\n",
    "_ = ax.legend()\n",
    "\n",
    "plt.savefig('figures/helios1/'+ case_study + '/helios1_to_omni_mapping' + str(cr) + '_lon.png', dpi=200)"
   ]
  },
  {
   "cell_type": "markdown",
   "id": "blessed-seventh",
   "metadata": {},
   "source": [
    "# Map OMNI to Helios1 using the HUX-b and Ballistic Techniques"
   ]
  },
  {
   "cell_type": "markdown",
   "id": "designed-timothy",
   "metadata": {},
   "source": [
    "# Ballistic Mapping\n",
    " * evaluate the characteristic lines - do they intersect? This happens when the OMNI velocity function is increasing. Otherwise, when the OMNI velocity function is decreasing it results in rarefaction wave. \n",
    " "
   ]
  },
  {
   "cell_type": "code",
   "execution_count": null,
   "id": "af380850",
   "metadata": {},
   "outputs": [],
   "source": [
    "fig, ax = plt.subplots(figsize = (15,5))\n",
    "\n",
    "\n",
    "for ii in np.arange(0, len(earth_coords.lon), 5):\n",
    "    phi_location = (earth_coords.lon[ii].value)*(np.pi/180)\n",
    "    radial_location = np.linspace(earth_coords.radius.to(u.km)[ii], r_min[0].to(u.km), nrout)\n",
    "    curr_velocity = omni_data.quantity('V').value[ii]\n",
    "\n",
    "    if not np.isnan(curr_velocity):\n",
    "        phi_shift_vec = compute_phi_shift_forward(p=phi_location, \n",
    "                                                     r=radial_location.value,\n",
    "                                                     v=curr_velocity) \n",
    "        _ = ax.plot(phi_shift_vec*(180/np.pi), radial_location.to(u.AU))\n",
    "\n",
    "_ = ax.set_xlabel(\"Carrington Longitue (Deg.)\", fontsize=fs1) \n",
    "_ = ax.set_ylabel(\"$r$ (AU)\", fontsize=fs1) \n",
    "_ = ax.set_title(\"Intersecting Characteristics Ballistic-b Approximation \\n Earth to Helios 1 Mapping\", fontsize=fs1) \n",
    "plt.savefig('figures/helios1/'+ case_study + '/intersecting_characteristics_ballistic_b' + str(cr) +'.png')"
   ]
  },
  {
   "cell_type": "markdown",
   "id": "textile-heaven",
   "metadata": {},
   "source": [
    "# HUX-b Technique\n",
    "\n",
    "# 1D interpolation - input $\\phi$ ranges from [0, 2$\\pi$]"
   ]
  },
  {
   "cell_type": "code",
   "execution_count": null,
   "id": "married-influence",
   "metadata": {},
   "outputs": [],
   "source": [
    "# drop NaNs\n",
    "nan_idx = np.isfinite(omni_data.quantity('V').value)\n",
    "v_vec = omni_data.quantity('V').value[nan_idx]\n",
    "interp = interpolate.interp1d(earth_coords.lon.value[nan_idx], \\\n",
    "                              v_vec, fill_value=(400, 400),  bounds_error=False)\n",
    "omni_interp = interp(phi_array)"
   ]
  },
  {
   "cell_type": "code",
   "execution_count": null,
   "id": "adequate-numbers",
   "metadata": {},
   "outputs": [],
   "source": [
    "fig, ax = plt.subplots(figsize=(15, 5))\n",
    "ax.plot(phi_array, omni_interp)\n",
    "ax.scatter(earth_coords.lon.value, omni_data.quantity('V').value)"
   ]
  },
  {
   "cell_type": "code",
   "execution_count": null,
   "id": "proof-creation",
   "metadata": {},
   "outputs": [],
   "source": [
    "hux_b_full_res = apply_hux_b_model(r_final=omni_interp, \n",
    "                                         dr_vec=r_min.value[1:] - r_min.value[:-1], \n",
    "                                         dp_vec=dp_vec_hux, \n",
    "                                         r0=r_min[0].value, \n",
    "                                         add_v_acc=False).T"
   ]
  },
  {
   "cell_type": "code",
   "execution_count": null,
   "id": "cordless-place",
   "metadata": {},
   "outputs": [],
   "source": [
    "points = (phi_array, r_min)\n",
    "xi = (helios1_coords.lon.value, helios1_coords.radius.value)\n",
    "res_hux_b_interp = interpolate.interpn(points, hux_b_full_res, xi)"
   ]
  },
  {
   "cell_type": "code",
   "execution_count": null,
   "id": "0507cfc6",
   "metadata": {},
   "outputs": [],
   "source": [
    "ballf = interpolate.interp1d(helios1_coords.lon.to(u.rad), helios1_coords.radius.to(u.km), fill_value=\"extrapolate\")\n",
    "helios1_r_new = ballf(earth_coords.lon.to(u.rad))"
   ]
  },
  {
   "cell_type": "code",
   "execution_count": null,
   "id": "e0838192",
   "metadata": {},
   "outputs": [],
   "source": [
    "res_ballistic_b = np.zeros(len(earth_coords.radius))\n",
    "\n",
    "for ii in range(len(earth_coords.radius)):\n",
    "    phi_location = (earth_coords.lon[ii].to(u.rad)).value\n",
    "    r0 = earth_coords.radius.value[ii]\n",
    "    rf = helios1_r_new[ii]\n",
    "    curr_velocity = omni_data.quantity('V').value[ii]\n",
    "    dr = rf - r0\n",
    "    \n",
    "    delta_phi = (omega_rot * dr) / curr_velocity\n",
    "    phi_shifted = phi_location - delta_phi\n",
    "    # force periodicity\n",
    "    res_ballistic_b[ii] = phi_shifted % (2 * np.pi)"
   ]
  },
  {
   "cell_type": "code",
   "execution_count": null,
   "id": "cardiovascular-relation",
   "metadata": {},
   "outputs": [],
   "source": [
    "res_hux_b_min = apply_backwards_upwind_model(r_final=omni_interp, \n",
    "                                         dr_vec=r_min.value[1:] - r_min.value[:-1], \n",
    "                                         dp_vec=dp_vec_hux, \n",
    "                                         r0=r_min[0].value, \n",
    "                                         add_v_acc=False)\n",
    "\n",
    "res_hux_b_mean = apply_backwards_upwind_model(r_final=omni_interp, \n",
    "                                         dr_vec=r_mean.value[1:] - r_mean.value[:-1], \n",
    "                                         dp_vec=dp_vec_hux, \n",
    "                                         r0=r_mean[0].value, \n",
    "                                         add_v_acc=False)\n",
    "\n",
    "res_hux_b_max = apply_backwards_upwind_model(r_final=omni_interp, \n",
    "                                         dr_vec=r_max.value[1:] - r_max.value[:-1], \n",
    "                                         dp_vec=dp_vec_hux, \n",
    "                                         r0=r_max[0].value, \n",
    "                                         add_v_acc=False)"
   ]
  },
  {
   "cell_type": "code",
   "execution_count": null,
   "id": "6f186e2a",
   "metadata": {},
   "outputs": [],
   "source": [
    "fig, ax = plt.subplots(figsize=(15, 5))\n",
    "_ = ax.scatter(helios1_coords.lon, helios1_data.quantity('Vp_R'), color=\"b\", s=size, label=\"Helios1\")\n",
    "_ = ax.scatter(res_ballistic_b*(180/np.pi), omni_data.quantity('V').value, s=2,label=\"Ballistic-b exact\")\n",
    "\n",
    "_ = ax.set_xticks(ticks=[0, 90, 180, 270, 360])\n",
    "_ = ax.set_title(\"Mapping from OMNI (Earth) to Helios1 using Ballistic-b Technique\")\n",
    "_ = ax.set_ylabel(r'$v_{r}$ (km/s)', fontsize=fs1)\n",
    "_ = ax.set_xlabel(\"Longitude (Deg.)\", fontsize=fs1)\n",
    "_ = ax.legend()"
   ]
  },
  {
   "cell_type": "code",
   "execution_count": null,
   "id": "maritime-jersey",
   "metadata": {},
   "outputs": [],
   "source": [
    "fig, ax = plt.subplots(figsize=(15, 7))\n",
    "_ = ax.scatter(np.array(helios1_coords.lon), helios1_data.quantity('Vp_R'), color=\"b\", s=size, label=\"Helios1\")\n",
    "\n",
    "_ = ax.plot(phi_array, res_hux_b_mean, color=\"r\", label=\"HUX-b mean\")\n",
    "_ = ax.plot(phi_array, res_hux_b_min, color=\"g\", label=\"HUX-b min\")\n",
    "_ = ax.plot(phi_array, res_hux_b_max, color=\"m\", label=\"HUX-b max\")\n",
    "_ = ax.scatter(helios1_coords.lon.value, res_hux_b_interp, color=\"k\", s=2, label=\"HUX-b interp\")\n",
    "\n",
    "#_ = ax.scatter(res_ballistic_b_max, omni_data.quantity('V'),s=2, label=\"Ballistic-b max\")\n",
    "#_ = ax.scatter(res_ballistic_b_mean, omni_data.quantity('V'), s=2,label=\"Ballistic-b mean\")\n",
    "#_ = ax.scatter(res_ballistic_b_min, omni_data.quantity('V').value, s=2,label=\"Ballistic-b min\")\n",
    "_ = ax.scatter(res_ballistic_b *(180/np.pi), omni_data.quantity('V').value, color=\"y\", s=2,label=\"Ballistic-b\")\n",
    "\n",
    "\n",
    "_ = ax.set_title(\"Mapping from OMNI (Earth) to Helios1 for CR\" + str(cr) +\"\\n $r_{mean}$ = %.2f  $R_\\odot$, $r_{min}$ = %.2f  $R_\\odot$, $r_{max}$ = %.2f  $R_\\odot$\" % \\\n",
    "                       (np.min(helios1_coords.radius).to(u.solRad).value,\n",
    "                        np.mean(helios1_coords.radius).to(u.solRad).value,\n",
    "                        np.max(helios1_coords.radius).to(u.solRad).value))\n",
    "                 \n",
    "_ = ax.set_ylabel(r'$v_{r}$ (km/s)', fontsize=fs1)\n",
    "_ = ax.set_xlabel(\"Longitude (Deg.)\", fontsize=fs1)\n",
    "_ = ax.legend()\n",
    "plt.savefig('figures/helios1/'+ case_study + '/mapping_omni_to_helios1' + str(cr) +'.png')"
   ]
  },
  {
   "cell_type": "code",
   "execution_count": null,
   "id": "radio-boston",
   "metadata": {},
   "outputs": [],
   "source": [
    "fig, ax = plt.subplots(nrows=2, ncols=1, constrained_layout=True, sharex=True, figsize=(15, 7))\n",
    "\n",
    "ax[0].set_xlim(0, 360)\n",
    "ax[0].set_title(\"(a) Mapping from Helios 1 to OMNI (Earth)\", fontsize=fs1)\n",
    "                 \n",
    "ax[0].set_ylabel(r'$v_{r}$ (km/s)', fontsize=fs1)\n",
    "ax[0].set_xticks(ticks=[0, 90, 180, 270, 360])\n",
    "\n",
    "ax[0].scatter(np.array(earth_coords.lon), omni_data.quantity('V'), color=\"k\", s=size, label=\"OMNI\")\n",
    "ax[0].plot(phi_array, res_hux_f_mean, color=\"r\", label=\"HUX-f mean\")\n",
    "ax[0].plot(phi_array, res_hux_f_min, color=\"g\", label=\"HUX-f min\")\n",
    "ax[0].plot(phi_array, res_hux_f_max, color=\"m\", label=\"HUX-f max\")\n",
    "ax[0].legend()\n",
    "#ax[0].set_ylim(200, 700)\n",
    "\n",
    "ax[1].set_xlim(0, 360)\n",
    "ax[1].set_title(\"(b) Mapping from OMNI (Earth) to Helios 1\", fontsize=fs1)\n",
    "ax[1].set_ylabel(r'$v_{r}$ (km/s)', fontsize=fs1)\n",
    "ax[1].set_xlabel(\"Longitude (Deg.)\", fontsize=fs1)\n",
    "ax[1].set_xticks(ticks=[0, 90, 180, 270, 360])\n",
    "\n",
    "ax[1].plot(phi_array, res_hux_b_mean, color=\"r\", label=\"HUX-b mean\")\n",
    "ax[1].plot(phi_array, res_hux_b_min, color=\"g\", label=\"HUX-b min\")\n",
    "ax[1].plot(phi_array, res_hux_b_max, color=\"m\", label=\"HUX-b max\")\n",
    "ax[1].scatter(helios1_coords.lon.value, res_hux_b_interp, color=\"b\", s=size, label=\"HUX-b interp\")\n",
    "ax[1].scatter(helios1_coords.lon.value, helios1_data.quantity('Vp_R'), color=\"k\", s=size,label=\"Helios1\")\n",
    "#ax[1].set_ylim(200, 700)\n",
    "ax[1].legend()\n",
    "\n",
    "fig.suptitle(\"Mapping from Helios 1 to Earth and vice versa for CR\" + str(cr) +\"\\n $r_{min}$ = %.2f  $R_\\odot$, $r_{mean}$ = %.2f  $R_\\odot$, $r_{max}$ = %.2f  $R_\\odot$\" % \\\n",
    "                       (np.min(helios1_coords.radius).to(u.solRad).value,\n",
    "                        np.mean(helios1_coords.radius).to(u.solRad).value,\n",
    "                        np.max(helios1_coords.radius).to(u.solRad).value), fontsize=fs1)\n",
    "\n",
    "plt.savefig('figures/helios1/'+ case_study + '/mapping_omni_to_helios1_and_back_cr' + str(cr) +'.png', dpi=500)"
   ]
  },
  {
   "cell_type": "code",
   "execution_count": null,
   "id": "41b64590",
   "metadata": {},
   "outputs": [],
   "source": []
  },
  {
   "cell_type": "code",
   "execution_count": null,
   "id": "e25c44d0",
   "metadata": {},
   "outputs": [],
   "source": []
  },
  {
   "cell_type": "code",
   "execution_count": null,
   "id": "936c41f5",
   "metadata": {},
   "outputs": [],
   "source": []
  }
 ],
 "metadata": {
  "kernelspec": {
   "display_name": "Python 3",
   "language": "python",
   "name": "python3"
  },
  "language_info": {
   "codemirror_mode": {
    "name": "ipython",
    "version": 3
   },
   "file_extension": ".py",
   "mimetype": "text/x-python",
   "name": "python",
   "nbconvert_exporter": "python",
   "pygments_lexer": "ipython3",
   "version": "3.9.4"
  }
 },
 "nbformat": 4,
 "nbformat_minor": 5
}
