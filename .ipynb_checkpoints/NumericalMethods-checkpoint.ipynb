{
 "cells": [
  {
   "cell_type": "markdown",
   "id": "respected-special",
   "metadata": {},
   "source": [
    "# Numerical Methods to solve the Inviscid form of the Burgers Equation\n",
    "\n",
    "When evaluating different numerical schemes it is important that the methodologies:\n",
    "    \n",
    "    1. Are at least second order accurate on smooth solutions. \n",
    "    2. Sharp resolution of discontinuities. \n",
    "    3. Absence of artifical oscillations.\n",
    "    \n",
    "   \n",
    "Methods to consider: \n",
    "\n",
    "1. Upwind Method (Regular HUX)\n",
    "2. Conservative Upwind Method (Godunov's method)\n",
    "3. MacCormack's method (Second Order)\n",
    "4. High Resolution method."
   ]
  },
  {
   "cell_type": "code",
   "execution_count": null,
   "id": "competent-blond",
   "metadata": {},
   "outputs": [],
   "source": [
    "# Gon"
   ]
  }
 ],
 "metadata": {
  "kernelspec": {
   "display_name": "Python 3",
   "language": "python",
   "name": "python3"
  },
  "language_info": {
   "codemirror_mode": {
    "name": "ipython",
    "version": 3
   },
   "file_extension": ".py",
   "mimetype": "text/x-python",
   "name": "python",
   "nbconvert_exporter": "python",
   "pygments_lexer": "ipython3",
   "version": "3.9.4"
  }
 },
 "nbformat": 4,
 "nbformat_minor": 5
}
