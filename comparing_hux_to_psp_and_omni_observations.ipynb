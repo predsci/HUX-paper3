{
 "cells": [
  {
   "cell_type": "markdown",
   "id": "virgin-touch",
   "metadata": {},
   "source": [
    "# Apply HUX Mapping Technique to in-situ spacecraft observations\n"
   ]
  },
  {
   "cell_type": "code",
   "execution_count": 1,
   "id": "acquired-violin",
   "metadata": {},
   "outputs": [],
   "source": [
    "import matplotlib.pyplot as plt\n",
    "from scipy import stats\n",
    "from scipy import interpolate\n",
    "import numpy as np\n",
    "import scipy\n",
    "import copy\n",
    "import pickle\n",
    "import math\n",
    "import datetime as dt \n",
    "\n",
    "from heliopy.data import psp\n",
    "from heliopy.data import omni\n",
    "from heliopy.data import stereo\n",
    "import heliopy.data.spice as spicedata\n",
    "import heliopy.spice as spice\n",
    "from astropy.coordinates import SkyCoord\n",
    "import astropy.units as u\n",
    "from heliopy.data.solo import download\n",
    "\n",
    "from tools.MASweb import get_mas_path\n",
    "from psipy.model import MASOutput\n",
    "from psipy.data import sample_data\n",
    "from psipy.model.variable import Variable\n",
    "\n",
    "\n",
    "from hux_propagation import *\n",
    "\n",
    "# matplotlib fontsize\n",
    "%matplotlib notebook\n",
    "%matplotlib inline\n",
    "fs1=12\n",
    "plt.rcParams['savefig.facecolor'] = 'white'"
   ]
  },
  {
   "cell_type": "markdown",
   "id": "fifth-experience",
   "metadata": {},
   "source": [
    "# Read in global MHD model (MAS) solutions \n",
    "### CR 2210, 2215, 2221, 2226, 2231, 2235, and 2239 which contained each of the perihelia P1, P2, P3, P4, P5, P6, and P7, respectively.\n",
    "\n",
    "\n",
    "# TODO: \n",
    "    1. Reach out to David or create your own function to sample sample from mhd solutions when r <30. \n",
    "    2. Uncertainity Quantification of the Initial conditions (Spacecraft observations). \n",
    "    3. Ballistic Approximation from given radial location of the messurement.\n",
    "\n",
    "Download MAS solutions from [Predictive Science Inc. website](http://www.predsci.com/data/runs).\n",
    "\n",
    "For more information about reading MHD solutions see [PsiPy documentation website](https://psipy.readthedocs.io/en/stable/guide/getting_started.html#getting-data)."
   ]
  },
  {
   "cell_type": "code",
   "execution_count": 2,
   "id": "engaging-trust",
   "metadata": {},
   "outputs": [],
   "source": [
    "# set up - perihelion p1-p7\n",
    "case_study = \"p1\"\n",
    "\n",
    "\n",
    "if case_study == \"cr2211\":\n",
    "    # Carrington Rotation 2211\n",
    "    # 2018 Nov 23\t2018 Dec 20\n",
    "    starttime = dt.datetime(year=2018, month=11, day=23)\n",
    "    endtime = dt.datetime(year=2018, month=12, day=20)\n",
    "    cr = \"2211\"\n",
    "\n",
    "if case_study == \"p1\":\n",
    "    # Carrington Rotation 2210\n",
    "    # 2018 Oct 26\t2018 Nov 23\n",
    "    # Encounter 1 date: 2018-11-06. Distance from the center of the sun: 0.17 au (35.6 RS)\n",
    "    starttime = dt.datetime(year=2018, month=10, day=26)\n",
    "    endtime = dt.datetime(year=2018, month=11, day=23)\n",
    "    cr = \"2210\"\n",
    "    \n",
    "elif case_study == \"p2\":\n",
    "    # TODO: DEBUG OMNI DATASET LOAD FOR THIS TIME INTERVAL. \n",
    "    # Carrington Rotation 2215\n",
    "    # 2019 Mar 12\t2019 Apr 08\n",
    "    # Encounter 2 date: 2019-04-04. Distance from the center of the sun: 0.17 au (35.6 RS)\n",
    "    starttime = dt.datetime(year=2019, month=3, day=12)\n",
    "    endtime = dt.datetime(year=2019, month=4, day=8)\n",
    "    cr = \"2215\"\n",
    "    \n",
    "elif case_study == \"p3\":\n",
    "    # Carrington Rotation 2221\n",
    "    # 2019 Aug 22\t2019 Sep 19\n",
    "    # Encounter 3 date: 2019-09-01. Distance from the center of the sun: 0.17 au (35.6 RS)\n",
    "    starttime = dt.datetime(year=2019, month=8, day=22)\n",
    "    endtime = dt.datetime(year=2019, month=9, day=19)\n",
    "    cr = \"2221\"\n",
    "\n",
    "elif case_study == \"p4\":\n",
    "    # todo: PSP VR DATA IS NOT AVAILABLE. \n",
    "    # Carrington Rotation 2226\n",
    "    # 2020 Jan 06\t2020 Feb 02\n",
    "    # Encounter 4 date: 2020-01-29. Distance from the center of the sun: 0.13 au (27.8 RS)\n",
    "    starttime = dt.datetime(year=2020, month=1, day=6)\n",
    "    endtime = dt.datetime(year=2020, month=2, day=2)\n",
    "    cr = \"2226\"\n",
    "    \n",
    "elif case_study == \"p5\":\n",
    "    # Carrington Rotation 2231 \n",
    "    # 2020 May 21\t2020 Jun 18\n",
    "    # Encounter 5 date: 2020-06-07. Distance from the center of the sun: 0.13 au (27.8 RS)\n",
    "    starttime = dt.datetime(year=2020, month=5, day=21)\n",
    "    endtime = dt.datetime(year=2020, month=6, day=18)\n",
    "    cr = \"2231\"\n",
    "    \n",
    "    \n",
    "elif case_study == \"p6\":\n",
    "    # todo: PSP VR DATA IS NOT AVAILABLE. \n",
    "    # Carrington Rotation 2235 \n",
    "    # 2020 Sep 07\t2020 Oct 05\n",
    "    # Encounter 6 date: 2020-09-27. Distance from the center of the sun: 0.09 au (20.3 RS)\n",
    "    starttime = dt.datetime(year=2020, month=9, day=7)\n",
    "    endtime = dt.datetime(year=2020, month=10, day=5)\n",
    "    cr = \"2235\"\n",
    "\n",
    "elif case_study == \"p7\":\n",
    "    # todo: PSP VR DATA IS NOT AVAILABLE. \n",
    "    # Carrington Rotation 2239\n",
    "    # 2020 Dec 25\t2021 Jan 22\n",
    "    # Encounter 7 date: 2021-01-17. Distance from the center of the sun: 0.09 au (20.3 RS)\n",
    "    starttime = dt.datetime(year=2020, month=12, day=25)\n",
    "    endtime = dt.datetime(year=2021, month=1, day=22)\n",
    "    cr = \"2239\""
   ]
  },
  {
   "cell_type": "code",
   "execution_count": 3,
   "id": "false-reality",
   "metadata": {},
   "outputs": [
    {
     "name": "stdout",
     "output_type": "stream",
     "text": [
      "['br', 'rho', 'vr']\n"
     ]
    }
   ],
   "source": [
    "# mas output - br, rho, vr\n",
    "mas_path = get_mas_path(cr=cr)\n",
    "\n",
    "model = MASOutput(mas_path)\n",
    "\n",
    "print(model.variables)"
   ]
  },
  {
   "cell_type": "code",
   "execution_count": 4,
   "id": "first-nicholas",
   "metadata": {},
   "outputs": [],
   "source": [
    "# read in MHD velocity results. \n",
    "vr_model = model['vr']"
   ]
  },
  {
   "cell_type": "code",
   "execution_count": 5,
   "id": "familiar-point",
   "metadata": {},
   "outputs": [],
   "source": [
    "# save MHD mesh coordinates Heliographic (rotating) Coordinate System (HG)\n",
    "# phi - (0, 2pi)\n",
    "p = vr_model.phi_coords\n",
    "# sin(theta) - (-pi/2, pi/2)\n",
    "t = vr_model.theta_coords\n",
    "# 30 solar radii to approximately 1 AU\n",
    "r = vr_model.r_coords\n",
    "# velocity profile \n",
    "f = vr_model.data"
   ]
  },
  {
   "cell_type": "code",
   "execution_count": 6,
   "id": "instrumental-pepper",
   "metadata": {},
   "outputs": [
    {
     "name": "stdout",
     "output_type": "stream",
     "text": [
      "Velocity matrix shape:  (128, 111, 140)\n",
      "Phi dim:  128\n",
      "Theta dim:  111\n",
      "Radial dim:  140\n",
      "Velocity matrix dtype:  float32\n"
     ]
    }
   ],
   "source": [
    "print(\"Velocity matrix shape: \", np.shape(f))\n",
    "print(\"Phi dim: \", np.shape(f)[0])\n",
    "print(\"Theta dim: \", np.shape(f)[1])\n",
    "print(\"Radial dim: \", np.shape(f)[2])\n",
    "print(\"Velocity matrix dtype: \", f.dtype)\n"
   ]
  },
  {
   "cell_type": "code",
   "execution_count": 7,
   "id": "separate-hierarchy",
   "metadata": {},
   "outputs": [],
   "source": [
    "# force periodicity on f\n",
    "# since the last phi index is less than 2*pi, then we will append 2*pi to phi scale.\n",
    "p_plot = np.append(p, 2*np.pi) \n",
    "\n",
    "# Phi: from radians to degrees. longitude.\n",
    "p_plot = (180/np.pi)*p_plot"
   ]
  },
  {
   "cell_type": "code",
   "execution_count": 8,
   "id": "increasing-defensive",
   "metadata": {},
   "outputs": [],
   "source": [
    "# append the first slice p=0 to velocity matrix. \n",
    "f_plot = np.append(f,[f[0,:, :]],axis=0)"
   ]
  },
  {
   "cell_type": "code",
   "execution_count": 9,
   "id": "spiritual-integration",
   "metadata": {},
   "outputs": [],
   "source": [
    "# Radius: from solar radii to km. \n",
    "# 1 solar radii = 695,700 km\n",
    "r_plot = (695700)*r"
   ]
  },
  {
   "cell_type": "code",
   "execution_count": 10,
   "id": "environmental-timer",
   "metadata": {},
   "outputs": [],
   "source": [
    "# convert to sin(Lat.) [-1, 1]\n",
    "t_plot = np.sin(t)"
   ]
  },
  {
   "cell_type": "code",
   "execution_count": 11,
   "id": "threaded-diving",
   "metadata": {},
   "outputs": [],
   "source": [
    "# NOTE: pcolorfast and pcolormesh want the coords of pixel corners not centers --> build a \"half mesh\" for p & t.\n",
    "# - This means making an array that is n+1 size and has the midpoint positions of the original.\n",
    "# - Here we clip the endpoints of the half mesh to the original bounds, vs extrapolate.\n",
    "# - see also https://matplotlib.org/api/_as_gen/matplotlib.pyplot.pcolormesh.html.\n",
    "\n",
    "cmap = 'gnuplot'\n",
    "\n",
    "ph = np.concatenate([[p_plot[0]], 0.5 * (p_plot[1:] + p_plot[:-1]), [p_plot[-1]]])\n",
    "th = np.concatenate([[t_plot[0]], 0.5 * (t_plot[1:] + t_plot[:-1]), [t_plot[-1]]])"
   ]
  },
  {
   "cell_type": "code",
   "execution_count": 12,
   "id": "dental-pavilion",
   "metadata": {},
   "outputs": [
    {
     "data": {
      "image/png": "[encoded data removed]",
      "text/plain": [
       "<Figure size 792x360 with 2 Axes>"
      ]
     },
     "metadata": {
      "needs_background": "light"
     },
     "output_type": "display_data"
    }
   ],
   "source": [
    "fig, ax = plt.subplots(figsize = (11,5))\n",
    "ax.set_ylim(-1, 1)\n",
    "ax.set_xlim(0, 360)\n",
    "ax.set_title(\"R = 30 $R_{\\odot}$\", fontsize=fs1)\n",
    "ax.set_ylabel(\"Sin(Lat.)\", fontsize=fs1)\n",
    "ax.set_xlabel(\"Longitude (Deg.)\", fontsize=fs1)\n",
    "ax.set_yticks(ticks=[-1, -0.5, 0, 0.5, 1])\n",
    "ax.set_xticks(ticks=[0, 90, 180, 270, 360])\n",
    "_ = im = ax.pcolorfast(ph, th, f_plot[:, :, 0].T, cmap=cmap)\n",
    "cb = fig.colorbar(im, ax=ax)\n",
    "cb.set_label('$\\dfrac{km}{s}$', fontsize=fs1, rotation=360, labelpad=15)\n",
    "#plt.savefig('figures/' + case_study + '/vr_30rs_map.png')"
   ]
  },
  {
   "cell_type": "code",
   "execution_count": 13,
   "id": "thousand-garbage",
   "metadata": {},
   "outputs": [
    {
     "data": {
      "image/png": "[encoded data removed]",
      "text/plain": [
       "<Figure size 864x360 with 2 Axes>"
      ]
     },
     "metadata": {
      "needs_background": "light"
     },
     "output_type": "display_data"
    }
   ],
   "source": [
    "fig, ax = plt.subplots(figsize = (12,5))\n",
    "ax.set_ylim(-1, 1)\n",
    "ax.set_xlim(0, 360)\n",
    "ax.set_title(\"R = 1 AU\", fontsize=fs1)\n",
    "ax.set_ylabel(\"Sin(Lat.)\", fontsize=fs1)\n",
    "ax.set_xlabel(\"Longitude (Deg.)\", fontsize=fs1)\n",
    "ax.set_yticks(ticks=[-1, -0.5, 0, 0.5, 1])\n",
    "ax.set_xticks(ticks=[0, 90, 180, 270, 360])\n",
    "_ = im = ax.pcolorfast(ph, th, f_plot[:, :, -1].T, cmap=cmap)\n",
    "cb = fig.colorbar(im, ax=ax)\n",
    "cb.set_label('$\\dfrac{km}{s}$', fontsize=fs1, rotation=360, labelpad=15)\n",
    "#plt.savefig('figures/' + case_study + '/vr_1au_map.png')"
   ]
  },
  {
   "cell_type": "markdown",
   "id": "cooperative-native",
   "metadata": {},
   "source": [
    "# Apply Heliospheric Upwind eXtrapolation method \n",
    "\n",
    "The HUX underlying PDE (Simplified fluid momentum equation in a corotating frame of reference):\n",
    "\n",
    "$$\n",
    "-\\Omega_{rot}\\frac{\\partial v_{r}}{\\partial \\phi} + v_{r}\\frac{ \\partial v_{r}}{\\partial r}=0\n",
    "$$\n",
    "\n",
    "With the initial condition \n",
    "$$\n",
    "v_{r}(\\phi, r_{0}) = v_{r0}(\\phi)\n",
    "$$\n",
    "\n",
    "The HUX-f technique leverages the forward upwind difference method, such that\n",
    "$$\n",
    "-\\Omega_{rot} \\frac{v_{i, j+1} - v_{i, j}}{\\Delta \\phi} + \n",
    "v_{i, j}(\\frac{v_{i+1, j} - v_{i, j}}{\\Delta r}) = 0\n",
    "$$\n",
    "\n",
    "\n",
    "$$\n",
    "v_{i+1, j}=  v_{i, j} + \\frac{\\Delta r\\Omega_{rot}}{v_{i, j}}  (\\frac{v_{i, j+1} - v_{i, j}}{\\Delta \\phi})\n",
    "$$\n",
    "\n",
    "Whereas HUX-b technique leverages the backwards finite difference approximation, such that \n",
    "\n",
    "$$\n",
    "-\\Omega_{rot} \\frac{v_{i, j} - v_{i, j-1}}{\\Delta \\phi} + \n",
    "v_{i, j}(\\frac{v_{i, j} - v_{i-1, j}}{\\Delta r}) = 0\n",
    "$$\n",
    "\n",
    "\n",
    "$$\n",
    "v_{i-1, j}=  v_{i, j} + \\frac{\\Delta r\\Omega_{rot}}{v_{i, j}}  (\\frac{v_{i, j}-v_{i, j-1}}{\\Delta \\phi})\n",
    "$$\n",
    "\n",
    "where for simplicity the $r$ subscipt on the radial velocity is omitted. The indicies $i$ and $j$ refer to $r$ and $\\phi$ grids repectively in HG coordinates. \n",
    "\n",
    "\n",
    "\n",
    "# References\n",
    "\n",
    "[1] Riley P and Lionello R (2011) \"Mapping Solar Wind Streams from the Sun to 1 AU: A Comparison of Techniques\". Solar Phys.270, 575–592. \n",
    "\n",
    "[2] Riley P and Issan O (2021) \"Using a Heliospheric Upwinding eXtrapolation Technique to Magnetically Connect Different Regions of the Heliosphere\". Front. Phys. 9:679497."
   ]
  },
  {
   "cell_type": "code",
   "execution_count": 14,
   "id": "conditional-spell",
   "metadata": {},
   "outputs": [],
   "source": [
    "# get solar equator slices and save delta r and delta p arrays for hux propagation. \n",
    "solar_equator_r_30_radii = f[:, 55, 0]\n",
    "solar_equator_r_1_au = f[:, 55, -1]\n",
    "dr_vec = r_plot[1:] - r_plot[:-1]\n",
    "dp_vec = p[1:] - p[:-1]"
   ]
  },
  {
   "cell_type": "code",
   "execution_count": 15,
   "id": "victorian-cancellation",
   "metadata": {},
   "outputs": [
    {
     "data": {
      "image/png": "[encoded data removed]",
      "text/plain": [
       "<Figure size 720x360 with 1 Axes>"
      ]
     },
     "metadata": {
      "needs_background": "light"
     },
     "output_type": "display_data"
    }
   ],
   "source": [
    "fig, ax = plt.subplots(figsize = (10,5))\n",
    "\n",
    "_ = ax.plot(p*180/np.pi, solar_equator_r_1_au, label=\"MHD solution\")\n",
    "_ = ax.plot(p*180/np.pi, apply_forward_upwind_model(solar_equator_r_30_radii, dr_vec, dp_vec),\n",
    "            'g',label=\"HUX-f Technique\")\n",
    "\n",
    "_ = ax.scatter(apply_ballistic_approximation(np.array(solar_equator_r_30_radii), \n",
    "                r_plot[-1] - r_plot[0], p)*180/np.pi, \n",
    "                solar_equator_r_30_radii, \n",
    "                color='y',s = 6, label=\"Ballistic Approximation\")\n",
    "            \n",
    "_ = ax.set_title(\"Solar wind equatorial radial velocity at 1 AU\",fontsize=fs1)\n",
    "_ = ax.set_xlabel(\"Longitude ($^{\\circ}$)\",fontsize=fs1)\n",
    "_ = ax.set_yticks(ticks=[200, 400, 600, 800])\n",
    "\n",
    "_ = ax.set_xticks(ticks=[0, 90, 180, 270, 360])\n",
    "_ = ax.set_ylabel('$v_{r}$ (km/s)',fontsize=fs1)\n",
    "_ = plt.legend()\n",
    "#plt.savefig('figures/' + case_study + '/vr_1AU_ts_comp_MHD_HUX-f.png')"
   ]
  },
  {
   "cell_type": "code",
   "execution_count": 16,
   "id": "finished-jesus",
   "metadata": {},
   "outputs": [
    {
     "data": {
      "image/png": "[encoded data removed]",
      "text/plain": [
       "<Figure size 720x360 with 1 Axes>"
      ]
     },
     "metadata": {
      "needs_background": "light"
     },
     "output_type": "display_data"
    }
   ],
   "source": [
    "fig, ax = plt.subplots(figsize = (10,5))\n",
    "\n",
    "_ = ax.plot(p*180/np.pi, solar_equator_r_30_radii , label=\"R=30 RS, MHD\")\n",
    "_ = ax.plot(p*180/np.pi, apply_backwards_upwind_model(solar_equator_r_1_au, dr_vec, dp_vec),\n",
    "            'g',label=\"R=30 RS, HUX-b\")\n",
    "\n",
    "\n",
    "_ = ax.scatter(apply_ballistic_approximation(np.array(solar_equator_r_1_au), \n",
    "                r_plot[0]- r_plot[-1], p)*180/np.pi, \n",
    "                solar_equator_r_1_au, \n",
    "                color='y',s=6, label=\"Ballistic Approximation\")\n",
    "\n",
    "_ = ax.set_title(\"Solar wind equatorial radial velocity at 30 RS\",fontsize=fs1)\n",
    "_ = ax.set_xlabel(\"Longitude ($^{\\circ}$)\",fontsize=fs1)\n",
    "_ = ax.set_yticks(ticks=[200, 400, 600, 800])\n",
    "_ = ax.set_xticks(ticks=[0, 90, 180, 270, 360])\n",
    "_ = ax.set_ylabel('$v_{r}$ (km/s)',fontsize=fs1)\n",
    "_ = plt.legend()\n",
    "#plt.savefig('figures/' + case_study + '/vr_30RS_ts_comp_MHD_HUX-b_cr' + str(cr) +'.png')"
   ]
  },
  {
   "cell_type": "code",
   "execution_count": 17,
   "id": "turned-england",
   "metadata": {},
   "outputs": [],
   "source": [
    "# apply the hux technique to all theta slices\n",
    "hux_f_res, hux_b_res = np.ones((len(p), len(t), len(r))),  np.ones((len(p), len(t), len(r)))\n",
    "for ii in range(len(t)):\n",
    "    hux_f_res[:, ii, :] = apply_hux_f_model(f[:, ii, 0], dr_vec, dp_vec).T\n",
    "    hux_b_res[:, ii, :] = apply_hux_b_model(f[:, ii, -1], dr_vec, dp_vec).T"
   ]
  },
  {
   "cell_type": "code",
   "execution_count": 18,
   "id": "saved-replica",
   "metadata": {},
   "outputs": [],
   "source": [
    "# force periodicity when plotting\n",
    "hux_f_res_plot = np.append(hux_f_res,[hux_f_res[0, :, :]], axis=0)\n",
    "hux_b_res_plot = np.append(hux_b_res,[hux_b_res[0, :, :]], axis=0)"
   ]
  },
  {
   "cell_type": "code",
   "execution_count": 19,
   "id": "happy-jacob",
   "metadata": {},
   "outputs": [
    {
     "data": {
      "image/png": "[encoded data removed]",
      "text/plain": [
       "<Figure size 576x720 with 5 Axes>"
      ]
     },
     "metadata": {
      "needs_background": "light"
     },
     "output_type": "display_data"
    }
   ],
   "source": [
    "plt.rcParams['figure.figsize'] = [8, 10] # default fig size.\n",
    "\n",
    "fig, ax = plt.subplots(nrows=4, ncols=1, constrained_layout=True, sharex=True)\n",
    "\n",
    "ax[0].set_ylim(-1, 1)\n",
    "ax[0].set_xlim(0, 360)\n",
    "ax[0].set_title(\"R = 30 $R_{\\odot}$, heliospheric MHD model\", fontsize=fs1)\n",
    "ax[0].set_ylabel(\"Sin(Lat.)\", fontsize=fs1)\n",
    "ax[0].set_yticks(ticks=[-1, -0.5, 0, 0.5, 1])\n",
    "ax[0].set_xticks(ticks=[0, 90, 180, 270, 360])\n",
    "_ = im = ax[0].pcolorfast(ph, th, f_plot[:, :, 0].T, cmap=cmap)\n",
    "\n",
    "ax[1].set_ylim(-1, 1)\n",
    "ax[1].set_xlim(0, 360)\n",
    "ax[1].set_title(\"R = 30 $R_{\\odot}$, HUX-b model\", fontsize=fs1)\n",
    "ax[1].set_ylabel(\"Sin(Lat.)\", fontsize=fs1)\n",
    "ax[1].set_yticks(ticks=[-1, -0.5, 0, 0.5, 1])\n",
    "ax[1].set_xticks(ticks=[0, 90, 180, 270, 360])\n",
    "_ = im = ax[1].pcolorfast(ph, th, hux_b_res_plot[:, :, 0].T, cmap=cmap)\n",
    "\n",
    "\n",
    "ax[2].set_ylim(-1, 1)\n",
    "ax[2].set_xlim(0, 360)\n",
    "ax[2].set_title(\"R = 1 AU, heliospheric MHD model\", fontsize=fs1)\n",
    "ax[2].set_ylabel(\"Sin(Lat.)\", fontsize=fs1)\n",
    "ax[2].set_yticks(ticks=[-1, -0.5, 0, 0.5, 1])\n",
    "ax[2].set_xticks(ticks=[0, 90, 180, 270, 360])\n",
    "_ = im = ax[2].pcolorfast(ph, th, f_plot[:, :, -1].T, cmap=cmap)\n",
    "\n",
    "\n",
    "ax[3].set_ylim(-1, 1)\n",
    "ax[3].set_xlim(0, 360)\n",
    "ax[3].set_title(\"R = 1 AU, HUX-f model \", fontsize=fs1)\n",
    "ax[3].set_ylabel(\"Sin(Lat.)\", fontsize=fs1)\n",
    "ax[3].set_xlabel(\"Longitude ($^{\\circ}$)\", fontsize=fs1)\n",
    "ax[3].set_yticks(ticks=[-1, -0.5, 0, 0.5, 1])\n",
    "ax[3].set_xticks(ticks=[0, 90, 180, 270, 360])\n",
    "_ = im = ax[3].pcolorfast(ph, th, hux_f_res_plot[:, :, -1].T, cmap=cmap)\n",
    "cbar = fig.colorbar(im, ax=ax.flat)\n",
    "cbar.set_label('$\\dfrac{km}{s}$', fontsize=fs1, rotation=360, labelpad=15)\n",
    "\n",
    "#plt.savefig('figures/' + case_study + '/vr_lon_lat_maps_MHD_HUX.png')"
   ]
  },
  {
   "cell_type": "markdown",
   "id": "dominican-boutique",
   "metadata": {},
   "source": [
    "# Read in Parker Solar Probe (PSP) observations\n",
    "\n",
    "Here we load the merged magnetic field and plasma data product, which has\n",
    "an hourly data cadence."
   ]
  },
  {
   "cell_type": "code",
   "execution_count": 20,
   "id": "polar-layer",
   "metadata": {},
   "outputs": [
    {
     "name": "stdout",
     "output_type": "stream",
     "text": [
      "Available data =  ['radialDistance', 'heliographicLatitude', 'heliographicLongitude', 'BR', 'BT', 'BN', 'B', 'VR', 'VT', 'VN', 'ProtonSpeed', 'flow_theta', 'flow_lon', 'protonDensity', 'protonTemp']\n"
     ]
    }
   ],
   "source": [
    "psp_data = psp.merged_mag_plasma(starttime, endtime)\n",
    "print(\"Available data = \", psp_data.columns)"
   ]
  },
  {
   "cell_type": "code",
   "execution_count": 21,
   "id": "above-october",
   "metadata": {},
   "outputs": [
    {
     "name": "stderr",
     "output_type": "stream",
     "text": [
      "WARNING: SunpyUserWarning: Using .data to access the dataframe is discouraged; use .to_dataframe() instead. [sunpy.timeseries.timeseriesbase]\n"
     ]
    },
    {
     "data": {
      "text/html": [
       "<div>\n",
       "<style scoped>\n",
       "    .dataframe tbody tr th:only-of-type {\n",
       "        vertical-align: middle;\n",
       "    }\n",
       "\n",
       "    .dataframe tbody tr th {\n",
       "        vertical-align: top;\n",
       "    }\n",
       "\n",
       "    .dataframe thead th {\n",
       "        text-align: right;\n",
       "    }\n",
       "</style>\n",
       "<table border=\"1\" class=\"dataframe\">\n",
       "  <thead>\n",
       "    <tr style=\"text-align: right;\">\n",
       "      <th></th>\n",
       "      <th>radialDistance</th>\n",
       "      <th>heliographicLatitude</th>\n",
       "      <th>heliographicLongitude</th>\n",
       "      <th>BR</th>\n",
       "      <th>BT</th>\n",
       "      <th>BN</th>\n",
       "      <th>B</th>\n",
       "      <th>VR</th>\n",
       "      <th>VT</th>\n",
       "      <th>VN</th>\n",
       "      <th>ProtonSpeed</th>\n",
       "      <th>flow_theta</th>\n",
       "      <th>flow_lon</th>\n",
       "      <th>protonDensity</th>\n",
       "      <th>protonTemp</th>\n",
       "    </tr>\n",
       "    <tr>\n",
       "      <th>Time</th>\n",
       "      <th></th>\n",
       "      <th></th>\n",
       "      <th></th>\n",
       "      <th></th>\n",
       "      <th></th>\n",
       "      <th></th>\n",
       "      <th></th>\n",
       "      <th></th>\n",
       "      <th></th>\n",
       "      <th></th>\n",
       "      <th></th>\n",
       "      <th></th>\n",
       "      <th></th>\n",
       "      <th></th>\n",
       "      <th></th>\n",
       "    </tr>\n",
       "  </thead>\n",
       "  <tbody>\n",
       "    <tr>\n",
       "      <th>2018-10-26 01:00:00</th>\n",
       "      <td>0.37</td>\n",
       "      <td>1.9</td>\n",
       "      <td>321.000000</td>\n",
       "      <td>-11.10</td>\n",
       "      <td>7.53</td>\n",
       "      <td>-5.21</td>\n",
       "      <td>14.390000</td>\n",
       "      <td>NaN</td>\n",
       "      <td>NaN</td>\n",
       "      <td>NaN</td>\n",
       "      <td>NaN</td>\n",
       "      <td>NaN</td>\n",
       "      <td>NaN</td>\n",
       "      <td>NaN</td>\n",
       "      <td>NaN</td>\n",
       "    </tr>\n",
       "    <tr>\n",
       "      <th>2018-10-26 01:00:00</th>\n",
       "      <td>0.37</td>\n",
       "      <td>1.9</td>\n",
       "      <td>321.000000</td>\n",
       "      <td>-11.10</td>\n",
       "      <td>7.53</td>\n",
       "      <td>-5.21</td>\n",
       "      <td>14.390000</td>\n",
       "      <td>NaN</td>\n",
       "      <td>NaN</td>\n",
       "      <td>NaN</td>\n",
       "      <td>NaN</td>\n",
       "      <td>NaN</td>\n",
       "      <td>NaN</td>\n",
       "      <td>NaN</td>\n",
       "      <td>NaN</td>\n",
       "    </tr>\n",
       "    <tr>\n",
       "      <th>2018-10-26 01:00:00</th>\n",
       "      <td>0.37</td>\n",
       "      <td>1.9</td>\n",
       "      <td>321.000000</td>\n",
       "      <td>-11.10</td>\n",
       "      <td>7.53</td>\n",
       "      <td>-5.21</td>\n",
       "      <td>14.390000</td>\n",
       "      <td>NaN</td>\n",
       "      <td>NaN</td>\n",
       "      <td>NaN</td>\n",
       "      <td>NaN</td>\n",
       "      <td>NaN</td>\n",
       "      <td>NaN</td>\n",
       "      <td>NaN</td>\n",
       "      <td>NaN</td>\n",
       "    </tr>\n",
       "    <tr>\n",
       "      <th>2018-10-26 01:00:00</th>\n",
       "      <td>0.37</td>\n",
       "      <td>1.9</td>\n",
       "      <td>321.000000</td>\n",
       "      <td>-11.10</td>\n",
       "      <td>7.53</td>\n",
       "      <td>-5.21</td>\n",
       "      <td>14.390000</td>\n",
       "      <td>NaN</td>\n",
       "      <td>NaN</td>\n",
       "      <td>NaN</td>\n",
       "      <td>NaN</td>\n",
       "      <td>NaN</td>\n",
       "      <td>NaN</td>\n",
       "      <td>NaN</td>\n",
       "      <td>NaN</td>\n",
       "    </tr>\n",
       "    <tr>\n",
       "      <th>2018-10-26 01:00:00</th>\n",
       "      <td>0.37</td>\n",
       "      <td>1.9</td>\n",
       "      <td>321.000000</td>\n",
       "      <td>-11.10</td>\n",
       "      <td>7.53</td>\n",
       "      <td>-5.21</td>\n",
       "      <td>14.390000</td>\n",
       "      <td>NaN</td>\n",
       "      <td>NaN</td>\n",
       "      <td>NaN</td>\n",
       "      <td>NaN</td>\n",
       "      <td>NaN</td>\n",
       "      <td>NaN</td>\n",
       "      <td>NaN</td>\n",
       "      <td>NaN</td>\n",
       "    </tr>\n",
       "    <tr>\n",
       "      <th>...</th>\n",
       "      <td>...</td>\n",
       "      <td>...</td>\n",
       "      <td>...</td>\n",
       "      <td>...</td>\n",
       "      <td>...</td>\n",
       "      <td>...</td>\n",
       "      <td>...</td>\n",
       "      <td>...</td>\n",
       "      <td>...</td>\n",
       "      <td>...</td>\n",
       "      <td>...</td>\n",
       "      <td>...</td>\n",
       "      <td>...</td>\n",
       "      <td>...</td>\n",
       "      <td>...</td>\n",
       "    </tr>\n",
       "    <tr>\n",
       "      <th>2018-11-22 23:00:00</th>\n",
       "      <td>0.48</td>\n",
       "      <td>2.0</td>\n",
       "      <td>197.600006</td>\n",
       "      <td>17.57</td>\n",
       "      <td>-1.06</td>\n",
       "      <td>1.15</td>\n",
       "      <td>17.639999</td>\n",
       "      <td>391.799988</td>\n",
       "      <td>36.400002</td>\n",
       "      <td>4.2</td>\n",
       "      <td>393.5</td>\n",
       "      <td>0.6</td>\n",
       "      <td>5.3</td>\n",
       "      <td>27.1</td>\n",
       "      <td>129254.0</td>\n",
       "    </tr>\n",
       "    <tr>\n",
       "      <th>2018-11-22 23:00:00</th>\n",
       "      <td>0.48</td>\n",
       "      <td>2.0</td>\n",
       "      <td>197.600006</td>\n",
       "      <td>17.57</td>\n",
       "      <td>-1.06</td>\n",
       "      <td>1.15</td>\n",
       "      <td>17.639999</td>\n",
       "      <td>391.799988</td>\n",
       "      <td>36.400002</td>\n",
       "      <td>4.2</td>\n",
       "      <td>393.5</td>\n",
       "      <td>0.6</td>\n",
       "      <td>5.3</td>\n",
       "      <td>27.1</td>\n",
       "      <td>129254.0</td>\n",
       "    </tr>\n",
       "    <tr>\n",
       "      <th>2018-11-22 23:00:00</th>\n",
       "      <td>0.48</td>\n",
       "      <td>2.0</td>\n",
       "      <td>197.600006</td>\n",
       "      <td>17.57</td>\n",
       "      <td>-1.06</td>\n",
       "      <td>1.15</td>\n",
       "      <td>17.639999</td>\n",
       "      <td>391.799988</td>\n",
       "      <td>36.400002</td>\n",
       "      <td>4.2</td>\n",
       "      <td>393.5</td>\n",
       "      <td>0.6</td>\n",
       "      <td>5.3</td>\n",
       "      <td>27.1</td>\n",
       "      <td>129254.0</td>\n",
       "    </tr>\n",
       "    <tr>\n",
       "      <th>2018-11-22 23:00:00</th>\n",
       "      <td>0.48</td>\n",
       "      <td>2.0</td>\n",
       "      <td>197.600006</td>\n",
       "      <td>17.57</td>\n",
       "      <td>-1.06</td>\n",
       "      <td>1.15</td>\n",
       "      <td>17.639999</td>\n",
       "      <td>391.799988</td>\n",
       "      <td>36.400002</td>\n",
       "      <td>4.2</td>\n",
       "      <td>393.5</td>\n",
       "      <td>0.6</td>\n",
       "      <td>5.3</td>\n",
       "      <td>27.1</td>\n",
       "      <td>129254.0</td>\n",
       "    </tr>\n",
       "    <tr>\n",
       "      <th>2018-11-22 23:00:00</th>\n",
       "      <td>0.48</td>\n",
       "      <td>2.0</td>\n",
       "      <td>197.600006</td>\n",
       "      <td>17.57</td>\n",
       "      <td>-1.06</td>\n",
       "      <td>1.15</td>\n",
       "      <td>17.639999</td>\n",
       "      <td>391.799988</td>\n",
       "      <td>36.400002</td>\n",
       "      <td>4.2</td>\n",
       "      <td>393.5</td>\n",
       "      <td>0.6</td>\n",
       "      <td>5.3</td>\n",
       "      <td>27.1</td>\n",
       "      <td>129254.0</td>\n",
       "    </tr>\n",
       "  </tbody>\n",
       "</table>\n",
       "<p>13002 rows × 15 columns</p>\n",
       "</div>"
      ],
      "text/plain": [
       "                     radialDistance  heliographicLatitude  \\\n",
       "Time                                                        \n",
       "2018-10-26 01:00:00            0.37                   1.9   \n",
       "2018-10-26 01:00:00            0.37                   1.9   \n",
       "2018-10-26 01:00:00            0.37                   1.9   \n",
       "2018-10-26 01:00:00            0.37                   1.9   \n",
       "2018-10-26 01:00:00            0.37                   1.9   \n",
       "...                             ...                   ...   \n",
       "2018-11-22 23:00:00            0.48                   2.0   \n",
       "2018-11-22 23:00:00            0.48                   2.0   \n",
       "2018-11-22 23:00:00            0.48                   2.0   \n",
       "2018-11-22 23:00:00            0.48                   2.0   \n",
       "2018-11-22 23:00:00            0.48                   2.0   \n",
       "\n",
       "                     heliographicLongitude     BR    BT    BN          B  \\\n",
       "Time                                                                       \n",
       "2018-10-26 01:00:00             321.000000 -11.10  7.53 -5.21  14.390000   \n",
       "2018-10-26 01:00:00             321.000000 -11.10  7.53 -5.21  14.390000   \n",
       "2018-10-26 01:00:00             321.000000 -11.10  7.53 -5.21  14.390000   \n",
       "2018-10-26 01:00:00             321.000000 -11.10  7.53 -5.21  14.390000   \n",
       "2018-10-26 01:00:00             321.000000 -11.10  7.53 -5.21  14.390000   \n",
       "...                                    ...    ...   ...   ...        ...   \n",
       "2018-11-22 23:00:00             197.600006  17.57 -1.06  1.15  17.639999   \n",
       "2018-11-22 23:00:00             197.600006  17.57 -1.06  1.15  17.639999   \n",
       "2018-11-22 23:00:00             197.600006  17.57 -1.06  1.15  17.639999   \n",
       "2018-11-22 23:00:00             197.600006  17.57 -1.06  1.15  17.639999   \n",
       "2018-11-22 23:00:00             197.600006  17.57 -1.06  1.15  17.639999   \n",
       "\n",
       "                             VR         VT   VN  ProtonSpeed  flow_theta  \\\n",
       "Time                                                                       \n",
       "2018-10-26 01:00:00         NaN        NaN  NaN          NaN         NaN   \n",
       "2018-10-26 01:00:00         NaN        NaN  NaN          NaN         NaN   \n",
       "2018-10-26 01:00:00         NaN        NaN  NaN          NaN         NaN   \n",
       "2018-10-26 01:00:00         NaN        NaN  NaN          NaN         NaN   \n",
       "2018-10-26 01:00:00         NaN        NaN  NaN          NaN         NaN   \n",
       "...                         ...        ...  ...          ...         ...   \n",
       "2018-11-22 23:00:00  391.799988  36.400002  4.2        393.5         0.6   \n",
       "2018-11-22 23:00:00  391.799988  36.400002  4.2        393.5         0.6   \n",
       "2018-11-22 23:00:00  391.799988  36.400002  4.2        393.5         0.6   \n",
       "2018-11-22 23:00:00  391.799988  36.400002  4.2        393.5         0.6   \n",
       "2018-11-22 23:00:00  391.799988  36.400002  4.2        393.5         0.6   \n",
       "\n",
       "                     flow_lon  protonDensity  protonTemp  \n",
       "Time                                                      \n",
       "2018-10-26 01:00:00       NaN            NaN         NaN  \n",
       "2018-10-26 01:00:00       NaN            NaN         NaN  \n",
       "2018-10-26 01:00:00       NaN            NaN         NaN  \n",
       "2018-10-26 01:00:00       NaN            NaN         NaN  \n",
       "2018-10-26 01:00:00       NaN            NaN         NaN  \n",
       "...                       ...            ...         ...  \n",
       "2018-11-22 23:00:00       5.3           27.1    129254.0  \n",
       "2018-11-22 23:00:00       5.3           27.1    129254.0  \n",
       "2018-11-22 23:00:00       5.3           27.1    129254.0  \n",
       "2018-11-22 23:00:00       5.3           27.1    129254.0  \n",
       "2018-11-22 23:00:00       5.3           27.1    129254.0  \n",
       "\n",
       "[13002 rows x 15 columns]"
      ]
     },
     "execution_count": 21,
     "metadata": {},
     "output_type": "execute_result"
    }
   ],
   "source": [
    "psp_data.data"
   ]
  },
  {
   "cell_type": "markdown",
   "id": "representative-collection",
   "metadata": {},
   "source": [
    "Generate the PSP trajectory in Heliographic (rotating) Coordinate System (HG).\n",
    "\n",
    "We take the timestamps from the previously loaded data, and use `heliopy.spice`\n",
    "to generate the trajectory at these times."
   ]
  },
  {
   "cell_type": "code",
   "execution_count": 22,
   "id": "mexican-teach",
   "metadata": {},
   "outputs": [],
   "source": [
    "times = psp_data.index\n",
    "\n",
    "spicedata.get_kernel('psp')\n",
    "spicedata.get_kernel('psp_pred')\n",
    "psp_traj = spice.Trajectory('SPP')\n",
    "psp_traj.generate_positions(times=times, observing_body='Sun', frame='IAU_SUN')\n",
    "psp_coords = psp_traj.coords"
   ]
  },
  {
   "cell_type": "markdown",
   "id": "limited-joseph",
   "metadata": {},
   "source": [
    "Here we sample the MHD and HUX velocity results at PSP location. \n"
   ]
  },
  {
   "cell_type": "code",
   "execution_count": 23,
   "id": "wooden-photography",
   "metadata": {},
   "outputs": [],
   "source": [
    "hux_f_model = copy.deepcopy(vr_model)\n",
    "hux_f_model.data.data = hux_f_res\n",
    "\n",
    "hux_b_model = copy.deepcopy(vr_model)\n",
    "hux_b_model.data.data = hux_b_res"
   ]
  },
  {
   "cell_type": "code",
   "execution_count": 24,
   "id": "significant-visiting",
   "metadata": {},
   "outputs": [],
   "source": [
    "vr_sampled_hux_f = hux_f_model.sample_at_coords(psp_coords.lon,\n",
    "                                                psp_coords.lat,\n",
    "                                                psp_coords.radius)\n",
    "\n",
    "vr_sampled_hux_b = hux_b_model.sample_at_coords(psp_coords.lon,\n",
    "                                                psp_coords.lat,\n",
    "                                                psp_coords.radius)\n",
    "\n",
    "vr_sampled_mhd = vr_model.sample_at_coords(psp_coords.lon,\n",
    "                                           psp_coords.lat,\n",
    "                                           psp_coords.radius)"
   ]
  },
  {
   "cell_type": "code",
   "execution_count": 25,
   "id": "studied-wholesale",
   "metadata": {},
   "outputs": [
    {
     "data": {
      "image/png": "[encoded data removed]",
      "text/plain": [
       "<Figure size 1080x360 with 1 Axes>"
      ]
     },
     "metadata": {
      "needs_background": "light"
     },
     "output_type": "display_data"
    }
   ],
   "source": [
    "fig, ax = plt.subplots(figsize=(15, 5))\n",
    "ax.plot(times, vr_sampled_mhd, color=\"b\", label='MHD model')\n",
    "ax.plot(times, vr_sampled_hux_f, color=\"r\",label='HUX-f model')\n",
    "ax.plot(times, vr_sampled_hux_b, color=\"g\",label='HUX-b model')\n",
    "ax.plot(times, psp_data.quantity('VR'), color=\"k\", label='PSP')\n",
    "\n",
    "ax.set_ylabel(r'$v_{r}$ (km/s)')\n",
    "ax.legend()\n",
    "ax.set_title(\"Comparison of model results with PSP in situ measurements for CR\" + str(cr))\n",
    "fig.autofmt_xdate()\n",
    "\n",
    "#plt.savefig('figures/'+ case_study + '/psp_comparison_cr'+ str(cr)+ '_time.png')"
   ]
  },
  {
   "cell_type": "code",
   "execution_count": 26,
   "id": "played-psychology",
   "metadata": {},
   "outputs": [
    {
     "name": "stdout",
     "output_type": "stream",
     "text": [
      "216\n"
     ]
    },
    {
     "data": {
      "text/plain": [
       "<matplotlib.legend.Legend at 0x1313288e0>"
      ]
     },
     "execution_count": 26,
     "metadata": {},
     "output_type": "execute_result"
    },
    {
     "data": {
      "image/png": "[encoded data removed]",
      "text/plain": [
       "<Figure size 720x360 with 1 Axes>"
      ]
     },
     "metadata": {
      "needs_background": "light"
     },
     "output_type": "display_data"
    }
   ],
   "source": [
    "lon_psp = np.array(psp_coords.lon)\n",
    "\n",
    "max_indx=np.argmax(psp_coords.lon)\n",
    "print(max_indx)\n",
    "add_periodicity =0\n",
    "\n",
    "fig, ax = plt.subplots(figsize=(10, 5))\n",
    "size = 10\n",
    "\n",
    "ax.scatter(lon_psp[:max_indx]+ add_periodicity, vr_sampled_mhd[:max_indx], color=\"b\", s=size, label=\"MHD model\")\n",
    "ax.scatter(lon_psp[:max_indx]+ add_periodicity, vr_sampled_hux_f[:max_indx], color=\"r\", s=size, label=\"HUX-f model\")\n",
    "ax.scatter(lon_psp[:max_indx]+ add_periodicity, vr_sampled_hux_b[:max_indx], color=\"g\",s=size,  label=\"HUX-b model\")\n",
    "ax.scatter(lon_psp[:max_indx]+ add_periodicity, psp_data.quantity('VR')[:max_indx], color=\"k\",s=size,  label=\"PSP\")\n",
    "\n",
    "ax.scatter(lon_psp[max_indx:], vr_sampled_mhd[max_indx:], s=size, color=\"b\")\n",
    "ax.scatter(lon_psp[max_indx:], vr_sampled_hux_f[max_indx:], s=size, color=\"r\")\n",
    "ax.scatter(lon_psp[max_indx:], vr_sampled_hux_b[max_indx:], s=size, color=\"g\")\n",
    "ax.scatter(lon_psp[max_indx:], psp_data.quantity('VR')[max_indx:],s=size, color=\"k\")\n",
    "\n",
    "\n",
    "ax.set_ylabel(r'$v_{r}$ (km/s)')\n",
    "#ax.set_xticks(ticks=[0, 90, 180, 270, 360])\n",
    "ax.set_xlabel(\"Longitude (Deg.)\", fontsize=fs1)\n",
    "ax.set_title(\"Comparison of model results with PSP in situ measurements for CR\" + str(cr))\n",
    "ax.legend()\n",
    "#plt.savefig('figures/'+ case_study + '/psp_comparison_cr' + str(cr) + '_carrington_longitude.png')"
   ]
  },
  {
   "cell_type": "markdown",
   "id": "another-supervisor",
   "metadata": {},
   "source": [
    "# Read in OMNI (Earth) Observations\n",
    "\n",
    "• OMNI data set for solar wind speed observations can be found https://spdf.gsfc.nasa.gov/pub/data/omni/low_res_omni/"
   ]
  },
  {
   "cell_type": "code",
   "execution_count": 27,
   "id": "considerable-restoration",
   "metadata": {},
   "outputs": [],
   "source": [
    "omni_data = omni.h0_mrg1hr(starttime, endtime)"
   ]
  },
  {
   "cell_type": "code",
   "execution_count": 28,
   "id": "broad-newfoundland",
   "metadata": {},
   "outputs": [
    {
     "name": "stderr",
     "output_type": "stream",
     "text": [
      "WARNING: SunpyUserWarning: Using .data to access the dataframe is discouraged; use .to_dataframe() instead. [sunpy.timeseries.timeseriesbase]\n"
     ]
    },
    {
     "data": {
      "text/html": [
       "<div>\n",
       "<style scoped>\n",
       "    .dataframe tbody tr th:only-of-type {\n",
       "        vertical-align: middle;\n",
       "    }\n",
       "\n",
       "    .dataframe tbody tr th {\n",
       "        vertical-align: top;\n",
       "    }\n",
       "\n",
       "    .dataframe thead th {\n",
       "        text-align: right;\n",
       "    }\n",
       "</style>\n",
       "<table border=\"1\" class=\"dataframe\">\n",
       "  <thead>\n",
       "    <tr style=\"text-align: right;\">\n",
       "      <th></th>\n",
       "      <th>Epoch_1800</th>\n",
       "      <th>Rot1800</th>\n",
       "      <th>IMF1800</th>\n",
       "      <th>PLS1800</th>\n",
       "      <th>IMF_PTS1800</th>\n",
       "      <th>PLS_PTS1800</th>\n",
       "      <th>ABS_B1800</th>\n",
       "      <th>F1800</th>\n",
       "      <th>THETA_AV1800</th>\n",
       "      <th>PHI_AV1800</th>\n",
       "      <th>...</th>\n",
       "      <th>F10_INDEX</th>\n",
       "      <th>KP</th>\n",
       "      <th>DST</th>\n",
       "      <th>AE</th>\n",
       "      <th>AP_INDEX</th>\n",
       "      <th>AL_INDEX</th>\n",
       "      <th>AU_INDEX</th>\n",
       "      <th>PC_N_INDEX</th>\n",
       "      <th>Solar_Lyman_alpha</th>\n",
       "      <th>Proton_QI</th>\n",
       "    </tr>\n",
       "    <tr>\n",
       "      <th>Time</th>\n",
       "      <th></th>\n",
       "      <th></th>\n",
       "      <th></th>\n",
       "      <th></th>\n",
       "      <th></th>\n",
       "      <th></th>\n",
       "      <th></th>\n",
       "      <th></th>\n",
       "      <th></th>\n",
       "      <th></th>\n",
       "      <th></th>\n",
       "      <th></th>\n",
       "      <th></th>\n",
       "      <th></th>\n",
       "      <th></th>\n",
       "      <th></th>\n",
       "      <th></th>\n",
       "      <th></th>\n",
       "      <th></th>\n",
       "      <th></th>\n",
       "      <th></th>\n",
       "    </tr>\n",
       "  </thead>\n",
       "  <tbody>\n",
       "    <tr>\n",
       "      <th>2018-10-26 01:00:00</th>\n",
       "      <td>6.370774e+13</td>\n",
       "      <td>2526</td>\n",
       "      <td>51</td>\n",
       "      <td>52</td>\n",
       "      <td>59</td>\n",
       "      <td>33</td>\n",
       "      <td>5.3</td>\n",
       "      <td>4.6</td>\n",
       "      <td>5.800000</td>\n",
       "      <td>153.600006</td>\n",
       "      <td>...</td>\n",
       "      <td>68.300003</td>\n",
       "      <td>20</td>\n",
       "      <td>-3</td>\n",
       "      <td>9999</td>\n",
       "      <td>7</td>\n",
       "      <td>99999</td>\n",
       "      <td>99999</td>\n",
       "      <td>1.1</td>\n",
       "      <td>0.006018</td>\n",
       "      <td>0.0130</td>\n",
       "    </tr>\n",
       "    <tr>\n",
       "      <th>2018-10-26 02:00:00</th>\n",
       "      <td>6.370774e+13</td>\n",
       "      <td>2526</td>\n",
       "      <td>51</td>\n",
       "      <td>52</td>\n",
       "      <td>61</td>\n",
       "      <td>37</td>\n",
       "      <td>5.0</td>\n",
       "      <td>4.3</td>\n",
       "      <td>23.299999</td>\n",
       "      <td>176.800003</td>\n",
       "      <td>...</td>\n",
       "      <td>68.300003</td>\n",
       "      <td>20</td>\n",
       "      <td>2</td>\n",
       "      <td>9999</td>\n",
       "      <td>7</td>\n",
       "      <td>99999</td>\n",
       "      <td>99999</td>\n",
       "      <td>0.2</td>\n",
       "      <td>0.006018</td>\n",
       "      <td>0.0117</td>\n",
       "    </tr>\n",
       "    <tr>\n",
       "      <th>2018-10-26 03:00:00</th>\n",
       "      <td>6.370774e+13</td>\n",
       "      <td>2526</td>\n",
       "      <td>51</td>\n",
       "      <td>52</td>\n",
       "      <td>62</td>\n",
       "      <td>36</td>\n",
       "      <td>4.8</td>\n",
       "      <td>4.6</td>\n",
       "      <td>28.000000</td>\n",
       "      <td>123.199997</td>\n",
       "      <td>...</td>\n",
       "      <td>68.300003</td>\n",
       "      <td>13</td>\n",
       "      <td>6</td>\n",
       "      <td>9999</td>\n",
       "      <td>5</td>\n",
       "      <td>99999</td>\n",
       "      <td>99999</td>\n",
       "      <td>0.2</td>\n",
       "      <td>0.006018</td>\n",
       "      <td>0.0091</td>\n",
       "    </tr>\n",
       "    <tr>\n",
       "      <th>2018-10-26 04:00:00</th>\n",
       "      <td>6.370775e+13</td>\n",
       "      <td>2526</td>\n",
       "      <td>51</td>\n",
       "      <td>52</td>\n",
       "      <td>61</td>\n",
       "      <td>37</td>\n",
       "      <td>2.2</td>\n",
       "      <td>2.0</td>\n",
       "      <td>4.400000</td>\n",
       "      <td>144.500000</td>\n",
       "      <td>...</td>\n",
       "      <td>68.300003</td>\n",
       "      <td>13</td>\n",
       "      <td>11</td>\n",
       "      <td>9999</td>\n",
       "      <td>5</td>\n",
       "      <td>99999</td>\n",
       "      <td>99999</td>\n",
       "      <td>0.5</td>\n",
       "      <td>0.006018</td>\n",
       "      <td>0.0011</td>\n",
       "    </tr>\n",
       "    <tr>\n",
       "      <th>2018-10-26 05:00:00</th>\n",
       "      <td>6.370775e+13</td>\n",
       "      <td>2526</td>\n",
       "      <td>51</td>\n",
       "      <td>52</td>\n",
       "      <td>60</td>\n",
       "      <td>31</td>\n",
       "      <td>2.2</td>\n",
       "      <td>1.9</td>\n",
       "      <td>-1.900000</td>\n",
       "      <td>194.500000</td>\n",
       "      <td>...</td>\n",
       "      <td>68.300003</td>\n",
       "      <td>13</td>\n",
       "      <td>12</td>\n",
       "      <td>9999</td>\n",
       "      <td>5</td>\n",
       "      <td>99999</td>\n",
       "      <td>99999</td>\n",
       "      <td>0.2</td>\n",
       "      <td>0.006018</td>\n",
       "      <td>0.0010</td>\n",
       "    </tr>\n",
       "    <tr>\n",
       "      <th>...</th>\n",
       "      <td>...</td>\n",
       "      <td>...</td>\n",
       "      <td>...</td>\n",
       "      <td>...</td>\n",
       "      <td>...</td>\n",
       "      <td>...</td>\n",
       "      <td>...</td>\n",
       "      <td>...</td>\n",
       "      <td>...</td>\n",
       "      <td>...</td>\n",
       "      <td>...</td>\n",
       "      <td>...</td>\n",
       "      <td>...</td>\n",
       "      <td>...</td>\n",
       "      <td>...</td>\n",
       "      <td>...</td>\n",
       "      <td>...</td>\n",
       "      <td>...</td>\n",
       "      <td>...</td>\n",
       "      <td>...</td>\n",
       "      <td>...</td>\n",
       "    </tr>\n",
       "    <tr>\n",
       "      <th>2018-11-22 19:00:00</th>\n",
       "      <td>6.371013e+13</td>\n",
       "      <td>2527</td>\n",
       "      <td>51</td>\n",
       "      <td>52</td>\n",
       "      <td>61</td>\n",
       "      <td>34</td>\n",
       "      <td>4.3</td>\n",
       "      <td>4.1</td>\n",
       "      <td>23.200001</td>\n",
       "      <td>332.399994</td>\n",
       "      <td>...</td>\n",
       "      <td>67.500000</td>\n",
       "      <td>3</td>\n",
       "      <td>-2</td>\n",
       "      <td>9999</td>\n",
       "      <td>2</td>\n",
       "      <td>99999</td>\n",
       "      <td>99999</td>\n",
       "      <td>0.1</td>\n",
       "      <td>0.005990</td>\n",
       "      <td>0.0257</td>\n",
       "    </tr>\n",
       "    <tr>\n",
       "      <th>2018-11-22 20:00:00</th>\n",
       "      <td>6.371014e+13</td>\n",
       "      <td>2527</td>\n",
       "      <td>51</td>\n",
       "      <td>52</td>\n",
       "      <td>61</td>\n",
       "      <td>36</td>\n",
       "      <td>4.4</td>\n",
       "      <td>4.2</td>\n",
       "      <td>14.100000</td>\n",
       "      <td>316.000000</td>\n",
       "      <td>...</td>\n",
       "      <td>67.500000</td>\n",
       "      <td>3</td>\n",
       "      <td>-1</td>\n",
       "      <td>9999</td>\n",
       "      <td>2</td>\n",
       "      <td>99999</td>\n",
       "      <td>99999</td>\n",
       "      <td>0.0</td>\n",
       "      <td>0.005990</td>\n",
       "      <td>0.0313</td>\n",
       "    </tr>\n",
       "    <tr>\n",
       "      <th>2018-11-22 21:00:00</th>\n",
       "      <td>6.371014e+13</td>\n",
       "      <td>2527</td>\n",
       "      <td>51</td>\n",
       "      <td>52</td>\n",
       "      <td>64</td>\n",
       "      <td>39</td>\n",
       "      <td>4.2</td>\n",
       "      <td>3.3</td>\n",
       "      <td>2.200000</td>\n",
       "      <td>264.000000</td>\n",
       "      <td>...</td>\n",
       "      <td>67.500000</td>\n",
       "      <td>0</td>\n",
       "      <td>3</td>\n",
       "      <td>9999</td>\n",
       "      <td>0</td>\n",
       "      <td>99999</td>\n",
       "      <td>99999</td>\n",
       "      <td>0.1</td>\n",
       "      <td>0.005990</td>\n",
       "      <td>0.0152</td>\n",
       "    </tr>\n",
       "    <tr>\n",
       "      <th>2018-11-22 22:00:00</th>\n",
       "      <td>6.371014e+13</td>\n",
       "      <td>2527</td>\n",
       "      <td>51</td>\n",
       "      <td>52</td>\n",
       "      <td>59</td>\n",
       "      <td>36</td>\n",
       "      <td>4.1</td>\n",
       "      <td>4.0</td>\n",
       "      <td>-8.300000</td>\n",
       "      <td>208.699997</td>\n",
       "      <td>...</td>\n",
       "      <td>67.500000</td>\n",
       "      <td>0</td>\n",
       "      <td>5</td>\n",
       "      <td>9999</td>\n",
       "      <td>0</td>\n",
       "      <td>99999</td>\n",
       "      <td>99999</td>\n",
       "      <td>0.1</td>\n",
       "      <td>0.005990</td>\n",
       "      <td>0.0102</td>\n",
       "    </tr>\n",
       "    <tr>\n",
       "      <th>2018-11-22 23:00:00</th>\n",
       "      <td>6.371015e+13</td>\n",
       "      <td>2527</td>\n",
       "      <td>51</td>\n",
       "      <td>52</td>\n",
       "      <td>59</td>\n",
       "      <td>35</td>\n",
       "      <td>3.8</td>\n",
       "      <td>3.8</td>\n",
       "      <td>-8.900000</td>\n",
       "      <td>228.100006</td>\n",
       "      <td>...</td>\n",
       "      <td>67.500000</td>\n",
       "      <td>0</td>\n",
       "      <td>5</td>\n",
       "      <td>9999</td>\n",
       "      <td>0</td>\n",
       "      <td>99999</td>\n",
       "      <td>99999</td>\n",
       "      <td>0.1</td>\n",
       "      <td>0.005990</td>\n",
       "      <td>0.0101</td>\n",
       "    </tr>\n",
       "  </tbody>\n",
       "</table>\n",
       "<p>671 rows × 109 columns</p>\n",
       "</div>"
      ],
      "text/plain": [
       "                       Epoch_1800  Rot1800  IMF1800  PLS1800  IMF_PTS1800  \\\n",
       "Time                                                                        \n",
       "2018-10-26 01:00:00  6.370774e+13     2526       51       52           59   \n",
       "2018-10-26 02:00:00  6.370774e+13     2526       51       52           61   \n",
       "2018-10-26 03:00:00  6.370774e+13     2526       51       52           62   \n",
       "2018-10-26 04:00:00  6.370775e+13     2526       51       52           61   \n",
       "2018-10-26 05:00:00  6.370775e+13     2526       51       52           60   \n",
       "...                           ...      ...      ...      ...          ...   \n",
       "2018-11-22 19:00:00  6.371013e+13     2527       51       52           61   \n",
       "2018-11-22 20:00:00  6.371014e+13     2527       51       52           61   \n",
       "2018-11-22 21:00:00  6.371014e+13     2527       51       52           64   \n",
       "2018-11-22 22:00:00  6.371014e+13     2527       51       52           59   \n",
       "2018-11-22 23:00:00  6.371015e+13     2527       51       52           59   \n",
       "\n",
       "                     PLS_PTS1800  ABS_B1800  F1800  THETA_AV1800  PHI_AV1800  \\\n",
       "Time                                                                           \n",
       "2018-10-26 01:00:00           33        5.3    4.6      5.800000  153.600006   \n",
       "2018-10-26 02:00:00           37        5.0    4.3     23.299999  176.800003   \n",
       "2018-10-26 03:00:00           36        4.8    4.6     28.000000  123.199997   \n",
       "2018-10-26 04:00:00           37        2.2    2.0      4.400000  144.500000   \n",
       "2018-10-26 05:00:00           31        2.2    1.9     -1.900000  194.500000   \n",
       "...                          ...        ...    ...           ...         ...   \n",
       "2018-11-22 19:00:00           34        4.3    4.1     23.200001  332.399994   \n",
       "2018-11-22 20:00:00           36        4.4    4.2     14.100000  316.000000   \n",
       "2018-11-22 21:00:00           39        4.2    3.3      2.200000  264.000000   \n",
       "2018-11-22 22:00:00           36        4.1    4.0     -8.300000  208.699997   \n",
       "2018-11-22 23:00:00           35        3.8    3.8     -8.900000  228.100006   \n",
       "\n",
       "                     ...  F10_INDEX  KP  DST    AE  AP_INDEX  AL_INDEX  \\\n",
       "Time                 ...                                                 \n",
       "2018-10-26 01:00:00  ...  68.300003  20   -3  9999         7     99999   \n",
       "2018-10-26 02:00:00  ...  68.300003  20    2  9999         7     99999   \n",
       "2018-10-26 03:00:00  ...  68.300003  13    6  9999         5     99999   \n",
       "2018-10-26 04:00:00  ...  68.300003  13   11  9999         5     99999   \n",
       "2018-10-26 05:00:00  ...  68.300003  13   12  9999         5     99999   \n",
       "...                  ...        ...  ..  ...   ...       ...       ...   \n",
       "2018-11-22 19:00:00  ...  67.500000   3   -2  9999         2     99999   \n",
       "2018-11-22 20:00:00  ...  67.500000   3   -1  9999         2     99999   \n",
       "2018-11-22 21:00:00  ...  67.500000   0    3  9999         0     99999   \n",
       "2018-11-22 22:00:00  ...  67.500000   0    5  9999         0     99999   \n",
       "2018-11-22 23:00:00  ...  67.500000   0    5  9999         0     99999   \n",
       "\n",
       "                     AU_INDEX  PC_N_INDEX  Solar_Lyman_alpha  Proton_QI  \n",
       "Time                                                                     \n",
       "2018-10-26 01:00:00     99999         1.1           0.006018     0.0130  \n",
       "2018-10-26 02:00:00     99999         0.2           0.006018     0.0117  \n",
       "2018-10-26 03:00:00     99999         0.2           0.006018     0.0091  \n",
       "2018-10-26 04:00:00     99999         0.5           0.006018     0.0011  \n",
       "2018-10-26 05:00:00     99999         0.2           0.006018     0.0010  \n",
       "...                       ...         ...                ...        ...  \n",
       "2018-11-22 19:00:00     99999         0.1           0.005990     0.0257  \n",
       "2018-11-22 20:00:00     99999         0.0           0.005990     0.0313  \n",
       "2018-11-22 21:00:00     99999         0.1           0.005990     0.0152  \n",
       "2018-11-22 22:00:00     99999         0.1           0.005990     0.0102  \n",
       "2018-11-22 23:00:00     99999         0.1           0.005990     0.0101  \n",
       "\n",
       "[671 rows x 109 columns]"
      ]
     },
     "execution_count": 28,
     "metadata": {},
     "output_type": "execute_result"
    }
   ],
   "source": [
    "omni_data.data"
   ]
  },
  {
   "cell_type": "markdown",
   "id": "dominant-dispatch",
   "metadata": {},
   "source": [
    "Generate the OMNI (Earth) trajectory in Heliographic (rotating) Coordinate System (HG).\n",
    "\n",
    "We take the timestamps from the previously loaded data, and use `heliopy.spice`\n",
    "to generate the trajectory at these times."
   ]
  },
  {
   "cell_type": "code",
   "execution_count": 29,
   "id": "continental-annual",
   "metadata": {},
   "outputs": [],
   "source": [
    "earth_traj = spice.Trajectory('Earth')\n",
    "earth_traj.generate_positions(times=omni_data.index, observing_body='Sun', frame='IAU_SUN')\n",
    "earth_coords = earth_traj.coords"
   ]
  },
  {
   "cell_type": "code",
   "execution_count": 30,
   "id": "cognitive-river",
   "metadata": {},
   "outputs": [
    {
     "data": {
      "image/png": "[encoded data removed]",
      "text/plain": [
       "<Figure size 504x504 with 1 Axes>"
      ]
     },
     "metadata": {
      "needs_background": "light"
     },
     "output_type": "display_data"
    }
   ],
   "source": [
    "fig, ax = plt.subplots(figsize=(7, 7))\n",
    "_ = ax.plot(psp_coords.radius.to(\"AU\")* np.cos(lon_psp*np.pi/180), psp_coords.radius.to(\"AU\")* np.sin(lon_psp*np.pi/180), label=\"psp\")\n",
    "_ = ax.plot(earth_coords.radius.to(\"AU\")* np.cos(earth_coords.lon.value*np.pi/180), earth_coords.radius.to(\"AU\")* np.sin(earth_coords.lon.value*np.pi/180), label=\"omni\")\n",
    "_ = ax.scatter(0, 0, color=\"y\", label=\"sun\")\n",
    "#_ = ax.set_xlim(-1, 1)\n",
    "#_ = ax.set_ylim(-1, 1)\n",
    "_ = ax.set_xlabel(\"Carrington X / AU\")\n",
    "_ = ax.set_ylabel(\"Carrington Y / AU\")\n",
    "_ = ax.legend()\n",
    "_ = ax.set_title(\"PSP Trajectory for CR2210 \\n(Perihelion 1, 2018 November 6th)\")\n",
    "# plt.savefig('figures/'+ case_study + '/psp_cr2210_trajectory_location.png')"
   ]
  },
  {
   "cell_type": "code",
   "execution_count": 49,
   "id": "gross-automation",
   "metadata": {},
   "outputs": [],
   "source": [
    "def compute_phi_shift_forward(p, r, v, omega=2*np.pi/25.38):\n",
    "    # initialize phi shift matrix. \n",
    "    phi_shift_mat = np.zeros((len(r), len(p)))\n",
    "    \n",
    "    # phi at index 0 is original phi grid \n",
    "    phi_shift_mat[0, :] = p\n",
    "    \n",
    "    # delta r.\n",
    "    dr = np.mean(r[1:] - r[:-1])\n",
    "    \n",
    "    # compute the phi shift for each idx in r. \n",
    "    for ii in range(len(r)-1):\n",
    "        phi_shift = -(omega/v)*dr\n",
    "        phi_shift_mat[ii+1, :] = phi_shift_mat[ii, :] + phi_shift\n",
    "    return phi_shift_mat"
   ]
  },
  {
   "cell_type": "code",
   "execution_count": 50,
   "id": "married-package",
   "metadata": {},
   "outputs": [],
   "source": [
    "nphi = len(lon_psp)\n",
    "nrout = 201\n",
    "earth_mean_r = np.mean(earth_coords.radius.to(\"AU\").value)\n",
    "\n",
    "r_fl_mat = np.zeros((nrout, nphi))\n",
    "\n",
    "\n",
    "for ii in range(nphi):\n",
    "    r_fl_mat[:, ii] = np.linspace(psp_coords.radius.to(\"AU\").value[ii], earth_mean_r, nrout)"
   ]
  },
  {
   "cell_type": "code",
   "execution_count": 51,
   "id": "strong-parker",
   "metadata": {},
   "outputs": [],
   "source": [
    "phi_shift_mat_bf = np.zeros((nrout, nphi))"
   ]
  },
  {
   "cell_type": "code",
   "execution_count": null,
   "id": "changed-timing",
   "metadata": {},
   "outputs": [
    {
     "ename": "KeyboardInterrupt",
     "evalue": "",
     "output_type": "error",
     "traceback": [
      "\u001b[0;31m---------------------------------------------------------------------------\u001b[0m",
      "\u001b[0;31mKeyboardInterrupt\u001b[0m                         Traceback (most recent call last)",
      "\u001b[0;32m<ipython-input-57-043c3bb61039>\u001b[0m in \u001b[0;36m<module>\u001b[0;34m\u001b[0m\n\u001b[1;32m      4\u001b[0m                                                  \u001b[0mr\u001b[0m\u001b[0;34m=\u001b[0m\u001b[0mr_fl_mat\u001b[0m\u001b[0;34m[\u001b[0m\u001b[0;34m:\u001b[0m\u001b[0;34m,\u001b[0m \u001b[0mii\u001b[0m\u001b[0;34m]\u001b[0m\u001b[0;34m,\u001b[0m\u001b[0;34m\u001b[0m\u001b[0;34m\u001b[0m\u001b[0m\n\u001b[1;32m      5\u001b[0m                                                  v=psp_data.quantity('VR').value) \n\u001b[0;32m----> 6\u001b[0;31m     \u001b[0mplt\u001b[0m\u001b[0;34m.\u001b[0m\u001b[0mplot\u001b[0m\u001b[0;34m(\u001b[0m\u001b[0mphi_shift_mat_bf\u001b[0m\u001b[0;34m)\u001b[0m\u001b[0;34m\u001b[0m\u001b[0;34m\u001b[0m\u001b[0m\n\u001b[0m\u001b[1;32m      7\u001b[0m \u001b[0;34m\u001b[0m\u001b[0m\n\u001b[1;32m      8\u001b[0m     \u001b[0m_\u001b[0m \u001b[0;34m=\u001b[0m \u001b[0max\u001b[0m\u001b[0;34m.\u001b[0m\u001b[0mplot\u001b[0m\u001b[0;34m(\u001b[0m\u001b[0mnp\u001b[0m\u001b[0;34m.\u001b[0m\u001b[0mcos\u001b[0m\u001b[0;34m(\u001b[0m\u001b[0mphi_shift_mat_bf\u001b[0m\u001b[0;34m[\u001b[0m\u001b[0;34m:\u001b[0m\u001b[0;34m,\u001b[0m \u001b[0mii\u001b[0m\u001b[0;34m]\u001b[0m\u001b[0;34m)\u001b[0m\u001b[0;34m*\u001b[0m\u001b[0mr_fl_mat\u001b[0m\u001b[0;34m[\u001b[0m\u001b[0;34m:\u001b[0m\u001b[0;34m,\u001b[0m \u001b[0mii\u001b[0m\u001b[0;34m]\u001b[0m\u001b[0;34m,\u001b[0m \u001b[0mnp\u001b[0m\u001b[0;34m.\u001b[0m\u001b[0msin\u001b[0m\u001b[0;34m(\u001b[0m\u001b[0mphi_shift_mat_bf\u001b[0m\u001b[0;34m[\u001b[0m\u001b[0;34m:\u001b[0m\u001b[0;34m,\u001b[0m \u001b[0mii\u001b[0m\u001b[0;34m]\u001b[0m\u001b[0;34m)\u001b[0m\u001b[0;34m*\u001b[0m\u001b[0mr_fl_mat\u001b[0m\u001b[0;34m[\u001b[0m\u001b[0;34m:\u001b[0m\u001b[0;34m,\u001b[0m \u001b[0mii\u001b[0m\u001b[0;34m]\u001b[0m\u001b[0;34m)\u001b[0m\u001b[0;34m\u001b[0m\u001b[0;34m\u001b[0m\u001b[0m\n",
      "\u001b[0;32m~/opt/miniconda3/envs/hux/lib/python3.9/site-packages/matplotlib/pyplot.py\u001b[0m in \u001b[0;36mplot\u001b[0;34m(scalex, scaley, data, *args, **kwargs)\u001b[0m\n\u001b[1;32m   2838\u001b[0m \u001b[0;34m@\u001b[0m\u001b[0m_copy_docstring_and_deprecators\u001b[0m\u001b[0;34m(\u001b[0m\u001b[0mAxes\u001b[0m\u001b[0;34m.\u001b[0m\u001b[0mplot\u001b[0m\u001b[0;34m)\u001b[0m\u001b[0;34m\u001b[0m\u001b[0;34m\u001b[0m\u001b[0m\n\u001b[1;32m   2839\u001b[0m \u001b[0;32mdef\u001b[0m \u001b[0mplot\u001b[0m\u001b[0;34m(\u001b[0m\u001b[0;34m*\u001b[0m\u001b[0margs\u001b[0m\u001b[0;34m,\u001b[0m \u001b[0mscalex\u001b[0m\u001b[0;34m=\u001b[0m\u001b[0;32mTrue\u001b[0m\u001b[0;34m,\u001b[0m \u001b[0mscaley\u001b[0m\u001b[0;34m=\u001b[0m\u001b[0;32mTrue\u001b[0m\u001b[0;34m,\u001b[0m \u001b[0mdata\u001b[0m\u001b[0;34m=\u001b[0m\u001b[0;32mNone\u001b[0m\u001b[0;34m,\u001b[0m \u001b[0;34m**\u001b[0m\u001b[0mkwargs\u001b[0m\u001b[0;34m)\u001b[0m\u001b[0;34m:\u001b[0m\u001b[0;34m\u001b[0m\u001b[0;34m\u001b[0m\u001b[0m\n\u001b[0;32m-> 2840\u001b[0;31m     return gca().plot(\n\u001b[0m\u001b[1;32m   2841\u001b[0m         \u001b[0;34m*\u001b[0m\u001b[0margs\u001b[0m\u001b[0;34m,\u001b[0m \u001b[0mscalex\u001b[0m\u001b[0;34m=\u001b[0m\u001b[0mscalex\u001b[0m\u001b[0;34m,\u001b[0m \u001b[0mscaley\u001b[0m\u001b[0;34m=\u001b[0m\u001b[0mscaley\u001b[0m\u001b[0;34m,\u001b[0m\u001b[0;34m\u001b[0m\u001b[0;34m\u001b[0m\u001b[0m\n\u001b[1;32m   2842\u001b[0m         **({\"data\": data} if data is not None else {}), **kwargs)\n",
      "\u001b[0;32m~/opt/miniconda3/envs/hux/lib/python3.9/site-packages/matplotlib/axes/_axes.py\u001b[0m in \u001b[0;36mplot\u001b[0;34m(self, scalex, scaley, data, *args, **kwargs)\u001b[0m\n\u001b[1;32m   1743\u001b[0m         \u001b[0mlines\u001b[0m \u001b[0;34m=\u001b[0m \u001b[0;34m[\u001b[0m\u001b[0;34m*\u001b[0m\u001b[0mself\u001b[0m\u001b[0;34m.\u001b[0m\u001b[0m_get_lines\u001b[0m\u001b[0;34m(\u001b[0m\u001b[0;34m*\u001b[0m\u001b[0margs\u001b[0m\u001b[0;34m,\u001b[0m \u001b[0mdata\u001b[0m\u001b[0;34m=\u001b[0m\u001b[0mdata\u001b[0m\u001b[0;34m,\u001b[0m \u001b[0;34m**\u001b[0m\u001b[0mkwargs\u001b[0m\u001b[0;34m)\u001b[0m\u001b[0;34m]\u001b[0m\u001b[0;34m\u001b[0m\u001b[0;34m\u001b[0m\u001b[0m\n\u001b[1;32m   1744\u001b[0m         \u001b[0;32mfor\u001b[0m \u001b[0mline\u001b[0m \u001b[0;32min\u001b[0m \u001b[0mlines\u001b[0m\u001b[0;34m:\u001b[0m\u001b[0;34m\u001b[0m\u001b[0;34m\u001b[0m\u001b[0m\n\u001b[0;32m-> 1745\u001b[0;31m             \u001b[0mself\u001b[0m\u001b[0;34m.\u001b[0m\u001b[0madd_line\u001b[0m\u001b[0;34m(\u001b[0m\u001b[0mline\u001b[0m\u001b[0;34m)\u001b[0m\u001b[0;34m\u001b[0m\u001b[0;34m\u001b[0m\u001b[0m\n\u001b[0m\u001b[1;32m   1746\u001b[0m         \u001b[0mself\u001b[0m\u001b[0;34m.\u001b[0m\u001b[0m_request_autoscale_view\u001b[0m\u001b[0;34m(\u001b[0m\u001b[0mscalex\u001b[0m\u001b[0;34m=\u001b[0m\u001b[0mscalex\u001b[0m\u001b[0;34m,\u001b[0m \u001b[0mscaley\u001b[0m\u001b[0;34m=\u001b[0m\u001b[0mscaley\u001b[0m\u001b[0;34m)\u001b[0m\u001b[0;34m\u001b[0m\u001b[0;34m\u001b[0m\u001b[0m\n\u001b[1;32m   1747\u001b[0m         \u001b[0;32mreturn\u001b[0m \u001b[0mlines\u001b[0m\u001b[0;34m\u001b[0m\u001b[0;34m\u001b[0m\u001b[0m\n",
      "\u001b[0;32m~/opt/miniconda3/envs/hux/lib/python3.9/site-packages/matplotlib/axes/_base.py\u001b[0m in \u001b[0;36madd_line\u001b[0;34m(self, line)\u001b[0m\n\u001b[1;32m   1962\u001b[0m             \u001b[0mline\u001b[0m\u001b[0;34m.\u001b[0m\u001b[0mset_clip_path\u001b[0m\u001b[0;34m(\u001b[0m\u001b[0mself\u001b[0m\u001b[0;34m.\u001b[0m\u001b[0mpatch\u001b[0m\u001b[0;34m)\u001b[0m\u001b[0;34m\u001b[0m\u001b[0;34m\u001b[0m\u001b[0m\n\u001b[1;32m   1963\u001b[0m \u001b[0;34m\u001b[0m\u001b[0m\n\u001b[0;32m-> 1964\u001b[0;31m         \u001b[0mself\u001b[0m\u001b[0;34m.\u001b[0m\u001b[0m_update_line_limits\u001b[0m\u001b[0;34m(\u001b[0m\u001b[0mline\u001b[0m\u001b[0;34m)\u001b[0m\u001b[0;34m\u001b[0m\u001b[0;34m\u001b[0m\u001b[0m\n\u001b[0m\u001b[1;32m   1965\u001b[0m         \u001b[0;32mif\u001b[0m \u001b[0;32mnot\u001b[0m \u001b[0mline\u001b[0m\u001b[0;34m.\u001b[0m\u001b[0mget_label\u001b[0m\u001b[0;34m(\u001b[0m\u001b[0;34m)\u001b[0m\u001b[0;34m:\u001b[0m\u001b[0;34m\u001b[0m\u001b[0;34m\u001b[0m\u001b[0m\n\u001b[1;32m   1966\u001b[0m             \u001b[0mline\u001b[0m\u001b[0;34m.\u001b[0m\u001b[0mset_label\u001b[0m\u001b[0;34m(\u001b[0m\u001b[0;34m'_line%d'\u001b[0m \u001b[0;34m%\u001b[0m \u001b[0mlen\u001b[0m\u001b[0;34m(\u001b[0m\u001b[0mself\u001b[0m\u001b[0;34m.\u001b[0m\u001b[0mlines\u001b[0m\u001b[0;34m)\u001b[0m\u001b[0;34m)\u001b[0m\u001b[0;34m\u001b[0m\u001b[0;34m\u001b[0m\u001b[0m\n",
      "\u001b[0;32m~/opt/miniconda3/envs/hux/lib/python3.9/site-packages/matplotlib/axes/_base.py\u001b[0m in \u001b[0;36m_update_line_limits\u001b[0;34m(self, line)\u001b[0m\n\u001b[1;32m   1984\u001b[0m         \u001b[0mFigures\u001b[0m \u001b[0mout\u001b[0m \u001b[0mthe\u001b[0m \u001b[0mdata\u001b[0m \u001b[0mlimit\u001b[0m \u001b[0mof\u001b[0m \u001b[0mthe\u001b[0m \u001b[0mgiven\u001b[0m \u001b[0mline\u001b[0m\u001b[0;34m,\u001b[0m \u001b[0mupdating\u001b[0m \u001b[0mself\u001b[0m\u001b[0;34m.\u001b[0m\u001b[0mdataLim\u001b[0m\u001b[0;34m.\u001b[0m\u001b[0;34m\u001b[0m\u001b[0;34m\u001b[0m\u001b[0m\n\u001b[1;32m   1985\u001b[0m         \"\"\"\n\u001b[0;32m-> 1986\u001b[0;31m         \u001b[0mpath\u001b[0m \u001b[0;34m=\u001b[0m \u001b[0mline\u001b[0m\u001b[0;34m.\u001b[0m\u001b[0mget_path\u001b[0m\u001b[0;34m(\u001b[0m\u001b[0;34m)\u001b[0m\u001b[0;34m\u001b[0m\u001b[0;34m\u001b[0m\u001b[0m\n\u001b[0m\u001b[1;32m   1987\u001b[0m         \u001b[0;32mif\u001b[0m \u001b[0mpath\u001b[0m\u001b[0;34m.\u001b[0m\u001b[0mvertices\u001b[0m\u001b[0;34m.\u001b[0m\u001b[0msize\u001b[0m \u001b[0;34m==\u001b[0m \u001b[0;36m0\u001b[0m\u001b[0;34m:\u001b[0m\u001b[0;34m\u001b[0m\u001b[0;34m\u001b[0m\u001b[0m\n\u001b[1;32m   1988\u001b[0m             \u001b[0;32mreturn\u001b[0m\u001b[0;34m\u001b[0m\u001b[0;34m\u001b[0m\u001b[0m\n",
      "\u001b[0;32m~/opt/miniconda3/envs/hux/lib/python3.9/site-packages/matplotlib/lines.py\u001b[0m in \u001b[0;36mget_path\u001b[0;34m(self)\u001b[0m\n\u001b[1;32m   1009\u001b[0m         \"\"\"\n\u001b[1;32m   1010\u001b[0m         \u001b[0;32mif\u001b[0m \u001b[0mself\u001b[0m\u001b[0;34m.\u001b[0m\u001b[0m_invalidy\u001b[0m \u001b[0;32mor\u001b[0m \u001b[0mself\u001b[0m\u001b[0;34m.\u001b[0m\u001b[0m_invalidx\u001b[0m\u001b[0;34m:\u001b[0m\u001b[0;34m\u001b[0m\u001b[0;34m\u001b[0m\u001b[0m\n\u001b[0;32m-> 1011\u001b[0;31m             \u001b[0mself\u001b[0m\u001b[0;34m.\u001b[0m\u001b[0mrecache\u001b[0m\u001b[0;34m(\u001b[0m\u001b[0;34m)\u001b[0m\u001b[0;34m\u001b[0m\u001b[0;34m\u001b[0m\u001b[0m\n\u001b[0m\u001b[1;32m   1012\u001b[0m         \u001b[0;32mreturn\u001b[0m \u001b[0mself\u001b[0m\u001b[0;34m.\u001b[0m\u001b[0m_path\u001b[0m\u001b[0;34m\u001b[0m\u001b[0;34m\u001b[0m\u001b[0m\n\u001b[1;32m   1013\u001b[0m \u001b[0;34m\u001b[0m\u001b[0m\n",
      "\u001b[0;32m~/opt/miniconda3/envs/hux/lib/python3.9/site-packages/matplotlib/lines.py\u001b[0m in \u001b[0;36mrecache\u001b[0;34m(self, always)\u001b[0m\n\u001b[1;32m    660\u001b[0m             \u001b[0my\u001b[0m \u001b[0;34m=\u001b[0m \u001b[0mself\u001b[0m\u001b[0;34m.\u001b[0m\u001b[0m_y\u001b[0m\u001b[0;34m\u001b[0m\u001b[0;34m\u001b[0m\u001b[0m\n\u001b[1;32m    661\u001b[0m \u001b[0;34m\u001b[0m\u001b[0m\n\u001b[0;32m--> 662\u001b[0;31m         \u001b[0mself\u001b[0m\u001b[0;34m.\u001b[0m\u001b[0m_xy\u001b[0m \u001b[0;34m=\u001b[0m \u001b[0mnp\u001b[0m\u001b[0;34m.\u001b[0m\u001b[0mcolumn_stack\u001b[0m\u001b[0;34m(\u001b[0m\u001b[0mnp\u001b[0m\u001b[0;34m.\u001b[0m\u001b[0mbroadcast_arrays\u001b[0m\u001b[0;34m(\u001b[0m\u001b[0mx\u001b[0m\u001b[0;34m,\u001b[0m \u001b[0my\u001b[0m\u001b[0;34m)\u001b[0m\u001b[0;34m)\u001b[0m\u001b[0;34m.\u001b[0m\u001b[0mastype\u001b[0m\u001b[0;34m(\u001b[0m\u001b[0mfloat\u001b[0m\u001b[0;34m)\u001b[0m\u001b[0;34m\u001b[0m\u001b[0;34m\u001b[0m\u001b[0m\n\u001b[0m\u001b[1;32m    663\u001b[0m         \u001b[0mself\u001b[0m\u001b[0;34m.\u001b[0m\u001b[0m_x\u001b[0m\u001b[0;34m,\u001b[0m \u001b[0mself\u001b[0m\u001b[0;34m.\u001b[0m\u001b[0m_y\u001b[0m \u001b[0;34m=\u001b[0m \u001b[0mself\u001b[0m\u001b[0;34m.\u001b[0m\u001b[0m_xy\u001b[0m\u001b[0;34m.\u001b[0m\u001b[0mT\u001b[0m  \u001b[0;31m# views\u001b[0m\u001b[0;34m\u001b[0m\u001b[0;34m\u001b[0m\u001b[0m\n\u001b[1;32m    664\u001b[0m \u001b[0;34m\u001b[0m\u001b[0m\n",
      "\u001b[0;32m<__array_function__ internals>\u001b[0m in \u001b[0;36mcolumn_stack\u001b[0;34m(*args, **kwargs)\u001b[0m\n",
      "\u001b[0;32m~/opt/miniconda3/envs/hux/lib/python3.9/site-packages/numpy/lib/shape_base.py\u001b[0m in \u001b[0;36mcolumn_stack\u001b[0;34m(tup)\u001b[0m\n\u001b[1;32m    654\u001b[0m             \u001b[0marr\u001b[0m \u001b[0;34m=\u001b[0m \u001b[0marray\u001b[0m\u001b[0;34m(\u001b[0m\u001b[0marr\u001b[0m\u001b[0;34m,\u001b[0m \u001b[0mcopy\u001b[0m\u001b[0;34m=\u001b[0m\u001b[0;32mFalse\u001b[0m\u001b[0;34m,\u001b[0m \u001b[0msubok\u001b[0m\u001b[0;34m=\u001b[0m\u001b[0;32mTrue\u001b[0m\u001b[0;34m,\u001b[0m \u001b[0mndmin\u001b[0m\u001b[0;34m=\u001b[0m\u001b[0;36m2\u001b[0m\u001b[0;34m)\u001b[0m\u001b[0;34m.\u001b[0m\u001b[0mT\u001b[0m\u001b[0;34m\u001b[0m\u001b[0;34m\u001b[0m\u001b[0m\n\u001b[1;32m    655\u001b[0m         \u001b[0marrays\u001b[0m\u001b[0;34m.\u001b[0m\u001b[0mappend\u001b[0m\u001b[0;34m(\u001b[0m\u001b[0marr\u001b[0m\u001b[0;34m)\u001b[0m\u001b[0;34m\u001b[0m\u001b[0;34m\u001b[0m\u001b[0m\n\u001b[0;32m--> 656\u001b[0;31m     \u001b[0;32mreturn\u001b[0m \u001b[0m_nx\u001b[0m\u001b[0;34m.\u001b[0m\u001b[0mconcatenate\u001b[0m\u001b[0;34m(\u001b[0m\u001b[0marrays\u001b[0m\u001b[0;34m,\u001b[0m \u001b[0;36m1\u001b[0m\u001b[0;34m)\u001b[0m\u001b[0;34m\u001b[0m\u001b[0;34m\u001b[0m\u001b[0m\n\u001b[0m\u001b[1;32m    657\u001b[0m \u001b[0;34m\u001b[0m\u001b[0m\n\u001b[1;32m    658\u001b[0m \u001b[0;34m\u001b[0m\u001b[0m\n",
      "\u001b[0;32m<__array_function__ internals>\u001b[0m in \u001b[0;36mconcatenate\u001b[0;34m(*args, **kwargs)\u001b[0m\n",
      "\u001b[0;31mKeyboardInterrupt\u001b[0m: "
     ]
    },
    {
     "name": "stdout",
     "output_type": "stream",
     "text": [
      "Error in callback <function install_repl_displayhook.<locals>.post_execute at 0x1115215e0> (for post_execute):\n"
     ]
    }
   ],
   "source": [
    "fig, ax = plt.subplots()\n",
    "for ii in range(len(p)):\n",
    "    phi_shift_mat_bf = compute_phi_shift_forward(p=lon_psp*(np.pi/180), \n",
    "                                                 r=r_fl_mat[:, ii],\n",
    "                                                 v=psp_data.quantity('VR').value) \n",
    "    plt.plot(phi_shift_mat_bf)\n",
    "    \n",
    "    _ = ax.plot(np.cos(phi_shift_mat_bf[:, ii])*r_fl_mat[:, ii], np.sin(phi_shift_mat_bf[:, ii])*r_fl_mat[:, ii])\n",
    "\n",
    "ax.set_title(\"Ballistic-f model \")\n",
    "ax.set_xlabel(\"Carrington X / AU \")\n",
    "ax.set_ylabel(\"Carrington Y / AU \")\n",
    "_ = plt.axis(\"equal\")\n",
    "\n",
    "plt.savefig('figures/ballistic_f.png')"
   ]
  },
  {
   "cell_type": "code",
   "execution_count": null,
   "id": "distinguished-peninsula",
   "metadata": {},
   "outputs": [],
   "source": [
    "\n",
    "vr_sampled_hux_f_omni = hux_f_model.sample_at_coords(earth_coords.lon,\n",
    "                                                     earth_coords.lat,\n",
    "                                                     earth_coords.radius)\n",
    "\n",
    "vr_sampled_hux_b_omni = hux_b_model.sample_at_coords(earth_coords.lon,\n",
    "                                                     earth_coords.lat,\n",
    "                                                     earth_coords.radius)\n",
    "\n",
    "vr_sampled_mhd_omni = vr_model.sample_at_coords(earth_coords.lon,\n",
    "                                                earth_coords.lat,\n",
    "                                                earth_coords.radius)"
   ]
  },
  {
   "cell_type": "code",
   "execution_count": null,
   "id": "norwegian-coffee",
   "metadata": {},
   "outputs": [],
   "source": [
    "fig, ax = plt.subplots(figsize=(15, 5))\n",
    "ax.plot(omni_data.index, vr_sampled_mhd_omni, color=\"b\", label='MHD model')\n",
    "ax.plot(omni_data.index, vr_sampled_hux_f_omni, color=\"r\", label='HUX-f model')\n",
    "ax.plot(omni_data.index, vr_sampled_hux_b_omni, color=\"g\", label='HUX-b model')\n",
    "ax.plot(omni_data.index, omni_data.quantity('V'),color=\"k\", label='OMNI')\n",
    "\n",
    "ax.set_ylabel(r'$v_{r}$ (km/s)')\n",
    "ax.legend()\n",
    "ax.set_title(\"Comparison of model results with PSP in situ measurements for CR2210\")\n",
    "fig.autofmt_xdate()\n",
    "\n",
    "#plt.savefig('figures/'+ case_study + '/omni_comparison_cr' + str(cr) + '_time.png')"
   ]
  },
  {
   "cell_type": "code",
   "execution_count": null,
   "id": "golden-bridal",
   "metadata": {},
   "outputs": [],
   "source": [
    "min_index = np.argmin(earth_coords.lon)"
   ]
  },
  {
   "cell_type": "code",
   "execution_count": null,
   "id": "sixth-certification",
   "metadata": {},
   "outputs": [],
   "source": [
    "fig, ax = plt.subplots(figsize=(15, 5))\n",
    "ax.plot(np.array(earth_coords.lon[:min_index])+360, vr_sampled_mhd_omni[:min_index], color=\"b\", label=\"MHD model\")\n",
    "ax.plot(np.array(earth_coords.lon[:min_index])+360, vr_sampled_hux_f_omni[:min_index], color=\"r\", label=\"HUX-f model\")\n",
    "ax.plot(np.array(earth_coords.lon[:min_index])+360, vr_sampled_hux_b_omni[:min_index], color=\"g\", label=\"HUX-b model\")\n",
    "ax.plot(np.array(earth_coords.lon[:min_index])+360, omni_data.quantity('V')[:min_index], color=\"k\", label=\"OMNI\")\n",
    "\n",
    "ax.plot(earth_coords.lon[min_index+1:], vr_sampled_mhd_omni[min_index+1:], color=\"b\")\n",
    "ax.plot(earth_coords.lon[min_index+1:], vr_sampled_hux_f_omni[min_index+1:], color=\"r\")\n",
    "ax.plot(earth_coords.lon[min_index+1:], vr_sampled_hux_b_omni[min_index+1:], color=\"g\")\n",
    "ax.plot(earth_coords.lon[min_index+1:], omni_data.quantity('V')[min_index+1:], color=\"k\")\n",
    "\n",
    "ax.set_ylabel(r'$v_{r}$ (km/s)')\n",
    "ax.set_xlabel(\"Longitude (Deg.)\", fontsize=fs1)\n",
    "ax.legend()\n",
    "ax.set_title(\"Comparison of model results with OMNI (Earth) in situ measurements for CR\" + str(cr))\n",
    "fig.autofmt_xdate()\n",
    "\n",
    "#plt.savefig('figures/'+ case_study + '/omni_comparison_cr' + str(cr) + '_lon.png')"
   ]
  },
  {
   "cell_type": "markdown",
   "id": "great-movie",
   "metadata": {},
   "source": [
    "# Mapping PSP to OMNI (Earth) using the HUX-f and Ballistic Technique"
   ]
  },
  {
   "cell_type": "markdown",
   "id": "boolean-bullet",
   "metadata": {},
   "source": [
    "# Assumptions: \n",
    "#### 1.  Latitude is constant in PSP trajectory coordinates \n",
    "* Note that HUX is dependent on $\\phi$ and $r$ only. \n",
    "\n",
    "#### 2.  PSP and Earth are aligned in latitude. \n",
    "#### 3.  $\\phi$ is monotonically increasing - notice that in perihelion 1 psp orbit loops back. \n",
    "\n",
    "\n",
    "#### 4. Periodic Boundary Conditions"
   ]
  },
  {
   "cell_type": "code",
   "execution_count": null,
   "id": "functioning-harmony",
   "metadata": {},
   "outputs": [],
   "source": [
    "psp_coords.lon"
   ]
  },
  {
   "cell_type": "code",
   "execution_count": null,
   "id": "clear-horizontal",
   "metadata": {},
   "outputs": [],
   "source": [
    "fig, ax = plt.subplots(nrows=1, ncols=2, constrained_layout=True, figsize=(15, 4))\n",
    "\n",
    "\n",
    "## psp latitude trajectory \n",
    "mu, sigma = scipy.stats.norm.fit(psp_traj.coords.lat.value)\n",
    "\n",
    "n , bins, _ = ax[0].hist(psp_traj.coords.lat.value, 25, density=1)\n",
    "_ = ax[0].set_title(\"PSP Latitude location (HG) \\n Results: mean = %.2f, median = %.2f, std = %.2f\" % \\\n",
    "                       (mu, np.median(psp_traj.coords.lat.value), sigma), fontsize=8)\n",
    "_ = ax[0].set_xlabel(\"PSP Latitude\")\n",
    "_ = ax[0].set_ylabel(\"probability density\") \n",
    "\n",
    "best_fit_line = scipy.stats.norm.pdf(bins, mu, sigma)\n",
    "_ = ax[0].plot(bins, best_fit_line)\n",
    "\n",
    "\n",
    "## earth latitude trajectory \n",
    "mu, sigma = scipy.stats.norm.fit(earth_traj.coords.lat.value)\n",
    "\n",
    "n , bins, _ = ax[1].hist(earth_traj.coords.lat.value, 25, density=1)\n",
    "_ = ax[1].set_title(\"Earth Latitude location (HG) \\n Results: mean = %.2f, median = %.2f, std = %.2f\" % \\\n",
    "                       (mu, np.median(earth_traj.coords.lat.value), sigma), fontsize=8)\n",
    "_ = ax[1].set_xlabel(\"Earth Latitude\")\n",
    "_ = ax[1].set_ylabel(\"probability density\") \n",
    "\n",
    "best_fit_line = scipy.stats.norm.pdf(bins, mu, sigma)\n",
    "_ = ax[1].plot(bins, best_fit_line)"
   ]
  },
  {
   "cell_type": "code",
   "execution_count": null,
   "id": "variable-thanksgiving",
   "metadata": {},
   "outputs": [],
   "source": [
    "fig, ax = plt.subplots(nrows=1, ncols=2, constrained_layout=True, figsize=(15, 4))\n",
    "\n",
    "\n",
    "## psp radial trajectory \n",
    "mu, sigma = scipy.stats.norm.fit(psp_traj.coords.radius.to(u.solRad).value)\n",
    "\n",
    "n , bins, _ = ax[0].hist(psp_traj.coords.radius.to(u.solRad).value, 25, density=1)\n",
    "_ = ax[0].set_title(\"PSP Radial location (HG) \\n Results: mean = %.2f, median = %.2f, std = %.2f\" % \\\n",
    "                       (mu, np.median(psp_traj.coords.radius.to(u.solRad).value), sigma), fontsize=8)\n",
    "_ = ax[0].set_xlabel(\"Solar Radii\")\n",
    "_ = ax[0].set_ylabel(\"probability density\") \n",
    "\n",
    "best_fit_line = scipy.stats.norm.pdf(bins, mu, sigma)\n",
    "_ = ax[0].plot(bins, best_fit_line)\n",
    "\n",
    "\n",
    "## earth radial trajectory \n",
    "mu, sigma = scipy.stats.norm.fit(earth_traj.coords.radius.to(u.solRad).value)\n",
    "\n",
    "n , bins, _ = ax[1].hist(earth_traj.coords.radius.to(u.solRad).value, 25, density=1)\n",
    "_ = ax[1].set_title(\"Earth Radial location (HG) \\n Results: mean = %.2f, median = %.2f, std = %.2f\" % \\\n",
    "                       (mu, np.median(earth_traj.coords.radius.to(u.solRad).value), sigma), fontsize=8)\n",
    "_ = ax[1].set_xlabel(\"Solar Radii\")\n",
    "_ = ax[1].set_ylabel(\"probability density\") \n",
    "\n",
    "best_fit_line = scipy.stats.norm.pdf(bins, mu, sigma)\n",
    "_ = ax[1].plot(bins, best_fit_line)"
   ]
  },
  {
   "cell_type": "code",
   "execution_count": null,
   "id": "automotive-scale",
   "metadata": {},
   "outputs": [],
   "source": [
    "fig, ax = plt.subplots(figsize=(15, 5))\n",
    "\n",
    "_ = ax.scatter(earth_coords.lon, omni_data.quantity('V'), color=\"b\", s=size, label=\"OMNI\")\n",
    "\n",
    "_ = ax.scatter(psp_coords.lon, psp_data.quantity('VR'), color=\"k\", s=size, label=\"PSP\")\n",
    "\n",
    "_ = ax.set_ylabel(r'$v_{r}$ (km/s)', fontsize=fs1)\n",
    "_ = ax.set_xlabel(\"Longitude (Deg.)\", fontsize=fs1)\n",
    "_ = ax.legend()\n",
    "_ = ax.set_title(\"PSP and OMNI Observations for CR\" + str(cr))\n",
    "#plt.savefig('figures/'+ case_study + '/omni_and_psp_vr_vs_carringtonlon' + str(cr) +'.png')"
   ]
  },
  {
   "cell_type": "markdown",
   "id": "capable-university",
   "metadata": {},
   "source": [
    "# Ballistic Mapping\n",
    " * Evaluate the characteristic lines - do they intersect? This happens when the PSP velocity function is decreasing. Otherwise, when the PSP velocity function is increasing it results in rarefaction wave. \n",
    " "
   ]
  },
  {
   "cell_type": "code",
   "execution_count": null,
   "id": "lucky-sensitivity",
   "metadata": {},
   "outputs": [],
   "source": [
    "r_mean = np.linspace(np.mean(psp_coords.radius), np.mean(earth_coords.radius), 100)\n",
    "r_min = np.linspace(np.min(psp_coords.radius), np.mean(earth_coords.radius), 100)\n",
    "r_max = np.linspace(np.max(psp_coords.radius), np.mean(earth_coords.radius), 100)"
   ]
  },
  {
   "cell_type": "code",
   "execution_count": null,
   "id": "affected-candle",
   "metadata": {},
   "outputs": [],
   "source": [
    "omega_rot = (2 * np.pi) / (25.38 * 86400)"
   ]
  },
  {
   "cell_type": "code",
   "execution_count": null,
   "id": "damaged-conservative",
   "metadata": {
    "scrolled": false
   },
   "outputs": [],
   "source": [
    "fig, ax = plt.subplots(figsize = (15,5))\n",
    "\n",
    "\n",
    "jj = 0\n",
    "for ii in psp_coords.lon:\n",
    "    phi_shift = -omega_rot*(r_min[1:]- r_min[:-1])/(psp_data.quantity('VR').value[jj])*np.arange(r_min[1:].shape[0])\n",
    "\n",
    "    if not np.isnan(phi_shift).all():\n",
    "        ax.plot((ii.to(u.rad).value + phi_shift.value)*(180/np.pi), r_min[1:].to(u.au))\n",
    "    jj+=1\n",
    "\n",
    "ax.set_xlabel(\"Carrington Longitue (Deg.)\")\n",
    "ax.set_ylabel(\"$r$ (AU)\")\n",
    "ax.set_title(\"Intersecting Characteristics Ballistic Approximation \\n PSP to Earth Mapping\")"
   ]
  },
  {
   "cell_type": "code",
   "execution_count": null,
   "id": "executed-regulation",
   "metadata": {},
   "outputs": [],
   "source": [
    "res_ballistic_f_min = apply_ballistic_approximation(psp_data.quantity('VR').value, \n",
    "                                                    r_min.value[-1] - r_min.value[0], \n",
    "                                                    psp_coords.lon.to(u.radian).value)*180/np.pi\n",
    "res_ballistic_f_mean = apply_ballistic_approximation(psp_data.quantity('VR').value, \n",
    "                                                    r_mean.value[-1] - r_mean.value[0], \n",
    "                                                    psp_coords.lon.to(u.radian).value)*180/np.pi\n",
    "res_ballistic_f_max = apply_ballistic_approximation(psp_data.quantity('VR').value, \n",
    "                                                    r_max.value[-1] - r_max.value[0], \n",
    "                                                    psp_coords.lon.to(u.radian).value)*180/np.pi"
   ]
  },
  {
   "cell_type": "code",
   "execution_count": null,
   "id": "printable-witness",
   "metadata": {},
   "outputs": [],
   "source": [
    "fig, ax = plt.subplots(figsize=(15, 5))\n",
    "_ = ax.scatter(np.array(earth_coords.lon), omni_data.quantity('V'), color=\"b\", s=size, label=\"OMNI\")\n",
    "\n",
    "_ = ax.scatter(res_ballistic_f_max, psp_data.quantity('VR'),s=2, label=\"Ballistic-f max\")\n",
    "_ = ax.scatter(res_ballistic_f_mean, psp_data.quantity('VR'), s=2,label=\"Ballistic-f mean\")\n",
    "_ = ax.scatter(res_ballistic_f_min, psp_data.quantity('VR').value, s=2,label=\"Ballistic-f min\")\n",
    "\n",
    "\n",
    "_ = ax.set_xticks(ticks=[0, 90, 180, 270, 360])\n",
    "_ = ax.set_title(\"Mapping from PSP to OMNI (Earth) using Ballistic-f Technique\")\n",
    "_ = ax.set_ylabel(r'$v_{r}$ (km/s)', fontsize=fs1)\n",
    "_ = ax.set_xlabel(\"Longitude (Deg.)\", fontsize=fs1)\n",
    "_ = ax.legend()"
   ]
  },
  {
   "cell_type": "markdown",
   "id": "explicit-alabama",
   "metadata": {},
   "source": [
    "\n",
    "# HUX-f Technique\n",
    "# 1D interpolation - input $\\phi$ ranges from [0, 2$\\pi$]"
   ]
  },
  {
   "cell_type": "code",
   "execution_count": null,
   "id": "statistical-teacher",
   "metadata": {},
   "outputs": [],
   "source": [
    "# get longitude limits\n",
    "min_lon = np.inf\n",
    "max_lon = -np.inf\n",
    "\n",
    "for ii in range(len(psp_coords.lon.value)):\n",
    "    if psp_coords.lon.value[ii] < min_lon and not math.isnan(psp_data.quantity('VR').value[ii]):\n",
    "        min_lon = psp_coords.lon.value[ii]\n",
    "    if psp_coords.lon.value[ii] > max_lon and not math.isnan(psp_data.quantity('VR').value[ii]):\n",
    "        max_lon = psp_coords.lon.value[ii]"
   ]
  },
  {
   "cell_type": "code",
   "execution_count": null,
   "id": "daily-dover",
   "metadata": {},
   "outputs": [],
   "source": [
    "# create uniform phi 1d mesh grid. \n",
    "\n",
    "phi_array = np.linspace(0, 360, 361)"
   ]
  },
  {
   "cell_type": "code",
   "execution_count": null,
   "id": "sustained-friend",
   "metadata": {},
   "outputs": [],
   "source": [
    "# drop NaNs\n",
    "nan_idx = np.isfinite(psp_data.quantity('VR').value)\n",
    "v_vec = psp_data.quantity('VR').value[nan_idx]\n",
    "interp = interpolate.interp1d(psp_coords.lon.value[nan_idx], \\\n",
    "                              v_vec, fill_value=(400, 400),  bounds_error=False)\n",
    "psp_interp = interp(phi_array)"
   ]
  },
  {
   "cell_type": "code",
   "execution_count": null,
   "id": "intelligent-passing",
   "metadata": {},
   "outputs": [],
   "source": [
    "# convert to radians\n",
    "p_hux = phi_array * np.pi/180\n",
    "# delta phi \n",
    "dp_vec_hux = p_hux[1:] - p_hux[:-1]"
   ]
  },
  {
   "cell_type": "code",
   "execution_count": null,
   "id": "entire-relations",
   "metadata": {},
   "outputs": [],
   "source": [
    "fig, ax = plt.subplots(figsize=(10, 5))\n",
    "ax.plot(phi_array, psp_interp)\n",
    "ax.scatter(psp_coords.lon.value, psp_data.quantity('VR').value)\n",
    "ax.set_xlim(min_lon, max_lon)\n"
   ]
  },
  {
   "cell_type": "code",
   "execution_count": null,
   "id": "satellite-level",
   "metadata": {},
   "outputs": [],
   "source": [
    "res_hux_f_min = apply_forward_upwind_model(r_initial=psp_interp,\n",
    "                                        dr_vec=r_min.value[1:] - r_min.value[:-1],\n",
    "                                        dp_vec=dp_vec_hux, \n",
    "                                        add_v_acc=False, \n",
    "                                        r0=r_min[0].value)\n",
    "\n",
    "\n",
    "res_hux_f_max = apply_forward_upwind_model(r_initial=psp_interp,\n",
    "                                        dr_vec=r_max.value[1:] - r_max.value[:-1],\n",
    "                                        dp_vec=dp_vec_hux, \n",
    "                                        add_v_acc=False, \n",
    "                                        r0=r_max[0].value)\n",
    "\n",
    "\n",
    "res_hux_f_mean = apply_forward_upwind_model(r_initial=psp_interp,\n",
    "                                        dr_vec=r_mean.value[1:] - r_mean.value[:-1],\n",
    "                                        dp_vec=dp_vec_hux, \n",
    "                                        add_v_acc=False, \n",
    "                                        r0=r_mean[0].value)"
   ]
  },
  {
   "cell_type": "code",
   "execution_count": null,
   "id": "sapphire-howard",
   "metadata": {},
   "outputs": [],
   "source": [
    "# phi limits \n",
    "np.nanmax(res_ballistic_f_max)"
   ]
  },
  {
   "cell_type": "code",
   "execution_count": null,
   "id": "maritime-timing",
   "metadata": {},
   "outputs": [],
   "source": [
    "fig, ax = plt.subplots(figsize=(10, 7))\n",
    "_ = ax.scatter(np.array(earth_coords.lon), omni_data.quantity('V'), color=\"b\", s=size, label=\"OMNI\")\n",
    "\n",
    "_ = ax.plot(phi_array, res_hux_f_mean, color=\"r\", label=\"HUX-f mean\")\n",
    "_ = ax.plot(phi_array, res_hux_f_min, color=\"g\", label=\"HUX-f min\")\n",
    "_ = ax.plot(phi_array, res_hux_f_max, color=\"m\", label=\"HUX-f max\")\n",
    "\n",
    "\n",
    "_ = ax.scatter(res_ballistic_f_max, psp_data.quantity('VR'),s=2, label=\"Ballistic-f max\")\n",
    "_ = ax.scatter(res_ballistic_f_mean, psp_data.quantity('VR'), s=2,label=\"Ballistic-f mean\")\n",
    "_ = ax.scatter(res_ballistic_f_min, psp_data.quantity('VR').value, s=2,label=\"Ballistic-f min\")\n",
    "\n",
    "\n",
    "_ = ax.set_xlim(np.nanmin(res_ballistic_f_min), np.nanmax(res_ballistic_f_max))\n",
    "\n",
    "_ = ax.set_title(\"Mapping from PSP to OMNI (Earth) using HUX-f Technique \\n mean = %.2f, min = %.2f, max = %.2f\" % \\\n",
    "                       (np.min(psp_coords.radius).to(u.solRad).value,\n",
    "                        np.mean(psp_coords.radius).to(u.solRad).value,\n",
    "                        np.max(psp_coords.radius).to(u.solRad).value))\n",
    "                 \n",
    "_ = ax.set_ylabel(r'$v_{r}$ (km/s)', fontsize=fs1)\n",
    "_ = ax.set_xlabel(\"Longitude (Deg.)\", fontsize=fs1)\n",
    "_ = ax.legend()"
   ]
  },
  {
   "cell_type": "markdown",
   "id": "blessed-seventh",
   "metadata": {},
   "source": [
    "# Map OMNI to PSP using the HUX-b and Ballistic Techniques"
   ]
  },
  {
   "cell_type": "markdown",
   "id": "designed-timothy",
   "metadata": {},
   "source": [
    "# Ballistic Mapping\n",
    " * evaluate the characteristic lines - do they intersect? This happens when the OMNI velocity function is increasing. Otherwise, when the OMNI velocity function is decreasing it results in rarefaction wave. \n",
    " "
   ]
  },
  {
   "cell_type": "code",
   "execution_count": null,
   "id": "essential-richmond",
   "metadata": {},
   "outputs": [],
   "source": [
    "fig, ax = plt.subplots(figsize = (10,5))\n",
    "\n",
    "\n",
    "jj = 0\n",
    "for ii in earth_coords.lon:\n",
    "    phi_shift = -omega_rot*(r_min[:-1]- r_min[1:])/(omni_data.quantity('V').value[jj])*np.arange(r_min[1:].shape[0])\n",
    "\n",
    "    if not np.isnan(phi_shift).all():\n",
    "        ax.plot((ii.to(u.rad).value + phi_shift.value)*(180/np.pi), r_min[1:].to(u.au)[::-1])\n",
    "    jj+=1\n",
    "\n",
    "ax.set_xlabel(\"Carrington Longitue (Deg.)\")\n",
    "ax.set_ylabel(\"$r$ (AU)\")\n",
    "ax.set_title(\"Intersecting Characteristics Ballistic Approximation \\n Earth to PSP Mapping\")"
   ]
  },
  {
   "cell_type": "code",
   "execution_count": null,
   "id": "adapted-highlight",
   "metadata": {},
   "outputs": [],
   "source": [
    "res_ballistic_b_min = apply_ballistic_approximation(omni_data.quantity('V').value, \n",
    "                                                    r_min.value[0] - r_min.value[-1], \n",
    "                                                    earth_coords.lon.to(u.radian).value)*180/np.pi\n",
    "res_ballistic_b_mean = apply_ballistic_approximation(omni_data.quantity('V').value, \n",
    "                                                    r_mean.value[0] - r_mean.value[-1], \n",
    "                                                    earth_coords.lon.to(u.radian).value)*180/np.pi\n",
    "res_ballistic_b_max = apply_ballistic_approximation(omni_data.quantity('V').value, \n",
    "                                                    r_max.value[0] - r_max.value[-1], \n",
    "                                                    earth_coords.lon.to(u.radian).value)*180/np.pi"
   ]
  },
  {
   "cell_type": "code",
   "execution_count": null,
   "id": "exotic-modification",
   "metadata": {},
   "outputs": [],
   "source": [
    "fig, ax = plt.subplots(figsize=(15, 5))\n",
    "_ = ax.scatter(np.array(psp_coords.lon), psp_data.quantity('VR'), color=\"b\", s=size, label=\"OMNI\")\n",
    "\n",
    "_ = ax.scatter(res_ballistic_b_max, omni_data.quantity('V'),s=2, label=\"Ballistic-b max\")\n",
    "_ = ax.scatter(res_ballistic_b_mean, omni_data.quantity('V'), s=2,label=\"Ballistic-b mean\")\n",
    "_ = ax.scatter(res_ballistic_b_min, omni_data.quantity('V').value, s=2,label=\"Ballistic-b min\")\n",
    "\n",
    "_ = ax.set_xticks(ticks=[0, 90, 180, 270, 360])\n",
    "_ = ax.set_title(\"Mapping from OMNI (Earth) to PSP using Ballistic-b Technique\")\n",
    "_ = ax.set_ylabel(r'$v_{r}$ (km/s)', fontsize=fs1)\n",
    "_ = ax.set_xlabel(\"Longitude (Deg.)\", fontsize=fs1)\n",
    "_ = ax.legend()"
   ]
  },
  {
   "cell_type": "markdown",
   "id": "textile-heaven",
   "metadata": {},
   "source": [
    "# HUX-b Technique\n",
    "\n",
    "# 1D interpolation - input $\\phi$ ranges from [0, 2$\\pi$]"
   ]
  },
  {
   "cell_type": "code",
   "execution_count": null,
   "id": "married-influence",
   "metadata": {},
   "outputs": [],
   "source": [
    "# drop NaNs\n",
    "nan_idx = np.isfinite(omni_data.quantity('V').value)\n",
    "v_vec = omni_data.quantity('V').value[nan_idx]\n",
    "interp = interpolate.interp1d(earth_coords.lon.value[nan_idx], \\\n",
    "                              v_vec, fill_value=(400, 400),  bounds_error=False)\n",
    "omni_interp = interp(phi_array)"
   ]
  },
  {
   "cell_type": "code",
   "execution_count": null,
   "id": "adequate-numbers",
   "metadata": {},
   "outputs": [],
   "source": [
    "fig, ax = plt.subplots(figsize=(15, 5))\n",
    "ax.plot(phi_array, omni_interp)\n",
    "ax.scatter(earth_coords.lon.value, omni_data.quantity('V').value)"
   ]
  },
  {
   "cell_type": "code",
   "execution_count": null,
   "id": "proof-creation",
   "metadata": {},
   "outputs": [],
   "source": [
    "hux_b_full_res = apply_hux_b_model(r_final=omni_interp, \n",
    "                                         dr_vec=r_min.value[1:] - r_min.value[:-1], \n",
    "                                         dp_vec=dp_vec_hux, \n",
    "                                         r0=r_min[0].value, \n",
    "                                         add_v_acc=False).T"
   ]
  },
  {
   "cell_type": "code",
   "execution_count": null,
   "id": "cordless-place",
   "metadata": {},
   "outputs": [],
   "source": [
    "points = (phi_array, r_min)\n",
    "xi = (psp_coords.lon.value, psp_coords.radius.value)\n",
    "res_hux_b_interp = interpolate.interpn(points, hux_b_full_res, xi)"
   ]
  },
  {
   "cell_type": "code",
   "execution_count": null,
   "id": "cardiovascular-relation",
   "metadata": {},
   "outputs": [],
   "source": [
    "res_hux_b_min = apply_backwards_upwind_model(r_final=omni_interp, \n",
    "                                         dr_vec=r_min.value[1:] - r_min.value[:-1], \n",
    "                                         dp_vec=dp_vec_hux, \n",
    "                                         r0=r_min[0].value, \n",
    "                                         add_v_acc=False)\n",
    "\n",
    "res_hux_b_mean = apply_backwards_upwind_model(r_final=omni_interp, \n",
    "                                         dr_vec=r_mean.value[1:] - r_mean.value[:-1], \n",
    "                                         dp_vec=dp_vec_hux, \n",
    "                                         r0=r_mean[0].value, \n",
    "                                         add_v_acc=False)\n",
    "\n",
    "res_hux_b_max = apply_backwards_upwind_model(r_final=omni_interp, \n",
    "                                         dr_vec=r_max.value[1:] - r_max.value[:-1], \n",
    "                                         dp_vec=dp_vec_hux, \n",
    "                                         r0=r_max[0].value, \n",
    "                                         add_v_acc=False)"
   ]
  },
  {
   "cell_type": "code",
   "execution_count": null,
   "id": "maritime-jersey",
   "metadata": {},
   "outputs": [],
   "source": [
    "fig, ax = plt.subplots(figsize=(15, 7))\n",
    "_ = ax.scatter(np.array(psp_coords.lon), psp_data.quantity('VR'), color=\"b\", s=size, label=\"PSP\")\n",
    "\n",
    "_ = ax.plot(phi_array, res_hux_b_mean, color=\"r\", label=\"HUX-b mean\")\n",
    "_ = ax.plot(phi_array, res_hux_b_min, color=\"g\", label=\"HUX-b min\")\n",
    "_ = ax.plot(phi_array, res_hux_b_max, color=\"m\", label=\"HUX-b max\")\n",
    "_ = ax.plot(psp_coords.lon.value, res_hux_b_interp, color=\"k\", label=\"HUX-b interp\")\n",
    "\n",
    "\n",
    "_ = ax.scatter(res_ballistic_b_max, omni_data.quantity('V'),s=2, label=\"Ballistic-b max\")\n",
    "_ = ax.scatter(res_ballistic_b_mean, omni_data.quantity('V'), s=2,label=\"Ballistic-b mean\")\n",
    "_ = ax.scatter(res_ballistic_b_min, omni_data.quantity('V').value, s=2,label=\"Ballistic-b min\")\n",
    "\n",
    "_ = ax.set_title(\"Mapping from OMNI (Earth) to PSP using HUX-b Technique \\n mean = %.2f, min = %.2f, max = %.2f\" % \\\n",
    "                       (np.min(psp_coords.radius).to(u.solRad).value,\n",
    "                        np.mean(psp_coords.radius).to(u.solRad).value,\n",
    "                        np.max(psp_coords.radius).to(u.solRad).value))\n",
    "                 \n",
    "_ = ax.set_ylabel(r'$v_{r}$ (km/s)', fontsize=fs1)\n",
    "_ = ax.set_xlabel(\"Longitude (Deg.)\", fontsize=fs1)\n",
    "_ = ax.legend()"
   ]
  },
  {
   "cell_type": "code",
   "execution_count": null,
   "id": "radio-boston",
   "metadata": {},
   "outputs": [],
   "source": [
    "fig, ax = plt.subplots(nrows=2, ncols=1, constrained_layout=True, sharex=True)\n",
    "\n",
    "ax[0].set_xlim(0, 360)\n",
    "ax[0].set_title(\"Mapping from PSP to OMNI (Earth) using HUX-f Technique\", fontsize=fs1)\n",
    "ax[0].set_ylabel(r'$v_{r}$ (km/s)', fontsize=fs1)\n",
    "ax[0].set_xticks(ticks=[0, 90, 180, 270, 360])\n",
    "\n",
    "ax[0].scatter(np.array(earth_coords.lon), omni_data.quantity('V'), color=\"b\", s=size, label=\"OMNI\")\n",
    "\n",
    "ax[0].plot(phi_array, res_hux_f_mean, color=\"r\", label=\"HUX-f mean PSP $r_{0}$ = \"+ \n",
    "           str(np.round(np.mean(psp_coords.radius).to(u.solRad), 3)))\n",
    "ax[0].plot(phi_array, res_hux_f_min, color=\"g\", label=\"HUX-f min PSP $r_{0}$ = \"+ \n",
    "            str(np.round(np.min(psp_coords.radius).to(u.solRad), 3)))\n",
    "ax[0].plot(phi_array, res_hux_f_max, color=\"m\", label=\"HUX-f max PSP $r_{0}$ = \" +\n",
    "            str(np.round(np.max(psp_coords.radius).to(u.solRad), 3)))\n",
    "ax[0].legend()\n",
    "\n",
    "\n",
    "ax[1].set_xlim(0, 360)\n",
    "ax[1].set_title(\"Mapping from OMNI (Earth) to PSP using HUX-b Technique\", fontsize=fs1)\n",
    "ax[1].set_ylabel(r'$v_{r}$ (km/s)', fontsize=fs1)\n",
    "ax[1].set_xlabel(\"Longitude (Deg.)\", fontsize=fs1)\n",
    "ax[1].set_xticks(ticks=[0, 90, 180, 270, 360])\n",
    "\n",
    "ax[1].plot(phi_array, res_hux_b_mean, color=\"r\", label=\"HUX-b mean PSP $r_{f}$ = \"+ \n",
    "           str(np.round(np.mean(psp_coords.radius).to(u.solRad), 3)))\n",
    "ax[1].plot(phi_array, res_hux_b_min, color=\"g\", label=\"HUX-b min PSP $r_{f}$ = \"+ \n",
    "            str(np.round(np.min(psp_coords.radius).to(u.solRad), 3)))\n",
    "ax[1].plot(phi_array, res_hux_b_max, color=\"m\", label=\"HUX-b max PSP $r_{f}$ = \" +\n",
    "            str(np.round(np.max(psp_coords.radius).to(u.solRad), 3)))\n",
    "\n",
    "ax[1].scatter(lon_psp, psp_data.quantity('VR'), color=\"k\", s=size,label=\"PSP\")\n",
    "\n",
    "\n",
    "ax[1].legend()\n",
    "#plt.savefig('figures/'+ case_study + '/mapping_omni_to_psp_and_back_cr' + str(cr) +'.png')"
   ]
  },
  {
   "cell_type": "markdown",
   "id": "demonstrated-cooperation",
   "metadata": {},
   "source": [
    "# Modified HUX Technique to Map non-uniform radial initial condition"
   ]
  },
  {
   "cell_type": "code",
   "execution_count": null,
   "id": "above-pastor",
   "metadata": {},
   "outputs": [],
   "source": [
    "# get longitude limits\n",
    "min_lon = np.inf\n",
    "max_lon = -np.inf\n",
    "\n",
    "for ii in range(len(psp_coords.lon.value)):\n",
    "    if psp_coords.lon.value[ii] < min_lon and not math.isnan(psp_data.quantity('VR').value[ii]):\n",
    "        min_lon = psp_coords.lon.value[ii]\n",
    "    if psp_coords.lon.value[ii] > max_lon and not math.isnan(psp_data.quantity('VR').value[ii]):\n",
    "        max_lon = psp_coords.lon.value[ii]\n",
    "print(\"min = \", min_lon)\n",
    "print(\"max = \", max_lon)\n",
    "print(\"closest index min = \")"
   ]
  },
  {
   "cell_type": "code",
   "execution_count": null,
   "id": "national-beast",
   "metadata": {},
   "outputs": [],
   "source": [
    "min_distance = np.abs(phi_array - min_lon)\n",
    "max_distance = np.abs(phi_array - max_lon)"
   ]
  },
  {
   "cell_type": "code",
   "execution_count": null,
   "id": "athletic-friend",
   "metadata": {},
   "outputs": [],
   "source": [
    "print(\"closest index min = \", min_distance.argmin())\n",
    "print(\"closest index max = \", max_distance.argmin())"
   ]
  },
  {
   "cell_type": "code",
   "execution_count": null,
   "id": "dietary-ensemble",
   "metadata": {},
   "outputs": [],
   "source": [
    "fig, ax = plt.subplots(nrows=2, ncols=1, figsize=(7, 7))\n",
    "ax[0].scatter(psp_coords.lon, psp_traj.coords.radius.to(u.AU), s=2)\n",
    "ax[1].scatter(psp_coords.lon, psp_data.quantity('VR'), s=2, c=\"r\")\n",
    "ax[1].scatter(phi_array, psp_interp, s=2, c=\"b\")\n",
    "\n",
    "ax[1].set_xlabel(\"Longitude (Deg.)\")\n",
    "ax[0].set_ylabel(\"Radial (AU)\")\n",
    "ax[1].set_ylabel(r'$v_{r}$ (km/s)')\n",
    "\n",
    "ax[0].set_xlim(min_lon, max_lon)\n",
    "ax[1].set_xlim(min_lon, max_lon)\n",
    "ax[0].set_title(\"PSP Radial Trajectory\")\n",
    "ax[1].set_title(\"PSP Velocity\")\n"
   ]
  },
  {
   "cell_type": "markdown",
   "id": "grand-darwin",
   "metadata": {},
   "source": [
    "## How to convert the initial radial trajectory to be single-valued?\n",
    "1. keep the maximum value (will be continious yet does not include the extra propagation). \n",
    "2. Keep the minimum value (there will be discontinuities). \n",
    "3. linear interpolation maybe?"
   ]
  },
  {
   "cell_type": "code",
   "execution_count": null,
   "id": "convertible-socket",
   "metadata": {},
   "outputs": [],
   "source": [
    "# create uniform phi 1d mesh grid. \n",
    "max_radial = np.max(psp_traj.coords.radius.to(u.km))\n",
    "min_radial = np.min(psp_traj.coords.radius.to(u.km))"
   ]
  },
  {
   "cell_type": "code",
   "execution_count": null,
   "id": "elegant-cooling",
   "metadata": {},
   "outputs": [],
   "source": [
    "# drop NaNs\n",
    "nan_idx = []\n",
    "\n",
    "for ii, val in enumerate(psp_traj.coords.radius.to(u.km).value):\n",
    "    if not math.isnan(val) and not math.isnan(psp_data.quantity('VR').value[ii]):\n",
    "        nan_idx.append(ii)"
   ]
  },
  {
   "cell_type": "code",
   "execution_count": null,
   "id": "creative-brake",
   "metadata": {},
   "outputs": [],
   "source": [
    "r_vec = psp_traj.coords.radius.to(u.km)[nan_idx]"
   ]
  },
  {
   "cell_type": "code",
   "execution_count": null,
   "id": "intensive-cedar",
   "metadata": {},
   "outputs": [],
   "source": [
    "# First, lets examine the max-value approach. \n",
    "interp_radial = interpolate.interp1d(psp_coords.lon.value[nan_idx], \\\n",
    "                              r_vec, fill_value=(max_radial, (60 * u.solRad).to(u.km)),  kind='nearest-up', bounds_error=False)\n",
    "psp_r_interp = interp_radial(phi_array)* u.km"
   ]
  },
  {
   "cell_type": "code",
   "execution_count": null,
   "id": "challenging-aberdeen",
   "metadata": {},
   "outputs": [],
   "source": [
    "fig, ax = plt.subplots(nrows=4, ncols=1, figsize=(7, 8))\n",
    "\n",
    "ax[0].scatter(psp_coords.lon, psp_traj.coords.radius.to(u.solRad), s=2)\n",
    "ax[1].scatter(phi_array, psp_r_interp.to(u.solRad), s=2)\n",
    "ax[2].scatter(phi_array, psp_interp, s=2)\n",
    "ax[2].scatter(psp_coords.lon.value, psp_data.quantity('VR').value, c=\"r\", s=2)\n",
    "ax[3].plot(psp_coords.lon)\n",
    "\n",
    "\n",
    "ax[0].set_xlim(min_lon, max_lon)\n",
    "#ax[1].set_xlim(min_lon, max_lon)\n",
    "ax[2].set_xlim(min_lon, max_lon)\n",
    "\n",
    "ax[0].set_title(\"PSP Radial Trajectory\")\n",
    "ax[1].set_title(\"PSP Radial Trajectory Interpolated\")\n",
    "ax[2].set_title(\"PSP $V_{r}$\")\n",
    "ax[3].set_title(\"PSP Longitude Trajectory (HG)\")\n",
    "\n",
    "\n",
    "ax[0].set_xlabel(\"Longitude (Deg.)\")\n",
    "ax[1].set_xlabel(\"Longitude (Deg.)\")\n",
    "ax[2].set_xlabel(\"Longitude (Deg.)\")\n",
    "ax[3].set_xlabel(\"index\")\n",
    "\n",
    "\n",
    "\n",
    "ax[0].set_ylabel(\"$r$ (RS)\")\n",
    "ax[1].set_ylabel(\"$r$ (RS)\")\n",
    "ax[2].set_ylabel(\"$v_{r}$ (km/s)\")\n",
    "ax[3].set_ylabel(\"Longitude (Deg.)\")\n",
    "plt.tight_layout()"
   ]
  },
  {
   "cell_type": "markdown",
   "id": "disturbed-conservative",
   "metadata": {},
   "source": [
    "The HUX underlying PDE\n",
    "\n",
    "$$\n",
    "-\\Omega_{rot}\\frac{\\partial v_{r}}{\\partial \\phi} + v_{r}\\frac{ \\partial v_{r}}{\\partial r}=0\n",
    "$$\n",
    "\n",
    "With the initial condition \n",
    "$$\n",
    "v_{r}(\\phi, r_{0}) = v_{r0}(\\phi)\n",
    "$$\n",
    "\n",
    "If initial conidtion $r_{0}$ is non-uniform then we apply a radial boosting to the standard HUX mapping. Let $r_{psp}(\\phi)$ be the radial trajectory of Parker Solar Probe (PSP) spacecraft and $v_{r_{psp}}(\\phi)$ be the spacecraft observed solar wind velocity. The radial boosting will modify the initial condition to account for the spacecraft radial location, such that\n",
    "\n",
    "$$\n",
    "v_{i + 1, j} = \n",
    "\\begin{equation} \n",
    "    \\left\\{\n",
    "    \\begin{array}{ll}\n",
    "          v_{r_{psp}}(\\phi_{j}) &  r_{psp}(\\phi_{j}) \\geq r_{i} \\\\\n",
    "          v_{i, j} + \\frac{\\Delta r\\Omega_{\\text{rot}}}{\\Delta \\phi}  (\\frac{v_{i, j+1} - v_{i, j}}{v_{i, j}})&  r_{psp}(\\phi_{j}) < r_{i} \\\\\n",
    "    \\end{array} \n",
    "    \\right. \n",
    "\\end{equation}\n",
    "$$\n",
    "\n",
    "where mesh grid is defined as $r = [\\min(r_{psp}), \\max(r_{psp})]$ and $\\phi = [0, 2\\pi]$. The indexes $i$ and $j$ denote the radial ($r$) and longitude ($\\phi$) grid indexing, respectively. After applying the radial boost, the initial condition is the velocity propagated up to $r_{\\max} = \\max(r_{psp})$. Then, we propagate from $r_{\\max}$ out radially using the standard Heliospheric Upwind eXtrapolation Technique (HUX). "
   ]
  },
  {
   "cell_type": "code",
   "execution_count": null,
   "id": "magnetic-symbol",
   "metadata": {
    "scrolled": true
   },
   "outputs": [],
   "source": [
    "mod_v = forward_radial_boosting(r_vec=psp_r_interp.value, v_vec=psp_interp, p_vec=phi_array*np.pi/180, nr=30)"
   ]
  },
  {
   "cell_type": "code",
   "execution_count": null,
   "id": "running-return",
   "metadata": {},
   "outputs": [],
   "source": [
    "fig, ax = plt.subplots(nrows=3, ncols= 1, sharex=True, figsize=(10, 7))\n",
    "ax[0].scatter(phi_array, psp_interp, c=\"b\", label=\"psp\", s=2)\n",
    "ax[0].scatter(phi_array, mod_v, c=\"r\", label=\"psp-mod\", s=2)\n",
    "ax[1].scatter(phi_array, psp_r_interp.to(u.solRad), s=1)\n",
    "ax[2].scatter(phi_array, mod_v-psp_interp, s=2)\n",
    "_ = ax[0].set_ylabel(r'$v_{r}$ (km/s)', fontsize=fs1)\n",
    "#_ = ax[0].set_xlabel(\"Longitude (Deg.)\", fontsize=fs1)\n",
    "_ = ax[1].set_ylabel(\"$r$ (RS)\", fontsize=fs1)\n",
    "#_ = ax[1].set_xlabel(\"Longitude (Deg.)\", fontsize=fs1)\n",
    "_ = ax[2].set_ylabel(\"$v_{ic} - v_{r_{0}}$\", fontsize=fs1)\n",
    "_ = ax[2].set_xlabel(\"Longitude (Deg.)\", fontsize=fs1)\n",
    "\n",
    "\n",
    "_ = ax[0].set_title('difference between initial conditions', fontsize=fs1)\n",
    "_ = ax[1].set_title(\"PSP Radial Trajectory\", fontsize=fs1)\n",
    "_ = ax[2].set_title(\"modified initial condition - messurements\", fontsize=fs1)\n",
    "_ = ax[0].legend()\n",
    "plt.tight_layout()"
   ]
  },
  {
   "cell_type": "code",
   "execution_count": null,
   "id": "helpful-marriage",
   "metadata": {},
   "outputs": [],
   "source": [
    "res_hux_f_mod = apply_forward_upwind_model(r_initial=mod_v,\n",
    "                                        dr_vec=r_max.value[1:] - r_max.value[:-1],\n",
    "                                        dp_vec=dp_vec_hux, \n",
    "                                        add_v_acc=False, \n",
    "                                        r0=r_max[0].value)"
   ]
  },
  {
   "cell_type": "code",
   "execution_count": null,
   "id": "compatible-terror",
   "metadata": {},
   "outputs": [],
   "source": [
    "fig, ax = plt.subplots(figsize=(15, 5))\n",
    "_ = ax.scatter(np.array(earth_coords.lon), omni_data.quantity('V'), color=\"b\", s=size, label=\"OMNI\")\n",
    "\n",
    "_ = ax.plot(phi_array, res_hux_f_mean, color=\"r\", label=\"HUX-f mean\")\n",
    "_ = ax.plot(phi_array, res_hux_f_min, color=\"g\", label=\"HUX-f min\")\n",
    "_ = ax.plot(phi_array, res_hux_f_max, color=\"m\", label=\"HUX-f max\")\n",
    "_ = ax.plot(phi_array, res_hux_f_mod, color=\"k\", label=\"HUX-f modified\")\n",
    "\n",
    "\n",
    "_ = ax.scatter(res_ballistic_f_max, psp_data.quantity('VR'),s=2, label=\"Ballistic-f max\")\n",
    "_ = ax.scatter(res_ballistic_f_mean, psp_data.quantity('VR'), s=2,label=\"Ballistic-f mean\")\n",
    "_ = ax.scatter(res_ballistic_f_min, psp_data.quantity('VR').value, s=2,label=\"Ballistic-f min\")\n",
    "\n",
    "\n",
    "_ = ax.set_xlim(np.nanmin(res_ballistic_f_min), np.nanmax(res_ballistic_f_max))\n",
    "\n",
    "_ = ax.set_title(\"Mapping from PSP to OMNI (Earth) using HUX-f Technique \\n mean = %.2f, min = %.2f, max = %.2f\" % \\\n",
    "                       (np.min(psp_coords.radius).to(u.solRad).value,\n",
    "                        np.mean(psp_coords.radius).to(u.solRad).value,\n",
    "                        np.max(psp_coords.radius).to(u.solRad).value))\n",
    "                 \n",
    "_ = ax.set_ylabel(r'$v_{r}$ (km/s)', fontsize=fs1)\n",
    "_ = ax.set_xlabel(\"Longitude (Deg.)\", fontsize=fs1)\n",
    "_ = ax.legend()"
   ]
  },
  {
   "cell_type": "markdown",
   "id": "educational-composer",
   "metadata": {},
   "source": [
    "# Modified HUX-b to final velocity being in PSP radial trajectory."
   ]
  },
  {
   "cell_type": "markdown",
   "id": "vital-pepper",
   "metadata": {},
   "source": [
    "First, we map OMNI messurements to $\\max(r_{psp})$. Then we add an extra radial boost. This should work well in comparison to the modified HUX-f Technique since the messurements at OMNI cover the periodic longitude axis (HG) and therefore the initial condition is not extrapolated. \n",
    "\n",
    "Let $r_{psp}(\\phi)$ be the radial trajectory of Parker Solar Probe (PSP) spacecraft and $v_{r_{psp}}(\\phi)$ be PSP observed solar wind velocity. The radial boosting will modify the final velocity at PSP to account for the spacecraft radial location, such that\n",
    "\n",
    "$$\n",
    "v_{i + 1, j} = \n",
    "\\begin{equation} \n",
    "    \\left\\{\n",
    "    \\begin{array}{ll}\n",
    "          v_{i, j} &  r_{psp}(\\phi_{j}) < r_{i} \\\\\n",
    "          v_{i, j} + \\frac{\\Delta r\\Omega_{\\text{rot}}}{\\Delta \\phi}  (\\frac{v_{i, j-1} - v_{i, j}}{v_{i, j}})&  r_{psp}(\\phi_{j}) > r_{i} \\\\\n",
    "    \\end{array} \n",
    "    \\right. \n",
    "\\end{equation}\n",
    "$$\n",
    "\n",
    "where the mesh grid is defined as $r = [\\min(r_{psp}), \\max(r_{psp})]$ and $\\phi = [0, 2\\pi]$. The indexes $i$ and $j$ denote the radial ($r$) and longitude ($\\phi$) grid indexing, respectively. This radial boost is applied after the standard HUX technqiue maps solar wind streams from OMNI (Earth) to $\\max(r_{psp})$."
   ]
  },
  {
   "cell_type": "code",
   "execution_count": null,
   "id": "worldwide-segment",
   "metadata": {},
   "outputs": [],
   "source": [
    "res_hux_b_mod = backwards_radial_boosting(r_vec=psp_r_interp.value, \n",
    "                                          v_vec=res_hux_b_max, \n",
    "                                          p_vec=phi_array*np.pi/180, \n",
    "                                          nr=30)"
   ]
  },
  {
   "cell_type": "code",
   "execution_count": null,
   "id": "loaded-ability",
   "metadata": {},
   "outputs": [],
   "source": [
    "fig, ax = plt.subplots(figsize=(15, 5))\n",
    "_ = ax.scatter(np.array(psp_coords.lon), psp_data.quantity('VR'), color=\"b\", s=size, label=\"PSP\")\n",
    "\n",
    "_ = ax.plot(phi_array, res_hux_b_mean, color=\"r\", label=\"HUX-b mean\")\n",
    "_ = ax.plot(phi_array, res_hux_b_min, color=\"g\", label=\"HUX-b min\")\n",
    "_ = ax.plot(phi_array, res_hux_b_max, color=\"m\", label=\"HUX-b max\")\n",
    "_ = ax.plot(phi_array, res_hux_b_mod, color=\"k\", label=\"HUX-b mod\")\n",
    "_ = ax.plot(psp_coords.lon.value, res_hux_b_interp, color=\"y\", label=\"HUX-b interp\")\n",
    "\n",
    "\n",
    "\n",
    "_ = ax.scatter(res_ballistic_b_max, omni_data.quantity('V'),  color=\"m\", s=2, label=\"Ballistic-b max\")\n",
    "_ = ax.scatter(res_ballistic_b_mean, omni_data.quantity('V'),  color=\"r\", s=2,label=\"Ballistic-b mean\")\n",
    "_ = ax.scatter(res_ballistic_b_min, omni_data.quantity('V').value, color=\"g\",  s=2,label=\"Ballistic-b min\")\n",
    "\n",
    "_ = ax.set_title(\"Mapping from OMNI (Earth) to PSP using HUX-b Technique \\n min = %.2f $R_\\odot$, mean = %.2f $R_\\odot$, max = %.2f $R_\\odot$\" % \\\n",
    "                       (np.min(psp_coords.radius).to(u.solRad).value,\n",
    "                        np.mean(psp_coords.radius).to(u.solRad).value,\n",
    "                        np.max(psp_coords.radius).to(u.solRad).value))\n",
    "                 \n",
    "_ = ax.set_ylabel(r'$v_{r}$ (km/s)', fontsize=fs1)\n",
    "_ = ax.set_xlabel(\"Longitude (Deg.)\", fontsize=fs1)\n",
    "_ = ax.legend()"
   ]
  },
  {
   "cell_type": "code",
   "execution_count": null,
   "id": "revolutionary-collapse",
   "metadata": {},
   "outputs": [],
   "source": [
    "fig, ax = plt.subplots(nrows=3, ncols= 1, sharex=True, figsize=(10, 7))\n",
    "ax[0].scatter(phi_array, res_hux_b_max, c=\"b\", label=\"v-max\", s=2)\n",
    "ax[0].scatter(phi_array, res_hux_b_min, c=\"g\", label=\"v-min\", s=2)\n",
    "ax[0].scatter(phi_array, res_hux_b_mod, c=\"r\", label=\"v-mod\", s=2)\n",
    "ax[0].scatter(psp_coords.lon.value, res_hux_b_interp, color=\"y\", s=2, label=\"v-interp\")\n",
    "ax[1].scatter(phi_array, psp_r_interp.to(u.solRad), s=1)\n",
    "ax[2].scatter(phi_array, res_hux_b_mod- res_hux_b_min, s=2)\n",
    "_ = ax[0].set_ylabel(r'$v_{r}$ (km/s)', fontsize=fs1)\n",
    "_ = ax[1].set_ylabel(\"$r$ (RS)\", fontsize=fs1)\n",
    "_ = ax[2].set_ylabel(\"$v_{mod} - v_{min}$\", fontsize=fs1)\n",
    "_ = ax[2].set_xlabel(\"Longitude (Deg.)\", fontsize=fs1)\n",
    "\n",
    "\n",
    "_ = ax[0].set_title('$v_{f}$', fontsize=fs1)\n",
    "_ = ax[1].set_title(\"PSP Radial Trajectory\", fontsize=fs1)\n",
    "_ = ax[2].set_title(\"modified $v_{f}$ - min $v_{f}$\", fontsize=fs1)\n",
    "_ = ax[0].legend()\n",
    "plt.tight_layout()"
   ]
  },
  {
   "cell_type": "markdown",
   "id": "touched-failing",
   "metadata": {},
   "source": [
    "### Propagated Error of HUX-f for PSP in-situ  velocity "
   ]
  },
  {
   "cell_type": "markdown",
   "id": "certain-height",
   "metadata": {},
   "source": [
    "![](figures/literature/hux-stencil.PNG)"
   ]
  },
  {
   "cell_type": "code",
   "execution_count": null,
   "id": "intimate-pipeline",
   "metadata": {},
   "outputs": [],
   "source": [
    "print(\"closest index min = \", min_distance.argmin())\n",
    "print(\"closest index max = \", max_distance.argmin())"
   ]
  },
  {
   "cell_type": "markdown",
   "id": "fossil-islam",
   "metadata": {},
   "source": [
    "Assume we have $m$ mesh points in $\\phi$ grid and $n$ mesh points in $r$ grid. Since PSP does not cover the full Sun latitude in HG coordinates, we extrapolate the velocity profile at PSP. In order to examine the propaged error from such extraplation, we evaluate the forward sencil on the given $\\phi/r$ mesh grid.  \n",
    "\n",
    "\n",
    "For forward propagation, it is visible from the upwind stencil that error is propagated from the east. Let the longitude axis be a modest uniform mesh $\\Delta \\phi = 1  ^{\\circ}$ where $m= 360$, and the radial axis have 100 mesh points, meaning $\\Delta r = 1.102 R_\\odot$ In the case of PSP perihelion 1 (P1), we are able to gather the solar wind stream radial speed from $216^{\\circ}$ to $336^{\\circ}$ in longitude (HG coordinates). Consequently, when mapping to 1 AU (Earth) the indices between [336, 360] and [0, 216] can contribute to the propagated error. \n",
    "\n",
    "Therefore the value at index 336 will contribute to the value at index $336-100 = 236$ after propagation. \n"
   ]
  },
  {
   "cell_type": "code",
   "execution_count": null,
   "id": "compressed-dylan",
   "metadata": {},
   "outputs": [],
   "source": []
  },
  {
   "cell_type": "code",
   "execution_count": null,
   "id": "directed-stanley",
   "metadata": {},
   "outputs": [],
   "source": []
  }
 ],
 "metadata": {
  "kernelspec": {
   "display_name": "Python 3",
   "language": "python",
   "name": "python3"
  },
  "language_info": {
   "codemirror_mode": {
    "name": "ipython",
    "version": 3
   },
   "file_extension": ".py",
   "mimetype": "text/x-python",
   "name": "python",
   "nbconvert_exporter": "python",
   "pygments_lexer": "ipython3",
   "version": "3.9.1"
  }
 },
 "nbformat": 4,
 "nbformat_minor": 5
}
