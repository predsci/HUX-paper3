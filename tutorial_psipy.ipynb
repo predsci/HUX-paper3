{
 "cells": [
  {
   "cell_type": "code",
   "execution_count": 3,
   "metadata": {},
   "outputs": [],
   "source": [
    "%matplotlib inline"
   ]
  },
  {
   "cell_type": "markdown",
   "metadata": {},
   "source": [
    "\n",
    "# Comparing in-situ data to model output\n",
    "\n",
    "In this example, we'll see how to compare in-situ data taken by a spacecraft\n",
    "to equivalent observables in the model along the 1D spacecraft trajectory.\n",
    "\n",
    "This consists of three steps:\n",
    "1. Load the spacecraft data\n",
    "2. Generate the spacecraft trajectory at the in-situ data timestamps\n",
    "3. Use this trajectory to take samples in the 3D model output\n",
    "\n",
    "The first two steps are accomplished using ``heliopy.data``\n",
    "(to get the in-situ data) and ``heliopy.spice`` (to get the trajectory). This\n",
    "is then fed into `Variable.sample_at_coords` to get the model values, which\n",
    "we then compare to the in-situ data.\n"
   ]
  },
  {
   "cell_type": "markdown",
   "metadata": {},
   "source": [
    "First, load the required modules.\n",
    "\n"
   ]
  },
  {
   "cell_type": "code",
   "execution_count": 4,
   "metadata": {},
   "outputs": [],
   "source": [
    "import matplotlib.pyplot as plt\n",
    "\n",
    "from heliopy.data import psp\n",
    "import heliopy.data.spice as spicedata\n",
    "import heliopy.spice as spice\n",
    "\n",
    "from psipy.model import MASOutput\n",
    "from psipy.data import sample_data"
   ]
  },
  {
   "cell_type": "markdown",
   "metadata": {},
   "source": [
    "Load a set of MAS output files.\n",
    "\n"
   ]
  },
  {
   "cell_type": "code",
   "execution_count": 5,
   "metadata": {},
   "outputs": [
    {
     "name": "stdout",
     "output_type": "stream",
     "text": [
      "['br', 'rho', 'vr']\n"
     ]
    }
   ],
   "source": [
    "mas_path = sample_data.mas_helio()\n",
    "model = MASOutput(mas_path)\n",
    "print(model.variables)"
   ]
  },
  {
   "cell_type": "code",
   "execution_count": 6,
   "metadata": {},
   "outputs": [],
   "source": [
    "vr_model = model['vr']"
   ]
  },
  {
   "cell_type": "code",
   "execution_count": 7,
   "metadata": {},
   "outputs": [
    {
     "data": {
      "text/plain": [
       "<psipy.model.variable.Variable at 0x111019fa0>"
      ]
     },
     "execution_count": 7,
     "metadata": {},
     "output_type": "execute_result"
    }
   ],
   "source": [
    "vr_model"
   ]
  },
  {
   "cell_type": "markdown",
   "metadata": {},
   "source": [
    "Load PSP data.\n",
    "\n",
    "Here we load the merged magnetic field and plasma data product, which has\n",
    "an hourly data cadence.\n",
    "\n"
   ]
  },
  {
   "cell_type": "code",
   "execution_count": 8,
   "metadata": {},
   "outputs": [
    {
     "name": "stdout",
     "output_type": "stream",
     "text": [
      "['radialDistance', 'heliographicLatitude', 'heliographicLongitude', 'BR', 'BT', 'BN', 'B', 'VR', 'VT', 'VN', 'ProtonSpeed', 'flow_theta', 'flow_lon', 'protonDensity', 'protonTemp']\n"
     ]
    }
   ],
   "source": [
    "starttime = '2018-11-23'\n",
    "endtime = '2018-11-24'\n",
    "psp_data = psp.merged_mag_plasma(starttime, endtime)\n",
    "print(psp_data.columns)"
   ]
  },
  {
   "cell_type": "markdown",
   "metadata": {},
   "source": [
    "Generate the PSP trajectory.\n",
    "\n",
    "We take the timestamps from the previously loaded data, and use `heliopy.spice`\n",
    "to generate the trajectory at these times.\n",
    "\n"
   ]
  },
  {
   "cell_type": "code",
   "execution_count": 9,
   "metadata": {},
   "outputs": [
    {
     "name": "stdout",
     "output_type": "stream",
     "text": [
      "<SkyCoord (HeliographicCarrington: obstime=['2018-11-23T01:00:00.000000000' '2018-11-23T01:00:00.000000000'\n",
      " '2018-11-23T02:00:00.000000000' '2018-11-23T02:00:00.000000000'\n",
      " '2018-11-23T03:00:00.000000000' '2018-11-23T03:00:00.000000000'\n",
      " '2018-11-23T04:00:00.000000000' '2018-11-23T04:00:00.000000000'\n",
      " '2018-11-23T05:00:00.000000000' '2018-11-23T05:00:00.000000000'\n",
      " '2018-11-23T06:00:00.000000000' '2018-11-23T06:00:00.000000000'\n",
      " '2018-11-23T07:00:00.000000000' '2018-11-23T07:00:00.000000000'\n",
      " '2018-11-23T08:00:00.000000000' '2018-11-23T08:00:00.000000000'\n",
      " '2018-11-23T09:00:00.000000000' '2018-11-23T09:00:00.000000000'\n",
      " '2018-11-23T10:00:00.000000000' '2018-11-23T10:00:00.000000000'\n",
      " '2018-11-23T11:00:00.000000000' '2018-11-23T11:00:00.000000000'\n",
      " '2018-11-23T12:00:00.000000000' '2018-11-23T12:00:00.000000000'\n",
      " '2018-11-23T13:00:00.000000000' '2018-11-23T13:00:00.000000000'\n",
      " '2018-11-23T14:00:00.000000000' '2018-11-23T14:00:00.000000000'\n",
      " '2018-11-23T15:00:00.000000000' '2018-11-23T15:00:00.000000000'\n",
      " '2018-11-23T16:00:00.000000000' '2018-11-23T16:00:00.000000000'\n",
      " '2018-11-23T17:00:00.000000000' '2018-11-23T17:00:00.000000000'\n",
      " '2018-11-23T18:00:00.000000000' '2018-11-23T18:00:00.000000000'\n",
      " '2018-11-23T19:00:00.000000000' '2018-11-23T19:00:00.000000000'\n",
      " '2018-11-23T20:00:00.000000000' '2018-11-23T20:00:00.000000000'\n",
      " '2018-11-23T21:00:00.000000000' '2018-11-23T21:00:00.000000000'\n",
      " '2018-11-23T22:00:00.000000000' '2018-11-23T22:00:00.000000000'\n",
      " '2018-11-23T23:00:00.000000000' '2018-11-23T23:00:00.000000000'], observer=<HeliographicStonyhurst Coordinate (obstime=None): (lon, lat, radius) in (deg, deg, m)\n",
      "    (0., 0., 6.957e+08)>): (lon, lat, radius) in (deg, deg, km)\n",
      "    [(214.71190575, 2.0213238 , 72632535.49161008),\n",
      "     (214.71190575, 2.0213238 , 72632535.49161008),\n",
      "     (214.21313008, 2.02703133, 72745518.90396425),\n",
      "     (214.21313008, 2.02703133, 72745518.90396425),\n",
      "     (213.71406915, 2.03271594, 72858365.74718764),\n",
      "     (213.71406915, 2.03271594, 72858365.74718764),\n",
      "     (213.21472462, 2.03837777, 72971076.15302849),\n",
      "     (213.21472462, 2.03837777, 72971076.15302849),\n",
      "     (212.71509815, 2.04401696, 73083650.25383021),\n",
      "     (212.71509815, 2.04401696, 73083650.25383021),\n",
      "     (212.21519138, 2.04963364, 73196088.18247232),\n",
      "     (212.21519138, 2.04963364, 73196088.18247232),\n",
      "     (211.71500593, 2.05522795, 73308390.07240348),\n",
      "     (211.71500593, 2.05522795, 73308390.07240348),\n",
      "     (211.21454342, 2.06080001, 73420556.05758302),\n",
      "     (211.21454342, 2.06080001, 73420556.05758302),\n",
      "     (210.71380544, 2.06634997, 73532586.27249902),\n",
      "     (210.71380544, 2.06634997, 73532586.27249902),\n",
      "     (210.21279358, 2.07187795, 73644480.85213584),\n",
      "     (210.21279358, 2.07187795, 73644480.85213584),\n",
      "     (209.71150943, 2.07738408, 73756239.93196116),\n",
      "     (209.71150943, 2.07738408, 73756239.93196116),\n",
      "     (209.20995454, 2.0828685 , 73867863.64792952),\n",
      "     (209.20995454, 2.0828685 , 73867863.64792952),\n",
      "     (208.70813046, 2.08833132, 73979352.13644336),\n",
      "     (208.70813046, 2.08833132, 73979352.13644336),\n",
      "     (208.20603874, 2.09377268, 74090705.53435445),\n",
      "     (208.20603874, 2.09377268, 74090705.53435445),\n",
      "     (207.70368089, 2.0991927 , 74201923.97895052),\n",
      "     (207.70368089, 2.0991927 , 74201923.97895052),\n",
      "     (207.20105845, 2.10459151, 74313007.60793975),\n",
      "     (207.20105845, 2.10459151, 74313007.60793975),\n",
      "     (206.6981729 , 2.10996923, 74423956.55943608),\n",
      "     (206.6981729 , 2.10996923, 74423956.55943608),\n",
      "     (206.19502573, 2.11532598, 74534770.9719599 ),\n",
      "     (206.19502573, 2.11532598, 74534770.9719599 ),\n",
      "     (205.69161844, 2.12066189, 74645450.98439716),\n",
      "     (205.69161844, 2.12066189, 74645450.98439716),\n",
      "     (205.18795249, 2.12597708, 74755996.73602128),\n",
      "     (205.18795249, 2.12597708, 74755996.73602128),\n",
      "     (204.68402933, 2.13127166, 74866408.36645755),\n",
      "     (204.68402933, 2.13127166, 74866408.36645755),\n",
      "     (204.17985041, 2.13654576, 74976686.01567593),\n",
      "     (204.17985041, 2.13654576, 74976686.01567593),\n",
      "     (203.67541717, 2.1417995 , 75086829.82399811),\n",
      "     (203.67541717, 2.1417995 , 75086829.82399811)]>\n"
     ]
    }
   ],
   "source": [
    "times = psp_data.index\n",
    "\n",
    "spicedata.get_kernel('psp')\n",
    "spicedata.get_kernel('psp_pred')\n",
    "psp_traj = spice.Trajectory('SPP')\n",
    "psp_traj.generate_positions(times, 'Sun', 'IAU_SUN')\n",
    "psp_coords = psp_traj.coords\n",
    "print(psp_coords)"
   ]
  },
  {
   "cell_type": "markdown",
   "metadata": {},
   "source": [
    "Take a sample of the radial velocity.\n",
    "\n",
    "Here we start by getting the radial velocity `Variable` from the model, and\n",
    "then use the PSP corodinate information to sample it.\n",
    "\n"
   ]
  },
  {
   "cell_type": "code",
   "execution_count": 10,
   "metadata": {},
   "outputs": [],
   "source": [
    "vr_model = model['vr']\n",
    "vr_sampled = vr_model.sample_at_coords(psp_coords.lon,\n",
    "                                       psp_coords.lat,\n",
    "                                       psp_coords.radius)"
   ]
  },
  {
   "cell_type": "markdown",
   "metadata": {},
   "source": [
    "We can now plot a comparison between the model and in-situ measurements.\n",
    "\n"
   ]
  },
  {
   "cell_type": "code",
   "execution_count": 11,
   "metadata": {},
   "outputs": [
    {
     "data": {
      "image/png": "[encoded data removed]",
      "text/plain": [
       "<Figure size 432x288 with 1 Axes>"
      ]
     },
     "metadata": {
      "needs_background": "light"
     },
     "output_type": "display_data"
    }
   ],
   "source": [
    "fig, ax = plt.subplots()\n",
    "ax.plot(times, vr_sampled, label='Model')\n",
    "ax.plot(times, psp_data.quantity('VR'), label='PSP')\n",
    "\n",
    "ax.set_ylabel(r'$v_{r}$ (km/s)')\n",
    "ax.legend()\n",
    "fig.autofmt_xdate()"
   ]
  },
  {
   "cell_type": "markdown",
   "metadata": {},
   "source": [
    "To finish, we'll perform the same comparison, but with a few different\n",
    "variables.\n",
    "\n"
   ]
  },
  {
   "cell_type": "code",
   "execution_count": 12,
   "metadata": {},
   "outputs": [
    {
     "data": {
      "image/png": "[encoded data removed]",
      "text/plain": [
       "<Figure size 432x288 with 3 Axes>"
      ]
     },
     "metadata": {
      "needs_background": "light"
     },
     "output_type": "display_data"
    }
   ],
   "source": [
    "fig, axs = plt.subplots(nrows=3, sharex=True)\n",
    "for ax, mas_name, psp_name in zip(axs,\n",
    "                                  ['rho', 'vr', 'br'],\n",
    "                                  ['protonDensity', 'VR', 'BR']):\n",
    "    model_var = model[mas_name]\n",
    "    sampled = model_var.sample_at_coords(psp_coords.lon,\n",
    "                                         psp_coords.lat,\n",
    "                                         psp_coords.radius)\n",
    "\n",
    "    in_situ = psp_data.quantity(psp_name)\n",
    "\n",
    "    # Note that we convert the sampled data to the same units as the PSP data\n",
    "    ax.plot(times, sampled.to(in_situ.unit), label='Model')\n",
    "    ax.plot(times, in_situ, label='PSP')\n",
    "\n",
    "    ax.set_ylabel(str(model_var.unit))\n",
    "    ax.legend()\n",
    "\n",
    "fig.autofmt_xdate()\n",
    "\n",
    "plt.show()"
   ]
  },
  {
   "cell_type": "code",
   "execution_count": 15,
   "metadata": {},
   "outputs": [
    {
     "data": {
      "text/latex": [
       "$[72632535,~72632535,~72745519,~72745519,~72858366,~72858366,~72971076,~72971076,~73083650,~73083650,~73196088,~73196088,~73308390,~73308390,~73420556,~73420556,~73532586,~73532586,~73644481,~73644481,~73756240,~73756240,~73867864,~73867864,~73979352,~73979352,~74090706,~74090706,~74201924,~74201924,~74313008,~74313008,~74423957,~74423957,~74534771,~74534771,~74645451,~74645451,~74755997,~74755997,~74866408,~74866408,~74976686,~74976686,~75086830,~75086830] \\; \\mathrm{km}$"
      ],
      "text/plain": [
       "<Distance [72632535.49161008, 72632535.49161008, 72745518.90396425,\n",
       "           72745518.90396425, 72858365.74718764, 72858365.74718764,\n",
       "           72971076.15302849, 72971076.15302849, 73083650.25383021,\n",
       "           73083650.25383021, 73196088.18247232, 73196088.18247232,\n",
       "           73308390.07240348, 73308390.07240348, 73420556.05758302,\n",
       "           73420556.05758302, 73532586.27249902, 73532586.27249902,\n",
       "           73644480.85213584, 73644480.85213584, 73756239.93196116,\n",
       "           73756239.93196116, 73867863.64792952, 73867863.64792952,\n",
       "           73979352.13644336, 73979352.13644336, 74090705.53435445,\n",
       "           74090705.53435445, 74201923.97895052, 74201923.97895052,\n",
       "           74313007.60793975, 74313007.60793975, 74423956.55943608,\n",
       "           74423956.55943608, 74534770.9719599 , 74534770.9719599 ,\n",
       "           74645450.98439716, 74645450.98439716, 74755996.73602128,\n",
       "           74755996.73602128, 74866408.36645755, 74866408.36645755,\n",
       "           74976686.01567593, 74976686.01567593, 75086829.82399811,\n",
       "           75086829.82399811] km>"
      ]
     },
     "execution_count": 15,
     "metadata": {},
     "output_type": "execute_result"
    }
   ],
   "source": [
    "psp_coords.radius"
   ]
  },
  {
   "cell_type": "code",
   "execution_count": null,
   "metadata": {},
   "outputs": [],
   "source": []
  },
  {
   "cell_type": "code",
   "execution_count": null,
   "metadata": {},
   "outputs": [],
   "source": []
  }
 ],
 "metadata": {
  "kernelspec": {
   "display_name": "Python 3",
   "language": "python",
   "name": "python3"
  },
  "language_info": {
   "codemirror_mode": {
    "name": "ipython",
    "version": 3
   },
   "file_extension": ".py",
   "mimetype": "text/x-python",
   "name": "python",
   "nbconvert_exporter": "python",
   "pygments_lexer": "ipython3",
   "version": "3.9.1"
  }
 },
 "nbformat": 4,
 "nbformat_minor": 1
}