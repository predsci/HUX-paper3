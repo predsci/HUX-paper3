{
 "cells": [
  {
   "cell_type": "markdown",
   "id": "undefined-declaration",
   "metadata": {},
   "source": [
    "# Uncertainty Quantification of the Heliospheric Upwind Extrapolation Technqiue to Magnetically Connect Different Regions of the Heliosphere"
   ]
  },
  {
   "cell_type": "markdown",
   "id": "tough-peoples",
   "metadata": {},
   "source": [
    "Uncertainty Quantification (UQ) mathematical tools are used to quanitfy the uncertainty in the boundary and intial values when solving the Burger's Equation numerically. \n",
    "\n",
    "The polynomial chaos method can be used as a statistic estimate of the uncertainties in the numerical propagation. Uncertainties can originate from (1) the numerical method, (2) the initial condition (observated spacecarft messurements), or (3) from the models parameters. \n"
   ]
  },
  {
   "cell_type": "code",
   "execution_count": null,
   "id": "noble-anime",
   "metadata": {},
   "outputs": [],
   "source": []
  }
 ],
 "metadata": {
  "kernelspec": {
   "display_name": "Python 3",
   "language": "python",
   "name": "python3"
  },
  "language_info": {
   "codemirror_mode": {
    "name": "ipython",
    "version": 3
   },
   "file_extension": ".py",
   "mimetype": "text/x-python",
   "name": "python",
   "nbconvert_exporter": "python",
   "pygments_lexer": "ipython3",
   "version": "3.9.1"
  }
 },
 "nbformat": 4,
 "nbformat_minor": 5
}
